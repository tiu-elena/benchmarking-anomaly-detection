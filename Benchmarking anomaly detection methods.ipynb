{
 "cells": [
  {
   "cell_type": "markdown",
   "id": "123c1709-aadd-4c93-a80a-0a0c44290983",
   "metadata": {},
   "source": [
    "# Benchmarking anomaly detection methods "
   ]
  },
  {
   "cell_type": "markdown",
   "id": "11e4854b-87bd-490e-88e4-9a64631dc5bb",
   "metadata": {
    "tags": []
   },
   "source": [
    "## Libraries import"
   ]
  },
  {
   "cell_type": "code",
   "execution_count": null,
   "id": "feba20a1-5d20-4127-888b-b0e4c72f4757",
   "metadata": {},
   "outputs": [],
   "source": [
    "import pandas as pd\n",
    "import numpy as np\n",
    "from sklearn import preprocessing\n",
    "from sklearn.ensemble import IsolationForest, RandomForestClassifier\n",
    "from sklearn.svm import OneClassSVM\n",
    "from sklearn.metrics import confusion_matrix, classification_report, auc, precision_recall_curve\n",
    "from sklearn import metrics\n",
    "from sklearn.neighbors import LocalOutlierFactor\n",
    "from sklearn.cluster import DBSCAN\n",
    "\n",
    "from numpy import random, where\n",
    "import matplotlib.pyplot as plt\n",
    "from sklearn.preprocessing import MinMaxScaler\n",
    "from scipy.spatial import distance\n",
    "import array\n",
    "from statsmodels.stats.outliers_influence import variance_inflation_factor\n",
    "import keras\n",
    "from tensorflow.keras.layers import Dense, Dropout\n",
    "from keras.models import Model, Sequential\n",
    "from keras import initializers\n",
    "from keras.layers import Input, Dense\n",
    "import tensorflow as tf\n",
    "\n",
    "import time\n",
    "from scipy.stats import wilcoxon, friedmanchisquare, rankdata\n",
    "import baycomp \n",
    "from baycomp import SignedRankTest"
   ]
  },
  {
   "cell_type": "markdown",
   "id": "f064731e-8212-4758-9258-4736ce077a63",
   "metadata": {
    "jp-MarkdownHeadingCollapsed": true,
    "tags": []
   },
   "source": [
    "## DBSCAN hyperparameter tuner\n",
    "Based on Sander, J., Ester, M., Kriegel, H. P., & Xu, X. (1998). Density-based clustering in spatial databases: The algorithm gdbscan and its applications. Data mining and knowledge discovery, 2(2), 169-194."
   ]
  },
  {
   "cell_type": "code",
   "execution_count": null,
   "id": "86e9c5b7-0ae7-47cb-9323-8c9306fca1a1",
   "metadata": {},
   "outputs": [],
   "source": [
    "def dbscan_tuner(data,dim):\n",
    "    a = data.loc[:, (data.columns != 'y')&(data.columns != 'Outlier')\n",
    "                 &(data.columns != 'Class')&(data.columns != 'Unusual')\n",
    "                 &(data.columns != 'class')]\n",
    "    a = a.to_numpy()\n",
    "    b = distance.cdist(a,a)\n",
    "    \n",
    "    dist = []\n",
    "    for i in b:\n",
    "        l = sorted(i)[dim]\n",
    "        dist.append(l)\n",
    "        \n",
    "    c = data.loc[:, (data.columns != 'y')&(data.columns != 'Outlier')\n",
    "                 &(data.columns != 'Class')&(data.columns != 'Unusual')\n",
    "                 &(data.columns != 'class')]\n",
    "    c['dist'] = dist\n",
    "    c = c.sort_values(by='dist')\n",
    "    d = array.array('i',(i for i in range(1,len(data)+1)))\n",
    "    c['i'] = d\n",
    "    \n",
    "    plt.plot(c['i'],c['dist'])\n",
    "    plt.xlabel(\"Observation index\")\n",
    "    plt.ylabel(\"k-distance\")\n",
    "    \n",
    "    return c"
   ]
  },
  {
   "cell_type": "markdown",
   "id": "b43916da-0ce0-4c9c-a492-3448f41dd259",
   "metadata": {
    "jp-MarkdownHeadingCollapsed": true,
    "tags": []
   },
   "source": [
    "## Prediction translation"
   ]
  },
  {
   "cell_type": "markdown",
   "id": "d41d5733",
   "metadata": {},
   "source": [
    "The definition of a function that transforms the prediction of anomalies from -1 to 1."
   ]
  },
  {
   "cell_type": "code",
   "execution_count": null,
   "id": "b35bd585-3d7d-4fba-9687-81c7a9a37040",
   "metadata": {},
   "outputs": [],
   "source": [
    "def def_outlier(df):\n",
    "    if (df['y_pred'] in [-1]):\n",
    "        val = 1\n",
    "    else:\n",
    "        val = 0\n",
    "    return val"
   ]
  },
  {
   "cell_type": "markdown",
   "id": "a6f5848b",
   "metadata": {
    "jp-MarkdownHeadingCollapsed": true,
    "tags": []
   },
   "source": [
    "## CADE threshold"
   ]
  },
  {
   "cell_type": "markdown",
   "id": "eb90e492",
   "metadata": {},
   "source": [
    "The definition of a function that assigns an anomaly label depending on a threshold value in the classification step of the CADE algorithm."
   ]
  },
  {
   "cell_type": "code",
   "execution_count": null,
   "id": "b3599b1c",
   "metadata": {},
   "outputs": [],
   "source": [
    "def def_outlier_cade(df, threshold):\n",
    "    if (df['Target'] > threshold):\n",
    "        val = 1\n",
    "    else:\n",
    "        val = 0\n",
    "    return val"
   ]
  },
  {
   "cell_type": "markdown",
   "id": "b7db27ee-405e-4faa-a7e9-6b8cdf41d437",
   "metadata": {
    "jp-MarkdownHeadingCollapsed": true,
    "tags": []
   },
   "source": [
    "## Arrhythmia"
   ]
  },
  {
   "cell_type": "markdown",
   "id": "0fed26e9",
   "metadata": {},
   "source": [
    "**Dataset source**: http://odds.cs.stonybrook.edu/arrhythmia-dataset/ (data is transformed from .mat to .csv format)\n",
    "\n",
    "Shebuti Rayana (2016).  ODDS Library [http://odds.cs.stonybrook.edu]. Stony Brook, NY: Stony Brook University, Department of Computer Science.\n",
    "\n",
    "**Additional sources**:\n",
    "\n",
    "Liu, Fei Tony, Kai Ming Ting, and Zhi-Hua Zhou. “Isolation forest.” 2008 Eighth IEEE International Conference on Data Mining. IEEE, 2008.\n",
    "\n",
    "K. M. Ting, J. T. S. Chuan, and F. T. Liu. “Mass: A New Ranking Measure for Anomaly Detection.“, IEEE Transactions on Knowledge and Data Engineering, 2009.\n",
    "\n",
    "F. Keller, E. Muller, K. Bohm.“HiCS: High-contrast subspaces for density-based outlier ranking.” ICDE, 2012."
   ]
  },
  {
   "cell_type": "code",
   "execution_count": null,
   "id": "a433c409-f51f-402b-8581-759c81670d7b",
   "metadata": {
    "scrolled": true
   },
   "outputs": [],
   "source": [
    "data = pd.read_csv('./arrhythmia.csv', sep = ',')"
   ]
  },
  {
   "cell_type": "code",
   "execution_count": null,
   "id": "9f34ed3a-f570-4f95-b4f0-d1dfed0f46e3",
   "metadata": {},
   "outputs": [],
   "source": [
    "# dropping columns that consist only of 0's\n",
    "data = data.drop(columns = ['Col15', 'Col63', 'Col65', 'Col79', 'Col127', 'Col128','Col135', 'Col137', 'Col139','Col141',\n",
    "'Col147', 'Col152', 'Col153','Col160','Col200', 'Col260', 'Col270'])"
   ]
  },
  {
   "cell_type": "code",
   "execution_count": null,
   "id": "a2922c1c-284f-420b-954d-ecf924697f54",
   "metadata": {},
   "outputs": [],
   "source": [
    "data.head()"
   ]
  },
  {
   "cell_type": "code",
   "execution_count": null,
   "id": "7a470d6c-c28d-4798-aec0-2361530d8bf8",
   "metadata": {},
   "outputs": [],
   "source": [
    "data.shape"
   ]
  },
  {
   "cell_type": "code",
   "execution_count": null,
   "id": "937686a7-6d97-4ed0-890a-4575bd4403f9",
   "metadata": {},
   "outputs": [],
   "source": [
    "pd.pivot_table(data,\n",
    "             values = 'Col1',\n",
    "               index = 'y', \n",
    "              aggfunc = 'count')"
   ]
  },
  {
   "cell_type": "markdown",
   "id": "72d0f5e9-900d-4121-9d91-3b201911e14f",
   "metadata": {
    "jp-MarkdownHeadingCollapsed": true,
    "tags": []
   },
   "source": [
    "### iForest"
   ]
  },
  {
   "cell_type": "code",
   "execution_count": null,
   "id": "5f4e2dce",
   "metadata": {},
   "outputs": [],
   "source": [
    "train_data = data.copy()"
   ]
  },
  {
   "cell_type": "code",
   "execution_count": null,
   "id": "bbfa193e-cee5-43a0-9479-0b1d5c467e5c",
   "metadata": {},
   "outputs": [],
   "source": [
    "start = time.process_time()\n",
    "rng = np.random.RandomState(42)\n",
    "clf = IsolationForest(max_samples = 256, random_state=rng, n_estimators = 100)\n",
    "clf.fit(train_data.loc[:, train_data.columns != 'y'])\n",
    "y_pred = clf.predict(train_data.loc[:, train_data.columns != 'y'])\n",
    "y_scores = clf.score_samples(train_data.loc[:, train_data.columns != 'y'])\n",
    "end = time.process_time()\n",
    "iforest_time = end - start\n",
    "print(end - start)"
   ]
  },
  {
   "cell_type": "code",
   "execution_count": null,
   "id": "43a3b8ad-60ee-4621-bcfe-077d473c5095",
   "metadata": {},
   "outputs": [],
   "source": [
    "train_data['y_pred'] = y_pred\n",
    "train_data['prediction'] = train_data.apply(def_outlier, axis = 1)\n",
    "train_data['y_scores'] = -y_scores"
   ]
  },
  {
   "cell_type": "code",
   "execution_count": null,
   "id": "a5d1e8af-4245-4658-8f47-8a005edf292a",
   "metadata": {},
   "outputs": [],
   "source": [
    "confusion_matrix(train_data['y'], train_data['prediction'])"
   ]
  },
  {
   "cell_type": "code",
   "execution_count": null,
   "id": "de8293cf-09ba-443b-a098-cf40c0fc843b",
   "metadata": {},
   "outputs": [],
   "source": [
    "fpr, tpr, _ = metrics.roc_curve(train_data['y'], train_data['y_scores'])\n",
    "iforest_auc = metrics.auc(fpr, tpr)\n",
    "metrics.auc(fpr, tpr)"
   ]
  },
  {
   "cell_type": "code",
   "execution_count": null,
   "id": "cfdc84dc",
   "metadata": {},
   "outputs": [],
   "source": [
    "iforest_report = classification_report(train_data['y'], train_data['prediction'], target_names = ['0','1'], output_dict=True)\n",
    "print(classification_report(train_data['y'], train_data['prediction'], target_names = ['0','1']))"
   ]
  },
  {
   "cell_type": "code",
   "execution_count": null,
   "id": "4c5c3114",
   "metadata": {},
   "outputs": [],
   "source": [
    "precision, recall, thresholds = precision_recall_curve(train_data['y'], train_data['y_scores'])\n",
    "iforest_auc_precision_recall = metrics.auc(recall, precision)\n",
    "print(iforest_auc_precision_recall)"
   ]
  },
  {
   "cell_type": "markdown",
   "id": "9f3a7613-82a2-4c4c-beb5-2f26971f5fc0",
   "metadata": {
    "jp-MarkdownHeadingCollapsed": true,
    "tags": []
   },
   "source": [
    "### LOF"
   ]
  },
  {
   "cell_type": "code",
   "execution_count": null,
   "id": "e2085f36-1efc-4468-88b5-899fe2588a72",
   "metadata": {},
   "outputs": [],
   "source": [
    "min_max_scaler = MinMaxScaler(feature_range=(0, 1))\n",
    "train_data = min_max_scaler.fit_transform(data.copy())\n",
    "train_data = pd.DataFrame(train_data)\n",
    "train_data.columns = data.columns"
   ]
  },
  {
   "cell_type": "code",
   "execution_count": null,
   "id": "352cf2fc-8c1f-4033-9f43-9cebf90f9822",
   "metadata": {},
   "outputs": [],
   "source": [
    "start = time.process_time()\n",
    "lof = LocalOutlierFactor(n_neighbors=5, contamination=.1)\n",
    "y_pred = lof.fit_predict(train_data.loc[:, train_data.columns != 'y'])\n",
    "y_scores = lof.negative_outlier_factor_\n",
    "end = time.process_time()\n",
    "lof_time = end - start\n",
    "print(end - start)"
   ]
  },
  {
   "cell_type": "code",
   "execution_count": null,
   "id": "0dfc856f-bad3-49e5-b15b-42739a0a4c89",
   "metadata": {},
   "outputs": [],
   "source": [
    "train_data['y_pred'] = y_pred\n",
    "train_data['prediction'] = train_data.apply(def_outlier, axis = 1)\n",
    "train_data['y_scores'] = -y_scores"
   ]
  },
  {
   "cell_type": "code",
   "execution_count": null,
   "id": "1379958d-4d1a-41b8-bc45-cf0cbaa5d8c4",
   "metadata": {},
   "outputs": [],
   "source": [
    "confusion_matrix(train_data['y'], train_data['prediction'])"
   ]
  },
  {
   "cell_type": "code",
   "execution_count": null,
   "id": "65f24abd-53bf-4a44-b5ee-c8b797510836",
   "metadata": {},
   "outputs": [],
   "source": [
    "fpr, tpr, _ = metrics.roc_curve(train_data['y'], train_data['y_scores'])\n",
    "lof_auc = metrics.auc(fpr, tpr)\n",
    "metrics.auc(fpr, tpr)"
   ]
  },
  {
   "cell_type": "code",
   "execution_count": null,
   "id": "9d70d396",
   "metadata": {},
   "outputs": [],
   "source": [
    "lof_report = classification_report(train_data['y'], train_data['prediction'], target_names = ['0','1'], output_dict=True)\n",
    "print(classification_report(train_data['y'], train_data['prediction'], target_names = ['0','1']))"
   ]
  },
  {
   "cell_type": "code",
   "execution_count": null,
   "id": "7713e3c0",
   "metadata": {},
   "outputs": [],
   "source": [
    "precision, recall, thresholds = precision_recall_curve(train_data['y'], train_data['y_scores'])\n",
    "lof_auc_precision_recall = metrics.auc(recall, precision)\n",
    "print(lof_auc_precision_recall)"
   ]
  },
  {
   "cell_type": "markdown",
   "id": "3437bdd8-4626-4a09-adc1-faf69f45354f",
   "metadata": {
    "jp-MarkdownHeadingCollapsed": true,
    "tags": []
   },
   "source": [
    "### DBSCAN"
   ]
  },
  {
   "cell_type": "code",
   "execution_count": null,
   "id": "4586df40-afaa-4b3a-ab6f-fcd0741d6eac",
   "metadata": {},
   "outputs": [],
   "source": [
    "min_max_scaler = MinMaxScaler(feature_range=(0, 1))\n",
    "train_data = min_max_scaler.fit_transform(data.copy())\n",
    "train_data = pd.DataFrame(train_data)\n",
    "train_data.columns = data.columns"
   ]
  },
  {
   "cell_type": "code",
   "execution_count": null,
   "id": "e8ea4349-33f9-45b3-8e87-91eaa76bb0c4",
   "metadata": {},
   "outputs": [],
   "source": [
    "dist = dbscan_tuner(train_data,25)"
   ]
  },
  {
   "cell_type": "code",
   "execution_count": null,
   "id": "f87bbb00-818e-4215-8e01-402cb77079cb",
   "metadata": {},
   "outputs": [],
   "source": [
    "start = time.process_time()\n",
    "dbscan = DBSCAN(eps = 2.5, min_samples = 40)\n",
    "clusters = dbscan.fit_predict(train_data.loc[:, train_data.columns != 'y'])\n",
    "end = time.process_time()\n",
    "dbscan_time = end - start\n",
    "print(end - start)"
   ]
  },
  {
   "cell_type": "code",
   "execution_count": null,
   "id": "263972f5-5fb9-4aff-8dc5-8e5571576cba",
   "metadata": {},
   "outputs": [],
   "source": [
    "train_data['y_pred'] = clusters\n",
    "train_data['prediction'] = train_data.apply(def_outlier, axis = 1)"
   ]
  },
  {
   "cell_type": "code",
   "execution_count": null,
   "id": "5772e5f2",
   "metadata": {},
   "outputs": [],
   "source": [
    "original_columns = data.columns.to_list()\n",
    "original_columns.remove('y')\n",
    "\n",
    "data_w_score = pd.DataFrame(columns = train_data.columns.to_list())\n",
    "data_w_score['score'] = pd.NaT\n",
    "for i in set(clusters):\n",
    "    if i == -1:\n",
    "        continue\n",
    "    score_data = train_data[train_data['y_pred'] == i].copy()\n",
    "    center = score_data[original_columns].mean().to_list()\n",
    "    score_data['score'] = score_data.apply(lambda x : distance.euclidean(x[original_columns].to_list(), center),1)\n",
    "    data_w_score = data_w_score.append(score_data.copy(), ignore_index = True)\n",
    "\n",
    "anomalies_data = train_data[train_data['y_pred'] == -1].copy()\n",
    "anomalies_data['score'] = ''\n",
    "cluster_centers = pd.pivot_table(train_data,\n",
    "              index = 'y_pred',\n",
    "              aggfunc = 'mean')"
   ]
  },
  {
   "cell_type": "code",
   "execution_count": null,
   "id": "279930ac",
   "metadata": {},
   "outputs": [],
   "source": [
    "for i in range(len(anomalies_data)):\n",
    "    anomalies_data['score'].iloc[i] = np.min(cluster_centers[cluster_centers.index != -1].apply(lambda x : \n",
    "                                                                                                distance.euclidean(x[original_columns].to_list(), anomalies_data[original_columns].iloc[i]),1))\n",
    "\n",
    "data_for_auprc = pd.concat([data_w_score, anomalies_data])"
   ]
  },
  {
   "cell_type": "code",
   "execution_count": null,
   "id": "ccf65fc6-6413-46d8-95a1-70e8efe67357",
   "metadata": {},
   "outputs": [],
   "source": [
    "confusion_matrix(train_data['y'], train_data['prediction'])"
   ]
  },
  {
   "cell_type": "code",
   "execution_count": null,
   "id": "0e0eaf55-0614-4077-9807-b11db44118f1",
   "metadata": {},
   "outputs": [],
   "source": [
    "fpr, tpr, _ = metrics.roc_curve(data_for_auprc['y'], data_for_auprc['score'])\n",
    "dbscan_auc = metrics.auc(fpr, tpr)\n",
    "metrics.auc(fpr, tpr)"
   ]
  },
  {
   "cell_type": "code",
   "execution_count": null,
   "id": "74ee1f6f",
   "metadata": {},
   "outputs": [],
   "source": [
    "dbscan_report = classification_report(train_data['y'], train_data['prediction'], target_names = ['0','1'], output_dict=True)\n",
    "print(classification_report(train_data['y'], train_data['prediction'], target_names = ['0','1']))"
   ]
  },
  {
   "cell_type": "code",
   "execution_count": null,
   "id": "d2184542",
   "metadata": {},
   "outputs": [],
   "source": [
    "precision, recall, thresholds = precision_recall_curve(data_for_auprc['y'], data_for_auprc['score'])\n",
    "dbscan_auc_precision_recall = metrics.auc(recall, precision)\n",
    "print(dbscan_auc_precision_recall)"
   ]
  },
  {
   "cell_type": "markdown",
   "id": "2250fc78",
   "metadata": {
    "jp-MarkdownHeadingCollapsed": true,
    "tags": []
   },
   "source": [
    "### CADE"
   ]
  },
  {
   "cell_type": "markdown",
   "id": "7f1549b6",
   "metadata": {},
   "source": [
    "Source: Aric LaBarr, webinar \"Modern Approaches To Anomaly Detection\", November 2, 2021"
   ]
  },
  {
   "cell_type": "code",
   "execution_count": null,
   "id": "41a969d0",
   "metadata": {},
   "outputs": [],
   "source": [
    "train_data = data.copy()"
   ]
  },
  {
   "cell_type": "code",
   "execution_count": null,
   "id": "967e960b",
   "metadata": {},
   "outputs": [],
   "source": [
    "fake = pd.DataFrame()\n",
    "data_for_fake = train_data.loc[:, train_data.columns != 'y']\n",
    "data_for_fake['Target'] = 0\n",
    "for i in data_for_fake.columns:\n",
    "    fake[i] = np.random.uniform(np.min(data_for_fake[i]), np.max(data_for_fake[i]), size = len(data_for_fake[i]))\n",
    "fake['Target'] = 1"
   ]
  },
  {
   "cell_type": "code",
   "execution_count": null,
   "id": "d78ec97a",
   "metadata": {},
   "outputs": [],
   "source": [
    "data_combined = pd.concat([data_for_fake, fake], axis = 0)"
   ]
  },
  {
   "cell_type": "code",
   "execution_count": null,
   "id": "b1379ba9",
   "metadata": {},
   "outputs": [],
   "source": [
    "start = time.process_time()\n",
    "model = RandomForestClassifier(n_estimators = 100)\n",
    "model.fit(data_combined.loc[:, data_combined.columns != 'Target'],data_combined.loc[:, data_combined.columns == 'Target']['Target'] )\n",
    "train_data['Target'] = model.predict_proba(train_data.loc[:, train_data.columns != 'y'])[:,1]\n",
    "end = time.process_time()\n",
    "cade_time = end - start\n",
    "print(end - start)"
   ]
  },
  {
   "cell_type": "code",
   "execution_count": null,
   "id": "74814140",
   "metadata": {},
   "outputs": [],
   "source": [
    "auc = {}\n",
    "for i in np.arange(0,0.55,0.05):\n",
    "    train_data['prediction'] = train_data.apply(def_outlier_cade, args=(i,), axis = 1)\n",
    "    fpr, tpr, _ = metrics.roc_curve(train_data['y'], train_data['prediction'])\n",
    "    auc[i] = metrics.auc(fpr, tpr)\n",
    "max_key = max(auc, key=auc.get)"
   ]
  },
  {
   "cell_type": "code",
   "execution_count": null,
   "id": "110691d5",
   "metadata": {},
   "outputs": [],
   "source": [
    "train_data['prediction'] = train_data.apply(def_outlier_cade,args = (max_key,), axis = 1)"
   ]
  },
  {
   "cell_type": "code",
   "execution_count": null,
   "id": "d6318cff",
   "metadata": {},
   "outputs": [],
   "source": [
    "confusion_matrix(train_data['y'], train_data['prediction'])"
   ]
  },
  {
   "cell_type": "code",
   "execution_count": null,
   "id": "a53a650f",
   "metadata": {},
   "outputs": [],
   "source": [
    "fpr, tpr, _ = metrics.roc_curve(train_data['y'], train_data['Target'])\n",
    "cade_auc = metrics.auc(fpr, tpr)\n",
    "metrics.auc(fpr, tpr)"
   ]
  },
  {
   "cell_type": "code",
   "execution_count": null,
   "id": "ad09c5c0",
   "metadata": {},
   "outputs": [],
   "source": [
    "cade_report = classification_report(train_data['y'], train_data['prediction'], target_names = ['0','1'], output_dict=True)\n",
    "print(classification_report(train_data['y'], train_data['prediction'], target_names = ['0','1']))"
   ]
  },
  {
   "cell_type": "code",
   "execution_count": null,
   "id": "6261456d",
   "metadata": {},
   "outputs": [],
   "source": [
    "precision, recall, thresholds = precision_recall_curve(train_data['y'], train_data['Target'])\n",
    "cade_auc_precision_recall = metrics.auc(recall, precision)\n",
    "print(cade_auc_precision_recall)"
   ]
  },
  {
   "cell_type": "markdown",
   "id": "00b35221-db7c-4ade-b211-b71f8f94a68c",
   "metadata": {
    "jp-MarkdownHeadingCollapsed": true,
    "tags": []
   },
   "source": [
    "### Deep Autoencoders"
   ]
  },
  {
   "cell_type": "markdown",
   "id": "fd1158f5",
   "metadata": {},
   "source": [
    "Source: https://www.analyticsvidhya.com/blog/2021/05/anomaly-detection-using-autoencoders-a-walk-through-in-python/"
   ]
  },
  {
   "cell_type": "code",
   "execution_count": null,
   "id": "5ae6b2f9-68f0-447b-b601-4315b8e2ac0e",
   "metadata": {},
   "outputs": [],
   "source": [
    "features = data.drop(columns = ['y'])\n",
    "target = data['y']"
   ]
  },
  {
   "cell_type": "code",
   "execution_count": null,
   "id": "ce4298e6-1b0f-4068-a43c-6ca26a55d5bd",
   "metadata": {},
   "outputs": [],
   "source": [
    "min_max_scaler = MinMaxScaler(feature_range=(0, 1))\n",
    "x_train_scaled = min_max_scaler.fit_transform(features.copy())"
   ]
  },
  {
   "cell_type": "code",
   "execution_count": null,
   "id": "919c56f2-592a-46a8-ac59-12c12387574e",
   "metadata": {},
   "outputs": [],
   "source": [
    "class AutoEncoder(Model):\n",
    "\n",
    "    def __init__(self, output_units):\n",
    "        super().__init__()\n",
    "        self.encoder = Sequential([\n",
    "          Dense(128,input_dim = output_units, activation='sigmoid'),\n",
    "          Dropout(0.1),\n",
    "          Dense(64, activation='relu'),\n",
    "          Dropout(0.1),\n",
    "          Dense(32, activation='relu')\n",
    "        ])\n",
    "        self.decoder = Sequential([\n",
    "          Dense(64, activation='relu'),\n",
    "          Dropout(0.1),\n",
    "          Dense(128,  activation='relu'),\n",
    "          Dropout(0.1),\n",
    "          Dense(output_units, activation='sigmoid')\n",
    "        ])\n",
    "  \n",
    "    def call(self, inputs):\n",
    "        encoded = self.encoder(inputs)\n",
    "        decoded = self.decoder(encoded)\n",
    "        return decoded"
   ]
  },
  {
   "cell_type": "code",
   "execution_count": null,
   "id": "480aee51-c51a-4428-83cf-9643ed961353",
   "metadata": {},
   "outputs": [],
   "source": [
    "def find_threshold(model, x_train_scaled):\n",
    "    reconstructions = model.predict(x_train_scaled)\n",
    "    reconstruction_errors = tf.keras.losses.msle(reconstructions, x_train_scaled)\n",
    "    threshold = np.mean(reconstruction_errors.numpy()) + np.std(reconstruction_errors.numpy())\n",
    "    return threshold\n",
    "\n",
    "def get_predictions(model, x_train_scaled, threshold):\n",
    "    predictions = model.predict(x_train_scaled)\n",
    "    errors = tf.keras.losses.msle(predictions, x_train_scaled)\n",
    "    anomaly_mask = pd.Series(errors) > threshold\n",
    "    preds = anomaly_mask.map(lambda x: 1.0 if x == True else 0.0)\n",
    "    return preds, errors"
   ]
  },
  {
   "cell_type": "code",
   "execution_count": null,
   "id": "f351fd67-8557-4a15-934b-be685c61589e",
   "metadata": {
    "tags": []
   },
   "outputs": [],
   "source": [
    "start = time.process_time()\n",
    "\n",
    "model = AutoEncoder(output_units=x_train_scaled.shape[1])\n",
    "\n",
    "model.compile(loss='msle', metrics=['mse'], optimizer='adam')\n",
    "\n",
    "history = model.fit(\n",
    "    x_train_scaled,\n",
    "    x_train_scaled,\n",
    "    epochs=20,\n",
    "    batch_size=64,\n",
    ")\n",
    "\n",
    "threshold = find_threshold(model, x_train_scaled)\n",
    "\n",
    "predictions, scores = get_predictions(model, x_train_scaled, threshold)\n",
    "\n",
    "end = time.process_time()\n",
    "deep_autoencoders_time = end - start\n",
    "print(end - start)"
   ]
  },
  {
   "cell_type": "code",
   "execution_count": null,
   "id": "7c4001bf-9c49-4056-95b6-62fa91c1025c",
   "metadata": {},
   "outputs": [],
   "source": [
    "fpr, tpr, _ = metrics.roc_curve(target, scores)\n",
    "deep_autoencoders_auc = metrics.auc(fpr, tpr)\n",
    "metrics.auc(fpr, tpr)"
   ]
  },
  {
   "cell_type": "code",
   "execution_count": null,
   "id": "43c7266f",
   "metadata": {},
   "outputs": [],
   "source": [
    "deep_autoencoders_report = classification_report(target, predictions, target_names = ['0','1'], output_dict = True)\n",
    "print(classification_report(target, predictions, target_names = ['0','1']))"
   ]
  },
  {
   "cell_type": "code",
   "execution_count": null,
   "id": "d0fa163d-f836-48e9-9ef6-7ffea5239879",
   "metadata": {},
   "outputs": [],
   "source": [
    "precision, recall, thresholds = precision_recall_curve(target, scores)\n",
    "deep_ae_auc_precision_recall = metrics.auc(recall, precision)\n",
    "print(deep_ae_auc_precision_recall)"
   ]
  },
  {
   "cell_type": "markdown",
   "id": "746273f0-8e49-43a1-8670-49eb9a678d85",
   "metadata": {
    "jp-MarkdownHeadingCollapsed": true,
    "tags": []
   },
   "source": [
    "### Autoencoders"
   ]
  },
  {
   "cell_type": "markdown",
   "id": "46970fb6",
   "metadata": {},
   "source": [
    "Source: https://www.analyticsvidhya.com/blog/2021/05/anomaly-detection-using-autoencoders-a-walk-through-in-python/"
   ]
  },
  {
   "cell_type": "code",
   "execution_count": null,
   "id": "59f81e44-4872-44c1-a9a4-0ebdfe7a726a",
   "metadata": {},
   "outputs": [],
   "source": [
    "features = data.drop(columns = ['y'])\n",
    "target = data['y']"
   ]
  },
  {
   "cell_type": "code",
   "execution_count": null,
   "id": "09165ed5-686b-4f7d-9322-adf317f075cd",
   "metadata": {},
   "outputs": [],
   "source": [
    "min_max_scaler = MinMaxScaler(feature_range=(0, 1))\n",
    "x_train_scaled = min_max_scaler.fit_transform(features.copy())"
   ]
  },
  {
   "cell_type": "code",
   "execution_count": null,
   "id": "d81cae9d-1931-4182-a8ad-347119446817",
   "metadata": {},
   "outputs": [],
   "source": [
    "class AutoEncoder(Model):\n",
    "\n",
    "    def __init__(self, output_units):\n",
    "        super().__init__()\n",
    "        self.encoder = Sequential([\n",
    "          Dense(128,input_dim = output_units, activation='relu'),\n",
    "          Dropout(0.1),\n",
    "        ])\n",
    "        self.decoder = Sequential([\n",
    "          Dense(output_units, activation='sigmoid')\n",
    "        ])\n",
    "  \n",
    "    def call(self, inputs):\n",
    "        encoded = self.encoder(inputs)\n",
    "        decoded = self.decoder(encoded)\n",
    "        return decoded"
   ]
  },
  {
   "cell_type": "code",
   "execution_count": null,
   "id": "5fa64f45-8c1e-461a-8377-fe8fe7b68e10",
   "metadata": {},
   "outputs": [],
   "source": [
    "def find_threshold(model, x_train_scaled):\n",
    "    reconstructions = model.predict(x_train_scaled)\n",
    "    reconstruction_errors = tf.keras.losses.msle(reconstructions, x_train_scaled)\n",
    "    threshold = np.mean(reconstruction_errors.numpy()) + np.std(reconstruction_errors.numpy())\n",
    "    return threshold\n",
    "\n",
    "def get_predictions(model, x_train_scaled, threshold):\n",
    "    predictions = model.predict(x_train_scaled)\n",
    "    errors = tf.keras.losses.msle(predictions, x_train_scaled)\n",
    "    anomaly_mask = pd.Series(errors) > threshold\n",
    "    preds = anomaly_mask.map(lambda x: 1.0 if x == True else 0.0)\n",
    "    return preds, errors"
   ]
  },
  {
   "cell_type": "code",
   "execution_count": null,
   "id": "351fac6e-f05a-4782-91ff-38df47f7c09f",
   "metadata": {
    "tags": []
   },
   "outputs": [],
   "source": [
    "start = time.process_time()\n",
    "\n",
    "model = AutoEncoder(output_units=x_train_scaled.shape[1])\n",
    "\n",
    "model.compile(loss='msle', metrics=['mse'], optimizer='adam')\n",
    "\n",
    "history = model.fit(\n",
    "    x_train_scaled,\n",
    "    x_train_scaled,\n",
    "    epochs=20,\n",
    "    batch_size=64,\n",
    ")\n",
    "\n",
    "threshold = find_threshold(model, x_train_scaled)\n",
    "\n",
    "predictions, scores = get_predictions(model, x_train_scaled, threshold)\n",
    "\n",
    "end = time.process_time()\n",
    "autoencoders_time = end - start\n",
    "print(end - start)"
   ]
  },
  {
   "cell_type": "code",
   "execution_count": null,
   "id": "61312b90-7005-413e-86dc-666832581f09",
   "metadata": {},
   "outputs": [],
   "source": [
    "fpr, tpr, _ = metrics.roc_curve(target, scores)\n",
    "autoencoders_auc = metrics.auc(fpr, tpr)\n",
    "metrics.auc(fpr, tpr)"
   ]
  },
  {
   "cell_type": "code",
   "execution_count": null,
   "id": "6ae24726-fb1c-42c0-8260-09c196f74125",
   "metadata": {},
   "outputs": [],
   "source": [
    "autoencoders_report = classification_report(target, predictions, target_names = ['0','1'], output_dict = True)\n",
    "print(classification_report(target, predictions, target_names = ['0','1']))"
   ]
  },
  {
   "cell_type": "code",
   "execution_count": null,
   "id": "af1ccc12",
   "metadata": {},
   "outputs": [],
   "source": [
    "precision, recall, thresholds = precision_recall_curve(target, scores)\n",
    "ae_auc_precision_recall = metrics.auc(recall, precision)\n",
    "print(ae_auc_precision_recall)"
   ]
  },
  {
   "cell_type": "markdown",
   "id": "3678cd24-be24-4da7-949b-1ee5be3e505b",
   "metadata": {
    "jp-MarkdownHeadingCollapsed": true,
    "tags": []
   },
   "source": [
    "### One-Class SVM rbf"
   ]
  },
  {
   "cell_type": "code",
   "execution_count": null,
   "id": "35c0f921-bccf-4ae3-b99e-0481e12f6b9a",
   "metadata": {},
   "outputs": [],
   "source": [
    "features = data.drop(columns = ['y'])\n",
    "target = data['y']"
   ]
  },
  {
   "cell_type": "code",
   "execution_count": null,
   "id": "fe901a04-6523-4517-8246-3d2043e72bd8",
   "metadata": {},
   "outputs": [],
   "source": [
    "min_max_scaler = MinMaxScaler(feature_range=(0, 1))\n",
    "x_train_scaled = min_max_scaler.fit_transform(features.copy())"
   ]
  },
  {
   "cell_type": "code",
   "execution_count": null,
   "id": "f8fca5ca-2caa-46b3-8cfc-63ed8ef51cd3",
   "metadata": {},
   "outputs": [],
   "source": [
    "start = time.process_time()\n",
    "\n",
    "model = OneClassSVM(gamma='scale', nu=0.1)\n",
    "model.fit(x_train_scaled)\n",
    "yhat = model.predict(x_train_scaled)\n",
    "y_scores = -model.decision_function(x_train_scaled)\n",
    "\n",
    "end = time.process_time()\n",
    "rbf_oc_svm_time = end - start\n",
    "print(end - start)"
   ]
  },
  {
   "cell_type": "code",
   "execution_count": null,
   "id": "2e7776bc-1b6d-4ab5-814b-714e953ae4bd",
   "metadata": {},
   "outputs": [],
   "source": [
    "predictions = pd.DataFrame(yhat, columns = ['y_pred']).apply(def_outlier, axis = 1)"
   ]
  },
  {
   "cell_type": "code",
   "execution_count": null,
   "id": "c49ad08d-de35-4d29-a5ff-8f997bcec72b",
   "metadata": {},
   "outputs": [],
   "source": [
    "fpr, tpr, _ = metrics.roc_curve(target, y_scores)\n",
    "rbf_oc_svm_auc = metrics.auc(fpr, tpr)\n",
    "metrics.auc(fpr, tpr)"
   ]
  },
  {
   "cell_type": "code",
   "execution_count": null,
   "id": "4d9bd02b-a828-4757-8ac5-9654d45a1bb2",
   "metadata": {},
   "outputs": [],
   "source": [
    "rbf_oc_svm_report = classification_report(target, predictions, target_names = ['0','1'], output_dict = True)\n",
    "print(classification_report(target, predictions, target_names = ['0','1']))"
   ]
  },
  {
   "cell_type": "code",
   "execution_count": null,
   "id": "ba19571a-1662-4d70-8219-0fe85c932639",
   "metadata": {},
   "outputs": [],
   "source": [
    "precision, recall, thresholds = precision_recall_curve(target, y_scores)\n",
    "ocsvm_rbf_auc_precision_recall = metrics.auc(recall, precision)\n",
    "print(ocsvm_rbf_auc_precision_recall)"
   ]
  },
  {
   "cell_type": "markdown",
   "id": "a0bf2e03-649f-49d6-92ba-1fce55145a08",
   "metadata": {
    "jp-MarkdownHeadingCollapsed": true,
    "tags": []
   },
   "source": [
    "### One-Class SVM linear kernel"
   ]
  },
  {
   "cell_type": "code",
   "execution_count": null,
   "id": "ad07452f-9b3c-4a97-8f61-6abb3bece87c",
   "metadata": {},
   "outputs": [],
   "source": [
    "features = data.drop(columns = ['y'])\n",
    "target = data['y']"
   ]
  },
  {
   "cell_type": "code",
   "execution_count": null,
   "id": "43863d30-c43f-46d5-ad3f-437b30be405f",
   "metadata": {},
   "outputs": [],
   "source": [
    "min_max_scaler = MinMaxScaler(feature_range=(0, 1))\n",
    "x_train_scaled = min_max_scaler.fit_transform(features.copy())"
   ]
  },
  {
   "cell_type": "code",
   "execution_count": null,
   "id": "b5342480-fdaa-45db-a83a-cb0b60f9147a",
   "metadata": {},
   "outputs": [],
   "source": [
    "start = time.process_time()\n",
    "\n",
    "model = OneClassSVM(kernel = 'linear', nu=0.1)\n",
    "model.fit(x_train_scaled)\n",
    "yhat = model.predict(x_train_scaled)\n",
    "y_scores = -model.decision_function(x_train_scaled)\n",
    "\n",
    "end = time.process_time()\n",
    "lin_oc_svm_time = end - start\n",
    "print(end - start)"
   ]
  },
  {
   "cell_type": "code",
   "execution_count": null,
   "id": "d49117d9-535c-4e6c-bac5-6280436c48ec",
   "metadata": {},
   "outputs": [],
   "source": [
    "predictions = pd.DataFrame(yhat, columns = ['y_pred']).apply(def_outlier, axis = 1)"
   ]
  },
  {
   "cell_type": "code",
   "execution_count": null,
   "id": "824a746a-3748-4e60-b901-c31e0b7aaece",
   "metadata": {},
   "outputs": [],
   "source": [
    "fpr, tpr, _ = metrics.roc_curve(target, y_scores)\n",
    "lin_oc_svm_auc = metrics.auc(fpr, tpr)\n",
    "metrics.auc(fpr, tpr)"
   ]
  },
  {
   "cell_type": "code",
   "execution_count": null,
   "id": "1d11502b-8272-4cd0-b8c3-05fa41f62eec",
   "metadata": {},
   "outputs": [],
   "source": [
    "lin_oc_svm_report = classification_report(target, predictions, target_names = ['0','1'], output_dict = True)\n",
    "print(classification_report(target, predictions, target_names = ['0','1']))"
   ]
  },
  {
   "cell_type": "code",
   "execution_count": null,
   "id": "8642a6d5",
   "metadata": {},
   "outputs": [],
   "source": [
    "precision, recall, thresholds = precision_recall_curve(target, y_scores)\n",
    "ocsvm_lin_auc_precision_recall = metrics.auc(recall, precision)\n",
    "print(ocsvm_lin_auc_precision_recall)"
   ]
  },
  {
   "cell_type": "markdown",
   "id": "7d722c06-e993-4751-ad59-d73d783c829d",
   "metadata": {
    "jp-MarkdownHeadingCollapsed": true,
    "tags": []
   },
   "source": [
    "### Performance"
   ]
  },
  {
   "cell_type": "code",
   "execution_count": null,
   "id": "e98408e9-e320-4b0e-853b-6d3e5b3fda5f",
   "metadata": {},
   "outputs": [],
   "source": [
    "arrhythmia_performance = pd.DataFrame(columns = ['method','f1-score','sensitivity',\n",
    "                                                 'precision','Time','AUC', 'AU precision-recall curve'])"
   ]
  },
  {
   "cell_type": "code",
   "execution_count": null,
   "id": "32d375ae-c872-4800-8b38-f20db4bddd52",
   "metadata": {},
   "outputs": [],
   "source": [
    "iforest_performance = {'method':'iForest',\n",
    "               'f1-score':iforest_report['1']['f1-score'], \n",
    "               'sensitivity':iforest_report['1']['recall'],\n",
    "                'precision':iforest_report['1']['precision'],\n",
    "              'Time':iforest_time,\n",
    "              'AUC':iforest_auc,\n",
    "                      'AU precision-recall curve':iforest_auc_precision_recall}\n",
    "lof_performance = {'method':'LOF',\n",
    "               'f1-score':lof_report['1']['f1-score'], \n",
    "               'sensitivity':lof_report['1']['recall'],\n",
    "                   'precision':lof_report['1']['precision'],\n",
    "              'Time':lof_time,\n",
    "              'AUC':lof_auc,\n",
    "                  'AU precision-recall curve':lof_auc_precision_recall}\n",
    "dbscan_performance = { 'method':'DBSCAN',\n",
    "               'f1-score':dbscan_report['1']['f1-score'], \n",
    "               'sensitivity':dbscan_report['1']['recall'],\n",
    "                'precision':dbscan_report['1']['precision'],\n",
    "              'Time':dbscan_time,\n",
    "              'AUC':dbscan_auc,\n",
    "                     'AU precision-recall curve':dbscan_auc_precision_recall}\n",
    "cade_performance = { 'method':'CADE',\n",
    "               'f1-score':cade_report['1']['f1-score'], \n",
    "               'sensitivity':cade_report['1']['recall'],\n",
    "                'precision':cade_report['1']['precision'],\n",
    "              'Time':cade_time,\n",
    "              'AUC':cade_auc,\n",
    "                   'AU precision-recall curve':cade_auc_precision_recall}\n",
    "deep_autoencoders_performance = {'method':'Deep Autoencoders',\n",
    "               'f1-score':deep_autoencoders_report['1']['f1-score'], \n",
    "               'sensitivity':deep_autoencoders_report['1']['recall'],\n",
    "                'precision':deep_autoencoders_report['1']['precision'],\n",
    "              'Time':deep_autoencoders_time,\n",
    "              'AUC':deep_autoencoders_auc,\n",
    "                                'AU precision-recall curve':deep_ae_auc_precision_recall}\n",
    "autoencoders_performance = {'method':'Autoencoders',\n",
    "               'f1-score':autoencoders_report['1']['f1-score'], \n",
    "               'sensitivity':autoencoders_report['1']['recall'],\n",
    "                'precision':autoencoders_report['1']['precision'],\n",
    "              'Time':autoencoders_time,\n",
    "              'AUC':autoencoders_auc,\n",
    "                           'AU precision-recall curve':ae_auc_precision_recall}\n",
    "rbf_oc_svm_performance = {'method':'OC-SVM rbf',\n",
    "               'f1-score':rbf_oc_svm_report['1']['f1-score'], \n",
    "               'sensitivity':rbf_oc_svm_report['1']['recall'],\n",
    "                'precision':rbf_oc_svm_report['1']['precision'],          \n",
    "              'Time':rbf_oc_svm_time,\n",
    "              'AUC':rbf_oc_svm_auc,\n",
    "                         'AU precision-recall curve':ocsvm_rbf_auc_precision_recall}\n",
    "lin_oc_svm_performance = {'method':'OC-SVM linear',\n",
    "               'f1-score':lin_oc_svm_report['1']['f1-score'], \n",
    "               'sensitivity':lin_oc_svm_report['1']['recall'],\n",
    "                'precision':lin_oc_svm_report['1']['precision'],          \n",
    "              'Time':lin_oc_svm_time,\n",
    "              'AUC':lin_oc_svm_auc,\n",
    "                         'AU precision-recall curve':ocsvm_lin_auc_precision_recall}"
   ]
  },
  {
   "cell_type": "code",
   "execution_count": null,
   "id": "39de7c8e-99a0-4622-9d1a-aea13a82da73",
   "metadata": {},
   "outputs": [],
   "source": [
    "arrhythmia_performance = arrhythmia_performance.append(iforest_performance, ignore_index = True)\n",
    "arrhythmia_performance = arrhythmia_performance.append(lof_performance, ignore_index = True)\n",
    "arrhythmia_performance = arrhythmia_performance.append(dbscan_performance, ignore_index = True)\n",
    "arrhythmia_performance = arrhythmia_performance.append(cade_performance, ignore_index = True)\n",
    "arrhythmia_performance = arrhythmia_performance.append(deep_autoencoders_performance, ignore_index = True)\n",
    "arrhythmia_performance = arrhythmia_performance.append(autoencoders_performance, ignore_index = True)\n",
    "arrhythmia_performance = arrhythmia_performance.append(rbf_oc_svm_performance, ignore_index = True)\n",
    "arrhythmia_performance = arrhythmia_performance.append(lin_oc_svm_performance, ignore_index = True)"
   ]
  },
  {
   "cell_type": "markdown",
   "id": "f718677d-53c1-46f9-9efc-346cdacdb947",
   "metadata": {
    "jp-MarkdownHeadingCollapsed": true,
    "tags": []
   },
   "source": [
    "## Cardiotocography"
   ]
  },
  {
   "cell_type": "markdown",
   "id": "e1fda890",
   "metadata": {},
   "source": [
    "**Dataset source**: http://odds.cs.stonybrook.edu/cardiotocogrpahy-dataset/ (data is transformed from .mat to .csv format)\n",
    "\n",
    "Shebuti Rayana (2016).  ODDS Library [http://odds.cs.stonybrook.edu]. Stony Brook, NY: Stony Brook University, Department of Computer Science.\n",
    "\n",
    "**Additional sources**:\n",
    "\n",
    "C. C. Aggarwal and S. Sathe, “Theoretical foundations and algorithms for outlier ensembles.” ACM SIGKDD Explorations Newsletter, vol. 17, no. 1, pp. 24–47, 2015.\n",
    "\n",
    "Saket Sathe and Charu C. Aggarwal. LODES: Local Density meets Spectral Outlier Detection. SIAM Conference on Data Mining, 2016."
   ]
  },
  {
   "cell_type": "code",
   "execution_count": null,
   "id": "1f2814fa-e915-4614-9e0a-8d54d4e7fbad",
   "metadata": {},
   "outputs": [],
   "source": [
    "data = pd.read_csv('./Cardiotocography.csv')"
   ]
  },
  {
   "cell_type": "code",
   "execution_count": null,
   "id": "b9687121-a76a-4e0b-83da-42725fddaeb7",
   "metadata": {},
   "outputs": [],
   "source": [
    "data.shape"
   ]
  },
  {
   "cell_type": "code",
   "execution_count": null,
   "id": "d07338e9-ea55-4352-b6ab-960b2f4ab6d4",
   "metadata": {},
   "outputs": [],
   "source": [
    "data['y'] = data['y'].astype(int)"
   ]
  },
  {
   "cell_type": "code",
   "execution_count": null,
   "id": "cf4c6400-faca-46d0-bfe4-1736250774f1",
   "metadata": {},
   "outputs": [],
   "source": [
    "pd.pivot_table(data,\n",
    "             values = 'Col1',\n",
    "               index = 'y', \n",
    "              aggfunc = 'count')"
   ]
  },
  {
   "cell_type": "code",
   "execution_count": null,
   "id": "f0a69a5f-f775-4f9f-a759-5e071ad45d35",
   "metadata": {},
   "outputs": [],
   "source": [
    "data.head()"
   ]
  },
  {
   "cell_type": "markdown",
   "id": "ab9beffb-3a93-49a7-b498-c06e6d8242f1",
   "metadata": {
    "jp-MarkdownHeadingCollapsed": true,
    "tags": []
   },
   "source": [
    "### iForest"
   ]
  },
  {
   "cell_type": "code",
   "execution_count": null,
   "id": "d38cafb2",
   "metadata": {},
   "outputs": [],
   "source": [
    "train_data = data.copy()"
   ]
  },
  {
   "cell_type": "code",
   "execution_count": null,
   "id": "567b6bc9-40db-4043-99b2-f89164da24eb",
   "metadata": {},
   "outputs": [],
   "source": [
    "start = time.process_time()\n",
    "rng = np.random.RandomState(42)\n",
    "clf = IsolationForest(max_samples=256, random_state=rng, n_estimators=100)\n",
    "clf.fit(train_data.loc[:, train_data.columns != 'y'])\n",
    "y_pred = clf.predict(train_data.loc[:, train_data.columns != 'y'])\n",
    "y_scores = clf.score_samples(train_data.loc[:, train_data.columns != 'y'])\n",
    "end = time.process_time()\n",
    "iforest_time = end - start\n",
    "print(end - start)"
   ]
  },
  {
   "cell_type": "code",
   "execution_count": null,
   "id": "a069ef03-789a-4753-81d9-6b436b1fed49",
   "metadata": {},
   "outputs": [],
   "source": [
    "train_data['y_pred'] = y_pred\n",
    "train_data['prediction'] = train_data.apply(def_outlier, axis = 1)\n",
    "train_data['y_scores'] = -y_scores"
   ]
  },
  {
   "cell_type": "code",
   "execution_count": null,
   "id": "6cc49d95-11a2-491d-87d7-3fdd7fcad7cf",
   "metadata": {},
   "outputs": [],
   "source": [
    "confusion_matrix(train_data['y'], train_data['prediction'])"
   ]
  },
  {
   "cell_type": "code",
   "execution_count": null,
   "id": "8ff54bc6-3319-44db-81e8-b37408778905",
   "metadata": {},
   "outputs": [],
   "source": [
    "fpr, tpr, _ = metrics.roc_curve(train_data['y'], train_data['y_scores'])\n",
    "iforest_auc = metrics.auc(fpr, tpr)\n",
    "metrics.auc(fpr, tpr)"
   ]
  },
  {
   "cell_type": "code",
   "execution_count": null,
   "id": "e7784f88",
   "metadata": {},
   "outputs": [],
   "source": [
    "iforest_report = classification_report(train_data['y'], train_data['prediction'], target_names = ['0','1'], output_dict = True)\n",
    "print(classification_report(train_data['y'], train_data['prediction'], target_names = ['0','1']))"
   ]
  },
  {
   "cell_type": "code",
   "execution_count": null,
   "id": "7ebbb164",
   "metadata": {},
   "outputs": [],
   "source": [
    "precision, recall, thresholds = precision_recall_curve(train_data['y'], train_data['y_scores'])\n",
    "iforest_auc_precision_recall = metrics.auc(recall, precision)\n",
    "print(iforest_auc_precision_recall)"
   ]
  },
  {
   "cell_type": "markdown",
   "id": "4aa02f39-84ae-4238-b790-deed53d96da2",
   "metadata": {
    "jp-MarkdownHeadingCollapsed": true,
    "tags": []
   },
   "source": [
    "### LOF"
   ]
  },
  {
   "cell_type": "code",
   "execution_count": null,
   "id": "e8c35a25-403c-4e3a-bac6-833d613611a5",
   "metadata": {},
   "outputs": [],
   "source": [
    "min_max_scaler = MinMaxScaler(feature_range=(0, 1))\n",
    "train_data = min_max_scaler.fit_transform(data.copy())\n",
    "train_data = pd.DataFrame(train_data)\n",
    "train_data.columns = data.columns"
   ]
  },
  {
   "cell_type": "code",
   "execution_count": null,
   "id": "22a3dff2-20ab-494f-b749-a96eea0608c2",
   "metadata": {},
   "outputs": [],
   "source": [
    "start = time.process_time()\n",
    "lof = LocalOutlierFactor(n_neighbors=18, contamination=.1, novelty=False)\n",
    "y_pred = lof.fit_predict(train_data.loc[:, train_data.columns != 'y'])\n",
    "y_scores = lof.negative_outlier_factor_\n",
    "end = time.process_time()\n",
    "lof_time = end - start \n",
    "print(end - start)"
   ]
  },
  {
   "cell_type": "code",
   "execution_count": null,
   "id": "08583bac-0dd1-425c-9321-1683db09c95f",
   "metadata": {},
   "outputs": [],
   "source": [
    "train_data['y_pred'] = y_pred\n",
    "train_data['prediction'] = train_data.apply(def_outlier, axis = 1)\n",
    "train_data['y_scores'] = -y_scores"
   ]
  },
  {
   "cell_type": "code",
   "execution_count": null,
   "id": "b68a1f83-37fc-4a52-bf99-73e9404e765e",
   "metadata": {},
   "outputs": [],
   "source": [
    "confusion_matrix(train_data['y'], train_data['prediction'])"
   ]
  },
  {
   "cell_type": "code",
   "execution_count": null,
   "id": "8433ce78-5aa5-49ee-8820-d29cf18d1675",
   "metadata": {},
   "outputs": [],
   "source": [
    "fpr, tpr, _ = metrics.roc_curve(train_data['y'], train_data['y_scores'])\n",
    "lof_auc = metrics.auc(fpr, tpr)\n",
    "metrics.auc(fpr, tpr)"
   ]
  },
  {
   "cell_type": "code",
   "execution_count": null,
   "id": "f5fc9226",
   "metadata": {},
   "outputs": [],
   "source": [
    "lof_report = classification_report(train_data['y'], train_data['prediction'], target_names = ['0','1'], output_dict = True)\n",
    "print(classification_report(train_data['y'], train_data['prediction'], target_names = ['0','1']))"
   ]
  },
  {
   "cell_type": "code",
   "execution_count": null,
   "id": "f4ac0feb",
   "metadata": {},
   "outputs": [],
   "source": [
    "precision, recall, thresholds = precision_recall_curve(train_data['y'], train_data['y_scores'])\n",
    "lof_auc_precision_recall = metrics.auc(recall, precision)\n",
    "print(lof_auc_precision_recall)"
   ]
  },
  {
   "cell_type": "markdown",
   "id": "c6d9bb51-77f2-4312-b121-570feae2d80f",
   "metadata": {
    "jp-MarkdownHeadingCollapsed": true,
    "tags": []
   },
   "source": [
    "### DBSCAN"
   ]
  },
  {
   "cell_type": "code",
   "execution_count": null,
   "id": "ee63faaf-65b1-46ab-9aea-89ced927f91b",
   "metadata": {},
   "outputs": [],
   "source": [
    "min_max_scaler = MinMaxScaler(feature_range=(0, 1))\n",
    "train_data = min_max_scaler.fit_transform(data.copy())\n",
    "train_data = pd.DataFrame(train_data)\n",
    "train_data.columns = data.columns"
   ]
  },
  {
   "cell_type": "code",
   "execution_count": null,
   "id": "8df4593e-1ca3-4c8a-902f-20bc93b92f74",
   "metadata": {},
   "outputs": [],
   "source": [
    "dist = dbscan_tuner(train_data,41)"
   ]
  },
  {
   "cell_type": "code",
   "execution_count": null,
   "id": "86fd405e-db2c-4ed4-9b3e-dc21085c1160",
   "metadata": {},
   "outputs": [],
   "source": [
    "start = time.process_time()\n",
    "dbscan = DBSCAN(eps = 0.7, min_samples = 42)\n",
    "clusters = dbscan.fit_predict(train_data.loc[:, train_data.columns != 'y'])\n",
    "end = time.process_time()\n",
    "dbscan_time = end - start\n",
    "print(end - start)"
   ]
  },
  {
   "cell_type": "code",
   "execution_count": null,
   "id": "03dba009-a862-4ea1-8844-5c32acf13801",
   "metadata": {},
   "outputs": [],
   "source": [
    "train_data['y_pred'] = clusters\n",
    "train_data['prediction'] = train_data.apply(def_outlier, axis = 1)"
   ]
  },
  {
   "cell_type": "code",
   "execution_count": null,
   "id": "a78876ec",
   "metadata": {},
   "outputs": [],
   "source": [
    "original_columns = data.columns.to_list()\n",
    "original_columns.remove('y')\n",
    "\n",
    "data_w_score = pd.DataFrame(columns = train_data.columns.to_list())\n",
    "data_w_score['score'] = pd.NaT\n",
    "for i in set(clusters):\n",
    "    if i == -1:\n",
    "        continue\n",
    "    score_data = train_data[train_data['y_pred'] == i].copy()\n",
    "    center = score_data[original_columns].mean().to_list()\n",
    "    score_data['score'] = score_data.apply(lambda x : distance.euclidean(x[original_columns].to_list(), center),1)\n",
    "    data_w_score = data_w_score.append(score_data.copy(), ignore_index = True)\n",
    "\n",
    "anomalies_data = train_data[train_data['y_pred'] == -1].copy()\n",
    "anomalies_data['score'] = ''\n",
    "cluster_centers = pd.pivot_table(train_data,\n",
    "              index = 'y_pred',\n",
    "              aggfunc = 'mean')"
   ]
  },
  {
   "cell_type": "code",
   "execution_count": null,
   "id": "dbf9ecf6",
   "metadata": {},
   "outputs": [],
   "source": [
    "for i in range(len(anomalies_data)):\n",
    "    anomalies_data['score'].iloc[i] = np.min(cluster_centers[cluster_centers.index != -1].apply(lambda x : \n",
    "                                                                                                distance.euclidean(x[original_columns].to_list(), anomalies_data[original_columns].iloc[i]),1))\n",
    "\n",
    "data_for_auprc = pd.concat([data_w_score, anomalies_data])"
   ]
  },
  {
   "cell_type": "code",
   "execution_count": null,
   "id": "3ecc7caa-7b96-4a46-992c-3ce5067648a1",
   "metadata": {},
   "outputs": [],
   "source": [
    "confusion_matrix(train_data['y'], train_data['prediction'])"
   ]
  },
  {
   "cell_type": "code",
   "execution_count": null,
   "id": "525b6ea0-fd71-42b8-af98-6bb91e735f1a",
   "metadata": {},
   "outputs": [],
   "source": [
    "fpr, tpr, _ = metrics.roc_curve(data_for_auprc['y'], data_for_auprc['score'])\n",
    "dbscan_auc = metrics.auc(fpr, tpr)\n",
    "metrics.auc(fpr, tpr)"
   ]
  },
  {
   "cell_type": "code",
   "execution_count": null,
   "id": "6020516c",
   "metadata": {},
   "outputs": [],
   "source": [
    "dbscan_report = classification_report(train_data['y'], train_data['prediction'], target_names = ['0','1'], output_dict = True)\n",
    "print(classification_report(train_data['y'], train_data['prediction'], target_names = ['0','1']))"
   ]
  },
  {
   "cell_type": "code",
   "execution_count": null,
   "id": "77738c9d",
   "metadata": {},
   "outputs": [],
   "source": [
    "precision, recall, thresholds = precision_recall_curve(data_for_auprc['y'], data_for_auprc['score'])\n",
    "dbscan_auc_precision_recall = metrics.auc(recall, precision)\n",
    "print(dbscan_auc_precision_recall)"
   ]
  },
  {
   "cell_type": "markdown",
   "id": "8ee54b7c",
   "metadata": {
    "jp-MarkdownHeadingCollapsed": true,
    "tags": []
   },
   "source": [
    "### CADE"
   ]
  },
  {
   "cell_type": "markdown",
   "id": "545e7139",
   "metadata": {},
   "source": [
    "Source: Aric LaBarr, webinar \"Modern Approaches To Anomaly Detection\", November 2, 2021"
   ]
  },
  {
   "cell_type": "code",
   "execution_count": null,
   "id": "b0651a2c",
   "metadata": {},
   "outputs": [],
   "source": [
    "train_data = data.copy()"
   ]
  },
  {
   "cell_type": "code",
   "execution_count": null,
   "id": "cc728e5b",
   "metadata": {},
   "outputs": [],
   "source": [
    "fake = pd.DataFrame()\n",
    "data_for_fake = train_data.loc[:, train_data.columns != 'y']\n",
    "data_for_fake['Target'] = 0\n",
    "for i in data_for_fake.columns:\n",
    "    fake[i] = np.random.uniform(np.min(data_for_fake[i]), np.max(data_for_fake[i]), size = len(data_for_fake[i]))\n",
    "fake['Target'] = 1"
   ]
  },
  {
   "cell_type": "code",
   "execution_count": null,
   "id": "ca9204c7",
   "metadata": {},
   "outputs": [],
   "source": [
    "data_combined = pd.concat([data_for_fake, fake], axis = 0)"
   ]
  },
  {
   "cell_type": "code",
   "execution_count": null,
   "id": "3e27b72d",
   "metadata": {},
   "outputs": [],
   "source": [
    "start = time.process_time()\n",
    "model = RandomForestClassifier(n_estimators = 100)\n",
    "model.fit(data_combined.loc[:, data_combined.columns != 'Target'],data_combined.loc[:, data_combined.columns == 'Target']['Target'] )\n",
    "train_data['Target'] = model.predict_proba(train_data.loc[:, train_data.columns != 'y'])[:,1]\n",
    "end = time.process_time()\n",
    "cade_time = end - start\n",
    "print(end - start)"
   ]
  },
  {
   "cell_type": "code",
   "execution_count": null,
   "id": "f941eaa9",
   "metadata": {},
   "outputs": [],
   "source": [
    "auc = {}\n",
    "for i in np.arange(0,0.55,0.05):\n",
    "    train_data['prediction'] = train_data.apply(def_outlier_cade, args=(i,), axis = 1)\n",
    "    fpr, tpr, _ = metrics.roc_curve(train_data['y'], train_data['prediction'])\n",
    "    auc[i] = metrics.auc(fpr, tpr)\n",
    "max_key = max(auc, key=auc.get)"
   ]
  },
  {
   "cell_type": "code",
   "execution_count": null,
   "id": "24f24f86",
   "metadata": {},
   "outputs": [],
   "source": [
    "train_data['prediction'] = train_data.apply(def_outlier_cade, args = (max_key,), axis = 1)"
   ]
  },
  {
   "cell_type": "code",
   "execution_count": null,
   "id": "65cbd64a",
   "metadata": {},
   "outputs": [],
   "source": [
    "confusion_matrix(train_data['y'], train_data['prediction'])"
   ]
  },
  {
   "cell_type": "code",
   "execution_count": null,
   "id": "2561fe2b",
   "metadata": {},
   "outputs": [],
   "source": [
    "fpr, tpr, _ = metrics.roc_curve(train_data['y'], train_data['Target'])\n",
    "cade_auc = metrics.auc(fpr, tpr)\n",
    "metrics.auc(fpr, tpr)"
   ]
  },
  {
   "cell_type": "code",
   "execution_count": null,
   "id": "debc28fb",
   "metadata": {},
   "outputs": [],
   "source": [
    "cade_report = classification_report(train_data['y'], train_data['prediction'], target_names = ['0','1'], output_dict = True)\n",
    "print(classification_report(train_data['y'], train_data['prediction'], target_names = ['0','1']))"
   ]
  },
  {
   "cell_type": "code",
   "execution_count": null,
   "id": "acc3da7e",
   "metadata": {},
   "outputs": [],
   "source": [
    "precision, recall, thresholds = precision_recall_curve(train_data['y'], train_data['Target'])\n",
    "cade_auc_precision_recall = metrics.auc(recall, precision)\n",
    "print(cade_auc_precision_recall)"
   ]
  },
  {
   "cell_type": "markdown",
   "id": "aa1cf435-cf7c-41ac-9701-5de24ce1ffc1",
   "metadata": {
    "jp-MarkdownHeadingCollapsed": true,
    "tags": []
   },
   "source": [
    "### Deep Autoencoders"
   ]
  },
  {
   "cell_type": "markdown",
   "id": "0e97ef61",
   "metadata": {},
   "source": [
    "Source: https://www.analyticsvidhya.com/blog/2021/05/anomaly-detection-using-autoencoders-a-walk-through-in-python/"
   ]
  },
  {
   "cell_type": "code",
   "execution_count": null,
   "id": "77d195d0-1d8e-48cf-848e-7ea89e1662ed",
   "metadata": {},
   "outputs": [],
   "source": [
    "features = data.drop(columns = ['y'])\n",
    "target = data['y']"
   ]
  },
  {
   "cell_type": "code",
   "execution_count": null,
   "id": "4a88d610-4a3c-4a34-9eda-435e595a5c79",
   "metadata": {},
   "outputs": [],
   "source": [
    "min_max_scaler = MinMaxScaler(feature_range=(0, 1))\n",
    "x_train_scaled = min_max_scaler.fit_transform(features.copy())"
   ]
  },
  {
   "cell_type": "code",
   "execution_count": null,
   "id": "dd0006f3-c96f-41e7-b50c-01c7f06f99e2",
   "metadata": {},
   "outputs": [],
   "source": [
    "class AutoEncoder(Model):\n",
    "\n",
    "    def __init__(self, output_units):\n",
    "        super().__init__()\n",
    "        self.encoder = Sequential([\n",
    "          Dense(10,input_dim = output_units, activation='sigmoid'),\n",
    "          Dropout(0.1),\n",
    "          Dense(5, activation='relu'),\n",
    "          Dropout(0.1),\n",
    "          Dense(3, activation='relu')\n",
    "        ])\n",
    "        self.decoder = Sequential([\n",
    "          Dense(5, activation='relu'),\n",
    "          Dropout(0.1),\n",
    "          Dense(10,  activation='relu'),\n",
    "          Dropout(0.1),\n",
    "          Dense(output_units, activation='sigmoid')\n",
    "        ])\n",
    "  \n",
    "    def call(self, inputs):\n",
    "        encoded = self.encoder(inputs)\n",
    "        decoded = self.decoder(encoded)\n",
    "        return decoded"
   ]
  },
  {
   "cell_type": "code",
   "execution_count": null,
   "id": "6fcd07a7-ca20-4e5d-ba11-8569dd0d724f",
   "metadata": {},
   "outputs": [],
   "source": [
    "def find_threshold(model, x_train_scaled):\n",
    "    reconstructions = model.predict(x_train_scaled)\n",
    "    reconstruction_errors = tf.keras.losses.msle(reconstructions, x_train_scaled)\n",
    "    threshold = np.mean(reconstruction_errors.numpy()) + np.std(reconstruction_errors.numpy())\n",
    "    return threshold\n",
    "\n",
    "def get_predictions(model, x_train_scaled, threshold):\n",
    "    predictions = model.predict(x_train_scaled)\n",
    "    errors = tf.keras.losses.msle(predictions, x_train_scaled)\n",
    "    anomaly_mask = pd.Series(errors) > threshold\n",
    "    preds = anomaly_mask.map(lambda x: 1.0 if x == True else 0.0)\n",
    "    return preds, errors"
   ]
  },
  {
   "cell_type": "code",
   "execution_count": null,
   "id": "69697cbe-fe30-4430-a639-429e0a9823ad",
   "metadata": {},
   "outputs": [],
   "source": [
    "start = time.process_time()\n",
    "\n",
    "model = AutoEncoder(output_units=x_train_scaled.shape[1])\n",
    "\n",
    "model.compile(loss='msle', metrics=['mse'], optimizer='adam')\n",
    "\n",
    "history = model.fit(\n",
    "    x_train_scaled,\n",
    "    x_train_scaled,\n",
    "    epochs=20,\n",
    "    batch_size=64,\n",
    ")\n",
    "\n",
    "threshold = find_threshold(model, x_train_scaled)\n",
    "\n",
    "predictions, scores = get_predictions(model, x_train_scaled, threshold)\n",
    "\n",
    "end = time.process_time()\n",
    "deep_autoencoders_time = end - start\n",
    "print(end - start)"
   ]
  },
  {
   "cell_type": "code",
   "execution_count": null,
   "id": "300cad4f-bfcb-4acf-bcd2-b523fa40e2be",
   "metadata": {},
   "outputs": [],
   "source": [
    "confusion_matrix(target, predictions)"
   ]
  },
  {
   "cell_type": "code",
   "execution_count": null,
   "id": "816b705e-8107-4027-ab81-fabf78ec9cb1",
   "metadata": {},
   "outputs": [],
   "source": [
    "fpr, tpr, _ = metrics.roc_curve(target, scores)\n",
    "deep_autoencoders_auc = metrics.auc(fpr, tpr)\n",
    "metrics.auc(fpr, tpr)"
   ]
  },
  {
   "cell_type": "code",
   "execution_count": null,
   "id": "f7bff568",
   "metadata": {},
   "outputs": [],
   "source": [
    "deep_autoencoders_report = classification_report(target, predictions, target_names = ['0','1'], output_dict = True)\n",
    "print(classification_report(target, predictions, target_names = ['0','1']))"
   ]
  },
  {
   "cell_type": "code",
   "execution_count": null,
   "id": "5cf7deb0-7914-46e2-ad32-7b9b027f5528",
   "metadata": {},
   "outputs": [],
   "source": [
    "precision, recall, thresholds = precision_recall_curve(target, scores)\n",
    "deep_ae_auc_precision_recall = metrics.auc(recall, precision)\n",
    "print(deep_ae_auc_precision_recall)"
   ]
  },
  {
   "cell_type": "markdown",
   "id": "73a3f4ff-c1ea-463d-8be3-e1aef1b5164e",
   "metadata": {
    "jp-MarkdownHeadingCollapsed": true,
    "tags": []
   },
   "source": [
    "### Autoencoders"
   ]
  },
  {
   "cell_type": "markdown",
   "id": "668f3acd",
   "metadata": {},
   "source": [
    "Source: https://www.analyticsvidhya.com/blog/2021/05/anomaly-detection-using-autoencoders-a-walk-through-in-python/"
   ]
  },
  {
   "cell_type": "code",
   "execution_count": null,
   "id": "41f451b4-8150-4877-908b-f5653435fb79",
   "metadata": {},
   "outputs": [],
   "source": [
    "features = data.drop(columns = ['y'])\n",
    "target = data['y']"
   ]
  },
  {
   "cell_type": "code",
   "execution_count": null,
   "id": "a27406c9-7fbf-4593-a824-497891bb094f",
   "metadata": {},
   "outputs": [],
   "source": [
    "min_max_scaler = MinMaxScaler(feature_range=(0, 1))\n",
    "x_train_scaled = min_max_scaler.fit_transform(features.copy())"
   ]
  },
  {
   "cell_type": "code",
   "execution_count": null,
   "id": "579fa1e6-ca83-4c7f-ab3e-f0ac249bf700",
   "metadata": {},
   "outputs": [],
   "source": [
    "class AutoEncoder(Model):\n",
    "\n",
    "    def __init__(self, output_units):\n",
    "        super().__init__()\n",
    "        self.encoder = Sequential([\n",
    "          Dense(10,input_dim = output_units, activation='relu'),\n",
    "          Dropout(0.1),\n",
    "        ])\n",
    "        self.decoder = Sequential([\n",
    "          Dense(output_units, activation='sigmoid')\n",
    "        ])\n",
    "  \n",
    "    def call(self, inputs):\n",
    "        encoded = self.encoder(inputs)\n",
    "        decoded = self.decoder(encoded)\n",
    "        return decoded"
   ]
  },
  {
   "cell_type": "code",
   "execution_count": null,
   "id": "9cd4271e-fecb-4652-bc07-03265f5acfa0",
   "metadata": {},
   "outputs": [],
   "source": [
    "def find_threshold(model, x_train_scaled):\n",
    "    reconstructions = model.predict(x_train_scaled)\n",
    "    reconstruction_errors = tf.keras.losses.msle(reconstructions, x_train_scaled)\n",
    "    threshold = np.mean(reconstruction_errors.numpy()) + np.std(reconstruction_errors.numpy())\n",
    "    return threshold\n",
    "\n",
    "def get_predictions(model, x_train_scaled, threshold):\n",
    "    predictions = model.predict(x_train_scaled)\n",
    "    errors = tf.keras.losses.msle(predictions, x_train_scaled)\n",
    "    anomaly_mask = pd.Series(errors) > threshold\n",
    "    preds = anomaly_mask.map(lambda x: 1.0 if x == True else 0.0)\n",
    "    return preds, errors"
   ]
  },
  {
   "cell_type": "code",
   "execution_count": null,
   "id": "07b180aa-f192-47b8-b0bc-bf0e5192c3fe",
   "metadata": {},
   "outputs": [],
   "source": [
    "start = time.process_time()\n",
    "\n",
    "model = AutoEncoder(output_units=x_train_scaled.shape[1])\n",
    "\n",
    "model.compile(loss='msle', metrics=['mse'], optimizer='adam')\n",
    "\n",
    "history = model.fit(\n",
    "    x_train_scaled,\n",
    "    x_train_scaled,\n",
    "    epochs=20,\n",
    "    batch_size=64,\n",
    ")\n",
    "\n",
    "threshold = find_threshold(model, x_train_scaled)\n",
    "\n",
    "predictions, scores = get_predictions(model, x_train_scaled, threshold)\n",
    "\n",
    "end = time.process_time()\n",
    "autoencoders_time = end - start\n",
    "print(end - start)"
   ]
  },
  {
   "cell_type": "code",
   "execution_count": null,
   "id": "aee6d65b-2baa-4274-a341-2f175aab220d",
   "metadata": {},
   "outputs": [],
   "source": [
    "confusion_matrix(target, predictions)"
   ]
  },
  {
   "cell_type": "code",
   "execution_count": null,
   "id": "813686fb-7ba7-46e3-95a3-0aab6507320f",
   "metadata": {},
   "outputs": [],
   "source": [
    "fpr, tpr, _ = metrics.roc_curve(target, scores)\n",
    "autoencoders_auc = metrics.auc(fpr, tpr)\n",
    "metrics.auc(fpr, tpr)"
   ]
  },
  {
   "cell_type": "code",
   "execution_count": null,
   "id": "09d45e43-92d8-49e9-ab0c-664d90153822",
   "metadata": {},
   "outputs": [],
   "source": [
    "autoencoders_report = classification_report(target, predictions, target_names = ['0','1'], output_dict = True)\n",
    "print(classification_report(target, predictions, target_names = ['0','1']))"
   ]
  },
  {
   "cell_type": "code",
   "execution_count": null,
   "id": "9fb03938",
   "metadata": {},
   "outputs": [],
   "source": [
    "precision, recall, thresholds = precision_recall_curve(target, scores)\n",
    "ae_auc_precision_recall = metrics.auc(recall, precision)\n",
    "print(ae_auc_precision_recall)"
   ]
  },
  {
   "cell_type": "markdown",
   "id": "a8188cba-ae1f-4613-b5cb-40c1637c8d91",
   "metadata": {
    "jp-MarkdownHeadingCollapsed": true,
    "tags": []
   },
   "source": [
    "### One-Class SVM rbf"
   ]
  },
  {
   "cell_type": "code",
   "execution_count": null,
   "id": "ef45b0e8-37b6-46e8-bf29-a366c043f42f",
   "metadata": {},
   "outputs": [],
   "source": [
    "features = data.drop(columns = ['y'])\n",
    "target = data['y']"
   ]
  },
  {
   "cell_type": "code",
   "execution_count": null,
   "id": "e8ccd0d9-7e68-46e5-9ad7-106f9cc453b9",
   "metadata": {},
   "outputs": [],
   "source": [
    "min_max_scaler = MinMaxScaler(feature_range=(0, 1))\n",
    "x_train_scaled = min_max_scaler.fit_transform(features.copy())"
   ]
  },
  {
   "cell_type": "code",
   "execution_count": null,
   "id": "db3f7cc0-9528-4314-94ca-c1a9ef1dce51",
   "metadata": {},
   "outputs": [],
   "source": [
    "start = time.process_time()\n",
    "\n",
    "model = OneClassSVM(gamma='scale', nu=0.1)\n",
    "model.fit(x_train_scaled)\n",
    "yhat = model.predict(x_train_scaled)\n",
    "y_scores = -model.decision_function(x_train_scaled)\n",
    "\n",
    "end = time.process_time()\n",
    "rbf_oc_svm_time = end - start\n",
    "print(end - start)"
   ]
  },
  {
   "cell_type": "code",
   "execution_count": null,
   "id": "90a1b48e-d3d3-4cc0-8f41-15f2e3c49fe1",
   "metadata": {},
   "outputs": [],
   "source": [
    "predictions = pd.DataFrame(yhat, columns = ['y_pred']).apply(def_outlier, axis = 1)"
   ]
  },
  {
   "cell_type": "code",
   "execution_count": null,
   "id": "ef5ec140-12d5-48a1-80c3-7d32505aee9b",
   "metadata": {},
   "outputs": [],
   "source": [
    "confusion_matrix(target, predictions)"
   ]
  },
  {
   "cell_type": "code",
   "execution_count": null,
   "id": "f67a17da-165d-40d9-9d73-648b27d8e78c",
   "metadata": {},
   "outputs": [],
   "source": [
    "fpr, tpr, _ = metrics.roc_curve(target, y_scores)\n",
    "rbf_oc_svm_auc = metrics.auc(fpr, tpr)\n",
    "metrics.auc(fpr, tpr)"
   ]
  },
  {
   "cell_type": "code",
   "execution_count": null,
   "id": "69cd0e83-f371-4a4d-8fec-60e36c86cd57",
   "metadata": {},
   "outputs": [],
   "source": [
    "rbf_oc_svm_report = classification_report(target, predictions, target_names = ['0','1'], output_dict = True)\n",
    "print(classification_report(target, predictions, target_names = ['0','1']))"
   ]
  },
  {
   "cell_type": "code",
   "execution_count": null,
   "id": "0fedc47c-9291-412e-aae3-02768d40e729",
   "metadata": {},
   "outputs": [],
   "source": [
    "precision, recall, thresholds = precision_recall_curve(target, y_scores)\n",
    "ocsvm_rbf_auc_precision_recall = metrics.auc(recall, precision)\n",
    "print(ocsvm_rbf_auc_precision_recall)"
   ]
  },
  {
   "cell_type": "markdown",
   "id": "80a012d0-fd8a-49e4-b739-dffa62841604",
   "metadata": {
    "jp-MarkdownHeadingCollapsed": true,
    "tags": []
   },
   "source": [
    "### One-Class SVM linear"
   ]
  },
  {
   "cell_type": "code",
   "execution_count": null,
   "id": "a0e573da-98f7-41b7-b27f-f0c28788e084",
   "metadata": {},
   "outputs": [],
   "source": [
    "features = data.drop(columns = ['y'])\n",
    "target = data['y']"
   ]
  },
  {
   "cell_type": "code",
   "execution_count": null,
   "id": "9a190797-48ca-4c10-becf-58d90832aa20",
   "metadata": {},
   "outputs": [],
   "source": [
    "min_max_scaler = MinMaxScaler(feature_range=(0, 1))\n",
    "x_train_scaled = min_max_scaler.fit_transform(features.copy())"
   ]
  },
  {
   "cell_type": "code",
   "execution_count": null,
   "id": "ad66126c-0675-4d19-95cb-efe0955ce7c5",
   "metadata": {},
   "outputs": [],
   "source": [
    "start = time.process_time()\n",
    "\n",
    "model = OneClassSVM(kernel = 'linear', nu=0.1)\n",
    "model.fit(x_train_scaled)\n",
    "yhat = model.predict(x_train_scaled)\n",
    "y_scores = -model.decision_function(x_train_scaled)\n",
    "\n",
    "end = time.process_time()\n",
    "lin_oc_svm_time = end - start\n",
    "print(end - start)"
   ]
  },
  {
   "cell_type": "code",
   "execution_count": null,
   "id": "7f5956b5-8090-416f-9176-e0ee97b41e47",
   "metadata": {},
   "outputs": [],
   "source": [
    "predictions = pd.DataFrame(yhat, columns = ['y_pred']).apply(def_outlier, axis = 1)"
   ]
  },
  {
   "cell_type": "code",
   "execution_count": null,
   "id": "a835bbdf-bef6-4fcc-b023-5136896f26f4",
   "metadata": {},
   "outputs": [],
   "source": [
    "confusion_matrix(target, predictions)"
   ]
  },
  {
   "cell_type": "code",
   "execution_count": null,
   "id": "8e4e7874-8d71-460a-93a9-f3ddf990408b",
   "metadata": {},
   "outputs": [],
   "source": [
    "fpr, tpr, _ = metrics.roc_curve(target, y_scores)\n",
    "lin_oc_svm_auc = metrics.auc(fpr, tpr)\n",
    "metrics.auc(fpr, tpr)"
   ]
  },
  {
   "cell_type": "code",
   "execution_count": null,
   "id": "8f1460cb-7f0d-46f3-a020-edc4121653d8",
   "metadata": {},
   "outputs": [],
   "source": [
    "lin_oc_svm_report = classification_report(target, predictions, target_names = ['0','1'], output_dict = True)\n",
    "print(classification_report(target, predictions, target_names = ['0','1']))"
   ]
  },
  {
   "cell_type": "code",
   "execution_count": null,
   "id": "0c83f3fc-2def-49f8-9e52-0d2ae62496b4",
   "metadata": {},
   "outputs": [],
   "source": [
    "precision, recall, thresholds = precision_recall_curve(target, y_scores)\n",
    "ocsvm_lin_auc_precision_recall = metrics.auc(recall, precision)\n",
    "print(ocsvm_lin_auc_precision_recall)"
   ]
  },
  {
   "cell_type": "markdown",
   "id": "4c9592f7-5eac-4dd3-a9d0-664be84cfc70",
   "metadata": {
    "jp-MarkdownHeadingCollapsed": true,
    "tags": []
   },
   "source": [
    "### Performance"
   ]
  },
  {
   "cell_type": "code",
   "execution_count": null,
   "id": "b40e85e2-8c5c-4ac5-93f3-54ada04d4e20",
   "metadata": {},
   "outputs": [],
   "source": [
    "cardio_performance = pd.DataFrame(columns = ['method','f1-score','sensitivity',\n",
    "                                             'precision','Time','AUC','AU precision-recall curve' ])"
   ]
  },
  {
   "cell_type": "code",
   "execution_count": null,
   "id": "f0194dfb-d535-4644-9c4d-3979abefc5c3",
   "metadata": {},
   "outputs": [],
   "source": [
    "iforest_performance = {'method':'iForest',\n",
    "               'f1-score':iforest_report['1']['f1-score'], \n",
    "               'sensitivity':iforest_report['1']['recall'],\n",
    "                'precision':iforest_report['1']['precision'],\n",
    "              'Time':iforest_time,\n",
    "              'AUC':iforest_auc,\n",
    "                      'AU precision-recall curve':iforest_auc_precision_recall}\n",
    "lof_performance = {'method':'LOF',\n",
    "               'f1-score':lof_report['1']['f1-score'], \n",
    "               'sensitivity':lof_report['1']['recall'],\n",
    "               'precision':lof_report['1']['precision'],    \n",
    "              'Time':lof_time,\n",
    "              'AUC':lof_auc,\n",
    "                   'AU precision-recall curve':lof_auc_precision_recall}\n",
    "dbscan_performance = { 'method':'DBSCAN',\n",
    "               'f1-score':dbscan_report['1']['f1-score'], \n",
    "               'sensitivity':dbscan_report['1']['recall'],\n",
    "               'precision':dbscan_report['1']['precision'],       \n",
    "              'Time':dbscan_time,\n",
    "              'AUC':dbscan_auc,\n",
    "                     'AU precision-recall curve':dbscan_auc_precision_recall}\n",
    "cade_performance = { 'method':'CADE',\n",
    "               'f1-score':cade_report['1']['f1-score'], \n",
    "               'sensitivity':cade_report['1']['recall'],\n",
    "               'precision':cade_report['1']['precision'],     \n",
    "              'Time':cade_time,\n",
    "              'AUC':cade_auc,\n",
    "                   'AU precision-recall curve':cade_auc_precision_recall}\n",
    "deep_autoencoders_performance = {'method':'Deep Autoencoders',\n",
    "               'f1-score':deep_autoencoders_report['1']['f1-score'], \n",
    "               'sensitivity':deep_autoencoders_report['1']['recall'],\n",
    "               'precision':deep_autoencoders_report['1']['precision'],                 \n",
    "              'Time':deep_autoencoders_time,\n",
    "              'AUC':deep_autoencoders_auc,\n",
    "                                'AU precision-recall curve':deep_ae_auc_precision_recall}\n",
    "autoencoders_performance = {'method':'Autoencoders',\n",
    "               'f1-score':autoencoders_report['1']['f1-score'], \n",
    "               'sensitivity':autoencoders_report['1']['recall'],\n",
    "               'precision':autoencoders_report['1']['precision'],             \n",
    "              'Time':autoencoders_time,\n",
    "              'AUC':autoencoders_auc,\n",
    "                           'AU precision-recall curve':ae_auc_precision_recall}\n",
    "rbf_oc_svm_performance = {'method':'OC-SVM rbf',\n",
    "               'f1-score':rbf_oc_svm_report['1']['f1-score'], \n",
    "               'sensitivity':rbf_oc_svm_report['1']['recall'],\n",
    "               'precision':rbf_oc_svm_report['1']['precision'],         \n",
    "              'Time':rbf_oc_svm_time,\n",
    "              'AUC':rbf_oc_svm_auc,\n",
    "                         'AU precision-recall curve':ocsvm_rbf_auc_precision_recall}\n",
    "lin_oc_svm_performance = {'method':'OC-SVM linear',\n",
    "               'f1-score':lin_oc_svm_report['1']['f1-score'], \n",
    "               'sensitivity':lin_oc_svm_report['1']['recall'],\n",
    "               'precision':lin_oc_svm_report['1']['precision'],           \n",
    "              'Time':lin_oc_svm_time,\n",
    "              'AUC':lin_oc_svm_auc,\n",
    "                         'AU precision-recall curve':ocsvm_lin_auc_precision_recall}"
   ]
  },
  {
   "cell_type": "code",
   "execution_count": null,
   "id": "19269986-4bf8-46a5-a160-e38090a450de",
   "metadata": {},
   "outputs": [],
   "source": [
    "cardio_performance = cardio_performance.append(iforest_performance, ignore_index = True)\n",
    "cardio_performance = cardio_performance.append(lof_performance, ignore_index = True)\n",
    "cardio_performance = cardio_performance.append(dbscan_performance, ignore_index = True)\n",
    "cardio_performance = cardio_performance.append(cade_performance, ignore_index = True)\n",
    "cardio_performance = cardio_performance.append(deep_autoencoders_performance, ignore_index = True)\n",
    "cardio_performance = cardio_performance.append(autoencoders_performance, ignore_index = True)\n",
    "cardio_performance = cardio_performance.append(rbf_oc_svm_performance, ignore_index = True)\n",
    "cardio_performance = cardio_performance.append(lin_oc_svm_performance, ignore_index = True)"
   ]
  },
  {
   "cell_type": "markdown",
   "id": "1563ee67-06dc-4374-b602-f4d623f6ac25",
   "metadata": {
    "tags": []
   },
   "source": [
    "## ForestCover"
   ]
  },
  {
   "cell_type": "markdown",
   "id": "702237c7",
   "metadata": {},
   "source": [
    "**Dataset source**: http://odds.cs.stonybrook.edu/forestcovercovertype-dataset/ (data is transformed from .mat to .csv format)\n",
    "\n",
    "Shebuti Rayana (2016).  ODDS Library [http://odds.cs.stonybrook.edu]. Stony Brook, NY: Stony Brook University, Department of Computer Science.\n",
    "\n",
    "**Additional sources**:\n",
    "\n",
    "Liu, Fei Tony, Kai Ming Ting, and Zhi-Hua Zhou. “Isolation forest.” 2008 Eighth IEEE International Conference on Data Mining. IEEE, 2008.\n",
    "\n",
    "K. M. Ting, J. T. S. Chuan, and F. T. Liu. “Mass: A New Ranking Measure for Anomaly Detection.“, IEEE Transactions on Knowledge and Data Engineering, 2009.\n",
    "\n",
    "Kai Ming Ting, Guang-Tong Zhou, Fei Tony Liu & Tan Swee Chuan. (2010). Mass Estimation and Its Applications. Proceedings of The 16th ACM SIGKDD Conference on Knowledge Discovery and Data Mining 2010. pp. 989-998.\n",
    "\n",
    "Swee Chuan Tan, Kai Ming Ting & Fei Tony Liu. (2011). Fast Anomaly Detection for Streaming Data. Proceedings of the International Joint Conference on Artificial Intelligence 2011. pp.1151-1156."
   ]
  },
  {
   "cell_type": "code",
   "execution_count": null,
   "id": "bff11aeb-e777-439f-a989-dbdd142d1027",
   "metadata": {},
   "outputs": [],
   "source": [
    "data = pd.read_csv('./ForestCover.csv')"
   ]
  },
  {
   "cell_type": "code",
   "execution_count": null,
   "id": "bc232f7a-8630-46bf-b1a0-b8b8dbee4688",
   "metadata": {},
   "outputs": [],
   "source": [
    "data.shape"
   ]
  },
  {
   "cell_type": "code",
   "execution_count": null,
   "id": "725ab3d0-b18f-4f66-8201-4d1cd3423964",
   "metadata": {},
   "outputs": [],
   "source": [
    "pd.pivot_table(data,\n",
    "             values = 'Col2',\n",
    "               index = 'y', \n",
    "              aggfunc = 'count')"
   ]
  },
  {
   "cell_type": "code",
   "execution_count": null,
   "id": "ba2e2eaf-a650-494b-ba31-fe2afc4c7d42",
   "metadata": {},
   "outputs": [],
   "source": [
    "data.head()"
   ]
  },
  {
   "cell_type": "markdown",
   "id": "f2426c59-8f4c-493e-b301-6a8ad703b5ef",
   "metadata": {
    "jp-MarkdownHeadingCollapsed": true,
    "tags": []
   },
   "source": [
    "### iForest"
   ]
  },
  {
   "cell_type": "code",
   "execution_count": null,
   "id": "37f78cfd-d647-4412-810c-2df91e587f44",
   "metadata": {},
   "outputs": [],
   "source": [
    "train_data = data"
   ]
  },
  {
   "cell_type": "code",
   "execution_count": null,
   "id": "6806b748-3c3b-4a48-b639-1909c1108ee7",
   "metadata": {},
   "outputs": [],
   "source": [
    "start = time.process_time()\n",
    "rng = np.random.RandomState(42)\n",
    "clf = IsolationForest(max_samples=256, random_state=rng, n_estimators=100)\n",
    "clf.fit(train_data.loc[:, train_data.columns != 'y'])\n",
    "y_pred = clf.predict(train_data.loc[:, train_data.columns != 'y'])\n",
    "y_scores = clf.score_samples(train_data.loc[:, train_data.columns != 'y'])\n",
    "end = time.process_time()\n",
    "iforest_time = end - start\n",
    "print(end - start)"
   ]
  },
  {
   "cell_type": "code",
   "execution_count": null,
   "id": "55567421-aa15-403c-abb8-cf59a7454038",
   "metadata": {},
   "outputs": [],
   "source": [
    "train_data['y_pred'] = y_pred\n",
    "train_data['prediction'] = train_data.apply(def_outlier, axis = 1)\n",
    "train_data['y_scores'] = -y_scores "
   ]
  },
  {
   "cell_type": "code",
   "execution_count": null,
   "id": "0cdcddbb-dd2d-4c87-ab5d-e54d78cff364",
   "metadata": {},
   "outputs": [],
   "source": [
    "confusion_matrix(train_data['y'], train_data['prediction'])"
   ]
  },
  {
   "cell_type": "code",
   "execution_count": null,
   "id": "43136a6c-5eea-477a-92e1-3474dbdcb33e",
   "metadata": {},
   "outputs": [],
   "source": [
    "fpr, tpr, _ = metrics.roc_curve(train_data['y'], train_data['y_scores'])\n",
    "iforest_auc = metrics.auc(fpr, tpr)\n",
    "metrics.auc(fpr, tpr)"
   ]
  },
  {
   "cell_type": "code",
   "execution_count": null,
   "id": "c9b7296b",
   "metadata": {},
   "outputs": [],
   "source": [
    "iforest_report = classification_report(train_data['y'], train_data['prediction'], target_names = ['0','1'], output_dict = True)\n",
    "print(classification_report(train_data['y'], train_data['prediction'], target_names = ['0','1']))"
   ]
  },
  {
   "cell_type": "code",
   "execution_count": null,
   "id": "5f43e41f",
   "metadata": {},
   "outputs": [],
   "source": [
    "precision, recall, thresholds = precision_recall_curve(train_data['y'], train_data['y_scores'])\n",
    "iforest_auc_precision_recall = metrics.auc(recall, precision)\n",
    "print(iforest_auc_precision_recall)"
   ]
  },
  {
   "cell_type": "markdown",
   "id": "f47e771e-2ab7-4fc5-bdef-1a58d22933dc",
   "metadata": {
    "jp-MarkdownHeadingCollapsed": true,
    "tags": []
   },
   "source": [
    "### LOF"
   ]
  },
  {
   "cell_type": "code",
   "execution_count": null,
   "id": "33f7d6b3-01eb-4557-8c59-2bfc2cb9f364",
   "metadata": {},
   "outputs": [],
   "source": [
    "min_max_scaler = MinMaxScaler(feature_range=(0, 1))\n",
    "train_data = min_max_scaler.fit_transform(data.copy())\n",
    "train_data = pd.DataFrame(train_data)\n",
    "train_data.columns = data.columns"
   ]
  },
  {
   "cell_type": "code",
   "execution_count": null,
   "id": "de426fb1-d43b-44d7-9068-5b8793c95d81",
   "metadata": {},
   "outputs": [],
   "source": [
    "start = time.process_time()\n",
    "lof = LocalOutlierFactor(n_neighbors=2860, contamination=.1)\n",
    "y_pred = lof.fit_predict(train_data.loc[:, train_data.columns != 'y'])\n",
    "y_scores = lof.negative_outlier_factor_\n",
    "end = time.process_time()\n",
    "lof_time = end - start\n",
    "print(end - start)"
   ]
  },
  {
   "cell_type": "code",
   "execution_count": null,
   "id": "8a55eeea-2bcb-4fec-9a7d-67bf5a45be93",
   "metadata": {},
   "outputs": [],
   "source": [
    "train_data['y_pred'] = y_pred\n",
    "train_data['prediction'] = train_data.apply(def_outlier, axis = 1)\n",
    "train_data['y_scores'] = -y_scores"
   ]
  },
  {
   "cell_type": "code",
   "execution_count": null,
   "id": "02f52b21-7740-4372-bb3f-57b5cce7e8e9",
   "metadata": {},
   "outputs": [],
   "source": [
    "confusion_matrix(train_data['y'], train_data['prediction'])"
   ]
  },
  {
   "cell_type": "code",
   "execution_count": null,
   "id": "71530956-3efd-4c04-9c0f-73ea84be1e3a",
   "metadata": {},
   "outputs": [],
   "source": [
    "fpr, tpr, _ = metrics.roc_curve(train_data['y'], train_data['y_scores'])\n",
    "lof_auc = metrics.auc(fpr, tpr)\n",
    "metrics.auc(fpr, tpr)"
   ]
  },
  {
   "cell_type": "code",
   "execution_count": null,
   "id": "da9b8be5-4380-4597-bbb1-68fde39e08bf",
   "metadata": {},
   "outputs": [],
   "source": [
    "lof_report = classification_report(train_data['y'], train_data['prediction'], target_names = ['0','1'], output_dict = True)\n",
    "print(classification_report(train_data['y'], train_data['prediction'], target_names = ['0','1']))"
   ]
  },
  {
   "cell_type": "code",
   "execution_count": null,
   "id": "8108ebd6",
   "metadata": {},
   "outputs": [],
   "source": [
    "precision, recall, thresholds = precision_recall_curve(train_data['y'], train_data['y_scores'])\n",
    "lof_auc_precision_recall = metrics.auc(recall, precision)\n",
    "print(lof_auc_precision_recall)"
   ]
  },
  {
   "cell_type": "markdown",
   "id": "0439acfb-d401-4325-885a-b15317409c36",
   "metadata": {
    "jp-MarkdownHeadingCollapsed": true,
    "tags": []
   },
   "source": [
    "### DBSCAN"
   ]
  },
  {
   "cell_type": "code",
   "execution_count": null,
   "id": "86d62722-73f5-4e05-9566-1a4e7ea2035b",
   "metadata": {},
   "outputs": [],
   "source": [
    "min_max_scaler = MinMaxScaler(feature_range=(0, 1))\n",
    "train_data = min_max_scaler.fit_transform(data.copy())\n",
    "train_data = pd.DataFrame(train_data)\n",
    "train_data.columns = data.columns"
   ]
  },
  {
   "cell_type": "code",
   "execution_count": null,
   "id": "6e9bcc3e-fddc-4cc7-bbf0-b4a392b98c51",
   "metadata": {},
   "outputs": [],
   "source": [
    "data_dbscan = train_data.sample(frac=0.1)"
   ]
  },
  {
   "cell_type": "code",
   "execution_count": null,
   "id": "41375f9f-50f1-4043-b03a-35df0f014ef3",
   "metadata": {},
   "outputs": [],
   "source": [
    "dist = dbscan_tuner(data_dbscan ,19)"
   ]
  },
  {
   "cell_type": "code",
   "execution_count": null,
   "id": "2bae9935-6105-4c4d-a5ae-79f660c4fe97",
   "metadata": {},
   "outputs": [],
   "source": [
    "start = time.process_time()\n",
    "dbscan = DBSCAN(eps = 0.1, min_samples = 20)\n",
    "clusters = dbscan.fit_predict(train_data.loc[:, train_data.columns != 'y'])\n",
    "end = time.process_time()\n",
    "dbscan_time = end - start\n",
    "print(end - start)"
   ]
  },
  {
   "cell_type": "code",
   "execution_count": null,
   "id": "17bb0f86-47ae-4748-a9b3-7a3e3bbb5e32",
   "metadata": {},
   "outputs": [],
   "source": [
    "train_data['y_pred'] = clusters"
   ]
  },
  {
   "cell_type": "code",
   "execution_count": null,
   "id": "e2bdc626-a613-4bb2-9388-352acbf4a119",
   "metadata": {},
   "outputs": [],
   "source": [
    "train_data['prediction'] = train_data.apply(def_outlier, axis = 1)"
   ]
  },
  {
   "cell_type": "code",
   "execution_count": null,
   "id": "b2feb8a9",
   "metadata": {},
   "outputs": [],
   "source": [
    "original_columns = data.columns.to_list()\n",
    "original_columns.remove('y')\n",
    "\n",
    "data_w_score = pd.DataFrame(columns = train_data.columns.to_list())\n",
    "data_w_score['score'] = pd.NaT\n",
    "for i in set(clusters):\n",
    "    if i == -1:\n",
    "        continue\n",
    "    score_data = train_data[train_data['y_pred'] == i].copy()\n",
    "    center = score_data[original_columns].mean().to_list()\n",
    "    score_data['score'] = score_data.apply(lambda x : distance.euclidean(x[original_columns].to_list(), center),1)\n",
    "    data_w_score = data_w_score.append(score_data.copy(), ignore_index = True)\n",
    "\n",
    "anomalies_data = train_data[train_data['y_pred'] == -1].copy()\n",
    "anomalies_data['score'] = ''\n",
    "cluster_centers = pd.pivot_table(train_data,\n",
    "              index = 'y_pred',\n",
    "              aggfunc = 'mean')"
   ]
  },
  {
   "cell_type": "code",
   "execution_count": null,
   "id": "9b36159f",
   "metadata": {},
   "outputs": [],
   "source": [
    "for i in range(len(anomalies_data)):\n",
    "    anomalies_data['score'].iloc[i] = np.min(cluster_centers[cluster_centers.index != -1].apply(lambda x : \n",
    "                                                                                                distance.euclidean(x[original_columns].to_list(), anomalies_data[original_columns].iloc[i]),1))\n",
    "\n",
    "data_for_auprc = pd.concat([data_w_score, anomalies_data])"
   ]
  },
  {
   "cell_type": "code",
   "execution_count": null,
   "id": "08edefc3-ae40-4139-b572-a8c145afb6ff",
   "metadata": {},
   "outputs": [],
   "source": [
    "confusion_matrix(train_data['y'], train_data['prediction'])"
   ]
  },
  {
   "cell_type": "code",
   "execution_count": null,
   "id": "0414736e-d41a-450f-bae9-f2e8b81f01ca",
   "metadata": {},
   "outputs": [],
   "source": [
    "fpr, tpr, _ = metrics.roc_curve(data_for_auprc['y'], data_for_auprc['score'])\n",
    "dbscan_auc = metrics.auc(fpr, tpr)\n",
    "metrics.auc(fpr, tpr)"
   ]
  },
  {
   "cell_type": "code",
   "execution_count": null,
   "id": "2e17c70a-b122-4354-8a10-7aef21398f3e",
   "metadata": {
    "scrolled": true
   },
   "outputs": [],
   "source": [
    "dbscan_report = classification_report(train_data['y'], train_data['prediction'], target_names = ['0','1'], output_dict = True)\n",
    "print(classification_report(train_data['y'], train_data['prediction'], target_names = ['0','1']))"
   ]
  },
  {
   "cell_type": "code",
   "execution_count": null,
   "id": "9e28e0f2",
   "metadata": {},
   "outputs": [],
   "source": [
    "precision, recall, thresholds = precision_recall_curve(data_for_auprc['y'], data_for_auprc['score'])\n",
    "dbscan_auc_precision_recall = metrics.auc(recall, precision)\n",
    "print(dbscan_auc_precision_recall)"
   ]
  },
  {
   "cell_type": "markdown",
   "id": "e9dde6c0",
   "metadata": {
    "jp-MarkdownHeadingCollapsed": true,
    "tags": []
   },
   "source": [
    "### CADE"
   ]
  },
  {
   "cell_type": "markdown",
   "id": "3ce92913",
   "metadata": {},
   "source": [
    "Source: Aric LaBarr, webinar \"Modern Approaches To Anomaly Detection\", November 2, 2021"
   ]
  },
  {
   "cell_type": "code",
   "execution_count": null,
   "id": "933051d2",
   "metadata": {},
   "outputs": [],
   "source": [
    "train_data = data.copy()"
   ]
  },
  {
   "cell_type": "code",
   "execution_count": null,
   "id": "5e765541",
   "metadata": {},
   "outputs": [],
   "source": [
    "fake = pd.DataFrame()\n",
    "data_for_fake = train_data.loc[:, train_data.columns != 'y']\n",
    "data_for_fake['Target'] = 0\n",
    "for i in data_for_fake.columns:\n",
    "    fake[i] = np.random.uniform(np.min(data_for_fake[i]), np.max(data_for_fake[i]), size = len(data_for_fake[i]))\n",
    "fake['Target'] = 1"
   ]
  },
  {
   "cell_type": "code",
   "execution_count": null,
   "id": "d24c90fd",
   "metadata": {},
   "outputs": [],
   "source": [
    "data_combined = pd.concat([data_for_fake, fake], axis = 0)"
   ]
  },
  {
   "cell_type": "code",
   "execution_count": null,
   "id": "37725903",
   "metadata": {},
   "outputs": [],
   "source": [
    "start = time.process_time()\n",
    "model = RandomForestClassifier(n_estimators = 100)\n",
    "model.fit(data_combined.loc[:, data_combined.columns != 'Target'],data_combined.loc[:, data_combined.columns == 'Target']['Target'] )\n",
    "train_data['Target'] = model.predict_proba(train_data.loc[:, train_data.columns != 'y'])[:,1]\n",
    "end = time.process_time()\n",
    "cade_time = end - start\n",
    "print(end - start)"
   ]
  },
  {
   "cell_type": "code",
   "execution_count": null,
   "id": "38157ec6",
   "metadata": {},
   "outputs": [],
   "source": [
    "auc = {}\n",
    "for i in np.arange(0,0.55,0.05):\n",
    "    train_data['prediction'] = train_data.apply(def_outlier_cade, args=(i,), axis = 1)\n",
    "    fpr, tpr, _ = metrics.roc_curve(train_data['y'], train_data['prediction'])\n",
    "    auc[i] = metrics.auc(fpr, tpr)\n",
    "max_key = max(auc, key=auc.get)"
   ]
  },
  {
   "cell_type": "code",
   "execution_count": null,
   "id": "4d229cb2",
   "metadata": {},
   "outputs": [],
   "source": [
    "train_data['prediction'] = train_data.apply(def_outlier_cade, args = (max_key,), axis = 1)"
   ]
  },
  {
   "cell_type": "code",
   "execution_count": null,
   "id": "69a25256",
   "metadata": {},
   "outputs": [],
   "source": [
    "confusion_matrix(train_data['y'], train_data['prediction'])"
   ]
  },
  {
   "cell_type": "code",
   "execution_count": null,
   "id": "dacd66b8",
   "metadata": {},
   "outputs": [],
   "source": [
    "fpr, tpr, _ = metrics.roc_curve(train_data['y'], train_data['Target'])\n",
    "cade_auc = metrics.auc(fpr, tpr)\n",
    "metrics.auc(fpr, tpr)"
   ]
  },
  {
   "cell_type": "code",
   "execution_count": null,
   "id": "0e03adfc",
   "metadata": {},
   "outputs": [],
   "source": [
    "cade_report = classification_report(train_data['y'], train_data['prediction'], target_names = ['0','1'], output_dict = True)\n",
    "print(classification_report(train_data['y'], train_data['prediction'], target_names = ['0','1']))"
   ]
  },
  {
   "cell_type": "code",
   "execution_count": null,
   "id": "b146ec57",
   "metadata": {},
   "outputs": [],
   "source": [
    "precision, recall, thresholds = precision_recall_curve(train_data['y'], train_data['Target'])\n",
    "cade_auc_precision_recall = metrics.auc(recall, precision)\n",
    "print(cade_auc_precision_recall)"
   ]
  },
  {
   "cell_type": "markdown",
   "id": "c7ac84c8-652c-44c2-9bac-b9b46825a7ea",
   "metadata": {
    "jp-MarkdownHeadingCollapsed": true,
    "tags": []
   },
   "source": [
    "### Deep Autoencoders"
   ]
  },
  {
   "cell_type": "markdown",
   "id": "4dc1d2f1",
   "metadata": {},
   "source": [
    "Source: https://www.analyticsvidhya.com/blog/2021/05/anomaly-detection-using-autoencoders-a-walk-through-in-python/"
   ]
  },
  {
   "cell_type": "code",
   "execution_count": null,
   "id": "bbcf7cc9-79aa-47a4-a7ba-899aed2337a1",
   "metadata": {},
   "outputs": [],
   "source": [
    "features = data.drop(columns = ['y'])\n",
    "target = data['y']"
   ]
  },
  {
   "cell_type": "code",
   "execution_count": null,
   "id": "cfa5ae66-711a-4dd0-865b-0acdd35b57b0",
   "metadata": {},
   "outputs": [],
   "source": [
    "min_max_scaler = MinMaxScaler(feature_range=(0, 1))\n",
    "x_train_scaled = min_max_scaler.fit_transform(features.copy())"
   ]
  },
  {
   "cell_type": "code",
   "execution_count": null,
   "id": "8d4b8122-2650-4a9b-a48a-58f8629d7a90",
   "metadata": {},
   "outputs": [],
   "source": [
    "class AutoEncoder(Model):\n",
    "\n",
    "    def __init__(self, output_units):\n",
    "        super().__init__()\n",
    "        self.encoder = Sequential([\n",
    "          Dense(5,input_dim = output_units, activation='sigmoid'),\n",
    "          Dropout(0.1),\n",
    "          Dense(3, activation='relu'),\n",
    "          Dropout(0.1),\n",
    "          Dense(3, activation='relu')\n",
    "        ])\n",
    "        self.decoder = Sequential([\n",
    "          Dense(3, activation='relu'),\n",
    "          Dropout(0.1),\n",
    "          Dense(5,  activation='relu'),\n",
    "          Dropout(0.1),\n",
    "          Dense(output_units, activation='sigmoid')\n",
    "        ])\n",
    "  \n",
    "    def call(self, inputs):\n",
    "        encoded = self.encoder(inputs)\n",
    "        decoded = self.decoder(encoded)\n",
    "        return decoded"
   ]
  },
  {
   "cell_type": "code",
   "execution_count": null,
   "id": "46c3ad9c-58a0-4df0-8f73-aacc63452577",
   "metadata": {},
   "outputs": [],
   "source": [
    "def find_threshold(model, x_train_scaled):\n",
    "    reconstructions = model.predict(x_train_scaled)\n",
    "    reconstruction_errors = tf.keras.losses.msle(reconstructions, x_train_scaled)\n",
    "    threshold = np.mean(reconstruction_errors.numpy()) + np.std(reconstruction_errors.numpy())\n",
    "    return threshold\n",
    "\n",
    "def get_predictions(model, x_train_scaled, threshold):\n",
    "    predictions = model.predict(x_train_scaled)\n",
    "    errors = tf.keras.losses.msle(predictions, x_train_scaled)\n",
    "    anomaly_mask = pd.Series(errors) > threshold\n",
    "    preds = anomaly_mask.map(lambda x: 1.0 if x == True else 0.0)\n",
    "    return preds, errors"
   ]
  },
  {
   "cell_type": "code",
   "execution_count": null,
   "id": "1e89dd5d-dcef-4916-84b2-c75a25cdab0b",
   "metadata": {},
   "outputs": [],
   "source": [
    "start = time.process_time()\n",
    "\n",
    "model = AutoEncoder(output_units=x_train_scaled.shape[1])\n",
    "\n",
    "model.compile(loss='msle', metrics=['mse'], optimizer='adam')\n",
    "\n",
    "history = model.fit(\n",
    "    x_train_scaled,\n",
    "    x_train_scaled,\n",
    "    epochs=20,\n",
    "    batch_size=512,\n",
    ")\n",
    "\n",
    "threshold = find_threshold(model, x_train_scaled)\n",
    "\n",
    "predictions, scores = get_predictions(model, x_train_scaled, threshold)\n",
    "\n",
    "end = time.process_time()\n",
    "deep_autoencoders_time = end - start\n",
    "print(end - start)"
   ]
  },
  {
   "cell_type": "code",
   "execution_count": null,
   "id": "57f4de97-c888-47fa-ad6f-f35786be7c07",
   "metadata": {},
   "outputs": [],
   "source": [
    "confusion_matrix(target, predictions)"
   ]
  },
  {
   "cell_type": "code",
   "execution_count": null,
   "id": "20202cc0-29bc-437f-8ac4-0942b80c86e3",
   "metadata": {},
   "outputs": [],
   "source": [
    "fpr, tpr, _ = metrics.roc_curve(target, scores)\n",
    "deep_autoencoders_auc = metrics.auc(fpr, tpr)\n",
    "metrics.auc(fpr, tpr)"
   ]
  },
  {
   "cell_type": "code",
   "execution_count": null,
   "id": "feca7f54-60e3-402f-9876-97891759d6e9",
   "metadata": {},
   "outputs": [],
   "source": [
    "deep_autoencoders_report = classification_report(target, predictions, target_names = ['0','1'], output_dict = True)\n",
    "print(classification_report(target, predictions, target_names = ['0','1']))"
   ]
  },
  {
   "cell_type": "code",
   "execution_count": null,
   "id": "d12c9d5a-f3fc-42b3-bc2b-63abfcf673ea",
   "metadata": {},
   "outputs": [],
   "source": [
    "precision, recall, thresholds = precision_recall_curve(target, scores)\n",
    "deep_ae_auc_precision_recall = metrics.auc(recall, precision)\n",
    "print(deep_ae_auc_precision_recall)"
   ]
  },
  {
   "cell_type": "markdown",
   "id": "40c6e582-44a1-4f67-baa2-2e4e4a2625af",
   "metadata": {
    "jp-MarkdownHeadingCollapsed": true,
    "tags": []
   },
   "source": [
    "### Autoencoders"
   ]
  },
  {
   "cell_type": "markdown",
   "id": "7d4ffeba",
   "metadata": {},
   "source": [
    "Source: https://www.analyticsvidhya.com/blog/2021/05/anomaly-detection-using-autoencoders-a-walk-through-in-python/"
   ]
  },
  {
   "cell_type": "code",
   "execution_count": null,
   "id": "45c4b4ac-84e5-4e7c-b055-ab60c8d1b0e7",
   "metadata": {},
   "outputs": [],
   "source": [
    "features = data.drop(columns = ['y'])\n",
    "target = data['y']"
   ]
  },
  {
   "cell_type": "code",
   "execution_count": null,
   "id": "0285f28c-44cd-4c71-aeb6-791f9229a4ea",
   "metadata": {},
   "outputs": [],
   "source": [
    "min_max_scaler = MinMaxScaler(feature_range=(0, 1))\n",
    "x_train_scaled = min_max_scaler.fit_transform(features.copy())"
   ]
  },
  {
   "cell_type": "code",
   "execution_count": null,
   "id": "b7ffe0c5-f9cd-483f-8146-dad9a65e05bc",
   "metadata": {},
   "outputs": [],
   "source": [
    "class AutoEncoder(Model):\n",
    "\n",
    "    def __init__(self, output_units):\n",
    "        super().__init__()\n",
    "        self.encoder = Sequential([\n",
    "          Dense(5,input_dim = output_units, activation='relu'),\n",
    "          Dropout(0.1),\n",
    "        ])\n",
    "        self.decoder = Sequential([\n",
    "          Dense(output_units, activation='sigmoid')\n",
    "        ])\n",
    "  \n",
    "    def call(self, inputs):\n",
    "        encoded = self.encoder(inputs)\n",
    "        decoded = self.decoder(encoded)\n",
    "        return decoded"
   ]
  },
  {
   "cell_type": "code",
   "execution_count": null,
   "id": "0ac0c892-055b-4da8-a5b7-a3344846e53f",
   "metadata": {},
   "outputs": [],
   "source": [
    "def find_threshold(model, x_train_scaled):\n",
    "    reconstructions = model.predict(x_train_scaled)\n",
    "    reconstruction_errors = tf.keras.losses.msle(reconstructions, x_train_scaled)\n",
    "    threshold = np.mean(reconstruction_errors.numpy()) + np.std(reconstruction_errors.numpy())\n",
    "    return threshold\n",
    "\n",
    "def get_predictions(model, x_train_scaled, threshold):\n",
    "    predictions = model.predict(x_train_scaled)\n",
    "    errors = tf.keras.losses.msle(predictions, x_train_scaled)\n",
    "    anomaly_mask = pd.Series(errors) > threshold\n",
    "    preds = anomaly_mask.map(lambda x: 1.0 if x == True else 0.0)\n",
    "    return preds, errors"
   ]
  },
  {
   "cell_type": "code",
   "execution_count": null,
   "id": "02b7d386-eb62-44a0-8e7b-c1176ef17279",
   "metadata": {},
   "outputs": [],
   "source": [
    "start = time.process_time()\n",
    "\n",
    "model = AutoEncoder(output_units=x_train_scaled.shape[1])\n",
    "\n",
    "model.compile(loss='msle', metrics=['mse'], optimizer='adam')\n",
    "\n",
    "history = model.fit(\n",
    "    x_train_scaled,\n",
    "    x_train_scaled,\n",
    "    epochs=20,\n",
    "    batch_size=512,\n",
    ")\n",
    "\n",
    "threshold = find_threshold(model, x_train_scaled)\n",
    "\n",
    "predictions, scores = get_predictions(model, x_train_scaled, threshold)\n",
    "\n",
    "end = time.process_time()\n",
    "autoencoders_time = end - start\n",
    "print(end - start)"
   ]
  },
  {
   "cell_type": "code",
   "execution_count": null,
   "id": "30647759-c214-49e2-b7e8-34cc207298db",
   "metadata": {},
   "outputs": [],
   "source": [
    "confusion_matrix(target, predictions)"
   ]
  },
  {
   "cell_type": "code",
   "execution_count": null,
   "id": "7c1f00ca-1196-40fb-a6a9-90aff860bc96",
   "metadata": {},
   "outputs": [],
   "source": [
    "fpr, tpr, _ = metrics.roc_curve(target, scores)\n",
    "autoencoders_auc = metrics.auc(fpr, tpr)\n",
    "metrics.auc(fpr, tpr)"
   ]
  },
  {
   "cell_type": "code",
   "execution_count": null,
   "id": "7428af07-40cf-4e0b-b1ad-6760ca8af546",
   "metadata": {},
   "outputs": [],
   "source": [
    "autoencoders_report = classification_report(target, predictions, target_names = ['0','1'], output_dict = True)\n",
    "print(classification_report(target, predictions, target_names = ['0','1']))"
   ]
  },
  {
   "cell_type": "code",
   "execution_count": null,
   "id": "e76689c5",
   "metadata": {},
   "outputs": [],
   "source": [
    "precision, recall, thresholds = precision_recall_curve(target, scores)\n",
    "ae_auc_precision_recall = metrics.auc(recall, precision)\n",
    "print(ae_auc_precision_recall)"
   ]
  },
  {
   "cell_type": "markdown",
   "id": "8cb78e15-4d6e-4426-94b1-7aee4ffd766c",
   "metadata": {
    "jp-MarkdownHeadingCollapsed": true,
    "tags": []
   },
   "source": [
    "### One-Class SVM rbf"
   ]
  },
  {
   "cell_type": "code",
   "execution_count": null,
   "id": "c1cb9fc2-1666-431a-b3ea-985ec4015adf",
   "metadata": {},
   "outputs": [],
   "source": [
    "features = data.drop(columns = ['y'])\n",
    "target = data['y']"
   ]
  },
  {
   "cell_type": "code",
   "execution_count": null,
   "id": "5b6ded6a-97f4-4b6c-a439-9dae7b998a20",
   "metadata": {},
   "outputs": [],
   "source": [
    "min_max_scaler = MinMaxScaler(feature_range=(0, 1))\n",
    "x_train_scaled = min_max_scaler.fit_transform(features.copy())"
   ]
  },
  {
   "cell_type": "code",
   "execution_count": null,
   "id": "16c43a1d-6fd6-44f4-badf-f6f60fab64f7",
   "metadata": {},
   "outputs": [],
   "source": [
    "start = time.process_time()\n",
    "\n",
    "model = OneClassSVM(gamma='scale', nu=0.1)\n",
    "model.fit(x_train_scaled)\n",
    "yhat = model.predict(x_train_scaled)\n",
    "y_scores = -model.decision_function(x_train_scaled)\n",
    "\n",
    "end = time.process_time()\n",
    "rbf_oc_svm_time = end - start\n",
    "print(end - start)"
   ]
  },
  {
   "cell_type": "code",
   "execution_count": null,
   "id": "1ad1d6be-a4a6-4c03-abe0-853382dd3c37",
   "metadata": {},
   "outputs": [],
   "source": [
    "predictions = pd.DataFrame(yhat, columns = ['y_pred']).apply(def_outlier, axis = 1)"
   ]
  },
  {
   "cell_type": "code",
   "execution_count": null,
   "id": "1d34cacd-c88c-42ce-a635-94c97684856f",
   "metadata": {},
   "outputs": [],
   "source": [
    "confusion_matrix(target, predictions)"
   ]
  },
  {
   "cell_type": "code",
   "execution_count": null,
   "id": "73512374-d13e-4b84-bb9d-e86ddefc256b",
   "metadata": {},
   "outputs": [],
   "source": [
    "fpr, tpr, _ = metrics.roc_curve(target, y_scores)\n",
    "rbf_oc_svm_auc = metrics.auc(fpr, tpr)\n",
    "metrics.auc(fpr, tpr)"
   ]
  },
  {
   "cell_type": "code",
   "execution_count": null,
   "id": "304981e1-9d59-4a6c-a87f-feaaace70336",
   "metadata": {},
   "outputs": [],
   "source": [
    "rbf_oc_svm_report = classification_report(target, predictions, target_names = ['0','1'], output_dict = True)\n",
    "print(classification_report(target, predictions, target_names = ['0','1']))"
   ]
  },
  {
   "cell_type": "code",
   "execution_count": null,
   "id": "3261bab6-e535-4258-a6f4-2dadbc6e9286",
   "metadata": {},
   "outputs": [],
   "source": [
    "precision, recall, thresholds = precision_recall_curve(target, y_scores)\n",
    "ocsvm_rbf_auc_precision_recall = metrics.auc(recall, precision)\n",
    "print(ocsvm_rbf_auc_precision_recall)"
   ]
  },
  {
   "cell_type": "markdown",
   "id": "70ae90c5-33f0-4673-af1c-8eeb6ee00cb1",
   "metadata": {
    "jp-MarkdownHeadingCollapsed": true,
    "tags": []
   },
   "source": [
    "### One-Class SVM linear"
   ]
  },
  {
   "cell_type": "code",
   "execution_count": null,
   "id": "4f668119-9912-4fb9-8bf7-d89c5e136088",
   "metadata": {},
   "outputs": [],
   "source": [
    "features = data.drop(columns = ['y'])\n",
    "target = data['y']"
   ]
  },
  {
   "cell_type": "code",
   "execution_count": null,
   "id": "781898ac-bd91-4b7c-9392-e73b0c49a287",
   "metadata": {},
   "outputs": [],
   "source": [
    "min_max_scaler = MinMaxScaler(feature_range=(0, 1))\n",
    "x_train_scaled = min_max_scaler.fit_transform(features.copy())"
   ]
  },
  {
   "cell_type": "code",
   "execution_count": null,
   "id": "3801e253-50f9-44dd-a079-0fd1af534ba7",
   "metadata": {},
   "outputs": [],
   "source": [
    "start = time.process_time()\n",
    "\n",
    "model = OneClassSVM(kernel = 'linear', nu=0.1)\n",
    "model.fit(x_train_scaled)\n",
    "yhat = model.predict(x_train_scaled)\n",
    "y_scores = -model.decision_function(x_train_scaled)\n",
    "\n",
    "end = time.process_time()\n",
    "lin_oc_svm_time = end - start\n",
    "print(end - start)"
   ]
  },
  {
   "cell_type": "code",
   "execution_count": null,
   "id": "734b6203-cb16-4f75-a326-d96481b43212",
   "metadata": {},
   "outputs": [],
   "source": [
    "predictions = pd.DataFrame(yhat, columns = ['y_pred']).apply(def_outlier, axis = 1)"
   ]
  },
  {
   "cell_type": "code",
   "execution_count": null,
   "id": "e80371fa-e762-495d-b4ee-dc2e28276409",
   "metadata": {},
   "outputs": [],
   "source": [
    "confusion_matrix(target, predictions)"
   ]
  },
  {
   "cell_type": "code",
   "execution_count": null,
   "id": "452b2bef-44c5-443b-b722-62b88976a050",
   "metadata": {},
   "outputs": [],
   "source": [
    "fpr, tpr, _ = metrics.roc_curve(target, y_scores)\n",
    "lin_oc_svm_auc = metrics.auc(fpr, tpr)\n",
    "metrics.auc(fpr, tpr)"
   ]
  },
  {
   "cell_type": "code",
   "execution_count": null,
   "id": "41991eb1-3077-4000-92b6-07f912dd2bed",
   "metadata": {},
   "outputs": [],
   "source": [
    "lin_oc_svm_report = classification_report(target, predictions, target_names = ['0','1'], output_dict = True)\n",
    "print(classification_report(target, predictions, target_names = ['0','1']))"
   ]
  },
  {
   "cell_type": "code",
   "execution_count": null,
   "id": "9d432180",
   "metadata": {},
   "outputs": [],
   "source": [
    "precision, recall, thresholds = precision_recall_curve(target, y_scores)\n",
    "ocsvm_lin_auc_precision_recall = metrics.auc(recall, precision)\n",
    "print(ocsvm_lin_auc_precision_recall)"
   ]
  },
  {
   "cell_type": "markdown",
   "id": "53d6af3d-00d5-4d52-bd7a-b5d65e7df22e",
   "metadata": {
    "jp-MarkdownHeadingCollapsed": true,
    "tags": []
   },
   "source": [
    "### Performance"
   ]
  },
  {
   "cell_type": "code",
   "execution_count": null,
   "id": "8f994cb1-73e3-4072-b6b8-d9077cef1f85",
   "metadata": {},
   "outputs": [],
   "source": [
    "forestcover_performance = pd.DataFrame(columns = ['method','f1-score','sensitivity',\n",
    "                                                  'precision','Time','AUC', 'AU precision-recall curve'])"
   ]
  },
  {
   "cell_type": "code",
   "execution_count": null,
   "id": "9f192782-972d-4143-90bc-0865cc071bc2",
   "metadata": {},
   "outputs": [],
   "source": [
    "iforest_performance = {'method':'iForest',\n",
    "               'f1-score':iforest_report['1']['f1-score'], \n",
    "               'sensitivity':iforest_report['1']['recall'],\n",
    "               'precision':iforest_report['1']['precision'],        \n",
    "              'Time':iforest_time,\n",
    "              'AUC':iforest_auc,\n",
    "                      'AU precision-recall curve':iforest_auc_precision_recall}\n",
    "lof_performance = {'method':'LOF',\n",
    "               'f1-score':lof_report['1']['f1-score'], \n",
    "               'sensitivity':lof_report['1']['recall'],\n",
    "               'precision':lof_report['1']['precision'],    \n",
    "              'Time':lof_time,\n",
    "              'AUC':lof_auc,\n",
    "                  'AU precision-recall curve':lof_auc_precision_recall}\n",
    "dbscan_performance = { 'method':'DBSCAN',\n",
    "               'f1-score':dbscan_report['1']['f1-score'], \n",
    "               'sensitivity':dbscan_report['1']['recall'],\n",
    "               'precision':dbscan_report['1']['precision'],       \n",
    "              'Time':dbscan_time,\n",
    "              'AUC':dbscan_auc,\n",
    "                     'AU precision-recall curve':dbscan_auc_precision_recall}\n",
    "cade_performance = { 'method':'CADE',\n",
    "               'f1-score':cade_report['1']['f1-score'], \n",
    "               'sensitivity':cade_report['1']['recall'],\n",
    "               'precision':cade_report['1']['precision'],     \n",
    "              'Time':cade_time,\n",
    "              'AUC':cade_auc,\n",
    "                   'AU precision-recall curve':cade_auc_precision_recall}\n",
    "deep_autoencoders_performance = {'method':'Deep Autoencoders',\n",
    "               'f1-score':deep_autoencoders_report['1']['f1-score'], \n",
    "               'sensitivity':deep_autoencoders_report['1']['recall'],\n",
    "               'precision':deep_autoencoders_report['1']['precision'],                  \n",
    "              'Time':deep_autoencoders_time,\n",
    "              'AUC':deep_autoencoders_auc,\n",
    "                                'AU precision-recall curve':deep_ae_auc_precision_recall}\n",
    "autoencoders_performance = {'method':'Autoencoders',\n",
    "               'f1-score':autoencoders_report['1']['f1-score'], \n",
    "               'sensitivity':autoencoders_report['1']['recall'],\n",
    "               'precision':autoencoders_report['1']['precision'],             \n",
    "              'Time':autoencoders_time,\n",
    "              'AUC':autoencoders_auc,\n",
    "                           'AU precision-recall curve':ae_auc_precision_recall}\n",
    "rbf_oc_svm_performance = {'method':'OC-SVM rbf',\n",
    "               'f1-score':rbf_oc_svm_report['1']['f1-score'], \n",
    "               'sensitivity':rbf_oc_svm_report['1']['recall'],\n",
    "               'precision':rbf_oc_svm_report['1']['precision'],           \n",
    "              'Time':rbf_oc_svm_time,\n",
    "              'AUC':rbf_oc_svm_auc,\n",
    "                         'AU precision-recall curve':ocsvm_rbf_auc_precision_recall}\n",
    "lin_oc_svm_performance = {'method':'OC-SVM linear',\n",
    "               'f1-score':lin_oc_svm_report['1']['f1-score'], \n",
    "               'sensitivity':lin_oc_svm_report['1']['recall'],\n",
    "               'precision':lin_oc_svm_report['1']['precision'],           \n",
    "              'Time':lin_oc_svm_time,\n",
    "              'AUC':lin_oc_svm_auc,\n",
    "                         'AU precision-recall curve':ocsvm_lin_auc_precision_recall}"
   ]
  },
  {
   "cell_type": "code",
   "execution_count": null,
   "id": "c3257ce1-f320-4336-b354-68f8440b0a54",
   "metadata": {},
   "outputs": [],
   "source": [
    "forestcover_performance = forestcover_performance.append(iforest_performance, ignore_index = True)\n",
    "forestcover_performance = forestcover_performance.append(lof_performance, ignore_index = True)\n",
    "forestcover_performance = forestcover_performance.append(dbscan_performance, ignore_index = True)\n",
    "forestcover_performance = forestcover_performance.append(cade_performance, ignore_index = True)\n",
    "forestcover_performance = forestcover_performance.append(deep_autoencoders_performance, ignore_index = True)\n",
    "forestcover_performance = forestcover_performance.append(autoencoders_performance, ignore_index = True)\n",
    "forestcover_performance = forestcover_performance.append(rbf_oc_svm_performance, ignore_index = True)\n",
    "forestcover_performance = forestcover_performance.append(lin_oc_svm_performance, ignore_index = True)"
   ]
  },
  {
   "cell_type": "markdown",
   "id": "96e7ab52-cd86-4205-829f-82354fd330c0",
   "metadata": {
    "jp-MarkdownHeadingCollapsed": true,
    "tags": []
   },
   "source": [
    "## Annthyroid"
   ]
  },
  {
   "cell_type": "markdown",
   "id": "078a37a9",
   "metadata": {},
   "source": [
    "**Dataset source**: http://odds.cs.stonybrook.edu/annthyroid-dataset/ (data is transformed from .mat to .csv format)\n",
    "\n",
    "Shebuti Rayana (2016).  ODDS Library [http://odds.cs.stonybrook.edu]. Stony Brook, NY: Stony Brook University, Department of Computer Science.\n",
    "\n",
    "**Aditional sources**:\n",
    "\n",
    "Abe, Naoki, Bianca Zadrozny, and John Langford. “Outlier detection by active learning.” Proceedings of the 12th ACM SIGKDD international conference on Knowledge discovery and data mining. ACM, 2006.\n",
    "\n",
    "Liu, Fei Tony, Kai Ming Ting, and Zhi-Hua Zhou. “Isolation forest.” 2008 Eighth IEEE International Conference on Data Mining. IEEE, 2008.\n",
    "\n",
    "K. M. Ting, J. T. S. Chuan, and F. T. Liu. “Mass: A New Ranking Measure for Anomaly Detection.“, IEEE Transactions on Knowledge and Data Engineering, 2009."
   ]
  },
  {
   "cell_type": "code",
   "execution_count": null,
   "id": "74880b01-a430-41cc-988f-647cb4ca4ff3",
   "metadata": {},
   "outputs": [],
   "source": [
    "data = pd.read_csv('./annthyroid.csv')"
   ]
  },
  {
   "cell_type": "code",
   "execution_count": null,
   "id": "be075faf-1275-4bc7-bffb-874175a5fb4c",
   "metadata": {},
   "outputs": [],
   "source": [
    "data.head()"
   ]
  },
  {
   "cell_type": "code",
   "execution_count": null,
   "id": "f83c1dd7-907d-4135-a293-180dd4327d11",
   "metadata": {},
   "outputs": [],
   "source": [
    "data.shape"
   ]
  },
  {
   "cell_type": "code",
   "execution_count": null,
   "id": "1d67fa9a-8257-4681-8366-9a701af73c7a",
   "metadata": {},
   "outputs": [],
   "source": [
    "pd.pivot_table(data,\n",
    "             values = 'Col1',\n",
    "               index = 'y', \n",
    "              aggfunc = 'count')"
   ]
  },
  {
   "cell_type": "markdown",
   "id": "f493ad4d-9068-489e-bc35-cf4d001d3fc0",
   "metadata": {
    "jp-MarkdownHeadingCollapsed": true,
    "tags": []
   },
   "source": [
    "### iForest"
   ]
  },
  {
   "cell_type": "code",
   "execution_count": null,
   "id": "61980a0c",
   "metadata": {},
   "outputs": [],
   "source": [
    "train_data = data.copy()"
   ]
  },
  {
   "cell_type": "code",
   "execution_count": null,
   "id": "72ccc319-7fee-46c8-890e-17a51e1dd5db",
   "metadata": {},
   "outputs": [],
   "source": [
    "start = time.process_time()\n",
    "\n",
    "rng = np.random.RandomState(42)\n",
    "clf = IsolationForest(max_samples=256, random_state=rng, n_estimators=100)\n",
    "clf.fit(train_data.loc[:, train_data.columns != 'y'])\n",
    "y_pred = clf.predict(train_data.loc[:, train_data.columns != 'y'])\n",
    "y_scores = clf.score_samples(train_data.loc[:, train_data.columns != 'y'])\n",
    "\n",
    "end = time.process_time()\n",
    "iforest_time = end - start\n",
    "print(end - start)"
   ]
  },
  {
   "cell_type": "code",
   "execution_count": null,
   "id": "f02113f3-4a26-439c-9bf4-fad8afb74230",
   "metadata": {},
   "outputs": [],
   "source": [
    "train_data['y_pred'] = y_pred\n",
    "train_data['prediction'] = train_data.apply(def_outlier, axis = 1)\n",
    "train_data['y_scores'] = -y_scores"
   ]
  },
  {
   "cell_type": "code",
   "execution_count": null,
   "id": "e4bf94d3-f762-4d50-a83b-67827d108371",
   "metadata": {},
   "outputs": [],
   "source": [
    "confusion_matrix(train_data['y'], train_data['prediction'])"
   ]
  },
  {
   "cell_type": "code",
   "execution_count": null,
   "id": "247fef3a-8a2e-4509-a964-50cd22155330",
   "metadata": {},
   "outputs": [],
   "source": [
    "fpr, tpr, _ = metrics.roc_curve(train_data['y'], train_data['y_scores'])\n",
    "iforest_auc = metrics.auc(fpr, tpr)\n",
    "metrics.auc(fpr, tpr)"
   ]
  },
  {
   "cell_type": "code",
   "execution_count": null,
   "id": "45e1fd91-ac82-4d9e-b47c-71a87eff532e",
   "metadata": {},
   "outputs": [],
   "source": [
    "iforest_report = classification_report(train_data['y'], train_data['prediction'], target_names = ['0','1'], output_dict = True)\n",
    "print(classification_report(train_data['y'], train_data['prediction'], target_names = ['0','1']))"
   ]
  },
  {
   "cell_type": "code",
   "execution_count": null,
   "id": "5048e5f6",
   "metadata": {},
   "outputs": [],
   "source": [
    "precision, recall, thresholds = precision_recall_curve(train_data['y'], train_data['y_scores'])\n",
    "iforest_auc_precision_recall = metrics.auc(recall, precision)\n",
    "print(iforest_auc_precision_recall)"
   ]
  },
  {
   "cell_type": "markdown",
   "id": "202604bd-3f54-46a1-92c7-7a6c1acc0645",
   "metadata": {
    "jp-MarkdownHeadingCollapsed": true,
    "tags": []
   },
   "source": [
    "### LOF"
   ]
  },
  {
   "cell_type": "code",
   "execution_count": null,
   "id": "4cbeac0d-c7fa-45d4-8c37-ef68398b0377",
   "metadata": {},
   "outputs": [],
   "source": [
    "min_max_scaler = MinMaxScaler(feature_range=(0, 1))\n",
    "train_data = min_max_scaler.fit_transform(data.copy())\n",
    "train_data = pd.DataFrame(train_data)\n",
    "train_data.columns = data.columns"
   ]
  },
  {
   "cell_type": "code",
   "execution_count": null,
   "id": "be87241f-ffd1-45c7-89f1-f5ff3994e699",
   "metadata": {},
   "outputs": [],
   "source": [
    "start = time.process_time()\n",
    "\n",
    "lof = LocalOutlierFactor(n_neighbors=72, contamination=.1, novelty=False)\n",
    "y_pred = lof.fit_predict(train_data.loc[:, train_data.columns != 'y'])\n",
    "y_scores = lof.negative_outlier_factor_\n",
    "\n",
    "end = time.process_time()\n",
    "lof_time = end - start\n",
    "print(end - start)"
   ]
  },
  {
   "cell_type": "code",
   "execution_count": null,
   "id": "128b4801-7c80-433c-af0e-cea1a153644a",
   "metadata": {},
   "outputs": [],
   "source": [
    "train_data['y_pred'] = y_pred\n",
    "train_data['prediction'] = train_data.apply(def_outlier, axis = 1)\n",
    "train_data['y_scores'] = -y_scores"
   ]
  },
  {
   "cell_type": "code",
   "execution_count": null,
   "id": "4b82b49e-56d7-4082-9817-df8256b07bc8",
   "metadata": {},
   "outputs": [],
   "source": [
    "confusion_matrix(train_data['y'], train_data['prediction'])"
   ]
  },
  {
   "cell_type": "code",
   "execution_count": null,
   "id": "bfac971a-fe9a-41f0-994a-c8c4cd7f8be7",
   "metadata": {},
   "outputs": [],
   "source": [
    "fpr, tpr, _ = metrics.roc_curve(train_data['y'], train_data['y_scores'])\n",
    "lof_auc = metrics.auc(fpr, tpr)\n",
    "metrics.auc(fpr, tpr)"
   ]
  },
  {
   "cell_type": "code",
   "execution_count": null,
   "id": "2d3e2848-6d52-472e-9fb1-97f04740cec4",
   "metadata": {},
   "outputs": [],
   "source": [
    "lof_report = classification_report(train_data['y'], train_data['prediction'], target_names = ['0','1'], output_dict = True)\n",
    "print(classification_report(train_data['y'], train_data['prediction'], target_names = ['0','1']))"
   ]
  },
  {
   "cell_type": "code",
   "execution_count": null,
   "id": "c5f5b55c",
   "metadata": {},
   "outputs": [],
   "source": [
    "precision, recall, thresholds = precision_recall_curve(train_data['y'], train_data['y_scores'])\n",
    "lof_auc_precision_recall = metrics.auc(recall, precision)\n",
    "print(lof_auc_precision_recall)"
   ]
  },
  {
   "cell_type": "markdown",
   "id": "272e5e6c-90e5-44ee-acfd-75044b517b8e",
   "metadata": {
    "jp-MarkdownHeadingCollapsed": true,
    "tags": []
   },
   "source": [
    "### DBSCAN"
   ]
  },
  {
   "cell_type": "code",
   "execution_count": null,
   "id": "c0fb5c6f-2989-44de-a15a-0a2001cf6467",
   "metadata": {},
   "outputs": [],
   "source": [
    "min_max_scaler = MinMaxScaler(feature_range=(0, 1))\n",
    "train_data = min_max_scaler.fit_transform(data.copy())\n",
    "train_data = pd.DataFrame(train_data)\n",
    "train_data.columns = data.columns"
   ]
  },
  {
   "cell_type": "code",
   "execution_count": null,
   "id": "3494a2b9-3786-4ec1-86fd-83a929d528f7",
   "metadata": {},
   "outputs": [],
   "source": [
    "dist = dbscan_tuner(train_data ,11)"
   ]
  },
  {
   "cell_type": "code",
   "execution_count": null,
   "id": "48d50cb7-376e-40a6-a0a0-9e9db24011f9",
   "metadata": {},
   "outputs": [],
   "source": [
    "start = time.process_time()\n",
    "dbscan = DBSCAN(eps = 0.1, min_samples = 12)\n",
    "clusters = dbscan.fit_predict(train_data.loc[:, train_data.columns != 'y'])\n",
    "end = time.process_time()\n",
    "dbscan_time = end - start\n",
    "print(end - start)"
   ]
  },
  {
   "cell_type": "code",
   "execution_count": null,
   "id": "1b1a6c3b-391e-4b82-938b-4775f0ec1d9b",
   "metadata": {},
   "outputs": [],
   "source": [
    "train_data['y_pred'] = clusters"
   ]
  },
  {
   "cell_type": "code",
   "execution_count": null,
   "id": "2856a3fb-68ca-40d2-ad25-7f4cc0539c46",
   "metadata": {},
   "outputs": [],
   "source": [
    "train_data['prediction'] = train_data.apply(def_outlier, axis = 1)"
   ]
  },
  {
   "cell_type": "code",
   "execution_count": null,
   "id": "7a1044c1",
   "metadata": {},
   "outputs": [],
   "source": [
    "original_columns = data.columns.to_list()\n",
    "original_columns.remove('y')\n",
    "\n",
    "data_w_score = pd.DataFrame(columns = train_data.columns.to_list())\n",
    "data_w_score['score'] = pd.NaT\n",
    "for i in set(clusters):\n",
    "    if i == -1:\n",
    "        continue\n",
    "    score_data = train_data[train_data['y_pred'] == i].copy()\n",
    "    center = score_data[original_columns].mean().to_list()\n",
    "    score_data['score'] = score_data.apply(lambda x : distance.euclidean(x[original_columns].to_list(), center),1)\n",
    "    data_w_score = data_w_score.append(score_data.copy(), ignore_index = True)\n",
    "\n",
    "anomalies_data = train_data[train_data['y_pred'] == -1].copy()\n",
    "anomalies_data['score'] = ''\n",
    "cluster_centers = pd.pivot_table(train_data,\n",
    "              index = 'y_pred',\n",
    "              aggfunc = 'mean')"
   ]
  },
  {
   "cell_type": "code",
   "execution_count": null,
   "id": "f7eebc73",
   "metadata": {},
   "outputs": [],
   "source": [
    "for i in range(len(anomalies_data)):\n",
    "    anomalies_data['score'].iloc[i] = np.min(cluster_centers[cluster_centers.index != -1].apply(lambda x : \n",
    "                                                                                                distance.euclidean(x[original_columns].to_list(), anomalies_data[original_columns].iloc[i]),1))\n",
    "\n",
    "data_for_auprc = pd.concat([data_w_score, anomalies_data])"
   ]
  },
  {
   "cell_type": "code",
   "execution_count": null,
   "id": "7f958a92-612f-4f1d-9c40-4968e5cd4f23",
   "metadata": {},
   "outputs": [],
   "source": [
    "confusion_matrix(train_data['y'], train_data['prediction'])"
   ]
  },
  {
   "cell_type": "code",
   "execution_count": null,
   "id": "778a1ea4-7629-4582-a301-1020f3ac8449",
   "metadata": {},
   "outputs": [],
   "source": [
    "fpr, tpr, _ = metrics.roc_curve(data_for_auprc['y'], data_for_auprc['score'])\n",
    "dbscan_auc = metrics.auc(fpr, tpr)\n",
    "metrics.auc(fpr, tpr)"
   ]
  },
  {
   "cell_type": "code",
   "execution_count": null,
   "id": "3604eab3-9905-4dc4-b720-02c9ffbe9207",
   "metadata": {},
   "outputs": [],
   "source": [
    "dbscan_report = classification_report(train_data['y'], train_data['prediction'], target_names = ['0','1'], output_dict = True)\n",
    "print(classification_report(train_data['y'], train_data['prediction'], target_names = ['0','1']))"
   ]
  },
  {
   "cell_type": "code",
   "execution_count": null,
   "id": "0e6c7067",
   "metadata": {},
   "outputs": [],
   "source": [
    "precision, recall, thresholds = precision_recall_curve(data_for_auprc['y'], data_for_auprc['score'])\n",
    "dbscan_auc_precision_recall = metrics.auc(recall, precision)\n",
    "print(dbscan_auc_precision_recall)"
   ]
  },
  {
   "cell_type": "markdown",
   "id": "cc269baa",
   "metadata": {
    "jp-MarkdownHeadingCollapsed": true,
    "tags": []
   },
   "source": [
    "### CADE"
   ]
  },
  {
   "cell_type": "markdown",
   "id": "5a0cc00b",
   "metadata": {},
   "source": [
    "Source: Aric LaBarr, webinar \"Modern Approaches To Anomaly Detection\", November 2, 2021"
   ]
  },
  {
   "cell_type": "code",
   "execution_count": null,
   "id": "3bbc7917",
   "metadata": {},
   "outputs": [],
   "source": [
    "train_data = data.copy()"
   ]
  },
  {
   "cell_type": "code",
   "execution_count": null,
   "id": "89961865",
   "metadata": {},
   "outputs": [],
   "source": [
    "fake = pd.DataFrame()\n",
    "data_for_fake = train_data.loc[:, train_data.columns != 'y']\n",
    "data_for_fake['Target'] = 0\n",
    "for i in data_for_fake.columns:\n",
    "    fake[i] = np.random.uniform(np.min(data_for_fake[i]), np.max(data_for_fake[i]), size = len(data_for_fake[i]))\n",
    "fake['Target'] = 1"
   ]
  },
  {
   "cell_type": "code",
   "execution_count": null,
   "id": "ab5c2396",
   "metadata": {},
   "outputs": [],
   "source": [
    "data_combined = pd.concat([data_for_fake, fake], axis = 0)"
   ]
  },
  {
   "cell_type": "code",
   "execution_count": null,
   "id": "d97985a9",
   "metadata": {},
   "outputs": [],
   "source": [
    "start = time.process_time()\n",
    "model = RandomForestClassifier(n_estimators = 100)\n",
    "model.fit(data_combined.loc[:, data_combined.columns != 'Target'],data_combined.loc[:, data_combined.columns == 'Target']['Target'] )\n",
    "train_data['Target'] = model.predict_proba(train_data.loc[:, train_data.columns != 'y'])[:,1]\n",
    "end = time.process_time()\n",
    "cade_time = end - start\n",
    "print(end - start)"
   ]
  },
  {
   "cell_type": "code",
   "execution_count": null,
   "id": "937d47d4",
   "metadata": {},
   "outputs": [],
   "source": [
    "auc = {}\n",
    "for i in np.arange(0,0.55,0.05):\n",
    "    train_data['prediction'] = train_data.apply(def_outlier_cade, args=(i,), axis = 1)\n",
    "    fpr, tpr, _ = metrics.roc_curve(train_data['y'], train_data['prediction'])\n",
    "    auc[i] = metrics.auc(fpr, tpr)\n",
    "max_key = max(auc, key=auc.get)"
   ]
  },
  {
   "cell_type": "code",
   "execution_count": null,
   "id": "7091770a",
   "metadata": {},
   "outputs": [],
   "source": [
    "train_data['prediction'] = train_data.apply(def_outlier_cade,args=(max_key,), axis = 1)"
   ]
  },
  {
   "cell_type": "code",
   "execution_count": null,
   "id": "b67b449e",
   "metadata": {},
   "outputs": [],
   "source": [
    "confusion_matrix(train_data['y'], train_data['prediction'])"
   ]
  },
  {
   "cell_type": "code",
   "execution_count": null,
   "id": "71326baa",
   "metadata": {},
   "outputs": [],
   "source": [
    "fpr, tpr, _ = metrics.roc_curve(train_data['y'], train_data['Target'])\n",
    "cade_auc = metrics.auc(fpr, tpr)\n",
    "metrics.auc(fpr, tpr)"
   ]
  },
  {
   "cell_type": "code",
   "execution_count": null,
   "id": "6f39b10e",
   "metadata": {},
   "outputs": [],
   "source": [
    "cade_report = classification_report(train_data['y'], train_data['prediction'], target_names = ['0','1'], output_dict = True)\n",
    "print(classification_report(train_data['y'], train_data['prediction'], target_names = ['0','1']))"
   ]
  },
  {
   "cell_type": "code",
   "execution_count": null,
   "id": "c994f21b",
   "metadata": {},
   "outputs": [],
   "source": [
    "precision, recall, thresholds = precision_recall_curve(train_data['y'], train_data['Target'])\n",
    "cade_auc_precision_recall = metrics.auc(recall, precision)\n",
    "print(cade_auc_precision_recall)"
   ]
  },
  {
   "cell_type": "markdown",
   "id": "adedf754-f522-4c4c-924f-5f9c99cad816",
   "metadata": {
    "jp-MarkdownHeadingCollapsed": true,
    "tags": []
   },
   "source": [
    "### Deep Autoencoders"
   ]
  },
  {
   "cell_type": "markdown",
   "id": "66c45a6c",
   "metadata": {},
   "source": [
    "Source: https://www.analyticsvidhya.com/blog/2021/05/anomaly-detection-using-autoencoders-a-walk-through-in-python/"
   ]
  },
  {
   "cell_type": "code",
   "execution_count": null,
   "id": "58f77b70-d337-4409-ada2-3e9b62d59414",
   "metadata": {},
   "outputs": [],
   "source": [
    "features = data.drop(columns = ['y'])\n",
    "target = data['y']"
   ]
  },
  {
   "cell_type": "code",
   "execution_count": null,
   "id": "d51e8268-11c9-49f4-8ef3-ecf1c2226441",
   "metadata": {},
   "outputs": [],
   "source": [
    "min_max_scaler = MinMaxScaler(feature_range=(0, 1))\n",
    "x_train_scaled = min_max_scaler.fit_transform(features.copy())"
   ]
  },
  {
   "cell_type": "code",
   "execution_count": null,
   "id": "7f2afce2-551f-4ead-9f71-89088bf5c71b",
   "metadata": {},
   "outputs": [],
   "source": [
    "class AutoEncoder(Model):\n",
    "\n",
    "    def __init__(self, output_units):\n",
    "        super().__init__()\n",
    "        self.encoder = Sequential([\n",
    "          Dense(3,input_dim = output_units, activation='sigmoid'),\n",
    "          Dropout(0.1),\n",
    "          Dense(3, activation='relu'),\n",
    "          Dropout(0.1),\n",
    "          Dense(3, activation='relu')\n",
    "        ])\n",
    "        self.decoder = Sequential([\n",
    "          Dense(3, activation='relu'),\n",
    "          Dropout(0.1),\n",
    "          Dense(3,  activation='relu'),\n",
    "          Dropout(0.1),\n",
    "          Dense(output_units, activation='sigmoid')\n",
    "        ])\n",
    "  \n",
    "    def call(self, inputs):\n",
    "        encoded = self.encoder(inputs)\n",
    "        decoded = self.decoder(encoded)\n",
    "        return decoded"
   ]
  },
  {
   "cell_type": "code",
   "execution_count": null,
   "id": "1d6f537b-7e7e-4342-aa4f-c456a698eece",
   "metadata": {},
   "outputs": [],
   "source": [
    "def find_threshold(model, x_train_scaled):\n",
    "    reconstructions = model.predict(x_train_scaled)\n",
    "    reconstruction_errors = tf.keras.losses.msle(reconstructions, x_train_scaled)\n",
    "    threshold = np.mean(reconstruction_errors.numpy()) + np.std(reconstruction_errors.numpy())\n",
    "    return threshold\n",
    "\n",
    "def get_predictions(model, x_train_scaled, threshold):\n",
    "    predictions = model.predict(x_train_scaled)\n",
    "    errors = tf.keras.losses.msle(predictions, x_train_scaled)\n",
    "    anomaly_mask = pd.Series(errors) > threshold\n",
    "    preds = anomaly_mask.map(lambda x: 1.0 if x == True else 0.0)\n",
    "    return preds, errors"
   ]
  },
  {
   "cell_type": "code",
   "execution_count": null,
   "id": "d2e9c596-b841-4bfa-927f-8c4ae6cb8f41",
   "metadata": {},
   "outputs": [],
   "source": [
    "start = time.process_time()\n",
    "\n",
    "model = AutoEncoder(output_units=x_train_scaled.shape[1])\n",
    "\n",
    "model.compile(loss='msle', metrics=['mse'], optimizer='adam')\n",
    "\n",
    "history = model.fit(\n",
    "    x_train_scaled,\n",
    "    x_train_scaled,\n",
    "    epochs=20,\n",
    "    batch_size=512,\n",
    ")\n",
    "\n",
    "threshold = find_threshold(model, x_train_scaled)\n",
    "\n",
    "predictions, scores = get_predictions(model, x_train_scaled, threshold)\n",
    "\n",
    "end = time.process_time()\n",
    "deep_autoencoders_time = end - start\n",
    "print(end - start)"
   ]
  },
  {
   "cell_type": "code",
   "execution_count": null,
   "id": "176f4d12-b008-42b3-89e4-203bf8905c7f",
   "metadata": {},
   "outputs": [],
   "source": [
    "confusion_matrix(target, predictions)"
   ]
  },
  {
   "cell_type": "code",
   "execution_count": null,
   "id": "8c9be5b0-9dd7-4201-a40b-d17169668530",
   "metadata": {},
   "outputs": [],
   "source": [
    "fpr, tpr, _ = metrics.roc_curve(target, scores)\n",
    "deep_autoencoders_auc = metrics.auc(fpr, tpr)\n",
    "metrics.auc(fpr, tpr)"
   ]
  },
  {
   "cell_type": "code",
   "execution_count": null,
   "id": "ffff72d9-bfb7-4601-8b35-beeb3220df90",
   "metadata": {},
   "outputs": [],
   "source": [
    "deep_autoencoders_report = classification_report(target, predictions, target_names = ['0','1'], output_dict = True)\n",
    "print(classification_report(target, predictions, target_names = ['0','1']))"
   ]
  },
  {
   "cell_type": "code",
   "execution_count": null,
   "id": "79c4f87b-d4a5-4964-80a1-831c301b2e22",
   "metadata": {},
   "outputs": [],
   "source": [
    "precision, recall, thresholds = precision_recall_curve(target, scores)\n",
    "deep_ae_auc_precision_recall = metrics.auc(recall, precision)\n",
    "print(deep_ae_auc_precision_recall)"
   ]
  },
  {
   "cell_type": "markdown",
   "id": "fe9fdad1-0858-402f-8c50-f6f04b848660",
   "metadata": {
    "jp-MarkdownHeadingCollapsed": true,
    "tags": []
   },
   "source": [
    "### Autoencoders"
   ]
  },
  {
   "cell_type": "markdown",
   "id": "f8472f97",
   "metadata": {},
   "source": [
    "Source: https://www.analyticsvidhya.com/blog/2021/05/anomaly-detection-using-autoencoders-a-walk-through-in-python/"
   ]
  },
  {
   "cell_type": "code",
   "execution_count": null,
   "id": "82be1c93-078c-44f4-9528-6f1c4e5e5d1d",
   "metadata": {},
   "outputs": [],
   "source": [
    "features = data.drop(columns = ['y'])\n",
    "target = data['y']"
   ]
  },
  {
   "cell_type": "code",
   "execution_count": null,
   "id": "25f24696-0a1a-43fe-b6dd-f18529a88a40",
   "metadata": {},
   "outputs": [],
   "source": [
    "min_max_scaler = MinMaxScaler(feature_range=(0, 1))\n",
    "x_train_scaled = min_max_scaler.fit_transform(features.copy())"
   ]
  },
  {
   "cell_type": "code",
   "execution_count": null,
   "id": "cb057aa2-064b-4b61-b6ed-ba1716051e2d",
   "metadata": {},
   "outputs": [],
   "source": [
    "class AutoEncoder(Model):\n",
    "\n",
    "    def __init__(self, output_units):\n",
    "        super().__init__()\n",
    "        self.encoder = Sequential([\n",
    "          Dense(3,input_dim = output_units, activation='relu'),\n",
    "          Dropout(0.1),\n",
    "        ])\n",
    "        self.decoder = Sequential([\n",
    "          Dense(output_units, activation='sigmoid')\n",
    "        ])\n",
    "  \n",
    "    def call(self, inputs):\n",
    "        encoded = self.encoder(inputs)\n",
    "        decoded = self.decoder(encoded)\n",
    "        return decoded"
   ]
  },
  {
   "cell_type": "code",
   "execution_count": null,
   "id": "360d5bbc-5d11-42f5-b6a9-b44d150e3697",
   "metadata": {},
   "outputs": [],
   "source": [
    "def find_threshold(model, x_train_scaled):\n",
    "    reconstructions = model.predict(x_train_scaled)\n",
    "    reconstruction_errors = tf.keras.losses.msle(reconstructions, x_train_scaled)\n",
    "    threshold = np.mean(reconstruction_errors.numpy()) + np.std(reconstruction_errors.numpy())\n",
    "    return threshold\n",
    "\n",
    "def get_predictions(model, x_train_scaled, threshold):\n",
    "    predictions = model.predict(x_train_scaled)\n",
    "    errors = tf.keras.losses.msle(predictions, x_train_scaled)\n",
    "    anomaly_mask = pd.Series(errors) > threshold\n",
    "    preds = anomaly_mask.map(lambda x: 1.0 if x == True else 0.0)\n",
    "    return preds, errors"
   ]
  },
  {
   "cell_type": "code",
   "execution_count": null,
   "id": "bd61f040-a2f7-4854-af46-c88c49dc29ba",
   "metadata": {},
   "outputs": [],
   "source": [
    "start = time.process_time()\n",
    "\n",
    "model = AutoEncoder(output_units=x_train_scaled.shape[1])\n",
    "\n",
    "model.compile(loss='msle', metrics=['mse'], optimizer='adam')\n",
    "\n",
    "history = model.fit(\n",
    "    x_train_scaled,\n",
    "    x_train_scaled,\n",
    "    epochs=20,\n",
    "    batch_size=512,\n",
    ")\n",
    "\n",
    "threshold = find_threshold(model, x_train_scaled)\n",
    "\n",
    "predictions, scores = get_predictions(model, x_train_scaled, threshold)\n",
    "\n",
    "end = time.process_time()\n",
    "autoencoders_time = end - start\n",
    "print(end - start)"
   ]
  },
  {
   "cell_type": "code",
   "execution_count": null,
   "id": "58dc1eeb-38db-4450-bfda-d46de9344592",
   "metadata": {},
   "outputs": [],
   "source": [
    "confusion_matrix(target, predictions)"
   ]
  },
  {
   "cell_type": "code",
   "execution_count": null,
   "id": "a3352c6c-2e52-410a-9306-dcabe12733ef",
   "metadata": {},
   "outputs": [],
   "source": [
    "fpr, tpr, _ = metrics.roc_curve(target, scores)\n",
    "autoencoders_auc = metrics.auc(fpr, tpr)\n",
    "metrics.auc(fpr, tpr)"
   ]
  },
  {
   "cell_type": "code",
   "execution_count": null,
   "id": "7469f13b-0fa0-4571-a118-934d2002427e",
   "metadata": {},
   "outputs": [],
   "source": [
    "autoencoders_report = classification_report(target, predictions, target_names = ['0','1'], output_dict = True)\n",
    "print(classification_report(target, predictions, target_names = ['0','1']))"
   ]
  },
  {
   "cell_type": "code",
   "execution_count": null,
   "id": "5ed85ff5-bcaf-4410-9cb3-8877d2589d0c",
   "metadata": {},
   "outputs": [],
   "source": [
    "precision, recall, thresholds = precision_recall_curve(target, scores)\n",
    "ae_auc_precision_recall = metrics.auc(recall, precision)\n",
    "print(ae_auc_precision_recall)"
   ]
  },
  {
   "cell_type": "markdown",
   "id": "6d0993c7-c190-4a08-91d3-ce34a3d56b82",
   "metadata": {
    "jp-MarkdownHeadingCollapsed": true,
    "tags": []
   },
   "source": [
    "### One-Class SVM rbf"
   ]
  },
  {
   "cell_type": "code",
   "execution_count": null,
   "id": "b8c5ba82-62a5-437a-9968-d83472912b46",
   "metadata": {},
   "outputs": [],
   "source": [
    "features = data.drop(columns = ['y'])\n",
    "target = data['y']"
   ]
  },
  {
   "cell_type": "code",
   "execution_count": null,
   "id": "45e9e388-5fef-4064-bfee-a9e0bf68443f",
   "metadata": {},
   "outputs": [],
   "source": [
    "min_max_scaler = MinMaxScaler(feature_range=(0, 1))\n",
    "x_train_scaled = min_max_scaler.fit_transform(features.copy())"
   ]
  },
  {
   "cell_type": "code",
   "execution_count": null,
   "id": "731c345e-9576-4bfa-a946-99700b3b149c",
   "metadata": {},
   "outputs": [],
   "source": [
    "start = time.process_time()\n",
    "\n",
    "model = OneClassSVM(gamma='scale', nu=0.1)\n",
    "model.fit(x_train_scaled)\n",
    "yhat = model.predict(x_train_scaled)\n",
    "y_scores = -model.decision_function(x_train_scaled)\n",
    "\n",
    "end = time.process_time()\n",
    "rbf_oc_svm_time = end - start\n",
    "print(end - start)"
   ]
  },
  {
   "cell_type": "code",
   "execution_count": null,
   "id": "6c174c15-a761-4d59-81e8-466253b94f77",
   "metadata": {},
   "outputs": [],
   "source": [
    "predictions = pd.DataFrame(yhat, columns = ['y_pred']).apply(def_outlier, axis = 1)"
   ]
  },
  {
   "cell_type": "code",
   "execution_count": null,
   "id": "9f447ccf-63f0-4aa9-9a76-f5c35e91f794",
   "metadata": {},
   "outputs": [],
   "source": [
    "fpr, tpr, _ = metrics.roc_curve(target, y_scores)\n",
    "rbf_oc_svm_auc = metrics.auc(fpr, tpr)\n",
    "metrics.auc(fpr, tpr)"
   ]
  },
  {
   "cell_type": "code",
   "execution_count": null,
   "id": "245e92ea-e0ca-462d-8fed-2164ef0739e9",
   "metadata": {},
   "outputs": [],
   "source": [
    "rbf_oc_svm_report = classification_report(target, predictions, target_names = ['0','1'], output_dict = True)\n",
    "print(classification_report(target, predictions, target_names = ['0','1']))"
   ]
  },
  {
   "cell_type": "code",
   "execution_count": null,
   "id": "48f419b4-1287-473e-9c6d-2e5bcbc113bd",
   "metadata": {},
   "outputs": [],
   "source": [
    "precision, recall, thresholds = precision_recall_curve(target, y_scores)\n",
    "ocsvm_rbf_auc_precision_recall = metrics.auc(recall, precision)\n",
    "print(ocsvm_rbf_auc_precision_recall)"
   ]
  },
  {
   "cell_type": "markdown",
   "id": "8dae84df-f5c7-43c5-afff-d1e601610a79",
   "metadata": {
    "jp-MarkdownHeadingCollapsed": true,
    "tags": []
   },
   "source": [
    "### One-Class SVM linear"
   ]
  },
  {
   "cell_type": "code",
   "execution_count": null,
   "id": "4669671f-b3db-4bc4-8097-2f92c0b4a542",
   "metadata": {},
   "outputs": [],
   "source": [
    "features = data.drop(columns = ['y'])\n",
    "target = data['y']"
   ]
  },
  {
   "cell_type": "code",
   "execution_count": null,
   "id": "2cc0ec54-49f4-455d-a571-66e855c349f4",
   "metadata": {},
   "outputs": [],
   "source": [
    "min_max_scaler = MinMaxScaler(feature_range=(0, 1))\n",
    "x_train_scaled = min_max_scaler.fit_transform(features.copy())"
   ]
  },
  {
   "cell_type": "code",
   "execution_count": null,
   "id": "9a7fae86-5ec6-4443-b03c-81337a1b1c8e",
   "metadata": {},
   "outputs": [],
   "source": [
    "start = time.process_time()\n",
    "\n",
    "model = OneClassSVM(kernel = 'linear', nu=0.1)\n",
    "model.fit(x_train_scaled)\n",
    "yhat = model.predict(x_train_scaled)\n",
    "y_scores = -model.decision_function(x_train_scaled)\n",
    "\n",
    "end = time.process_time()\n",
    "lin_oc_svm_time = end - start\n",
    "print(end - start)"
   ]
  },
  {
   "cell_type": "code",
   "execution_count": null,
   "id": "b8d4f2e2-86d0-45cc-93a5-c243fd5ac388",
   "metadata": {},
   "outputs": [],
   "source": [
    "predictions = pd.DataFrame(yhat, columns = ['y_pred']).apply(def_outlier, axis = 1)"
   ]
  },
  {
   "cell_type": "code",
   "execution_count": null,
   "id": "847eca48-dd5b-4db3-8c49-0f7b29ee1476",
   "metadata": {},
   "outputs": [],
   "source": [
    "fpr, tpr, _ = metrics.roc_curve(target, y_scores)\n",
    "lin_oc_svm_auc = metrics.auc(fpr, tpr)\n",
    "metrics.auc(fpr, tpr)"
   ]
  },
  {
   "cell_type": "code",
   "execution_count": null,
   "id": "43f6988c-619d-4491-a6d5-4c1cf8dcadfc",
   "metadata": {},
   "outputs": [],
   "source": [
    "lin_oc_svm_report = classification_report(target, predictions, target_names = ['0','1'], output_dict = True)\n",
    "print(classification_report(target, predictions, target_names = ['0','1']))"
   ]
  },
  {
   "cell_type": "code",
   "execution_count": null,
   "id": "d65e9fbb",
   "metadata": {},
   "outputs": [],
   "source": [
    "precision, recall, thresholds = precision_recall_curve(target, y_scores)\n",
    "ocsvm_lin_auc_precision_recall = metrics.auc(recall, precision)\n",
    "print(ocsvm_lin_auc_precision_recall)"
   ]
  },
  {
   "cell_type": "markdown",
   "id": "37bf0369-d65e-47ac-9adf-f84a2872c48b",
   "metadata": {
    "jp-MarkdownHeadingCollapsed": true,
    "tags": []
   },
   "source": [
    "### Performance"
   ]
  },
  {
   "cell_type": "code",
   "execution_count": null,
   "id": "edf251fe-6eb2-4f10-949b-5ae76a9c65f4",
   "metadata": {},
   "outputs": [],
   "source": [
    "annthyroid_performance = pd.DataFrame(columns = ['method','f1-score','sensitivity',\n",
    "                                                 'precision','Time','AUC','AU precision-recall curve'])"
   ]
  },
  {
   "cell_type": "code",
   "execution_count": null,
   "id": "e4be723e-7cae-40d6-b71f-0399982b542b",
   "metadata": {},
   "outputs": [],
   "source": [
    "iforest_performance = {'method':'iForest',\n",
    "               'f1-score':iforest_report['1']['f1-score'], \n",
    "               'sensitivity':iforest_report['1']['recall'],\n",
    "                'precision':iforest_report['1']['precision'],\n",
    "              'Time':iforest_time,\n",
    "              'AUC':iforest_auc,\n",
    "                      'AU precision-recall curve': iforest_auc_precision_recall}\n",
    "lof_performance = {'method':'LOF',\n",
    "               'f1-score':lof_report['1']['f1-score'], \n",
    "               'sensitivity':lof_report['1']['recall'],\n",
    "               'precision':lof_report['1']['precision'],    \n",
    "              'Time':lof_time,\n",
    "              'AUC':lof_auc,\n",
    "                  'AU precision-recall curve': lof_auc_precision_recall}\n",
    "dbscan_performance = { 'method':'DBSCAN',\n",
    "               'f1-score':dbscan_report['1']['f1-score'], \n",
    "               'sensitivity':dbscan_report['1']['recall'],\n",
    "               'precision':dbscan_report['1']['precision'],       \n",
    "              'Time':dbscan_time,\n",
    "              'AUC':dbscan_auc,\n",
    "                     'AU precision-recall curve': dbscan_auc_precision_recall}\n",
    "cade_performance = { 'method':'CADE',\n",
    "               'f1-score':cade_report['1']['f1-score'], \n",
    "               'sensitivity':cade_report['1']['recall'],\n",
    "               'precision':cade_report['1']['precision'],     \n",
    "              'Time':cade_time,\n",
    "              'AUC':cade_auc,\n",
    "                   'AU precision-recall curve': cade_auc_precision_recall}\n",
    "deep_autoencoders_performance = {'method':'Deep Autoencoders',\n",
    "               'f1-score':deep_autoencoders_report['1']['f1-score'], \n",
    "               'sensitivity':deep_autoencoders_report['1']['recall'],\n",
    "               'precision':deep_autoencoders_report['1']['precision'],                  \n",
    "              'Time':deep_autoencoders_time,\n",
    "              'AUC':deep_autoencoders_auc,\n",
    "                                'AU precision-recall curve': deep_ae_auc_precision_recall}\n",
    "autoencoders_performance = {'method':'Autoencoders',\n",
    "               'f1-score':autoencoders_report['1']['f1-score'], \n",
    "               'sensitivity':autoencoders_report['1']['recall'],\n",
    "               'precision':autoencoders_report['1']['precision'],             \n",
    "              'Time':autoencoders_time,\n",
    "              'AUC':autoencoders_auc,\n",
    "                           'AU precision-recall curve': ae_auc_precision_recall}\n",
    "rbf_oc_svm_performance = {'method':'OC-SVM rbf',\n",
    "               'f1-score':rbf_oc_svm_report['1']['f1-score'], \n",
    "               'sensitivity':rbf_oc_svm_report['1']['recall'],\n",
    "               'precision':rbf_oc_svm_report['1']['precision'],           \n",
    "              'Time':rbf_oc_svm_time,\n",
    "              'AUC':rbf_oc_svm_auc,\n",
    "                         'AU precision-recall curve': ocsvm_rbf_auc_precision_recall}\n",
    "lin_oc_svm_performance = {'method':'OC-SVM linear',\n",
    "               'f1-score':lin_oc_svm_report['1']['f1-score'], \n",
    "               'sensitivity':lin_oc_svm_report['1']['recall'],\n",
    "               'precision':lin_oc_svm_report['1']['precision'],           \n",
    "              'Time':lin_oc_svm_time,\n",
    "              'AUC':lin_oc_svm_auc,\n",
    "                         'AU precision-recall curve':ocsvm_lin_auc_precision_recall }"
   ]
  },
  {
   "cell_type": "code",
   "execution_count": null,
   "id": "604a2d63-7922-4bc9-b691-dd97d4b0cc09",
   "metadata": {},
   "outputs": [],
   "source": [
    "annthyroid_performance = annthyroid_performance.append(iforest_performance, ignore_index = True)\n",
    "annthyroid_performance = annthyroid_performance.append(lof_performance, ignore_index = True)\n",
    "annthyroid_performance = annthyroid_performance.append(dbscan_performance, ignore_index = True)\n",
    "annthyroid_performance = annthyroid_performance.append(cade_performance, ignore_index = True)\n",
    "annthyroid_performance = annthyroid_performance.append(deep_autoencoders_performance, ignore_index = True)\n",
    "annthyroid_performance = annthyroid_performance.append(autoencoders_performance, ignore_index = True)\n",
    "annthyroid_performance = annthyroid_performance.append(rbf_oc_svm_performance, ignore_index = True)\n",
    "annthyroid_performance = annthyroid_performance.append(lin_oc_svm_performance, ignore_index = True)"
   ]
  },
  {
   "cell_type": "markdown",
   "id": "8c02c6cb-54b6-4c76-af0d-27bdcdfe0c35",
   "metadata": {
    "tags": []
   },
   "source": [
    "## Kaggle Credit card fraud detection"
   ]
  },
  {
   "cell_type": "markdown",
   "id": "f834d55d",
   "metadata": {},
   "source": [
    "**Dataset source**: https://www.kaggle.com/mlg-ulb/creditcardfraud\n",
    "\n",
    "**Additional sources**:\n",
    "\n",
    "Andrea Dal Pozzolo, Olivier Caelen, Reid A. Johnson and Gianluca Bontempi. Calibrating Probability with Undersampling for Unbalanced Classification. In Symposium on Computational Intelligence and Data Mining (CIDM), IEEE, 2015\n",
    "\n",
    "Dal Pozzolo, Andrea; Caelen, Olivier; Le Borgne, Yann-Ael; Waterschoot, Serge; Bontempi, Gianluca. Learned lessons in credit card fraud detection from a practitioner perspective, Expert systems with applications,41,10,4915-4928,2014, Pergamon\n",
    "\n",
    "Dal Pozzolo, Andrea; Boracchi, Giacomo; Caelen, Olivier; Alippi, Cesare; Bontempi, Gianluca. Credit card fraud detection: a realistic modeling and a novel learning strategy, IEEE transactions on neural networks and learning systems,29,8,3784-3797,2018,IEEE\n",
    "\n",
    "Dal Pozzolo, Andrea Adaptive Machine learning for credit card fraud detection ULB MLG PhD thesis (supervised by G. Bontempi)\n",
    "\n",
    "Carcillo, Fabrizio; Dal Pozzolo, Andrea; Le Borgne, Yann-Aël; Caelen, Olivier; Mazzer, Yannis; Bontempi, Gianluca. Scarff: a scalable framework for streaming credit card fraud detection with Spark, Information fusion,41, 182-194,2018,Elsevier\n",
    "\n",
    "Carcillo, Fabrizio; Le Borgne, Yann-Aël; Caelen, Olivier; Bontempi, Gianluca. Streaming active learning strategies for real-life credit card fraud detection: assessment and visualization, International Journal of Data Science and Analytics, 5,4,285-300,2018,Springer International Publishing\n",
    "\n",
    "Bertrand Lebichot, Yann-Aël Le Borgne, Liyun He, Frederic Oblé, Gianluca Bontempi Deep-Learning Domain Adaptation Techniques for Credit Cards Fraud Detection, INNSBDDL 2019: Recent Advances in Big Data and Deep Learning, pp 78-88, 2019\n",
    "\n",
    "Fabrizio Carcillo, Yann-Aël Le Borgne, Olivier Caelen, Frederic Oblé, Gianluca Bontempi Combining Unsupervised and Supervised Learning in Credit Card Fraud Detection Information Sciences, 2019\n",
    "\n",
    "Yann-Aël Le Borgne, Gianluca Bontempi Machine Learning for Credit Card Fraud Detection - Practical Handbook"
   ]
  },
  {
   "cell_type": "code",
   "execution_count": null,
   "id": "abaad9a8-e22d-40a5-9e2b-1611697c48c8",
   "metadata": {},
   "outputs": [],
   "source": [
    "data = pd.read_csv('./creditcard.csv')"
   ]
  },
  {
   "cell_type": "code",
   "execution_count": null,
   "id": "f805c4b2-f0cf-4b91-bd69-60bb6acf57d6",
   "metadata": {},
   "outputs": [],
   "source": [
    "data = data.drop(columns = ['Time'])"
   ]
  },
  {
   "cell_type": "code",
   "execution_count": null,
   "id": "c53f52a7-5385-452d-b93e-0526c104f5c4",
   "metadata": {},
   "outputs": [],
   "source": [
    "data.shape"
   ]
  },
  {
   "cell_type": "code",
   "execution_count": null,
   "id": "64fd85a8",
   "metadata": {},
   "outputs": [],
   "source": [
    "data.head()"
   ]
  },
  {
   "cell_type": "code",
   "execution_count": null,
   "id": "ff70cce9",
   "metadata": {},
   "outputs": [],
   "source": [
    "pd.pivot_table(data,\n",
    "             values = 'V1',\n",
    "               index = 'Class', \n",
    "              aggfunc = 'count')"
   ]
  },
  {
   "cell_type": "markdown",
   "id": "a6960a1f-2d2b-4329-907b-57a2e0f7bf01",
   "metadata": {
    "jp-MarkdownHeadingCollapsed": true,
    "tags": []
   },
   "source": [
    "### iForest"
   ]
  },
  {
   "cell_type": "code",
   "execution_count": null,
   "id": "953dc268",
   "metadata": {},
   "outputs": [],
   "source": [
    "train_data = data.copy()"
   ]
  },
  {
   "cell_type": "code",
   "execution_count": null,
   "id": "4975319b-8081-4b77-b31e-e469381b1fcc",
   "metadata": {},
   "outputs": [],
   "source": [
    "start = time.process_time()\n",
    "\n",
    "rng = np.random.RandomState(42)\n",
    "clf = IsolationForest(max_samples=256, random_state=rng, n_estimators=100)\n",
    "clf.fit(train_data.loc[:, train_data.columns != 'Class'])\n",
    "y_pred = clf.predict(train_data.loc[:, train_data.columns != 'Class'])\n",
    "y_scores = clf.score_samples(train_data.loc[:, train_data.columns != 'Class'])\n",
    "\n",
    "end = time.process_time()\n",
    "iforest_time = end - start\n",
    "print(end - start)"
   ]
  },
  {
   "cell_type": "code",
   "execution_count": null,
   "id": "3386ac14-a5be-42aa-9da2-4257cdb684d2",
   "metadata": {},
   "outputs": [],
   "source": [
    "train_data['y_pred'] = y_pred\n",
    "train_data['prediction'] = train_data.apply(def_outlier, axis = 1)\n",
    "train_data['y_scores'] = -y_scores"
   ]
  },
  {
   "cell_type": "code",
   "execution_count": null,
   "id": "c3bbe549-7336-47bf-ad6a-0a582f8dce94",
   "metadata": {},
   "outputs": [],
   "source": [
    "confusion_matrix(train_data['Class'], train_data['prediction'])"
   ]
  },
  {
   "cell_type": "code",
   "execution_count": null,
   "id": "1acd79b9-1218-4f41-b1a9-0496237cf427",
   "metadata": {},
   "outputs": [],
   "source": [
    "fpr, tpr, _ = metrics.roc_curve(train_data['Class'], train_data['y_scores'])\n",
    "iforest_auc = metrics.auc(fpr, tpr)\n",
    "metrics.auc(fpr, tpr)"
   ]
  },
  {
   "cell_type": "code",
   "execution_count": null,
   "id": "13cbb789-5108-40d7-a569-7754a04ae2d1",
   "metadata": {},
   "outputs": [],
   "source": [
    "iforest_report = classification_report(train_data['Class'], train_data['prediction'], target_names = ['0','1'], output_dict = True)\n",
    "print(classification_report(train_data['Class'], train_data['prediction'], target_names = ['0','1']))"
   ]
  },
  {
   "cell_type": "code",
   "execution_count": null,
   "id": "6e5bbe46",
   "metadata": {},
   "outputs": [],
   "source": [
    "precision, recall, thresholds = precision_recall_curve(train_data['Class'], train_data['y_scores'])\n",
    "iforest_auc_precision_recall = metrics.auc(recall, precision)\n",
    "print(iforest_auc_precision_recall)"
   ]
  },
  {
   "cell_type": "markdown",
   "id": "fb6d8b4c-6552-45c5-80ab-9d9bc90d9ceb",
   "metadata": {
    "jp-MarkdownHeadingCollapsed": true,
    "tags": []
   },
   "source": [
    "### LOF"
   ]
  },
  {
   "cell_type": "code",
   "execution_count": null,
   "id": "8eec127e-fef5-4765-a3ce-34adbe9fa276",
   "metadata": {},
   "outputs": [],
   "source": [
    "min_max_scaler = MinMaxScaler(feature_range=(0, 1))\n",
    "train_data = min_max_scaler.fit_transform(data.copy())\n",
    "train_data = pd.DataFrame(train_data)\n",
    "train_data.columns = data.columns"
   ]
  },
  {
   "cell_type": "code",
   "execution_count": null,
   "id": "d416503d-8905-42ac-a4c0-3fd68c687ffc",
   "metadata": {},
   "outputs": [],
   "source": [
    "start = time.process_time()\n",
    "\n",
    "lof = LocalOutlierFactor(n_neighbors=2848, contamination=.1, novelty=False)\n",
    "y_pred = lof.fit_predict(train_data.loc[:, train_data.columns != 'Class'])\n",
    "y_scores = lof.negative_outlier_factor_\n",
    "\n",
    "end = time.process_time()\n",
    "lof_time = end - start\n",
    "print(end - start)"
   ]
  },
  {
   "cell_type": "code",
   "execution_count": null,
   "id": "13f150c0-0201-4853-8473-3704b0ce52af",
   "metadata": {},
   "outputs": [],
   "source": [
    "train_data['y_pred'] = y_pred\n",
    "train_data['prediction'] = train_data.apply(def_outlier, axis = 1)\n",
    "train_data['y_scores'] = -y_scores"
   ]
  },
  {
   "cell_type": "code",
   "execution_count": null,
   "id": "07b648a0-ab9a-409e-b49e-c853cef0ed25",
   "metadata": {},
   "outputs": [],
   "source": [
    "confusion_matrix(train_data['Class'], train_data['prediction'])"
   ]
  },
  {
   "cell_type": "code",
   "execution_count": null,
   "id": "962b71d5-8204-4e60-a602-badf79f4b55a",
   "metadata": {},
   "outputs": [],
   "source": [
    "fpr, tpr, _ = metrics.roc_curve(train_data['Class'], train_data['y_scores'])\n",
    "lof_auc = metrics.auc(fpr, tpr)\n",
    "metrics.auc(fpr, tpr)"
   ]
  },
  {
   "cell_type": "code",
   "execution_count": null,
   "id": "40d12082-efdc-4887-9c47-eef09d98b559",
   "metadata": {},
   "outputs": [],
   "source": [
    "lof_report = classification_report(train_data['Class'], train_data['prediction'], target_names = ['0','1'], output_dict = True)\n",
    "print(classification_report(train_data['Class'], train_data['prediction'], target_names = ['0','1']))"
   ]
  },
  {
   "cell_type": "code",
   "execution_count": null,
   "id": "36ca9c96",
   "metadata": {},
   "outputs": [],
   "source": [
    "precision, recall, thresholds = precision_recall_curve(train_data['Class'], train_data['y_scores'])\n",
    "lof_auc_precision_recall = metrics.auc(recall, precision)\n",
    "print(lof_auc_precision_recall)"
   ]
  },
  {
   "cell_type": "markdown",
   "id": "df8880e1",
   "metadata": {
    "jp-MarkdownHeadingCollapsed": true,
    "tags": []
   },
   "source": [
    "### DBSCAN"
   ]
  },
  {
   "cell_type": "code",
   "execution_count": null,
   "id": "705acba5",
   "metadata": {},
   "outputs": [],
   "source": [
    "min_max_scaler = MinMaxScaler(feature_range=(0, 1))\n",
    "train_data = min_max_scaler.fit_transform(data.copy())\n",
    "train_data = pd.DataFrame(train_data)\n",
    "train_data.columns = data.columns"
   ]
  },
  {
   "cell_type": "code",
   "execution_count": null,
   "id": "d1dc58cb-ba55-4311-876d-8644591b7295",
   "metadata": {},
   "outputs": [],
   "source": [
    "data_dbscan = train_data.sample(frac=0.1)"
   ]
  },
  {
   "cell_type": "code",
   "execution_count": null,
   "id": "5990f462",
   "metadata": {},
   "outputs": [],
   "source": [
    "dist = dbscan_tuner(data_dbscan,57)"
   ]
  },
  {
   "cell_type": "code",
   "execution_count": null,
   "id": "90233a34",
   "metadata": {},
   "outputs": [],
   "source": [
    "start = time.process_time()\n",
    "dbscan = DBSCAN(eps = 0.15, min_samples = 58)\n",
    "clusters = dbscan.fit_predict(train_data.loc[:, train_data.columns != 'Class'])\n",
    "end = time.process_time()\n",
    "dbscan_time = end - start\n",
    "print(end - start)"
   ]
  },
  {
   "cell_type": "code",
   "execution_count": null,
   "id": "24de04a2",
   "metadata": {},
   "outputs": [],
   "source": [
    "train_data['y_pred'] = clusters\n",
    "train_data['prediction'] = train_data.apply(def_outlier, axis = 1)"
   ]
  },
  {
   "cell_type": "code",
   "execution_count": null,
   "id": "f0399fa4",
   "metadata": {},
   "outputs": [],
   "source": [
    "original_columns = data.columns.to_list()\n",
    "original_columns.remove('Class')\n",
    "\n",
    "data_w_score = pd.DataFrame(columns = train_data.columns.to_list())\n",
    "data_w_score['score'] = pd.NaT\n",
    "for i in set(clusters):\n",
    "    if i == -1:\n",
    "        continue\n",
    "    score_data = train_data[train_data['y_pred'] == i].copy()\n",
    "    center = score_data[original_columns].mean().to_list()\n",
    "    score_data['score'] = score_data.apply(lambda x : distance.euclidean(x[original_columns].to_list(), center),1)\n",
    "    data_w_score = data_w_score.append(score_data.copy(), ignore_index = True)\n",
    "\n",
    "anomalies_data = train_data[train_data['y_pred'] == -1].copy()\n",
    "anomalies_data['score'] = ''\n",
    "cluster_centers = pd.pivot_table(train_data,\n",
    "              index = 'y_pred',\n",
    "              aggfunc = 'mean')"
   ]
  },
  {
   "cell_type": "code",
   "execution_count": null,
   "id": "ab14c428",
   "metadata": {},
   "outputs": [],
   "source": [
    "for i in range(len(anomalies_data)):\n",
    "    anomalies_data['score'].iloc[i] = np.min(cluster_centers[cluster_centers.index != -1].apply(lambda x : \n",
    "                                                                                                distance.euclidean(x[original_columns].to_list(), anomalies_data[original_columns].iloc[i]),1))\n",
    "\n",
    "data_for_auprc = pd.concat([data_w_score, anomalies_data])"
   ]
  },
  {
   "cell_type": "code",
   "execution_count": null,
   "id": "a23d4746",
   "metadata": {},
   "outputs": [],
   "source": [
    "confusion_matrix(train_data['Class'], train_data['prediction'])"
   ]
  },
  {
   "cell_type": "code",
   "execution_count": null,
   "id": "6e210bd4",
   "metadata": {},
   "outputs": [],
   "source": [
    "fpr, tpr, _ = metrics.roc_curve(data_for_auprc['Class'], data_for_auprc['score'])\n",
    "dbscan_auc = metrics.auc(fpr, tpr)\n",
    "metrics.auc(fpr, tpr)"
   ]
  },
  {
   "cell_type": "code",
   "execution_count": null,
   "id": "db11d157",
   "metadata": {},
   "outputs": [],
   "source": [
    "dbscan_report = classification_report(train_data['Class'], train_data['prediction'], target_names = ['0','1'], output_dict = True)\n",
    "print(classification_report(train_data['Class'], train_data['prediction'], target_names = ['0','1']))"
   ]
  },
  {
   "cell_type": "code",
   "execution_count": null,
   "id": "7ec5de22",
   "metadata": {},
   "outputs": [],
   "source": [
    "precision, recall, thresholds = precision_recall_curve(data_for_auprc['Class'], data_for_auprc['score'])\n",
    "dbscan_auc_precision_recall = metrics.auc(recall, precision)\n",
    "print(dbscan_auc_precision_recall)"
   ]
  },
  {
   "cell_type": "markdown",
   "id": "225746d9",
   "metadata": {
    "jp-MarkdownHeadingCollapsed": true,
    "tags": []
   },
   "source": [
    "### CADE"
   ]
  },
  {
   "cell_type": "markdown",
   "id": "464ec2c8",
   "metadata": {},
   "source": [
    "Source: Aric LaBarr, webinar \"Modern Approaches To Anomaly Detection\", November 2, 2021"
   ]
  },
  {
   "cell_type": "code",
   "execution_count": null,
   "id": "4bbaf8ff",
   "metadata": {},
   "outputs": [],
   "source": [
    "train_data = data.copy()"
   ]
  },
  {
   "cell_type": "code",
   "execution_count": null,
   "id": "f8e602af",
   "metadata": {},
   "outputs": [],
   "source": [
    "fake = pd.DataFrame()\n",
    "data_for_fake = train_data.loc[:, train_data.columns != 'Class']\n",
    "data_for_fake['Target'] = 0\n",
    "for i in data_for_fake.columns:\n",
    "    fake[i] = np.random.uniform(np.min(data_for_fake[i]), np.max(data_for_fake[i]), size = len(data_for_fake[i]))\n",
    "fake['Target'] = 1"
   ]
  },
  {
   "cell_type": "code",
   "execution_count": null,
   "id": "a12c4141",
   "metadata": {},
   "outputs": [],
   "source": [
    "data_combined = pd.concat([data_for_fake, fake], axis = 0)"
   ]
  },
  {
   "cell_type": "code",
   "execution_count": null,
   "id": "b6989795",
   "metadata": {},
   "outputs": [],
   "source": [
    "start = time.process_time()\n",
    "model = RandomForestClassifier(n_estimators = 100)\n",
    "model.fit(data_combined.loc[:, data_combined.columns != 'Target'],data_combined.loc[:, data_combined.columns == 'Target']['Target'] )\n",
    "train_data['Target'] = model.predict_proba(train_data.loc[:, train_data.columns != 'Class'])[:,1]\n",
    "end = time.process_time()\n",
    "cade_time = end - start\n",
    "print(end - start)"
   ]
  },
  {
   "cell_type": "code",
   "execution_count": null,
   "id": "901b39e7",
   "metadata": {},
   "outputs": [],
   "source": [
    "auc = {}\n",
    "for i in np.arange(0,0.55,0.05):\n",
    "    train_data['prediction'] = train_data.apply(def_outlier_cade, args=(i,), axis = 1)\n",
    "    fpr, tpr, _ = metrics.roc_curve(train_data['Class'], train_data['prediction'])\n",
    "    auc[i] = metrics.auc(fpr, tpr)\n",
    "max_key = max(auc, key=auc.get)"
   ]
  },
  {
   "cell_type": "code",
   "execution_count": null,
   "id": "c9f511ae",
   "metadata": {},
   "outputs": [],
   "source": [
    "train_data['prediction'] = train_data.apply(def_outlier_cade,args=(max_key,), axis = 1)"
   ]
  },
  {
   "cell_type": "code",
   "execution_count": null,
   "id": "f586e863",
   "metadata": {},
   "outputs": [],
   "source": [
    "confusion_matrix(train_data['Class'], train_data['prediction'])"
   ]
  },
  {
   "cell_type": "code",
   "execution_count": null,
   "id": "b5d3cd0c",
   "metadata": {},
   "outputs": [],
   "source": [
    "fpr, tpr, _ = metrics.roc_curve(train_data['Class'], train_data['Target'])\n",
    "cade_auc = metrics.auc(fpr, tpr)\n",
    "metrics.auc(fpr, tpr)"
   ]
  },
  {
   "cell_type": "code",
   "execution_count": null,
   "id": "72c16b02",
   "metadata": {},
   "outputs": [],
   "source": [
    "cade_report = classification_report(train_data['Class'], train_data['prediction'], target_names = ['0','1'], output_dict = True)\n",
    "print(classification_report(train_data['Class'], train_data['prediction'], target_names = ['0','1']))"
   ]
  },
  {
   "cell_type": "code",
   "execution_count": null,
   "id": "a0d8b653",
   "metadata": {},
   "outputs": [],
   "source": [
    "precision, recall, thresholds = precision_recall_curve(train_data['Class'], train_data['Target'])\n",
    "cade_auc_precision_recall = metrics.auc(recall, precision)\n",
    "print(cade_auc_precision_recall)"
   ]
  },
  {
   "cell_type": "markdown",
   "id": "1febd6f5",
   "metadata": {
    "jp-MarkdownHeadingCollapsed": true,
    "tags": []
   },
   "source": [
    "### Deep Autoencoders"
   ]
  },
  {
   "cell_type": "markdown",
   "id": "00e90bea",
   "metadata": {},
   "source": [
    "Source: https://www.analyticsvidhya.com/blog/2021/05/anomaly-detection-using-autoencoders-a-walk-through-in-python/"
   ]
  },
  {
   "cell_type": "code",
   "execution_count": null,
   "id": "3442a433",
   "metadata": {},
   "outputs": [],
   "source": [
    "features = data.drop(columns = ['Class'])\n",
    "target = data['Class']"
   ]
  },
  {
   "cell_type": "code",
   "execution_count": null,
   "id": "21e9b3fd",
   "metadata": {},
   "outputs": [],
   "source": [
    "min_max_scaler = MinMaxScaler(feature_range=(0, 1))\n",
    "x_train_scaled = min_max_scaler.fit_transform(features.copy())"
   ]
  },
  {
   "cell_type": "code",
   "execution_count": null,
   "id": "7a710105",
   "metadata": {},
   "outputs": [],
   "source": [
    "class AutoEncoder(Model):\n",
    "\n",
    "    def __init__(self, output_units):\n",
    "        super().__init__()\n",
    "        self.encoder = Sequential([\n",
    "          Dense(14,input_dim = output_units, activation='sigmoid'),\n",
    "          Dropout(0.1),\n",
    "          Dense(7, activation='relu'),\n",
    "          Dropout(0.1),\n",
    "          Dense(3, activation='relu')\n",
    "        ])\n",
    "        self.decoder = Sequential([\n",
    "          Dense(7, activation='relu'),\n",
    "          Dropout(0.1),\n",
    "          Dense(14,  activation='relu'),\n",
    "          Dropout(0.1),\n",
    "          Dense(output_units, activation='sigmoid')\n",
    "        ])\n",
    "    def call(self, inputs):\n",
    "        encoded = self.encoder(inputs)\n",
    "        decoded = self.decoder(encoded)\n",
    "        return decoded"
   ]
  },
  {
   "cell_type": "code",
   "execution_count": null,
   "id": "d95530a0",
   "metadata": {},
   "outputs": [],
   "source": [
    "def find_threshold(model, x_train_scaled):\n",
    "    reconstructions = model.predict(x_train_scaled)\n",
    "    reconstruction_errors = tf.keras.losses.msle(reconstructions, x_train_scaled)\n",
    "    threshold = np.mean(reconstruction_errors.numpy()) + np.std(reconstruction_errors.numpy()) \n",
    "    return threshold\n",
    "\n",
    "def get_predictions(model, x_train_scaled, threshold):\n",
    "    predictions = model.predict(x_train_scaled)\n",
    "    errors = tf.keras.losses.msle(predictions, x_train_scaled)\n",
    "    anomaly_mask = pd.Series(errors) > threshold\n",
    "    preds = anomaly_mask.map(lambda x: 1.0 if x == True else 0.0)\n",
    "    return preds, errors"
   ]
  },
  {
   "cell_type": "code",
   "execution_count": null,
   "id": "b86bd5e9",
   "metadata": {},
   "outputs": [],
   "source": [
    "start = time.process_time()\n",
    "\n",
    "model = AutoEncoder(output_units=x_train_scaled.shape[1])\n",
    "\n",
    "model.compile(loss='msle', metrics=['mse'], optimizer='adam')\n",
    "\n",
    "history = model.fit(\n",
    "    x_train_scaled,\n",
    "    x_train_scaled,\n",
    "    epochs=20,\n",
    "    batch_size=512,\n",
    ")\n",
    "\n",
    "threshold = find_threshold(model, x_train_scaled)\n",
    "\n",
    "predictions, scores = get_predictions(model, x_train_scaled, threshold)\n",
    "\n",
    "end = time.process_time()\n",
    "deep_autoencoders_time = end - start\n",
    "print(end - start)"
   ]
  },
  {
   "cell_type": "code",
   "execution_count": null,
   "id": "fd64278e",
   "metadata": {},
   "outputs": [],
   "source": [
    "confusion_matrix(target, predictions)"
   ]
  },
  {
   "cell_type": "code",
   "execution_count": null,
   "id": "c29fc4d8-3adb-46bc-b5d0-079e1e744fef",
   "metadata": {},
   "outputs": [],
   "source": [
    "fpr, tpr, _ = metrics.roc_curve(target, scores)\n",
    "deep_autoencoders_auc = metrics.auc(fpr, tpr)\n",
    "metrics.auc(fpr, tpr)"
   ]
  },
  {
   "cell_type": "code",
   "execution_count": null,
   "id": "df72d237",
   "metadata": {},
   "outputs": [],
   "source": [
    "deep_autoencoders_report = classification_report(target, predictions, target_names = ['0','1'], output_dict = True)\n",
    "print(classification_report(target, predictions, target_names = ['0','1']))"
   ]
  },
  {
   "cell_type": "code",
   "execution_count": null,
   "id": "24705d0f",
   "metadata": {},
   "outputs": [],
   "source": [
    "precision, recall, thresholds = precision_recall_curve(target, scores)\n",
    "deep_ae_auc_precision_recall = metrics.auc(recall, precision)\n",
    "print(deep_ae_auc_precision_recall)"
   ]
  },
  {
   "cell_type": "markdown",
   "id": "c83083f2-849a-4e91-af66-04ad675021f5",
   "metadata": {
    "jp-MarkdownHeadingCollapsed": true,
    "tags": []
   },
   "source": [
    "### Autoencoders"
   ]
  },
  {
   "cell_type": "markdown",
   "id": "c4b5e80e",
   "metadata": {},
   "source": [
    "Source: https://www.analyticsvidhya.com/blog/2021/05/anomaly-detection-using-autoencoders-a-walk-through-in-python/"
   ]
  },
  {
   "cell_type": "code",
   "execution_count": null,
   "id": "f067de8d-ba48-4df2-8856-2dae4008d8a5",
   "metadata": {},
   "outputs": [],
   "source": [
    "features = data.drop(columns = ['Class'])\n",
    "target = data['Class']"
   ]
  },
  {
   "cell_type": "code",
   "execution_count": null,
   "id": "0763e2dc-f35b-441a-95c8-0d4672461401",
   "metadata": {},
   "outputs": [],
   "source": [
    "min_max_scaler = MinMaxScaler(feature_range=(0, 1))\n",
    "x_train_scaled = min_max_scaler.fit_transform(features.copy())"
   ]
  },
  {
   "cell_type": "code",
   "execution_count": null,
   "id": "94aa6138-1297-4742-8e0c-ab682be93f32",
   "metadata": {},
   "outputs": [],
   "source": [
    "class AutoEncoder(Model):\n",
    "\n",
    "    def __init__(self, output_units):\n",
    "        super().__init__()\n",
    "        self.encoder = Sequential([\n",
    "          Dense(14,input_dim = output_units, activation='relu'),\n",
    "          Dropout(0.1),\n",
    "        ])\n",
    "        self.decoder = Sequential([\n",
    "          Dense(output_units, activation='sigmoid')\n",
    "        ])\n",
    "    def call(self, inputs):\n",
    "        encoded = self.encoder(inputs)\n",
    "        decoded = self.decoder(encoded)\n",
    "        return decoded"
   ]
  },
  {
   "cell_type": "code",
   "execution_count": null,
   "id": "77e545fe-16d8-4630-90c0-896976c0c5f4",
   "metadata": {},
   "outputs": [],
   "source": [
    "def find_threshold(model, x_train_scaled):\n",
    "    reconstructions = model.predict(x_train_scaled)\n",
    "    reconstruction_errors = tf.keras.losses.msle(reconstructions, x_train_scaled)\n",
    "    threshold = np.mean(reconstruction_errors.numpy()) + np.std(reconstruction_errors.numpy()) \n",
    "    return threshold\n",
    "\n",
    "def get_predictions(model, x_train_scaled, threshold):\n",
    "    predictions = model.predict(x_train_scaled)\n",
    "    errors = tf.keras.losses.msle(predictions, x_train_scaled)\n",
    "    anomaly_mask = pd.Series(errors) > threshold\n",
    "    preds = anomaly_mask.map(lambda x: 1.0 if x == True else 0.0)\n",
    "    return preds, errors"
   ]
  },
  {
   "cell_type": "code",
   "execution_count": null,
   "id": "f0b44583-7079-421d-a9e6-17b66ab68a58",
   "metadata": {},
   "outputs": [],
   "source": [
    "start = time.process_time()\n",
    "\n",
    "model = AutoEncoder(output_units=x_train_scaled.shape[1])\n",
    "\n",
    "model.compile(loss='msle', metrics=['mse'], optimizer='adam')\n",
    "\n",
    "history = model.fit(\n",
    "    x_train_scaled,\n",
    "    x_train_scaled,\n",
    "    epochs=20,\n",
    "    batch_size=512,\n",
    ")\n",
    "\n",
    "threshold = find_threshold(model, x_train_scaled)\n",
    "\n",
    "predictions, scores = get_predictions(model, x_train_scaled, threshold)\n",
    "\n",
    "end = time.process_time()\n",
    "autoencoders_time = end - start\n",
    "print(end - start)"
   ]
  },
  {
   "cell_type": "code",
   "execution_count": null,
   "id": "5302df72-3d4f-4e75-bd0b-25dc19e60429",
   "metadata": {},
   "outputs": [],
   "source": [
    "confusion_matrix(target, predictions)"
   ]
  },
  {
   "cell_type": "code",
   "execution_count": null,
   "id": "32ca0cb5-e97c-43b7-8611-8b7ad3964a99",
   "metadata": {},
   "outputs": [],
   "source": [
    "fpr, tpr, _ = metrics.roc_curve(target, scores)\n",
    "autoencoders_auc = metrics.auc(fpr, tpr)\n",
    "metrics.auc(fpr, tpr)"
   ]
  },
  {
   "cell_type": "code",
   "execution_count": null,
   "id": "c4b317de-2233-4036-91e6-d18e28c7b3b3",
   "metadata": {},
   "outputs": [],
   "source": [
    "autoencoders_report = classification_report(target, predictions, target_names = ['0','1'], output_dict = True)\n",
    "print(classification_report(target, predictions, target_names = ['0','1']))"
   ]
  },
  {
   "cell_type": "code",
   "execution_count": null,
   "id": "db845670",
   "metadata": {},
   "outputs": [],
   "source": [
    "precision, recall, thresholds = precision_recall_curve(target, scores)\n",
    "ae_auc_precision_recall = metrics.auc(recall, precision)\n",
    "print(ae_auc_precision_recall)"
   ]
  },
  {
   "cell_type": "markdown",
   "id": "0f83913b-9311-477e-b9fa-a4f5136f4d9f",
   "metadata": {
    "jp-MarkdownHeadingCollapsed": true,
    "tags": []
   },
   "source": [
    "### One-Class SVM rbf"
   ]
  },
  {
   "cell_type": "code",
   "execution_count": null,
   "id": "d08003ad-c698-420a-9c7d-da7602c62ff4",
   "metadata": {},
   "outputs": [],
   "source": [
    "features = data.drop(columns = ['Class'])\n",
    "target = data['Class']"
   ]
  },
  {
   "cell_type": "code",
   "execution_count": null,
   "id": "b23c6236-6951-4181-ab77-74503f68bb97",
   "metadata": {},
   "outputs": [],
   "source": [
    "min_max_scaler = MinMaxScaler(feature_range=(0, 1))\n",
    "x_train_scaled = min_max_scaler.fit_transform(features.copy())"
   ]
  },
  {
   "cell_type": "code",
   "execution_count": null,
   "id": "3f610d30-9af2-4fe1-b4ad-fb0e8cacf90f",
   "metadata": {},
   "outputs": [],
   "source": [
    "start = time.process_time()\n",
    "\n",
    "model = OneClassSVM(gamma='scale', nu=0.1)\n",
    "model.fit(x_train_scaled)\n",
    "yhat = model.predict(x_train_scaled)\n",
    "y_scores = -model.decision_function(x_train_scaled)\n",
    "\n",
    "end = time.process_time()\n",
    "rbf_oc_svm_time = end - start\n",
    "print(end - start)"
   ]
  },
  {
   "cell_type": "code",
   "execution_count": null,
   "id": "ef2718aa-58bd-4e2d-a756-1c741ed485e4",
   "metadata": {},
   "outputs": [],
   "source": [
    "predictions = pd.DataFrame(yhat, columns = ['y_pred']).apply(def_outlier, axis = 1)"
   ]
  },
  {
   "cell_type": "code",
   "execution_count": null,
   "id": "3ca93074-8c93-4196-af2d-570eb4524e55",
   "metadata": {},
   "outputs": [],
   "source": [
    "fpr, tpr, _ = metrics.roc_curve(target, y_scores)\n",
    "rbf_oc_svm_auc = metrics.auc(fpr, tpr)\n",
    "metrics.auc(fpr, tpr)"
   ]
  },
  {
   "cell_type": "code",
   "execution_count": null,
   "id": "83f51b69-fb7b-4e45-b9a4-495478e9a94b",
   "metadata": {},
   "outputs": [],
   "source": [
    "rbf_oc_svm_report = classification_report(target, predictions, target_names = ['0','1'], output_dict = True)\n",
    "print(classification_report(target, predictions, target_names = ['0','1']))"
   ]
  },
  {
   "cell_type": "code",
   "execution_count": null,
   "id": "65a76e89-391a-435b-9fb4-e6fc58880565",
   "metadata": {},
   "outputs": [],
   "source": [
    "precision, recall, thresholds = precision_recall_curve(target, y_scores)\n",
    "ocsvm_rbf_auc_precision_recall = metrics.auc(recall, precision)\n",
    "print(ocsvm_rbf_auc_precision_recall)"
   ]
  },
  {
   "cell_type": "markdown",
   "id": "65445d89-5c59-45fd-bcd6-a638925e1dda",
   "metadata": {
    "jp-MarkdownHeadingCollapsed": true,
    "tags": []
   },
   "source": [
    "### One-Class SVM linear"
   ]
  },
  {
   "cell_type": "code",
   "execution_count": null,
   "id": "8a15ea99-2a9b-491e-a1c5-7e8e180263cf",
   "metadata": {},
   "outputs": [],
   "source": [
    "features = data.drop(columns = ['Class'])\n",
    "target = data['Class']"
   ]
  },
  {
   "cell_type": "code",
   "execution_count": null,
   "id": "61815c77-661c-4567-bc6c-134e6b137c02",
   "metadata": {},
   "outputs": [],
   "source": [
    "min_max_scaler = MinMaxScaler(feature_range=(0, 1))\n",
    "x_train_scaled = min_max_scaler.fit_transform(features.copy())"
   ]
  },
  {
   "cell_type": "code",
   "execution_count": null,
   "id": "5efb870d-303e-4e63-8022-93e81f98af7d",
   "metadata": {},
   "outputs": [],
   "source": [
    "start = time.process_time()\n",
    "\n",
    "model = OneClassSVM(kernel = 'linear', nu=0.1)\n",
    "model.fit(x_train_scaled)\n",
    "yhat = model.predict(x_train_scaled)\n",
    "y_scores = -model.decision_function(x_train_scaled)\n",
    "\n",
    "end = time.process_time()\n",
    "lin_oc_svm_time = end - start\n",
    "print(end - start)"
   ]
  },
  {
   "cell_type": "code",
   "execution_count": null,
   "id": "20610611-0c31-4c4a-a07e-145c39f3de3d",
   "metadata": {},
   "outputs": [],
   "source": [
    "predictions = pd.DataFrame(yhat, columns = ['y_pred']).apply(def_outlier, axis = 1)"
   ]
  },
  {
   "cell_type": "code",
   "execution_count": null,
   "id": "b6fb9b2e-83f3-4e4e-9f8e-51fc94c07eda",
   "metadata": {},
   "outputs": [],
   "source": [
    "fpr, tpr, _ = metrics.roc_curve(target, y_scores)\n",
    "lin_oc_svm_auc = metrics.auc(fpr, tpr)\n",
    "metrics.auc(fpr, tpr)"
   ]
  },
  {
   "cell_type": "code",
   "execution_count": null,
   "id": "6a0f2854-d5a4-4806-be84-525b07c946cf",
   "metadata": {},
   "outputs": [],
   "source": [
    "lin_oc_svm_report = classification_report(target, predictions, target_names = ['0','1'], output_dict = True)\n",
    "print(classification_report(target, predictions, target_names = ['0','1']))"
   ]
  },
  {
   "cell_type": "code",
   "execution_count": null,
   "id": "e6d673ac-c1c4-4b07-9804-8d4a6430e502",
   "metadata": {},
   "outputs": [],
   "source": [
    "precision, recall, thresholds = precision_recall_curve(target, y_scores)\n",
    "ocsvm_lin_auc_precision_recall = metrics.auc(recall, precision)\n",
    "print(ocsvm_lin_auc_precision_recall)"
   ]
  },
  {
   "cell_type": "markdown",
   "id": "17dcc26a-4c22-49ae-b76e-4f6ab0a1bb55",
   "metadata": {
    "jp-MarkdownHeadingCollapsed": true,
    "tags": []
   },
   "source": [
    "### Performance"
   ]
  },
  {
   "cell_type": "code",
   "execution_count": null,
   "id": "469bcda0-cbc8-403d-8c8d-c1dcdbff673d",
   "metadata": {},
   "outputs": [],
   "source": [
    "kaggle_performance = pd.DataFrame(columns = ['method','f1-score','sensitivity',\n",
    "                                             'precision','Time','AUC', 'AU precision-recall curve'])"
   ]
  },
  {
   "cell_type": "code",
   "execution_count": null,
   "id": "baecd665-47f3-42f3-b50a-959a711f54a8",
   "metadata": {},
   "outputs": [],
   "source": [
    "iforest_performance = {'method':'iForest',\n",
    "               'f1-score':iforest_report['1']['f1-score'], \n",
    "               'sensitivity':iforest_report['1']['recall'],\n",
    "               'precision':iforest_report['1']['precision'],        \n",
    "              'Time':iforest_time,\n",
    "              'AUC':iforest_auc,\n",
    "                      'AU precision-recall curve': iforest_auc_precision_recall}\n",
    "lof_performance = {'method':'LOF',\n",
    "               'f1-score':lof_report['1']['f1-score'], \n",
    "               'sensitivity':lof_report['1']['recall'],\n",
    "               'precision':lof_report['1']['precision'],    \n",
    "              'Time':lof_time,\n",
    "              'AUC':lof_auc,\n",
    "                  'AU precision-recall curve': lof_auc_precision_recall}\n",
    "dbscan_performance = { 'method':'DBSCAN',\n",
    "               'f1-score':dbscan_report['1']['f1-score'], \n",
    "               'sensitivity':dbscan_report['1']['recall'],\n",
    "               'precision':dbscan_report['1']['precision'],       \n",
    "              'Time':dbscan_time,\n",
    "              'AUC':dbscan_auc,\n",
    "                     'AU precision-recall curve': dbscan_auc_precision_recall}\n",
    "cade_performance = { 'method':'CADE',\n",
    "               'f1-score':cade_report['1']['f1-score'], \n",
    "               'sensitivity':cade_report['1']['recall'],\n",
    "               'precision':cade_report['1']['precision'],     \n",
    "              'Time':cade_time,\n",
    "              'AUC':cade_auc,\n",
    "                   'AU precision-recall curve': cade_auc_precision_recall}\n",
    "deep_autoencoders_performance = {'method':'Deep Autoencoders',\n",
    "               'f1-score':deep_autoencoders_report['1']['f1-score'], \n",
    "               'sensitivity':deep_autoencoders_report['1']['recall'],\n",
    "               'precision':deep_autoencoders_report['1']['precision'],                  \n",
    "              'Time':deep_autoencoders_time,\n",
    "              'AUC':deep_autoencoders_auc,\n",
    "                                'AU precision-recall curve': deep_ae_auc_precision_recall}\n",
    "autoencoders_performance = {'method':'Autoencoders',\n",
    "               'f1-score':autoencoders_report['1']['f1-score'], \n",
    "               'sensitivity':autoencoders_report['1']['recall'],\n",
    "               'precision':autoencoders_report['1']['precision'],             \n",
    "              'Time':autoencoders_time,\n",
    "              'AUC':autoencoders_auc,\n",
    "                           'AU precision-recall curve': ae_auc_precision_recall}\n",
    "rbf_oc_svm_performance = {'method':'OC-SVM rbf',\n",
    "               'f1-score':rbf_oc_svm_report['1']['f1-score'], \n",
    "               'sensitivity':rbf_oc_svm_report['1']['recall'],\n",
    "               'precision':rbf_oc_svm_report['1']['precision'],           \n",
    "              'Time':rbf_oc_svm_time,\n",
    "              'AUC':rbf_oc_svm_auc,\n",
    "                         'AU precision-recall curve': ocsvm_rbf_auc_precision_recall}\n",
    "lin_oc_svm_performance = {'method':'OC-SVM linear',\n",
    "               'f1-score':lin_oc_svm_report['1']['f1-score'], \n",
    "               'sensitivity':lin_oc_svm_report['1']['recall'],\n",
    "               'precision':lin_oc_svm_report['1']['precision'],           \n",
    "              'Time':lin_oc_svm_time,\n",
    "              'AUC':lin_oc_svm_auc,\n",
    "                         'AU precision-recall curve': ocsvm_lin_auc_precision_recall}"
   ]
  },
  {
   "cell_type": "code",
   "execution_count": null,
   "id": "5af1fa19-bb45-4206-81ca-7a1e519a382e",
   "metadata": {},
   "outputs": [],
   "source": [
    "kaggle_performance = kaggle_performance.append(iforest_performance, ignore_index = True)\n",
    "kaggle_performance = kaggle_performance.append(lof_performance, ignore_index = True)\n",
    "kaggle_performance = kaggle_performance.append(dbscan_performance, ignore_index = True)\n",
    "kaggle_performance = kaggle_performance.append(cade_performance, ignore_index = True)\n",
    "kaggle_performance = kaggle_performance.append(autoencoders_performance, ignore_index = True)\n",
    "kaggle_performance = kaggle_performance.append(deep_autoencoders_performance, ignore_index = True)\n",
    "kaggle_performance = kaggle_performance.append(rbf_oc_svm_performance, ignore_index = True)\n",
    "kaggle_performance = kaggle_performance.append(lin_oc_svm_performance, ignore_index = True)"
   ]
  },
  {
   "cell_type": "markdown",
   "id": "03cd6004",
   "metadata": {
    "jp-MarkdownHeadingCollapsed": true,
    "tags": []
   },
   "source": [
    "## Mammography"
   ]
  },
  {
   "cell_type": "markdown",
   "id": "e58a9faf",
   "metadata": {},
   "source": [
    "**Dataset source**: http://odds.cs.stonybrook.edu/mammography-dataset/ (data is transformed from .mat to .csv format)\n",
    "\n",
    "Shebuti Rayana (2016).  ODDS Library [http://odds.cs.stonybrook.edu]. Stony Brook, NY: Stony Brook University, Department of Computer Science.\n",
    "\n",
    "**Additional sources**:\n",
    "\n",
    "Abe, Naoki, Bianca Zadrozny, and John Langford. “Outlier detection by active learning.” Proceedings of the 12th ACM SIGKDD international conference on Knowledge discovery and data mining. ACM, 2006.\n",
    "\n",
    "Liu, Fei Tony, Kai Ming Ting, and Zhi-Hua Zhou. “Isolation forest.” 2008 Eighth IEEE International Conference on Data Mining. IEEE, 2008.\n",
    "\n",
    "K. M. Ting, J. T. S. Chuan, and F. T. Liu. “Mass: A New Ranking Measure for Anomaly Detection.“, IEEE Transactions on Knowledge and Data Engineering, 2009."
   ]
  },
  {
   "cell_type": "code",
   "execution_count": null,
   "id": "2fa86495-b3c3-420b-9869-e218b46ddddd",
   "metadata": {},
   "outputs": [],
   "source": [
    "data = pd.read_csv('./mammography.csv')"
   ]
  },
  {
   "cell_type": "code",
   "execution_count": null,
   "id": "9903d321-6749-4ad3-a74f-5a36ad1922ac",
   "metadata": {},
   "outputs": [],
   "source": [
    "data.head()"
   ]
  },
  {
   "cell_type": "code",
   "execution_count": null,
   "id": "8e43cae7-bae2-4513-8a6b-1d1fc1767200",
   "metadata": {},
   "outputs": [],
   "source": [
    "pd.pivot_table(data,\n",
    "             values = 'Col1',\n",
    "               index = 'y', \n",
    "              aggfunc = 'count')"
   ]
  },
  {
   "cell_type": "code",
   "execution_count": null,
   "id": "67a6e1ef",
   "metadata": {},
   "outputs": [],
   "source": [
    "data.shape"
   ]
  },
  {
   "cell_type": "markdown",
   "id": "c8b3fda1",
   "metadata": {
    "jp-MarkdownHeadingCollapsed": true,
    "tags": []
   },
   "source": [
    "### iForest"
   ]
  },
  {
   "cell_type": "code",
   "execution_count": null,
   "id": "c0105fe8",
   "metadata": {},
   "outputs": [],
   "source": [
    "train_data = data.copy()"
   ]
  },
  {
   "cell_type": "code",
   "execution_count": null,
   "id": "1222e379",
   "metadata": {},
   "outputs": [],
   "source": [
    "start = time.process_time()\n",
    "\n",
    "rng = np.random.RandomState(42)\n",
    "clf = IsolationForest(max_samples=256, random_state=rng, n_estimators=100)\n",
    "clf.fit(train_data.loc[:, train_data.columns != 'y'])\n",
    "y_pred = clf.predict(train_data.loc[:, train_data.columns != 'y'])\n",
    "y_scores = clf.score_samples(train_data.loc[:, train_data.columns != 'y'])\n",
    "\n",
    "end = time.process_time()\n",
    "iforest_time = end - start\n",
    "print(end - start)"
   ]
  },
  {
   "cell_type": "code",
   "execution_count": null,
   "id": "9812b68e",
   "metadata": {},
   "outputs": [],
   "source": [
    "train_data['y_pred'] = y_pred\n",
    "train_data['prediction'] = train_data.apply(def_outlier, axis = 1)\n",
    "train_data['y_scores'] = -y_scores"
   ]
  },
  {
   "cell_type": "code",
   "execution_count": null,
   "id": "f047a2e6",
   "metadata": {},
   "outputs": [],
   "source": [
    "confusion_matrix(train_data['y'], train_data['prediction'])"
   ]
  },
  {
   "cell_type": "code",
   "execution_count": null,
   "id": "fe2df0bb",
   "metadata": {},
   "outputs": [],
   "source": [
    "fpr, tpr, _ = metrics.roc_curve(train_data['y'], train_data['y_scores'])\n",
    "iforest_auc = metrics.auc(fpr, tpr)\n",
    "metrics.auc(fpr, tpr)"
   ]
  },
  {
   "cell_type": "code",
   "execution_count": null,
   "id": "c7a61980",
   "metadata": {},
   "outputs": [],
   "source": [
    "iforest_report = classification_report(train_data['y'], train_data['prediction'], target_names = ['0','1'], output_dict = True)\n",
    "print(classification_report(train_data['y'], train_data['prediction'], target_names = ['0','1']))"
   ]
  },
  {
   "cell_type": "code",
   "execution_count": null,
   "id": "a6436771",
   "metadata": {},
   "outputs": [],
   "source": [
    "precision, recall, thresholds = precision_recall_curve(train_data['y'], train_data['y_scores'])\n",
    "iforest_auc_precision_recall = metrics.auc(recall, precision)\n",
    "print(iforest_auc_precision_recall)"
   ]
  },
  {
   "cell_type": "markdown",
   "id": "883df8bd",
   "metadata": {
    "jp-MarkdownHeadingCollapsed": true,
    "tags": []
   },
   "source": [
    "### LOF"
   ]
  },
  {
   "cell_type": "code",
   "execution_count": null,
   "id": "492f94ac",
   "metadata": {},
   "outputs": [],
   "source": [
    "min_max_scaler = MinMaxScaler(feature_range=(0, 1))\n",
    "train_data = min_max_scaler.fit_transform(data.copy())\n",
    "train_data = pd.DataFrame(train_data)\n",
    "train_data.columns = data.columns"
   ]
  },
  {
   "cell_type": "code",
   "execution_count": null,
   "id": "93e7ce56",
   "metadata": {},
   "outputs": [],
   "source": [
    "start = time.process_time()\n",
    "\n",
    "lof = LocalOutlierFactor(n_neighbors=111, contamination=.1, novelty=False)\n",
    "y_pred = lof.fit_predict(train_data.loc[:, train_data.columns != 'y'])\n",
    "y_scores = lof.negative_outlier_factor_\n",
    "\n",
    "end = time.process_time()\n",
    "lof_time = end - start\n",
    "print(end - start)"
   ]
  },
  {
   "cell_type": "code",
   "execution_count": null,
   "id": "39f6b6e4",
   "metadata": {},
   "outputs": [],
   "source": [
    "train_data['y_pred'] = y_pred\n",
    "train_data['prediction'] = train_data.apply(def_outlier, axis = 1)\n",
    "train_data['y_scores'] = -y_scores"
   ]
  },
  {
   "cell_type": "code",
   "execution_count": null,
   "id": "b141ddc1",
   "metadata": {},
   "outputs": [],
   "source": [
    "confusion_matrix(train_data['y'], train_data['prediction'])"
   ]
  },
  {
   "cell_type": "code",
   "execution_count": null,
   "id": "eb771cac-492f-48d8-88d2-21c9e603b108",
   "metadata": {},
   "outputs": [],
   "source": [
    "fpr, tpr, _ = metrics.roc_curve(train_data['y'], train_data['y_scores'])\n",
    "lof_auc = metrics.auc(fpr, tpr)\n",
    "metrics.auc(fpr, tpr)"
   ]
  },
  {
   "cell_type": "code",
   "execution_count": null,
   "id": "4730d445",
   "metadata": {},
   "outputs": [],
   "source": [
    "lof_report = classification_report(train_data['y'], train_data['prediction'], target_names = ['0','1'], output_dict = True)\n",
    "print(classification_report(train_data['y'], train_data['prediction'], target_names = ['0','1']))"
   ]
  },
  {
   "cell_type": "code",
   "execution_count": null,
   "id": "04210769-045a-4afb-a064-7786176afa50",
   "metadata": {},
   "outputs": [],
   "source": [
    "precision, recall, thresholds = precision_recall_curve(train_data['y'], train_data['y_scores'])\n",
    "lof_auc_precision_recall = metrics.auc(recall, precision)\n",
    "print(lof_auc_precision_recall)"
   ]
  },
  {
   "cell_type": "markdown",
   "id": "e69ecd62",
   "metadata": {
    "jp-MarkdownHeadingCollapsed": true,
    "tags": []
   },
   "source": [
    "### DBSCAN"
   ]
  },
  {
   "cell_type": "code",
   "execution_count": null,
   "id": "43288545",
   "metadata": {},
   "outputs": [],
   "source": [
    "min_max_scaler = MinMaxScaler(feature_range=(0, 1))\n",
    "train_data = min_max_scaler.fit_transform(data.copy())\n",
    "train_data = pd.DataFrame(train_data)\n",
    "train_data.columns = data.columns"
   ]
  },
  {
   "cell_type": "code",
   "execution_count": null,
   "id": "ba592d54",
   "metadata": {},
   "outputs": [],
   "source": [
    "dist = dbscan_tuner(train_data,11)"
   ]
  },
  {
   "cell_type": "code",
   "execution_count": null,
   "id": "84896c17",
   "metadata": {},
   "outputs": [],
   "source": [
    "start = time.process_time()\n",
    "dbscan = DBSCAN(eps = 0.07, min_samples = 12)\n",
    "clusters = dbscan.fit_predict(train_data.loc[:, train_data.columns != 'y'])\n",
    "end = time.process_time()\n",
    "dbscan_time = end - start\n",
    "print(end - start)"
   ]
  },
  {
   "cell_type": "code",
   "execution_count": null,
   "id": "edf8140c",
   "metadata": {},
   "outputs": [],
   "source": [
    "train_data['y_pred'] = clusters\n",
    "train_data['prediction'] = train_data.apply(def_outlier, axis = 1)"
   ]
  },
  {
   "cell_type": "code",
   "execution_count": null,
   "id": "91af9251",
   "metadata": {},
   "outputs": [],
   "source": [
    "original_columns = data.columns.to_list()\n",
    "original_columns.remove('y')\n",
    "\n",
    "data_w_score = pd.DataFrame(columns = train_data.columns.to_list())\n",
    "data_w_score['score'] = pd.NaT\n",
    "for i in set(clusters):\n",
    "    if i == -1:\n",
    "        continue\n",
    "    score_data = train_data[train_data['y_pred'] == i].copy()\n",
    "    center = score_data[original_columns].mean().to_list()\n",
    "    score_data['score'] = score_data.apply(lambda x : distance.euclidean(x[original_columns].to_list(), center),1)\n",
    "    data_w_score = data_w_score.append(score_data.copy(), ignore_index = True)\n",
    "\n",
    "anomalies_data = train_data[train_data['y_pred'] == -1].copy()\n",
    "anomalies_data['score'] = ''\n",
    "cluster_centers = pd.pivot_table(train_data,\n",
    "              index = 'y_pred',\n",
    "              aggfunc = 'mean')"
   ]
  },
  {
   "cell_type": "code",
   "execution_count": null,
   "id": "74bfb091",
   "metadata": {},
   "outputs": [],
   "source": [
    "for i in range(len(anomalies_data)):\n",
    "    anomalies_data['score'].iloc[i] = np.min(cluster_centers[cluster_centers.index != -1].apply(lambda x : \n",
    "                                                                                                distance.euclidean(x[original_columns].to_list(), \n",
    "                                                                                                                   anomalies_data[original_columns].iloc[i]),1))\n",
    "\n",
    "data_for_auprc = pd.concat([data_w_score, anomalies_data])"
   ]
  },
  {
   "cell_type": "code",
   "execution_count": null,
   "id": "6e263c82",
   "metadata": {},
   "outputs": [],
   "source": [
    "confusion_matrix(train_data['y'], train_data['prediction'])"
   ]
  },
  {
   "cell_type": "code",
   "execution_count": null,
   "id": "c18f9f41-f3af-49a0-b92e-927639f8dab7",
   "metadata": {},
   "outputs": [],
   "source": [
    "fpr, tpr, _ = metrics.roc_curve(data_for_auprc['y'], data_for_auprc['score'])\n",
    "dbscan_auc = metrics.auc(fpr, tpr)\n",
    "metrics.auc(fpr, tpr)"
   ]
  },
  {
   "cell_type": "code",
   "execution_count": null,
   "id": "87f21379",
   "metadata": {},
   "outputs": [],
   "source": [
    "dbscan_report = classification_report(train_data['y'], train_data['prediction'], target_names = ['0','1'], output_dict = True)\n",
    "print(classification_report(train_data['y'], train_data['prediction'], target_names = ['0','1']))"
   ]
  },
  {
   "cell_type": "code",
   "execution_count": null,
   "id": "cd324935",
   "metadata": {},
   "outputs": [],
   "source": [
    "precision, recall, thresholds = precision_recall_curve(data_for_auprc['y'], data_for_auprc['score'])\n",
    "dbscan_auc_precision_recall = metrics.auc(recall, precision)\n",
    "print(dbscan_auc_precision_recall)"
   ]
  },
  {
   "cell_type": "markdown",
   "id": "5641a11d",
   "metadata": {
    "jp-MarkdownHeadingCollapsed": true,
    "tags": []
   },
   "source": [
    "### CADE"
   ]
  },
  {
   "cell_type": "markdown",
   "id": "a5150fae",
   "metadata": {},
   "source": [
    "Source: Aric LaBarr, webinar \"Modern Approaches To Anomaly Detection\", November 2, 2021"
   ]
  },
  {
   "cell_type": "code",
   "execution_count": null,
   "id": "3597aaa9",
   "metadata": {},
   "outputs": [],
   "source": [
    "train_data = data.copy()"
   ]
  },
  {
   "cell_type": "code",
   "execution_count": null,
   "id": "f346a183",
   "metadata": {},
   "outputs": [],
   "source": [
    "fake = pd.DataFrame()\n",
    "data_for_fake = train_data.loc[:, train_data.columns != 'y']\n",
    "data_for_fake['Target'] = 0\n",
    "for i in data_for_fake.columns:\n",
    "    fake[i] = np.random.uniform(np.min(data_for_fake[i]), np.max(data_for_fake[i]), size = len(data_for_fake[i]))\n",
    "fake['Target'] = 1"
   ]
  },
  {
   "cell_type": "code",
   "execution_count": null,
   "id": "76f315a1",
   "metadata": {},
   "outputs": [],
   "source": [
    "data_combined = pd.concat([data_for_fake, fake], axis = 0)"
   ]
  },
  {
   "cell_type": "code",
   "execution_count": null,
   "id": "774106e1",
   "metadata": {},
   "outputs": [],
   "source": [
    "start = time.process_time()\n",
    "model = RandomForestClassifier(n_estimators = 100)\n",
    "model.fit(data_combined.loc[:, data_combined.columns != 'Target'],data_combined.loc[:, data_combined.columns == 'Target']['Target'] )\n",
    "train_data['Target'] = model.predict_proba(train_data.loc[:, train_data.columns != 'y'])[:,1]\n",
    "end = time.process_time()\n",
    "cade_time = end - start\n",
    "print(end - start)"
   ]
  },
  {
   "cell_type": "code",
   "execution_count": null,
   "id": "2f328e1e",
   "metadata": {},
   "outputs": [],
   "source": [
    "auc = {}\n",
    "for i in np.arange(0,0.55,0.05):\n",
    "    train_data['prediction'] = train_data.apply(def_outlier_cade, args=(i,), axis = 1)\n",
    "    fpr, tpr, _ = metrics.roc_curve(train_data['y'], train_data['prediction'])\n",
    "    auc[i] = metrics.auc(fpr, tpr)\n",
    "max_key = max(auc, key=auc.get)"
   ]
  },
  {
   "cell_type": "code",
   "execution_count": null,
   "id": "e5953b44",
   "metadata": {},
   "outputs": [],
   "source": [
    "train_data['prediction'] = train_data.apply(def_outlier_cade,args=(max_key,), axis = 1)"
   ]
  },
  {
   "cell_type": "code",
   "execution_count": null,
   "id": "c69caab9",
   "metadata": {},
   "outputs": [],
   "source": [
    "confusion_matrix(train_data['y'], train_data['prediction'])"
   ]
  },
  {
   "cell_type": "code",
   "execution_count": null,
   "id": "99f0629a",
   "metadata": {},
   "outputs": [],
   "source": [
    "fpr, tpr, _ = metrics.roc_curve(train_data['y'], train_data['Target'])\n",
    "cade_auc = metrics.auc(fpr, tpr)\n",
    "metrics.auc(fpr, tpr)"
   ]
  },
  {
   "cell_type": "code",
   "execution_count": null,
   "id": "927dcc05",
   "metadata": {},
   "outputs": [],
   "source": [
    "cade_report = classification_report(train_data['y'], train_data['prediction'], target_names = ['0','1'], output_dict = True)\n",
    "print(classification_report(train_data['y'], train_data['prediction'], target_names = ['0','1']))"
   ]
  },
  {
   "cell_type": "code",
   "execution_count": null,
   "id": "b5d18f9f",
   "metadata": {},
   "outputs": [],
   "source": [
    "precision, recall, thresholds = precision_recall_curve(train_data['y'], train_data['Target'])\n",
    "cade_auc_precision_recall = metrics.auc(recall, precision)\n",
    "print(cade_auc_precision_recall)"
   ]
  },
  {
   "cell_type": "markdown",
   "id": "64a894e8",
   "metadata": {
    "jp-MarkdownHeadingCollapsed": true,
    "tags": []
   },
   "source": [
    "### Deep Autoencoders"
   ]
  },
  {
   "cell_type": "markdown",
   "id": "5faaa51b",
   "metadata": {},
   "source": [
    "Source: https://www.analyticsvidhya.com/blog/2021/05/anomaly-detection-using-autoencoders-a-walk-through-in-python/"
   ]
  },
  {
   "cell_type": "code",
   "execution_count": null,
   "id": "a50b9a26",
   "metadata": {},
   "outputs": [],
   "source": [
    "features = data.drop(columns = ['y'])\n",
    "target = data['y']"
   ]
  },
  {
   "cell_type": "code",
   "execution_count": null,
   "id": "c33c148b",
   "metadata": {},
   "outputs": [],
   "source": [
    "min_max_scaler = MinMaxScaler(feature_range=(0, 1))\n",
    "x_train_scaled = min_max_scaler.fit_transform(features.copy())"
   ]
  },
  {
   "cell_type": "code",
   "execution_count": null,
   "id": "94a173b6",
   "metadata": {},
   "outputs": [],
   "source": [
    "class AutoEncoder(Model):\n",
    "\n",
    "    def __init__(self, output_units):\n",
    "        super().__init__()\n",
    "        self.encoder = Sequential([\n",
    "          Dense(3,input_dim = output_units, activation='sigmoid'),\n",
    "          Dropout(0.1),\n",
    "          Dense(3, activation='relu'),\n",
    "          Dropout(0.1),\n",
    "          Dense(3, activation='relu')\n",
    "        ])\n",
    "        self.decoder = Sequential([\n",
    "          Dense(3, activation='relu'),\n",
    "          Dropout(0.1),\n",
    "          Dense(3,  activation='relu'),\n",
    "          Dropout(0.1),\n",
    "          Dense(output_units, activation='sigmoid')\n",
    "        ])\n",
    "  \n",
    "    def call(self, inputs):\n",
    "        encoded = self.encoder(inputs)\n",
    "        decoded = self.decoder(encoded)\n",
    "        return decoded"
   ]
  },
  {
   "cell_type": "code",
   "execution_count": null,
   "id": "0271e794",
   "metadata": {},
   "outputs": [],
   "source": [
    "def find_threshold(model, x_train_scaled):\n",
    "    reconstructions = model.predict(x_train_scaled)\n",
    "    reconstruction_errors = tf.keras.losses.msle(reconstructions, x_train_scaled)\n",
    "    threshold = np.mean(reconstruction_errors.numpy()) + np.std(reconstruction_errors.numpy())\n",
    "    return threshold\n",
    "\n",
    "def get_predictions(model, x_train_scaled, threshold):\n",
    "    predictions = model.predict(x_train_scaled)\n",
    "    errors = tf.keras.losses.msle(predictions, x_train_scaled)\n",
    "    anomaly_mask = pd.Series(errors) > threshold\n",
    "    preds = anomaly_mask.map(lambda x: 1.0 if x == True else 0.0)\n",
    "    return preds, errors"
   ]
  },
  {
   "cell_type": "code",
   "execution_count": null,
   "id": "26728e23",
   "metadata": {},
   "outputs": [],
   "source": [
    "start = time.process_time()\n",
    "\n",
    "model = AutoEncoder(output_units=x_train_scaled.shape[1])\n",
    "\n",
    "model.compile(loss='msle', metrics=['mse'], optimizer='adam')\n",
    "\n",
    "history = model.fit(\n",
    "    x_train_scaled,\n",
    "    x_train_scaled,\n",
    "    epochs=20,\n",
    "    batch_size=512,\n",
    ")\n",
    "\n",
    "threshold = find_threshold(model, x_train_scaled)\n",
    "\n",
    "predictions, scores = get_predictions(model, x_train_scaled, threshold)\n",
    "\n",
    "end = time.process_time()\n",
    "deep_autoencoders_time = end - start\n",
    "print(end - start)"
   ]
  },
  {
   "cell_type": "code",
   "execution_count": null,
   "id": "36914df8",
   "metadata": {},
   "outputs": [],
   "source": [
    "confusion_matrix(target, predictions)"
   ]
  },
  {
   "cell_type": "code",
   "execution_count": null,
   "id": "a891663f-577a-4587-b221-a745a58dd93e",
   "metadata": {},
   "outputs": [],
   "source": [
    "fpr, tpr, _ = metrics.roc_curve(target, scores)\n",
    "deep_autoencoders_auc = metrics.auc(fpr, tpr)\n",
    "metrics.auc(fpr, tpr)"
   ]
  },
  {
   "cell_type": "code",
   "execution_count": null,
   "id": "8bbbb70f",
   "metadata": {},
   "outputs": [],
   "source": [
    "deep_autoencoders_report = classification_report(target, predictions, target_names = ['0','1'], output_dict = True)\n",
    "print(classification_report(target, predictions, target_names = ['0','1']))"
   ]
  },
  {
   "cell_type": "code",
   "execution_count": null,
   "id": "a185e498",
   "metadata": {},
   "outputs": [],
   "source": [
    "precision, recall, thresholds = precision_recall_curve(target, scores)\n",
    "deep_ae_auc_precision_recall = metrics.auc(recall, precision)\n",
    "print(deep_ae_auc_precision_recall)"
   ]
  },
  {
   "cell_type": "markdown",
   "id": "44af1ed9-86ad-47cc-8789-d11089cf07f2",
   "metadata": {
    "jp-MarkdownHeadingCollapsed": true,
    "tags": []
   },
   "source": [
    "### Autoencoders"
   ]
  },
  {
   "cell_type": "markdown",
   "id": "fc07473f",
   "metadata": {},
   "source": [
    "Source: https://www.analyticsvidhya.com/blog/2021/05/anomaly-detection-using-autoencoders-a-walk-through-in-python/"
   ]
  },
  {
   "cell_type": "code",
   "execution_count": null,
   "id": "a804d08d-9b32-4369-a767-f14050b66862",
   "metadata": {},
   "outputs": [],
   "source": [
    "features = data.drop(columns = ['y'])\n",
    "target = data['y']"
   ]
  },
  {
   "cell_type": "code",
   "execution_count": null,
   "id": "de986cc7-3fb7-46ed-bb23-7415540ab329",
   "metadata": {},
   "outputs": [],
   "source": [
    "min_max_scaler = MinMaxScaler(feature_range=(0, 1))\n",
    "x_train_scaled = min_max_scaler.fit_transform(features.copy())"
   ]
  },
  {
   "cell_type": "code",
   "execution_count": null,
   "id": "7fdd87e7-df42-4a99-ab74-0f9c05cc6b3b",
   "metadata": {},
   "outputs": [],
   "source": [
    "class AutoEncoder(Model):\n",
    "\n",
    "    def __init__(self, output_units):\n",
    "        super().__init__()\n",
    "        self.encoder = Sequential([\n",
    "          Dense(3,input_dim = output_units, activation='relu'),\n",
    "          Dropout(0.1),\n",
    "        ])\n",
    "        self.decoder = Sequential([\n",
    "          Dense(output_units, activation='sigmoid')\n",
    "        ])\n",
    "  \n",
    "    def call(self, inputs):\n",
    "        encoded = self.encoder(inputs)\n",
    "        decoded = self.decoder(encoded)\n",
    "        return decoded"
   ]
  },
  {
   "cell_type": "code",
   "execution_count": null,
   "id": "70d1c060-11b3-4006-8195-25b59a24127d",
   "metadata": {},
   "outputs": [],
   "source": [
    "def find_threshold(model, x_train_scaled):\n",
    "    reconstructions = model.predict(x_train_scaled)\n",
    "    reconstruction_errors = tf.keras.losses.msle(reconstructions, x_train_scaled)\n",
    "    threshold = np.mean(reconstruction_errors.numpy()) + np.std(reconstruction_errors.numpy())\n",
    "    return threshold\n",
    "\n",
    "def get_predictions(model, x_train_scaled, threshold):\n",
    "    predictions = model.predict(x_train_scaled)\n",
    "    errors = tf.keras.losses.msle(predictions, x_train_scaled)\n",
    "    anomaly_mask = pd.Series(errors) > threshold\n",
    "    preds = anomaly_mask.map(lambda x: 1.0 if x == True else 0.0)\n",
    "    return preds, errors"
   ]
  },
  {
   "cell_type": "code",
   "execution_count": null,
   "id": "1877f629-1bcc-421f-88d5-034a70edc3d2",
   "metadata": {},
   "outputs": [],
   "source": [
    "start = time.process_time()\n",
    "\n",
    "model = AutoEncoder(output_units=x_train_scaled.shape[1])\n",
    "\n",
    "model.compile(loss='msle', metrics=['mse'], optimizer='adam')\n",
    "\n",
    "history = model.fit(\n",
    "    x_train_scaled,\n",
    "    x_train_scaled,\n",
    "    epochs=20,\n",
    "    batch_size=512,\n",
    ")\n",
    "\n",
    "threshold = find_threshold(model, x_train_scaled)\n",
    "\n",
    "predictions, scores = get_predictions(model, x_train_scaled, threshold)\n",
    "\n",
    "end = time.process_time()\n",
    "autoencoders_time = end - start\n",
    "print(end - start)"
   ]
  },
  {
   "cell_type": "code",
   "execution_count": null,
   "id": "6869dcd8-2aa5-47d2-a4fc-ac41aaef4d14",
   "metadata": {},
   "outputs": [],
   "source": [
    "confusion_matrix(target, predictions)"
   ]
  },
  {
   "cell_type": "code",
   "execution_count": null,
   "id": "d320229d-14e3-4a7b-bc9d-ea47eab6a017",
   "metadata": {},
   "outputs": [],
   "source": [
    "fpr, tpr, _ = metrics.roc_curve(target, scores)\n",
    "autoencoders_auc = metrics.auc(fpr, tpr)\n",
    "metrics.auc(fpr, tpr)"
   ]
  },
  {
   "cell_type": "code",
   "execution_count": null,
   "id": "d556aa5a-027d-4473-ba26-87eec16a401b",
   "metadata": {},
   "outputs": [],
   "source": [
    "autoencoders_report = classification_report(target, predictions, target_names = ['0','1'], output_dict = True)\n",
    "print(classification_report(target, predictions, target_names = ['0','1']))"
   ]
  },
  {
   "cell_type": "code",
   "execution_count": null,
   "id": "5d2458a2-4e05-4762-926c-5e7b25f80ef7",
   "metadata": {},
   "outputs": [],
   "source": [
    "precision, recall, thresholds = precision_recall_curve(target, scores)\n",
    "ae_auc_precision_recall = metrics.auc(recall, precision)\n",
    "print(ae_auc_precision_recall)"
   ]
  },
  {
   "cell_type": "markdown",
   "id": "0cc4c398-7a31-495e-9ed5-23c628de1483",
   "metadata": {
    "jp-MarkdownHeadingCollapsed": true,
    "tags": []
   },
   "source": [
    "### One-Class SVM rbf"
   ]
  },
  {
   "cell_type": "code",
   "execution_count": null,
   "id": "70f82409-e63b-485c-bc13-4a732e9f92cd",
   "metadata": {},
   "outputs": [],
   "source": [
    "features = data.drop(columns = ['y'])\n",
    "target = data['y']"
   ]
  },
  {
   "cell_type": "code",
   "execution_count": null,
   "id": "0da98183-6b15-4de2-953c-8e90ad479a65",
   "metadata": {},
   "outputs": [],
   "source": [
    "min_max_scaler = MinMaxScaler(feature_range=(0, 1))\n",
    "x_train_scaled = min_max_scaler.fit_transform(features.copy())"
   ]
  },
  {
   "cell_type": "code",
   "execution_count": null,
   "id": "c7530e0f-6ef8-4332-981f-4e17a17e8039",
   "metadata": {},
   "outputs": [],
   "source": [
    "start = time.process_time()\n",
    "\n",
    "model = OneClassSVM(gamma='scale', nu=0.1)\n",
    "model.fit(x_train_scaled)\n",
    "yhat = model.predict(x_train_scaled)\n",
    "y_scores = -model.decision_function(x_train_scaled)\n",
    "\n",
    "end = time.process_time()\n",
    "rbf_oc_svm_time = end - start\n",
    "print(end - start)"
   ]
  },
  {
   "cell_type": "code",
   "execution_count": null,
   "id": "034f9831-4ab3-4dd4-90f6-eb917275d44d",
   "metadata": {},
   "outputs": [],
   "source": [
    "predictions = pd.DataFrame(yhat, columns = ['y_pred']).apply(def_outlier, axis = 1)"
   ]
  },
  {
   "cell_type": "code",
   "execution_count": null,
   "id": "633919c8-272e-4314-9a61-d18583577e9f",
   "metadata": {},
   "outputs": [],
   "source": [
    "confusion_matrix(target, predictions)"
   ]
  },
  {
   "cell_type": "code",
   "execution_count": null,
   "id": "66c2a516-c97f-48aa-9062-14791d015c81",
   "metadata": {},
   "outputs": [],
   "source": [
    "fpr, tpr, _ = metrics.roc_curve(target, y_scores)\n",
    "rbf_oc_svm_auc = metrics.auc(fpr, tpr)\n",
    "metrics.auc(fpr, tpr)"
   ]
  },
  {
   "cell_type": "code",
   "execution_count": null,
   "id": "43cd82f8-de19-4d2d-8f79-9f23fc9bf429",
   "metadata": {},
   "outputs": [],
   "source": [
    "rbf_oc_svm_report = classification_report(target, predictions, target_names = ['0','1'], output_dict = True)\n",
    "print(classification_report(target, predictions, target_names = ['0','1']))"
   ]
  },
  {
   "cell_type": "code",
   "execution_count": null,
   "id": "abaee391-f059-4b3d-abd3-3e9bb05fae78",
   "metadata": {},
   "outputs": [],
   "source": [
    "precision, recall, thresholds = precision_recall_curve(target, y_scores)\n",
    "ocsvm_rbf_auc_precision_recall = metrics.auc(recall, precision)\n",
    "print(ocsvm_rbf_auc_precision_recall)"
   ]
  },
  {
   "cell_type": "markdown",
   "id": "3b46b74b-0c47-4f07-8281-04bd97f17ad5",
   "metadata": {
    "jp-MarkdownHeadingCollapsed": true,
    "tags": []
   },
   "source": [
    "### One-Class SVM linear"
   ]
  },
  {
   "cell_type": "code",
   "execution_count": null,
   "id": "6c071ca8-e7ae-4f49-accc-84d61d9545b0",
   "metadata": {},
   "outputs": [],
   "source": [
    "features = data.drop(columns = ['y'])\n",
    "target = data['y']"
   ]
  },
  {
   "cell_type": "code",
   "execution_count": null,
   "id": "2e769118-5fe8-4f6d-866d-6a9a4c903161",
   "metadata": {},
   "outputs": [],
   "source": [
    "min_max_scaler = MinMaxScaler(feature_range=(0, 1))\n",
    "x_train_scaled = min_max_scaler.fit_transform(features.copy())"
   ]
  },
  {
   "cell_type": "code",
   "execution_count": null,
   "id": "d7f507b1-088a-413e-9e12-7aaf0d65415b",
   "metadata": {},
   "outputs": [],
   "source": [
    "start = time.process_time()\n",
    "\n",
    "model = OneClassSVM(kernel = 'linear', nu=0.1)\n",
    "model.fit(x_train_scaled)\n",
    "yhat = model.predict(x_train_scaled)\n",
    "y_scores = -model.decision_function(x_train_scaled)\n",
    "\n",
    "end = time.process_time()\n",
    "lin_oc_svm_time = end - start\n",
    "print(end - start)"
   ]
  },
  {
   "cell_type": "code",
   "execution_count": null,
   "id": "c01123b2-9e1b-4645-8a18-38b1769a0586",
   "metadata": {},
   "outputs": [],
   "source": [
    "predictions = pd.DataFrame(yhat, columns = ['y_pred']).apply(def_outlier, axis = 1)"
   ]
  },
  {
   "cell_type": "code",
   "execution_count": null,
   "id": "09500a4f-442d-4077-a064-03c0a19edb8a",
   "metadata": {},
   "outputs": [],
   "source": [
    "confusion_matrix(target, predictions)"
   ]
  },
  {
   "cell_type": "code",
   "execution_count": null,
   "id": "2d93c309-842c-4f3d-bd0d-5fcc76335c22",
   "metadata": {},
   "outputs": [],
   "source": [
    "fpr, tpr, _ = metrics.roc_curve(target, y_scores)\n",
    "lin_oc_svm_auc = metrics.auc(fpr, tpr)\n",
    "metrics.auc(fpr, tpr)"
   ]
  },
  {
   "cell_type": "code",
   "execution_count": null,
   "id": "6dbe7fc1-3429-43bb-b35c-c56eae3efce6",
   "metadata": {},
   "outputs": [],
   "source": [
    "lin_oc_svm_report = classification_report(target, predictions, target_names = ['0','1'], output_dict = True)\n",
    "print(classification_report(target, predictions, target_names = ['0','1']))"
   ]
  },
  {
   "cell_type": "code",
   "execution_count": null,
   "id": "45b4ccf8-c11e-41c6-8ad9-ba5be2230350",
   "metadata": {},
   "outputs": [],
   "source": [
    "precision, recall, thresholds = precision_recall_curve(target, y_scores)\n",
    "ocsvm_lin_auc_precision_recall = metrics.auc(recall, precision)\n",
    "print(ocsvm_lin_auc_precision_recall)"
   ]
  },
  {
   "cell_type": "markdown",
   "id": "6a0068a6-afc7-4b9b-8b03-d72c6daa668c",
   "metadata": {
    "jp-MarkdownHeadingCollapsed": true,
    "tags": []
   },
   "source": [
    "### Performance"
   ]
  },
  {
   "cell_type": "code",
   "execution_count": null,
   "id": "d06c4dce-be1b-495c-a111-00e1938789c1",
   "metadata": {},
   "outputs": [],
   "source": [
    "mammography_performance = pd.DataFrame(columns = ['method','f1-score','sensitivity',\n",
    "                                                  'precision','Time','AUC', 'AU precision-recall curve'])"
   ]
  },
  {
   "cell_type": "code",
   "execution_count": null,
   "id": "a7682294-1bc8-4507-9a75-94353925ad87",
   "metadata": {},
   "outputs": [],
   "source": [
    "iforest_performance = {'method':'iForest',\n",
    "               'f1-score':iforest_report['1']['f1-score'], \n",
    "               'sensitivity':iforest_report['1']['recall'],\n",
    "               'precision':iforest_report['1']['precision'],        \n",
    "              'Time':iforest_time,\n",
    "              'AUC':iforest_auc,\n",
    "                      'AU precision-recall curve': iforest_auc_precision_recall}\n",
    "lof_performance = {'method':'LOF',\n",
    "               'f1-score':lof_report['1']['f1-score'], \n",
    "               'sensitivity':lof_report['1']['recall'],\n",
    "               'precision':lof_report['1']['precision'],    \n",
    "              'Time':lof_time,\n",
    "              'AUC':lof_auc,\n",
    "                  'AU precision-recall curve': lof_auc_precision_recall}\n",
    "dbscan_performance = { 'method':'DBSCAN',\n",
    "               'f1-score':dbscan_report['1']['f1-score'], \n",
    "               'sensitivity':dbscan_report['1']['recall'],\n",
    "               'precision':dbscan_report['1']['precision'],       \n",
    "              'Time':dbscan_time,\n",
    "              'AUC':dbscan_auc,\n",
    "                     'AU precision-recall curve': dbscan_auc_precision_recall}\n",
    "cade_performance = { 'method':'CADE',\n",
    "               'f1-score':cade_report['1']['f1-score'], \n",
    "               'sensitivity':cade_report['1']['recall'],\n",
    "               'precision':cade_report['1']['precision'],     \n",
    "              'Time':cade_time,\n",
    "              'AUC':cade_auc,\n",
    "                   'AU precision-recall curve': cade_auc_precision_recall}\n",
    "deep_autoencoders_performance = {'method':'Deep Autoencoders',\n",
    "               'f1-score':deep_autoencoders_report['1']['f1-score'], \n",
    "               'sensitivity':deep_autoencoders_report['1']['recall'],\n",
    "               'precision':deep_autoencoders_report['1']['precision'],                  \n",
    "              'Time':deep_autoencoders_time,\n",
    "              'AUC':deep_autoencoders_auc,\n",
    "                                'AU precision-recall curve': deep_ae_auc_precision_recall}\n",
    "autoencoders_performance = {'method':'Autoencoders',\n",
    "               'f1-score':autoencoders_report['1']['f1-score'], \n",
    "               'sensitivity':autoencoders_report['1']['recall'],\n",
    "               'precision':autoencoders_report['1']['precision'],             \n",
    "              'Time':autoencoders_time,\n",
    "              'AUC':autoencoders_auc,\n",
    "                           'AU precision-recall curve': ae_auc_precision_recall}\n",
    "rbf_oc_svm_performance = {'method':'OC-SVM rbf',\n",
    "               'f1-score':rbf_oc_svm_report['1']['f1-score'], \n",
    "               'sensitivity':rbf_oc_svm_report['1']['recall'],\n",
    "               'precision':rbf_oc_svm_report['1']['precision'],           \n",
    "              'Time':rbf_oc_svm_time,\n",
    "              'AUC':rbf_oc_svm_auc,\n",
    "                         'AU precision-recall curve': ocsvm_rbf_auc_precision_recall}\n",
    "lin_oc_svm_performance = {'method':'OC-SVM linear',\n",
    "               'f1-score':lin_oc_svm_report['1']['f1-score'], \n",
    "               'sensitivity':lin_oc_svm_report['1']['recall'],\n",
    "               'precision':lin_oc_svm_report['1']['precision'],           \n",
    "              'Time':lin_oc_svm_time,\n",
    "              'AUC':lin_oc_svm_auc,\n",
    "                         'AU precision-recall curve': ocsvm_lin_auc_precision_recall}"
   ]
  },
  {
   "cell_type": "code",
   "execution_count": null,
   "id": "55a13176-fabe-43da-af7e-06334ec60e01",
   "metadata": {},
   "outputs": [],
   "source": [
    "mammography_performance = mammography_performance.append(iforest_performance, ignore_index = True)\n",
    "mammography_performance = mammography_performance.append(lof_performance, ignore_index = True)\n",
    "mammography_performance = mammography_performance.append(dbscan_performance, ignore_index = True)\n",
    "mammography_performance = mammography_performance.append(cade_performance, ignore_index = True)\n",
    "mammography_performance = mammography_performance.append(deep_autoencoders_performance, ignore_index = True)\n",
    "mammography_performance = mammography_performance.append(autoencoders_performance, ignore_index = True)\n",
    "mammography_performance = mammography_performance.append(rbf_oc_svm_performance, ignore_index = True)\n",
    "mammography_performance = mammography_performance.append(lin_oc_svm_performance, ignore_index = True)"
   ]
  },
  {
   "cell_type": "markdown",
   "id": "74377696-aba0-4a6a-b9f5-620f26843c9d",
   "metadata": {
    "jp-MarkdownHeadingCollapsed": true,
    "tags": []
   },
   "source": [
    "## Shuttle"
   ]
  },
  {
   "cell_type": "markdown",
   "id": "cd033342",
   "metadata": {},
   "source": [
    "**Dataset source**: http://odds.cs.stonybrook.edu/shuttle-dataset/ (data is transformed from .mat to .csv format)\n",
    "\n",
    "Shebuti Rayana (2016).  ODDS Library [http://odds.cs.stonybrook.edu]. Stony Brook, NY: Stony Brook University, Department of Computer Science.\n",
    "\n",
    "**Additional sources**:\n",
    "\n",
    "Abe, Naoki, Bianca Zadrozny, and John Langford. “Outlier detection by active learning.” Proceedings of the 12th ACM SIGKDD international conference on Knowledge discovery and data mining. ACM, 2006.\n",
    "\n",
    "Liu, Fei Tony, Kai Ming Ting, and Zhi-Hua Zhou. “Isolation forest.” 2008 Eighth IEEE International Conference on Data Mining. IEEE, 2008.\n",
    "\n",
    "K. M. Ting, J. T. S. Chuan, and F. T. Liu. “Mass: A New Ranking Measure for Anomaly Detection.“, IEEE Transactions on Knowledge and Data Engineering, 2009.\n",
    "\n",
    "Kai Ming Ting, Guang-Tong Zhou, Fei Tony Liu & Tan Swee Chuan. (2010). Mass Estimation and Its Applications. Proceedings of The 16th ACM SIGKDD Conference on Knowledge Discovery and Data Mining 2010. pp. 989-998.\n",
    "\n",
    "Swee Chuan Tan, Kai Ming Ting & Fei Tony Liu. (2011). Fast Anomaly Detection for Streaming Data. Proceedings of the International Joint Conference on Artificial Intelligence 2011. pp.1151-1156."
   ]
  },
  {
   "cell_type": "code",
   "execution_count": null,
   "id": "a424b386-3e5e-49d5-bf08-d4da0ac643d7",
   "metadata": {},
   "outputs": [],
   "source": [
    "data = pd.read_csv('./shuttle.csv', sep = ',')"
   ]
  },
  {
   "cell_type": "code",
   "execution_count": null,
   "id": "b4ecddb9-b1c1-4601-a92b-8219448586d9",
   "metadata": {},
   "outputs": [],
   "source": [
    "data.head()"
   ]
  },
  {
   "cell_type": "code",
   "execution_count": null,
   "id": "94d4c917",
   "metadata": {},
   "outputs": [],
   "source": [
    "data.shape"
   ]
  },
  {
   "cell_type": "code",
   "execution_count": null,
   "id": "f09c4dcc-609d-4c38-b7ae-69187b451e02",
   "metadata": {},
   "outputs": [],
   "source": [
    "pd.pivot_table(data,\n",
    "             values = 'Col1',\n",
    "               index = 'y', \n",
    "              aggfunc = 'count')"
   ]
  },
  {
   "cell_type": "markdown",
   "id": "4cc28dba-56aa-45b3-9691-a702ca0172fe",
   "metadata": {
    "jp-MarkdownHeadingCollapsed": true,
    "tags": []
   },
   "source": [
    "### Isolation Forest"
   ]
  },
  {
   "cell_type": "code",
   "execution_count": null,
   "id": "7ff0adfa",
   "metadata": {},
   "outputs": [],
   "source": [
    "train_data = data.copy()"
   ]
  },
  {
   "cell_type": "code",
   "execution_count": null,
   "id": "177f49e3-6fca-4f41-9b9d-1dfe85de7db8",
   "metadata": {},
   "outputs": [],
   "source": [
    "start = time.process_time()\n",
    "\n",
    "rng = np.random.RandomState(42)\n",
    "clf = IsolationForest(max_samples=256, random_state=rng, n_estimators = 100)\n",
    "clf.fit(train_data.loc[:, train_data.columns != 'y'])\n",
    "y_pred = clf.predict(train_data.loc[:, train_data.columns != 'y'])\n",
    "y_scores = clf.score_samples(train_data.loc[:, train_data.columns != 'y'])\n",
    "\n",
    "end = time.process_time()\n",
    "iforest_time = end - start\n",
    "print(end - start)"
   ]
  },
  {
   "cell_type": "code",
   "execution_count": null,
   "id": "ef1eb638-802f-4cdc-8949-8d7619502bd7",
   "metadata": {},
   "outputs": [],
   "source": [
    "train_data['y_pred'] = y_pred\n",
    "train_data['prediction'] = train_data.apply(def_outlier, axis = 1)\n",
    "train_data['y_scores'] = -y_scores"
   ]
  },
  {
   "cell_type": "code",
   "execution_count": null,
   "id": "f0f7e4f2-3dc3-415b-b09d-9aa7c8e0b8b6",
   "metadata": {},
   "outputs": [],
   "source": [
    "confusion_matrix(train_data['y'], train_data['prediction'])"
   ]
  },
  {
   "cell_type": "code",
   "execution_count": null,
   "id": "de0eb741-b411-46e5-ad03-6a4989cbfe69",
   "metadata": {},
   "outputs": [],
   "source": [
    "fpr, tpr, _ = metrics.roc_curve(train_data['y'], train_data['y_scores'])\n",
    "iforest_auc = metrics.auc(fpr, tpr)\n",
    "metrics.auc(fpr, tpr)"
   ]
  },
  {
   "cell_type": "code",
   "execution_count": null,
   "id": "307d4f3d",
   "metadata": {},
   "outputs": [],
   "source": [
    "iforest_report = classification_report(train_data['y'], train_data['prediction'], target_names = ['0','1'], output_dict = True)\n",
    "print(classification_report(train_data['y'], train_data['prediction'], target_names = ['0','1']))"
   ]
  },
  {
   "cell_type": "code",
   "execution_count": null,
   "id": "91481ed3",
   "metadata": {},
   "outputs": [],
   "source": [
    "precision, recall, thresholds = precision_recall_curve(train_data['y'], train_data['y_scores'])\n",
    "iforest_auc_precision_recall = metrics.auc(recall, precision)\n",
    "print(iforest_auc_precision_recall)"
   ]
  },
  {
   "cell_type": "markdown",
   "id": "e5c981ff-7737-44e2-b83d-50d2f15e71c4",
   "metadata": {
    "jp-MarkdownHeadingCollapsed": true,
    "tags": []
   },
   "source": [
    "### LOF"
   ]
  },
  {
   "cell_type": "code",
   "execution_count": null,
   "id": "66545afe",
   "metadata": {},
   "outputs": [],
   "source": [
    "min_max_scaler = MinMaxScaler(feature_range=(0, 1))\n",
    "train_data = min_max_scaler.fit_transform(data.copy())\n",
    "train_data = pd.DataFrame(train_data)\n",
    "train_data.columns = data.columns"
   ]
  },
  {
   "cell_type": "code",
   "execution_count": null,
   "id": "baa63ee5-dd93-4042-a547-bd275a1e26ac",
   "metadata": {},
   "outputs": [],
   "source": [
    "start = time.process_time()\n",
    "\n",
    "lof = LocalOutlierFactor(n_neighbors=491, contamination=.1, novelty=False)\n",
    "y_pred = lof.fit_predict(train_data.loc[:, train_data.columns != 'y'])\n",
    "y_scores = lof.negative_outlier_factor_\n",
    "\n",
    "end = time.process_time()\n",
    "lof_time = end - start\n",
    "print(end - start)"
   ]
  },
  {
   "cell_type": "code",
   "execution_count": null,
   "id": "482acfbf-3ae3-4956-98df-b74d785d0fb5",
   "metadata": {},
   "outputs": [],
   "source": [
    "train_data['y_pred'] = y_pred\n",
    "train_data['prediction'] = train_data.apply(def_outlier, axis = 1)\n",
    "train_data['y_scores'] = -y_scores"
   ]
  },
  {
   "cell_type": "code",
   "execution_count": null,
   "id": "6010a783-4804-4b92-893d-7efba13a91ff",
   "metadata": {},
   "outputs": [],
   "source": [
    "confusion_matrix(train_data['y'], train_data['prediction'])"
   ]
  },
  {
   "cell_type": "code",
   "execution_count": null,
   "id": "a735afd0-39a5-4fe7-82ac-d60bd09eb610",
   "metadata": {},
   "outputs": [],
   "source": [
    "fpr, tpr, _ = metrics.roc_curve(train_data['y'], train_data['y_scores'])\n",
    "lof_auc = metrics.auc(fpr, tpr)\n",
    "metrics.auc(fpr, tpr)"
   ]
  },
  {
   "cell_type": "code",
   "execution_count": null,
   "id": "68898ef3-2b07-4b31-8644-230e77c143e9",
   "metadata": {},
   "outputs": [],
   "source": [
    "lof_report = classification_report(train_data['y'], train_data['prediction'], target_names = ['0','1'], output_dict = True)\n",
    "print(classification_report(train_data['y'], train_data['prediction'], target_names = ['0','1']))"
   ]
  },
  {
   "cell_type": "code",
   "execution_count": null,
   "id": "c47e512b",
   "metadata": {},
   "outputs": [],
   "source": [
    "precision, recall, thresholds = precision_recall_curve(train_data['y'], train_data['y_scores'])\n",
    "lof_auc_precision_recall = metrics.auc(recall, precision)\n",
    "print(lof_auc_precision_recall)"
   ]
  },
  {
   "cell_type": "markdown",
   "id": "4f9008e9-cec7-4041-94bc-2b1c95995379",
   "metadata": {
    "jp-MarkdownHeadingCollapsed": true,
    "tags": []
   },
   "source": [
    "### DBSCAN"
   ]
  },
  {
   "cell_type": "code",
   "execution_count": null,
   "id": "cbb98995",
   "metadata": {},
   "outputs": [],
   "source": [
    "min_max_scaler = MinMaxScaler(feature_range=(0, 1))\n",
    "train_data = min_max_scaler.fit_transform(data.copy())\n",
    "train_data = pd.DataFrame(train_data)\n",
    "train_data.columns = data.columns"
   ]
  },
  {
   "cell_type": "code",
   "execution_count": null,
   "id": "5a8b2352-c76d-4526-8234-6d93c2808d1c",
   "metadata": {},
   "outputs": [],
   "source": [
    "dist = dbscan_tuner(train_data, 17)"
   ]
  },
  {
   "cell_type": "code",
   "execution_count": null,
   "id": "956e41ca-eb25-4b82-8970-f3d869653b1f",
   "metadata": {
    "tags": []
   },
   "outputs": [],
   "source": [
    "start = time.process_time()\n",
    "\n",
    "dbscan = DBSCAN(eps = 0.005, min_samples = 18)\n",
    "clusters = dbscan.fit_predict(train_data.loc[:, train_data.columns != 'y'])\n",
    "\n",
    "end = time.process_time()\n",
    "dbscan_time = end - start\n",
    "print(end - start)"
   ]
  },
  {
   "cell_type": "code",
   "execution_count": null,
   "id": "f1fdfecf-ef80-4257-9eb3-1cff3d9f9cbf",
   "metadata": {},
   "outputs": [],
   "source": [
    "train_data['y_pred'] = clusters\n",
    "train_data['prediction'] = train_data.apply(def_outlier, axis = 1)"
   ]
  },
  {
   "cell_type": "code",
   "execution_count": null,
   "id": "6e702c6d",
   "metadata": {},
   "outputs": [],
   "source": [
    "original_columns = data.columns.to_list()\n",
    "original_columns.remove('y')\n",
    "\n",
    "data_w_score = pd.DataFrame(columns = train_data.columns.to_list())\n",
    "data_w_score['score'] = pd.NaT\n",
    "for i in set(clusters):\n",
    "    if i == -1:\n",
    "        continue\n",
    "    score_data = train_data[train_data['y_pred'] == i].copy()\n",
    "    center = score_data[original_columns].mean().to_list()\n",
    "    score_data['score'] = score_data.apply(lambda x : distance.euclidean(x[original_columns].to_list(), center),1)\n",
    "    data_w_score = data_w_score.append(score_data.copy(), ignore_index = True)\n",
    "\n",
    "anomalies_data = train_data[train_data['y_pred'] == -1].copy()\n",
    "anomalies_data['score'] = ''\n",
    "cluster_centers = pd.pivot_table(train_data,\n",
    "              index = 'y_pred',\n",
    "              aggfunc = 'mean')"
   ]
  },
  {
   "cell_type": "code",
   "execution_count": null,
   "id": "155d4374",
   "metadata": {},
   "outputs": [],
   "source": [
    "for i in range(len(anomalies_data)):\n",
    "    anomalies_data['score'].iloc[i] = np.min(cluster_centers[cluster_centers.index != -1].apply(lambda x : \n",
    "                                                                            distance.euclidean(x[original_columns].to_list(), \n",
    "                                                                            anomalies_data[original_columns].iloc[i]),1))\n",
    "data_for_auprc = pd.concat([data_w_score, anomalies_data])"
   ]
  },
  {
   "cell_type": "code",
   "execution_count": null,
   "id": "c186cc74-fba2-47a9-9af2-52e1b894a58b",
   "metadata": {},
   "outputs": [],
   "source": [
    "confusion_matrix(train_data['y'], train_data['prediction'])"
   ]
  },
  {
   "cell_type": "code",
   "execution_count": null,
   "id": "973e10ec-9785-47c4-a7b9-41633b2c98d9",
   "metadata": {},
   "outputs": [],
   "source": [
    "fpr, tpr, _ = metrics.roc_curve(data_for_auprc['y'], data_for_auprc['score'])\n",
    "dbscan_auc = metrics.auc(fpr, tpr)\n",
    "metrics.auc(fpr, tpr)"
   ]
  },
  {
   "cell_type": "code",
   "execution_count": null,
   "id": "d118e83e-1e63-426f-bd03-e84b6fa57dab",
   "metadata": {},
   "outputs": [],
   "source": [
    "dbscan_report = classification_report(train_data['y'], train_data['prediction'], target_names = ['0','1'], output_dict = True)\n",
    "print(classification_report(train_data['y'], train_data['prediction'], target_names = ['0','1']))"
   ]
  },
  {
   "cell_type": "code",
   "execution_count": null,
   "id": "8448d3a7",
   "metadata": {},
   "outputs": [],
   "source": [
    "precision, recall, thresholds = precision_recall_curve(data_for_auprc['y'], data_for_auprc['score'])\n",
    "dbscan_auc_precision_recall = metrics.auc(recall, precision)\n",
    "print(dbscan_auc_precision_recall)"
   ]
  },
  {
   "cell_type": "markdown",
   "id": "09b9192d",
   "metadata": {
    "jp-MarkdownHeadingCollapsed": true,
    "tags": []
   },
   "source": [
    "### CADE"
   ]
  },
  {
   "cell_type": "markdown",
   "id": "e8259165",
   "metadata": {},
   "source": [
    "Source: Aric LaBarr, webinar \"Modern Approaches To Anomaly Detection\", November 2, 2021"
   ]
  },
  {
   "cell_type": "code",
   "execution_count": null,
   "id": "4177e25c",
   "metadata": {},
   "outputs": [],
   "source": [
    "train_data = data.copy()"
   ]
  },
  {
   "cell_type": "code",
   "execution_count": null,
   "id": "c95d81e8",
   "metadata": {},
   "outputs": [],
   "source": [
    "fake = pd.DataFrame()\n",
    "data_for_fake = train_data.loc[:, train_data.columns != 'y']\n",
    "data_for_fake['Target'] = 0\n",
    "for i in data_for_fake.columns:\n",
    "    fake[i] = np.random.uniform(np.min(data_for_fake[i]), np.max(data_for_fake[i]), size = len(data_for_fake[i]))\n",
    "fake['Target'] = 1"
   ]
  },
  {
   "cell_type": "code",
   "execution_count": null,
   "id": "bd5cd69e",
   "metadata": {},
   "outputs": [],
   "source": [
    "data_combined = pd.concat([data_for_fake, fake], axis = 0)"
   ]
  },
  {
   "cell_type": "code",
   "execution_count": null,
   "id": "8116a586",
   "metadata": {},
   "outputs": [],
   "source": [
    "start = time.process_time()\n",
    "model = RandomForestClassifier(n_estimators = 100)\n",
    "model.fit(data_combined.loc[:, data_combined.columns != 'Target'],data_combined.loc[:, data_combined.columns == 'Target']['Target'] )\n",
    "train_data['Target'] = model.predict_proba(train_data.loc[:, train_data.columns != 'y'])[:,1]\n",
    "end = time.process_time()\n",
    "cade_time = end - start\n",
    "print(end - start)"
   ]
  },
  {
   "cell_type": "code",
   "execution_count": null,
   "id": "fb8f1660",
   "metadata": {},
   "outputs": [],
   "source": [
    "auc = {}\n",
    "for i in np.arange(0,0.55,0.05):\n",
    "    train_data['prediction'] = train_data.apply(def_outlier_cade, args=(i,), axis = 1)\n",
    "    fpr, tpr, _ = metrics.roc_curve(train_data['y'], train_data['prediction'])\n",
    "    auc[i] = metrics.auc(fpr, tpr)\n",
    "max_key = max(auc, key=auc.get)"
   ]
  },
  {
   "cell_type": "code",
   "execution_count": null,
   "id": "0a1a44d8",
   "metadata": {},
   "outputs": [],
   "source": [
    "train_data['prediction'] = train_data.apply(def_outlier_cade,args=(max_key,), axis = 1)"
   ]
  },
  {
   "cell_type": "code",
   "execution_count": null,
   "id": "1ec719c0",
   "metadata": {},
   "outputs": [],
   "source": [
    "confusion_matrix(train_data['y'], train_data['prediction'])"
   ]
  },
  {
   "cell_type": "code",
   "execution_count": null,
   "id": "a6044d1c",
   "metadata": {},
   "outputs": [],
   "source": [
    "fpr, tpr, _ = metrics.roc_curve(train_data['y'], train_data['Target'])\n",
    "cade_auc = metrics.auc(fpr, tpr)\n",
    "metrics.auc(fpr, tpr)"
   ]
  },
  {
   "cell_type": "code",
   "execution_count": null,
   "id": "0ccc5846",
   "metadata": {},
   "outputs": [],
   "source": [
    "cade_report = classification_report(train_data['y'], train_data['prediction'], target_names = ['0','1'], output_dict = True)\n",
    "print(classification_report(train_data['y'], train_data['prediction'], target_names = ['0','1']))"
   ]
  },
  {
   "cell_type": "code",
   "execution_count": null,
   "id": "8fd055f6",
   "metadata": {},
   "outputs": [],
   "source": [
    "precision, recall, thresholds = precision_recall_curve(train_data['y'], train_data['Target'])\n",
    "cade_auc_precision_recall = metrics.auc(recall, precision)\n",
    "print(cade_auc_precision_recall)"
   ]
  },
  {
   "cell_type": "markdown",
   "id": "d01f1edb",
   "metadata": {
    "jp-MarkdownHeadingCollapsed": true,
    "tags": []
   },
   "source": [
    "### Deep Autoencoders"
   ]
  },
  {
   "cell_type": "markdown",
   "id": "7cee233c",
   "metadata": {},
   "source": [
    "Source: https://www.analyticsvidhya.com/blog/2021/05/anomaly-detection-using-autoencoders-a-walk-through-in-python/"
   ]
  },
  {
   "cell_type": "code",
   "execution_count": null,
   "id": "f5cd0fd8-66b2-414a-8056-8bfd5b950ffd",
   "metadata": {},
   "outputs": [],
   "source": [
    "features = data.drop(columns = ['y'])\n",
    "target = data['y']"
   ]
  },
  {
   "cell_type": "code",
   "execution_count": null,
   "id": "935d5c6c-de41-4147-ab58-cad1d9bee601",
   "metadata": {},
   "outputs": [],
   "source": [
    "min_max_scaler = MinMaxScaler(feature_range=(0, 1))\n",
    "x_train_scaled = min_max_scaler.fit_transform(features .copy())"
   ]
  },
  {
   "cell_type": "code",
   "execution_count": null,
   "id": "6c22dcd1",
   "metadata": {},
   "outputs": [],
   "source": [
    "class AutoEncoder(Model):\n",
    "\n",
    "    def __init__(self, output_units):\n",
    "        super().__init__()\n",
    "        self.encoder = Sequential([\n",
    "          Dense(5,input_dim = output_units, activation='sigmoid'),\n",
    "          Dropout(0.1),\n",
    "          Dense(3, activation='relu'),\n",
    "          Dropout(0.1),\n",
    "          Dense(3, activation='relu')\n",
    "        ])\n",
    "        self.decoder = Sequential([\n",
    "          Dense(3, activation='relu'),\n",
    "          Dropout(0.1),\n",
    "          Dense(5,  activation='relu'),\n",
    "          Dropout(0.1),\n",
    "          Dense(output_units, activation='sigmoid')\n",
    "        ])\n",
    "  \n",
    "    def call(self, inputs):\n",
    "        encoded = self.encoder(inputs)\n",
    "        decoded = self.decoder(encoded)\n",
    "        return decoded"
   ]
  },
  {
   "cell_type": "code",
   "execution_count": null,
   "id": "9193484b",
   "metadata": {},
   "outputs": [],
   "source": [
    "def find_threshold(model, x_train_scaled):\n",
    "    reconstructions = model.predict(x_train_scaled)\n",
    "    reconstruction_errors = tf.keras.losses.msle(reconstructions, x_train_scaled)\n",
    "    threshold = np.mean(reconstruction_errors.numpy()) + np.std(reconstruction_errors.numpy())\n",
    "    return threshold\n",
    "\n",
    "def get_predictions(model, x_train_scaled, threshold):\n",
    "    predictions = model.predict(x_train_scaled)\n",
    "    errors = tf.keras.losses.msle(predictions, x_train_scaled)\n",
    "    anomaly_mask = pd.Series(errors) > threshold\n",
    "    preds = anomaly_mask.map(lambda x: 1.0 if x == True else 0.0)\n",
    "    return preds, errors"
   ]
  },
  {
   "cell_type": "code",
   "execution_count": null,
   "id": "ffc44ec4",
   "metadata": {},
   "outputs": [],
   "source": [
    "start = time.process_time()\n",
    "\n",
    "model = AutoEncoder(output_units=x_train_scaled.shape[1])\n",
    "\n",
    "model.compile(loss='msle', metrics=['mse'], optimizer='adam')\n",
    "\n",
    "history = model.fit(\n",
    "    x_train_scaled,\n",
    "    x_train_scaled,\n",
    "    epochs=20,\n",
    "    batch_size=512,\n",
    ")\n",
    "\n",
    "threshold = find_threshold(model, x_train_scaled)\n",
    "\n",
    "predictions, scores = get_predictions(model, x_train_scaled, threshold)\n",
    "\n",
    "end = time.process_time()\n",
    "deep_autoencoders_time = end - start\n",
    "print(end - start)"
   ]
  },
  {
   "cell_type": "code",
   "execution_count": null,
   "id": "ac98eae3",
   "metadata": {},
   "outputs": [],
   "source": [
    "confusion_matrix(target, predictions)"
   ]
  },
  {
   "cell_type": "code",
   "execution_count": null,
   "id": "e2a6301a-41a2-4481-bebe-f4e3a85f8e0f",
   "metadata": {},
   "outputs": [],
   "source": [
    "fpr, tpr, _ = metrics.roc_curve(target, scores)\n",
    "deep_autoencoders_auc = metrics.auc(fpr, tpr)\n",
    "metrics.auc(fpr, tpr)"
   ]
  },
  {
   "cell_type": "code",
   "execution_count": null,
   "id": "fe1dcdef",
   "metadata": {},
   "outputs": [],
   "source": [
    "deep_autoencoders_report = classification_report(target, predictions, target_names = ['0','1'], output_dict = True)\n",
    "print(classification_report(target, predictions, target_names = ['0','1']))"
   ]
  },
  {
   "cell_type": "code",
   "execution_count": null,
   "id": "2649565a",
   "metadata": {},
   "outputs": [],
   "source": [
    "precision, recall, thresholds = precision_recall_curve(target, scores)\n",
    "deep_ae_auc_precision_recall = metrics.auc(recall, precision)\n",
    "print(deep_ae_auc_precision_recall)"
   ]
  },
  {
   "cell_type": "markdown",
   "id": "957f35fb-bd0e-4336-850c-28a83464b2f5",
   "metadata": {
    "jp-MarkdownHeadingCollapsed": true,
    "tags": []
   },
   "source": [
    "### Autoencoders"
   ]
  },
  {
   "cell_type": "markdown",
   "id": "7294400e",
   "metadata": {},
   "source": [
    "Source: https://www.analyticsvidhya.com/blog/2021/05/anomaly-detection-using-autoencoders-a-walk-through-in-python/"
   ]
  },
  {
   "cell_type": "code",
   "execution_count": null,
   "id": "513fd47b-31dc-4e9c-b0b8-ce09a5fb4dc5",
   "metadata": {},
   "outputs": [],
   "source": [
    "features = data.drop(columns = ['y'])\n",
    "target = data['y']"
   ]
  },
  {
   "cell_type": "code",
   "execution_count": null,
   "id": "7605dafb-9a00-434e-963b-348a2afb25d5",
   "metadata": {},
   "outputs": [],
   "source": [
    "min_max_scaler = MinMaxScaler(feature_range=(0, 1))\n",
    "x_train_scaled = min_max_scaler.fit_transform(features .copy())"
   ]
  },
  {
   "cell_type": "code",
   "execution_count": null,
   "id": "cd2b4f0c-a975-4f43-bbc8-afe2269db0f1",
   "metadata": {},
   "outputs": [],
   "source": [
    "class AutoEncoder(Model):\n",
    "\n",
    "    def __init__(self, output_units):\n",
    "        super().__init__()\n",
    "        self.encoder = Sequential([\n",
    "          Dense(5,input_dim = output_units, activation='relu'),\n",
    "          Dropout(0.1),\n",
    "        ])\n",
    "        self.decoder = Sequential([\n",
    "          Dense(output_units, activation='sigmoid')\n",
    "        ])\n",
    "  \n",
    "    def call(self, inputs):\n",
    "        encoded = self.encoder(inputs)\n",
    "        decoded = self.decoder(encoded)\n",
    "        return decoded"
   ]
  },
  {
   "cell_type": "code",
   "execution_count": null,
   "id": "0544321d-2e37-42c0-bc36-67b46c2c0466",
   "metadata": {},
   "outputs": [],
   "source": [
    "def find_threshold(model, x_train_scaled):\n",
    "    reconstructions = model.predict(x_train_scaled)\n",
    "    reconstruction_errors = tf.keras.losses.msle(reconstructions, x_train_scaled)\n",
    "    threshold = np.mean(reconstruction_errors.numpy()) + np.std(reconstruction_errors.numpy())\n",
    "    return threshold\n",
    "\n",
    "def get_predictions(model, x_train_scaled, threshold):\n",
    "    predictions = model.predict(x_train_scaled)\n",
    "    errors = tf.keras.losses.msle(predictions, x_train_scaled)\n",
    "    anomaly_mask = pd.Series(errors) > threshold\n",
    "    preds = anomaly_mask.map(lambda x: 1.0 if x == True else 0.0)\n",
    "    return preds, errors"
   ]
  },
  {
   "cell_type": "code",
   "execution_count": null,
   "id": "1f136916-a23d-4d74-be41-c63f8da0ae65",
   "metadata": {},
   "outputs": [],
   "source": [
    "start = time.process_time()\n",
    "\n",
    "model = AutoEncoder(output_units=x_train_scaled.shape[1])\n",
    "\n",
    "model.compile(loss='msle', metrics=['mse'], optimizer='adam')\n",
    "\n",
    "history = model.fit(\n",
    "    x_train_scaled,\n",
    "    x_train_scaled,\n",
    "    epochs=20,\n",
    "    batch_size=512,\n",
    ")\n",
    "\n",
    "threshold = find_threshold(model, x_train_scaled)\n",
    "\n",
    "predictions, scores = get_predictions(model, x_train_scaled, threshold)\n",
    "\n",
    "end = time.process_time()\n",
    "autoencoders_time = end - start\n",
    "print(end - start)"
   ]
  },
  {
   "cell_type": "code",
   "execution_count": null,
   "id": "7be22cac-6bcc-4984-be07-5070a602fe94",
   "metadata": {},
   "outputs": [],
   "source": [
    "confusion_matrix(target, predictions)"
   ]
  },
  {
   "cell_type": "code",
   "execution_count": null,
   "id": "8510c402-5c5d-4e23-9602-64c75c2d16d2",
   "metadata": {},
   "outputs": [],
   "source": [
    "fpr, tpr, _ = metrics.roc_curve(target, scores)\n",
    "autoencoders_auc = metrics.auc(fpr, tpr)\n",
    "metrics.auc(fpr, tpr)"
   ]
  },
  {
   "cell_type": "code",
   "execution_count": null,
   "id": "903c3c89-81cc-43a9-8c04-04eb21e34644",
   "metadata": {},
   "outputs": [],
   "source": [
    "autoencoders_report = classification_report(target, predictions, target_names = ['0','1'], output_dict = True)\n",
    "print(classification_report(target, predictions, target_names = ['0','1']))"
   ]
  },
  {
   "cell_type": "code",
   "execution_count": null,
   "id": "0a1a0bc3-0b5d-4423-beea-49ea94a2721b",
   "metadata": {},
   "outputs": [],
   "source": [
    "precision, recall, thresholds = precision_recall_curve(target, scores)\n",
    "ae_auc_precision_recall = metrics.auc(recall, precision)\n",
    "print(ae_auc_precision_recall)"
   ]
  },
  {
   "cell_type": "markdown",
   "id": "5b82a11c-8da2-4a8c-87db-78e6466b8ea9",
   "metadata": {
    "jp-MarkdownHeadingCollapsed": true,
    "tags": []
   },
   "source": [
    "### One-Class SVM rbf"
   ]
  },
  {
   "cell_type": "code",
   "execution_count": null,
   "id": "b120f48a-85bd-47e6-9d89-02142879b103",
   "metadata": {},
   "outputs": [],
   "source": [
    "features = data.drop(columns = ['y'])\n",
    "target = data['y']"
   ]
  },
  {
   "cell_type": "code",
   "execution_count": null,
   "id": "27c77fa7-97d3-4230-a8be-87c1fb89c017",
   "metadata": {},
   "outputs": [],
   "source": [
    "min_max_scaler = MinMaxScaler(feature_range=(0, 1))\n",
    "x_train_scaled = min_max_scaler.fit_transform(features.copy())"
   ]
  },
  {
   "cell_type": "code",
   "execution_count": null,
   "id": "53b2858a-a5a0-4751-824c-5b4882970195",
   "metadata": {},
   "outputs": [],
   "source": [
    "start = time.process_time()\n",
    "\n",
    "model = OneClassSVM(gamma='scale', nu=0.1)\n",
    "model.fit(x_train_scaled)\n",
    "yhat = model.predict(x_train_scaled)\n",
    "y_scores = -model.decision_function(x_train_scaled)\n",
    "\n",
    "end = time.process_time()\n",
    "rbf_oc_svm_time = end - start\n",
    "print(end - start)"
   ]
  },
  {
   "cell_type": "code",
   "execution_count": null,
   "id": "94d4e9b3-e11b-4aea-85f5-4cbac34f7d49",
   "metadata": {},
   "outputs": [],
   "source": [
    "predictions = pd.DataFrame(yhat, columns = ['y_pred']).apply(def_outlier, axis = 1)"
   ]
  },
  {
   "cell_type": "code",
   "execution_count": null,
   "id": "2e26740b-b27a-403e-9bd8-2a1940bbfb5a",
   "metadata": {},
   "outputs": [],
   "source": [
    "confusion_matrix(target, predictions)"
   ]
  },
  {
   "cell_type": "code",
   "execution_count": null,
   "id": "8f38330c-b3c7-40b7-a890-328a445ec07b",
   "metadata": {},
   "outputs": [],
   "source": [
    "fpr, tpr, _ = metrics.roc_curve(target, y_scores)\n",
    "rbf_oc_svm_auc = metrics.auc(fpr, tpr)\n",
    "metrics.auc(fpr, tpr)"
   ]
  },
  {
   "cell_type": "code",
   "execution_count": null,
   "id": "46a414f0-1056-4432-809e-efc9d312010e",
   "metadata": {},
   "outputs": [],
   "source": [
    "rbf_oc_svm_report = classification_report(target, predictions, target_names = ['0','1'], output_dict = True)\n",
    "print(classification_report(target, predictions, target_names = ['0','1']))"
   ]
  },
  {
   "cell_type": "code",
   "execution_count": null,
   "id": "cc4aa211-aa51-40aa-8648-25b7ba696d93",
   "metadata": {},
   "outputs": [],
   "source": [
    "precision, recall, thresholds = precision_recall_curve(target, y_scores)\n",
    "ocsvm_rbf_auc_precision_recall = metrics.auc(recall, precision)\n",
    "print(ocsvm_rbf_auc_precision_recall)"
   ]
  },
  {
   "cell_type": "markdown",
   "id": "98f170f0-7a70-494f-8bb2-b438a506e70e",
   "metadata": {
    "jp-MarkdownHeadingCollapsed": true,
    "tags": []
   },
   "source": [
    "### One-Class SVM linear"
   ]
  },
  {
   "cell_type": "code",
   "execution_count": null,
   "id": "ecb7a231-438f-4260-a756-3cde56011283",
   "metadata": {},
   "outputs": [],
   "source": [
    "features = data.drop(columns = ['y'])\n",
    "target = data['y']"
   ]
  },
  {
   "cell_type": "code",
   "execution_count": null,
   "id": "79be65b9-9eac-45fc-a02c-6e74a43bbb1e",
   "metadata": {},
   "outputs": [],
   "source": [
    "min_max_scaler = MinMaxScaler(feature_range=(0, 1))\n",
    "x_train_scaled = min_max_scaler.fit_transform(features.copy())"
   ]
  },
  {
   "cell_type": "code",
   "execution_count": null,
   "id": "f36eaaa1-be27-470d-a45b-5462d0c08e36",
   "metadata": {},
   "outputs": [],
   "source": [
    "start = time.process_time()\n",
    "\n",
    "model = OneClassSVM(kernel = 'linear', nu=0.1)\n",
    "model.fit(x_train_scaled)\n",
    "yhat = model.predict(x_train_scaled)\n",
    "y_scores = -model.decision_function(x_train_scaled)\n",
    "\n",
    "end = time.process_time()\n",
    "lin_oc_svm_time = end - start\n",
    "print(end - start)"
   ]
  },
  {
   "cell_type": "code",
   "execution_count": null,
   "id": "b4cee2b8-6ed7-44cc-ae0a-ee193ef8b502",
   "metadata": {},
   "outputs": [],
   "source": [
    "predictions = pd.DataFrame(yhat, columns = ['y_pred']).apply(def_outlier, axis = 1)"
   ]
  },
  {
   "cell_type": "code",
   "execution_count": null,
   "id": "46881355-347d-4762-9e02-03e45b5a4c5a",
   "metadata": {},
   "outputs": [],
   "source": [
    "confusion_matrix(target, predictions)"
   ]
  },
  {
   "cell_type": "code",
   "execution_count": null,
   "id": "1ee94bcd-1ab1-4839-865f-bf94ed4f5aa0",
   "metadata": {},
   "outputs": [],
   "source": [
    "fpr, tpr, _ = metrics.roc_curve(target, y_scores)\n",
    "lin_oc_svm_auc = metrics.auc(fpr, tpr)\n",
    "metrics.auc(fpr, tpr)"
   ]
  },
  {
   "cell_type": "code",
   "execution_count": null,
   "id": "144e7542-16aa-4aeb-a23e-bbafb48310b1",
   "metadata": {},
   "outputs": [],
   "source": [
    "lin_oc_svm_report = classification_report(target, predictions, target_names = ['0','1'], output_dict = True)\n",
    "print(classification_report(target, predictions, target_names = ['0','1']))"
   ]
  },
  {
   "cell_type": "code",
   "execution_count": null,
   "id": "9cdbf2ad-b658-44e6-a8d0-c5ef3ac0fdc5",
   "metadata": {},
   "outputs": [],
   "source": [
    "precision, recall, thresholds = precision_recall_curve(target, y_scores)\n",
    "ocsvm_lin_auc_precision_recall = metrics.auc(recall, precision)\n",
    "print(ocsvm_lin_auc_precision_recall)"
   ]
  },
  {
   "cell_type": "markdown",
   "id": "d3af3579-1519-4c76-ae61-1d313ba25e73",
   "metadata": {
    "jp-MarkdownHeadingCollapsed": true,
    "tags": []
   },
   "source": [
    "### Performance"
   ]
  },
  {
   "cell_type": "code",
   "execution_count": null,
   "id": "00af0db9-2c65-40f6-921a-25af2f8225e2",
   "metadata": {},
   "outputs": [],
   "source": [
    "shuttle_performance = pd.DataFrame(columns = ['method','f1-score','sensitivity',\n",
    "                                              'precision','Time','AUC', 'AU precision-recall curve'])"
   ]
  },
  {
   "cell_type": "code",
   "execution_count": null,
   "id": "d1358fca-2570-4859-9cfb-052597049759",
   "metadata": {},
   "outputs": [],
   "source": [
    "iforest_performance = {'method':'iForest',\n",
    "               'f1-score':iforest_report['1']['f1-score'], \n",
    "               'sensitivity':iforest_report['1']['recall'],\n",
    "               'precision':iforest_report['1']['precision'],        \n",
    "              'Time':iforest_time,\n",
    "              'AUC':iforest_auc,\n",
    "                      'AU precision-recall curve': iforest_auc_precision_recall}\n",
    "lof_performance = {'method':'LOF',\n",
    "               'f1-score':lof_report['1']['f1-score'], \n",
    "               'sensitivity':lof_report['1']['recall'],\n",
    "               'precision':lof_report['1']['precision'],    \n",
    "              'Time':lof_time,\n",
    "              'AUC':lof_auc,\n",
    "                  'AU precision-recall curve': lof_auc_precision_recall}\n",
    "dbscan_performance = { 'method':'DBSCAN',\n",
    "               'f1-score':dbscan_report['1']['f1-score'], \n",
    "               'sensitivity':dbscan_report['1']['recall'],\n",
    "               'precision':dbscan_report['1']['precision'],       \n",
    "              'Time':dbscan_time,\n",
    "              'AUC':dbscan_auc,\n",
    "                     'AU precision-recall curve': dbscan_auc_precision_recall}\n",
    "cade_performance = { 'method':'CADE',\n",
    "               'f1-score':cade_report['1']['f1-score'], \n",
    "               'sensitivity':cade_report['1']['recall'],\n",
    "               'precision':cade_report['1']['precision'],     \n",
    "              'Time':cade_time,\n",
    "              'AUC':cade_auc,\n",
    "                   'AU precision-recall curve': cade_auc_precision_recall}\n",
    "deep_autoencoders_performance = {'method':'Deep Autoencoders',\n",
    "               'f1-score':deep_autoencoders_report['1']['f1-score'], \n",
    "               'sensitivity':deep_autoencoders_report['1']['recall'],\n",
    "               'precision':deep_autoencoders_report['1']['precision'],                  \n",
    "              'Time':deep_autoencoders_time,\n",
    "              'AUC':deep_autoencoders_auc,\n",
    "                                'AU precision-recall curve': deep_ae_auc_precision_recall}\n",
    "autoencoders_performance = {'method':'Autoencoders',\n",
    "               'f1-score':autoencoders_report['1']['f1-score'], \n",
    "               'sensitivity':autoencoders_report['1']['recall'],\n",
    "               'precision':autoencoders_report['1']['precision'],             \n",
    "              'Time':autoencoders_time,\n",
    "              'AUC':autoencoders_auc,\n",
    "                           'AU precision-recall curve':ae_auc_precision_recall}\n",
    "rbf_oc_svm_performance = {'method':'OC-SVM rbf',\n",
    "               'f1-score':rbf_oc_svm_report['1']['f1-score'], \n",
    "               'sensitivity':rbf_oc_svm_report['1']['recall'],\n",
    "               'precision':rbf_oc_svm_report['1']['precision'],           \n",
    "              'Time':rbf_oc_svm_time,\n",
    "              'AUC':rbf_oc_svm_auc,\n",
    "                       'AU precision-recall curve':  ocsvm_rbf_auc_precision_recall}\n",
    "lin_oc_svm_performance = {'method':'OC-SVM linear',\n",
    "               'f1-score':lin_oc_svm_report['1']['f1-score'], \n",
    "               'sensitivity':lin_oc_svm_report['1']['recall'],\n",
    "               'precision':lin_oc_svm_report['1']['precision'],           \n",
    "              'Time':lin_oc_svm_time,\n",
    "              'AUC':lin_oc_svm_auc,\n",
    "                         'AU precision-recall curve': ocsvm_lin_auc_precision_recall}"
   ]
  },
  {
   "cell_type": "code",
   "execution_count": null,
   "id": "c2c621ed-0b06-476a-92c3-193d7ceb03f3",
   "metadata": {},
   "outputs": [],
   "source": [
    "shuttle_performance = shuttle_performance.append(iforest_performance, ignore_index = True)\n",
    "shuttle_performance = shuttle_performance.append(lof_performance, ignore_index = True)\n",
    "shuttle_performance = shuttle_performance.append(dbscan_performance, ignore_index = True)\n",
    "shuttle_performance = shuttle_performance.append(cade_performance, ignore_index = True)\n",
    "shuttle_performance = shuttle_performance.append(deep_autoencoders_performance, ignore_index = True)\n",
    "shuttle_performance = shuttle_performance.append(autoencoders_performance, ignore_index = True)\n",
    "shuttle_performance = shuttle_performance.append(rbf_oc_svm_performance, ignore_index = True)\n",
    "shuttle_performance = shuttle_performance.append(lin_oc_svm_performance, ignore_index = True)"
   ]
  },
  {
   "cell_type": "markdown",
   "id": "fe5ee8ce-7b98-40ba-935f-2a1f91d141c3",
   "metadata": {
    "jp-MarkdownHeadingCollapsed": true,
    "tags": []
   },
   "source": [
    "## mnist"
   ]
  },
  {
   "cell_type": "markdown",
   "id": "63457063",
   "metadata": {},
   "source": [
    "**Dataset source**: http://odds.cs.stonybrook.edu/mnist-dataset/ (data is transformed from .mat to .csv format)\n",
    "\n",
    "Shebuti Rayana (2016).  ODDS Library [http://odds.cs.stonybrook.edu]. Stony Brook, NY: Stony Brook University, Department of Computer Science.\n",
    "\n",
    "**Additional sources**:\n",
    "\n",
    "Bandaragoda, Tharindu R., et al. “Efficient Anomaly Detection by Isolation Using Nearest Neighbour Ensemble.” 2014 IEEE International Conference on Data Mining Workshop. IEEE, 2014."
   ]
  },
  {
   "cell_type": "code",
   "execution_count": null,
   "id": "a092626d-fd14-4efd-848b-04c865df948b",
   "metadata": {},
   "outputs": [],
   "source": [
    "data = pd.read_csv('./mnist.csv')"
   ]
  },
  {
   "cell_type": "code",
   "execution_count": null,
   "id": "dce30806-daa4-4424-9d34-5590b12cc572",
   "metadata": {},
   "outputs": [],
   "source": [
    "# dropping columns that consist only of constant values\n",
    "data = data.drop(columns = ['Col1','Col4', 'Col7', 'Col22', 'Col27', 'Col29', 'Col38', 'Col41', 'Col51', 'Col53', 'Col54', 'Col61', 'Col62', 'Col71', 'Col73', 'Col79', 'Col87', 'Col88', 'Col89', 'Col90',\n",
    "'Col92', 'Col100'])"
   ]
  },
  {
   "cell_type": "code",
   "execution_count": null,
   "id": "a977b2ca-e0c7-4440-8019-ecccfafd0794",
   "metadata": {},
   "outputs": [],
   "source": [
    "pd.pivot_table(data,\n",
    "             values = 'Col2',\n",
    "               index = 'y', \n",
    "              aggfunc = 'count')"
   ]
  },
  {
   "cell_type": "code",
   "execution_count": null,
   "id": "67c2f6ad-e7a7-41df-81e1-5baf06f853d9",
   "metadata": {},
   "outputs": [],
   "source": [
    "data.shape"
   ]
  },
  {
   "cell_type": "code",
   "execution_count": null,
   "id": "d6dc2a2e-c4ab-404c-bf0b-d549f2b7c4ee",
   "metadata": {},
   "outputs": [],
   "source": [
    "data.head()"
   ]
  },
  {
   "cell_type": "markdown",
   "id": "2cb69868-3d58-467a-8c66-25a2a5c4bd6b",
   "metadata": {
    "jp-MarkdownHeadingCollapsed": true,
    "tags": []
   },
   "source": [
    "### iForest"
   ]
  },
  {
   "cell_type": "code",
   "execution_count": null,
   "id": "7d3ce63f",
   "metadata": {},
   "outputs": [],
   "source": [
    "train_data = data.copy()"
   ]
  },
  {
   "cell_type": "code",
   "execution_count": null,
   "id": "eb912eab-a629-4018-a3fd-99ea49d5f042",
   "metadata": {},
   "outputs": [],
   "source": [
    "start = time.process_time()\n",
    "\n",
    "rng = np.random.RandomState(42)\n",
    "clf = IsolationForest(max_samples=256, random_state=rng, n_estimators = 100)\n",
    "clf.fit(train_data.loc[:, train_data.columns != 'y'])\n",
    "y_pred = clf.predict(train_data.loc[:, train_data.columns != 'y'])\n",
    "y_scores = clf.score_samples(train_data.loc[:, train_data.columns != 'y'])\n",
    "\n",
    "end = time.process_time()\n",
    "iforest_time = end - start\n",
    "print(end - start)"
   ]
  },
  {
   "cell_type": "code",
   "execution_count": null,
   "id": "34296288-ab67-47d3-8331-33e3b1f4aa3a",
   "metadata": {},
   "outputs": [],
   "source": [
    "train_data['y_pred'] = y_pred\n",
    "train_data['prediction'] = train_data.apply(def_outlier, axis = 1)\n",
    "train_data['y_scores'] = -y_scores"
   ]
  },
  {
   "cell_type": "code",
   "execution_count": null,
   "id": "5e7ca028-9462-40aa-b9dd-c81989f4dd64",
   "metadata": {},
   "outputs": [],
   "source": [
    "confusion_matrix(train_data['y'], train_data['prediction'])"
   ]
  },
  {
   "cell_type": "code",
   "execution_count": null,
   "id": "90415f0d-896e-4321-96f3-558a1502b6b0",
   "metadata": {},
   "outputs": [],
   "source": [
    "fpr, tpr, _ = metrics.roc_curve(train_data['y'], train_data['y_scores'])\n",
    "iforest_auc = metrics.auc(fpr, tpr)\n",
    "metrics.auc(fpr, tpr)"
   ]
  },
  {
   "cell_type": "code",
   "execution_count": null,
   "id": "64ac6583-30be-4074-8b26-c811efd7d0f2",
   "metadata": {},
   "outputs": [],
   "source": [
    "iforest_report = classification_report(train_data['y'], train_data['prediction'], target_names = ['0','1'], output_dict = True)\n",
    "print(classification_report(train_data['y'], train_data['prediction'], target_names = ['0','1']))"
   ]
  },
  {
   "cell_type": "code",
   "execution_count": null,
   "id": "c4c5fd4c",
   "metadata": {},
   "outputs": [],
   "source": [
    "precision, recall, thresholds = precision_recall_curve(train_data['y'], train_data['y_scores'])\n",
    "iforest_auc_precision_recall = metrics.auc(recall, precision)\n",
    "print(iforest_auc_precision_recall)"
   ]
  },
  {
   "cell_type": "markdown",
   "id": "83171dd9-bcc7-4f0f-812d-dae61281759b",
   "metadata": {
    "jp-MarkdownHeadingCollapsed": true,
    "tags": []
   },
   "source": [
    "### LOF"
   ]
  },
  {
   "cell_type": "code",
   "execution_count": null,
   "id": "86163b95-6051-41d1-a3bd-5ebac55b06d9",
   "metadata": {},
   "outputs": [],
   "source": [
    "min_max_scaler = MinMaxScaler(feature_range=(0, 1))\n",
    "train_data = min_max_scaler.fit_transform(data.copy())\n",
    "train_data = pd.DataFrame(train_data)\n",
    "train_data.columns = data.columns"
   ]
  },
  {
   "cell_type": "code",
   "execution_count": null,
   "id": "8c32baf5-4353-4624-ae62-874b0f0e634a",
   "metadata": {},
   "outputs": [],
   "source": [
    "start = time.process_time()\n",
    "\n",
    "lof = LocalOutlierFactor(n_neighbors=76, contamination=.1, novelty=False)\n",
    "y_pred = lof.fit_predict(train_data.loc[:, train_data.columns != 'y'])\n",
    "y_scores = lof.negative_outlier_factor_\n",
    "\n",
    "end = time.process_time()\n",
    "lof_time = end - start\n",
    "print(end - start)"
   ]
  },
  {
   "cell_type": "code",
   "execution_count": null,
   "id": "a2a1812a-672a-4b32-a1ca-feea659ea87f",
   "metadata": {},
   "outputs": [],
   "source": [
    "train_data['y_pred'] = y_pred\n",
    "train_data['prediction'] = train_data.apply(def_outlier, axis = 1)\n",
    "train_data['y_scores'] = -y_scores"
   ]
  },
  {
   "cell_type": "code",
   "execution_count": null,
   "id": "0d6cacb7-8a5a-457c-b67d-d187b9067c46",
   "metadata": {},
   "outputs": [],
   "source": [
    "confusion_matrix(train_data['y'], train_data['prediction'])"
   ]
  },
  {
   "cell_type": "code",
   "execution_count": null,
   "id": "0a6aa7e7-b976-4bc5-97c5-4a03e8ee9cef",
   "metadata": {},
   "outputs": [],
   "source": [
    "fpr, tpr, _ = metrics.roc_curve(train_data['y'], train_data['y_scores'])\n",
    "lof_auc = metrics.auc(fpr, tpr)\n",
    "metrics.auc(fpr, tpr)"
   ]
  },
  {
   "cell_type": "code",
   "execution_count": null,
   "id": "1394d311-8b13-4c84-924b-5980e585fa38",
   "metadata": {},
   "outputs": [],
   "source": [
    "lof_report = classification_report(train_data['y'], train_data['prediction'], target_names = ['0','1'], output_dict = True)\n",
    "print(classification_report(train_data['y'], train_data['prediction'], target_names = ['0','1']))"
   ]
  },
  {
   "cell_type": "code",
   "execution_count": null,
   "id": "169caafe",
   "metadata": {},
   "outputs": [],
   "source": [
    "precision, recall, thresholds = precision_recall_curve(train_data['y'], train_data['y_scores'])\n",
    "lof_auc_precision_recall = metrics.auc(recall, precision)\n",
    "print(lof_auc_precision_recall)"
   ]
  },
  {
   "cell_type": "markdown",
   "id": "b10012dc-b8d9-43e9-ac09-6d6dcad78397",
   "metadata": {
    "jp-MarkdownHeadingCollapsed": true,
    "tags": []
   },
   "source": [
    "### DBSCAN"
   ]
  },
  {
   "cell_type": "code",
   "execution_count": null,
   "id": "d7d7c6eb-411b-44b5-845d-2a6faf7e56a7",
   "metadata": {},
   "outputs": [],
   "source": [
    "min_max_scaler = MinMaxScaler(feature_range=(0, 1))\n",
    "train_data = min_max_scaler.fit_transform(data.copy())\n",
    "train_data = pd.DataFrame(train_data)\n",
    "train_data.columns = data.columns"
   ]
  },
  {
   "cell_type": "code",
   "execution_count": null,
   "id": "cb97b329-a258-41b3-9a87-09dcdb92eb08",
   "metadata": {},
   "outputs": [],
   "source": [
    "dist = dbscan_tuner(train_data,155)"
   ]
  },
  {
   "cell_type": "code",
   "execution_count": null,
   "id": "8ae11fc5-289d-4fe4-a376-6a114cfdebe8",
   "metadata": {},
   "outputs": [],
   "source": [
    "start = time.process_time()\n",
    "\n",
    "dbscan = DBSCAN(eps = 2.5, min_samples = 156)\n",
    "clusters = dbscan.fit_predict(train_data.loc[:, train_data.columns != 'y'])\n",
    "\n",
    "end = time.process_time()\n",
    "dbscan_time = end - start\n",
    "print(end - start)"
   ]
  },
  {
   "cell_type": "code",
   "execution_count": null,
   "id": "41001c5a-6c08-404c-9217-d246002f8ea4",
   "metadata": {},
   "outputs": [],
   "source": [
    "train_data['y_pred'] = clusters\n",
    "train_data['prediction'] = train_data.apply(def_outlier, axis = 1)"
   ]
  },
  {
   "cell_type": "code",
   "execution_count": null,
   "id": "1922d515",
   "metadata": {},
   "outputs": [],
   "source": [
    "original_columns = data.columns.to_list()\n",
    "original_columns.remove('y')\n",
    "\n",
    "data_w_score = pd.DataFrame(columns = train_data.columns.to_list())\n",
    "data_w_score['score'] = pd.NaT\n",
    "for i in set(clusters):\n",
    "    if i == -1:\n",
    "        continue\n",
    "    score_data = train_data[train_data['y_pred'] == i].copy()\n",
    "    center = score_data[original_columns].mean().to_list()\n",
    "    score_data['score'] = score_data.apply(lambda x : distance.euclidean(x[original_columns].to_list(), center),1)\n",
    "    data_w_score = data_w_score.append(score_data.copy(), ignore_index = True)\n",
    "\n",
    "anomalies_data = train_data[train_data['y_pred'] == -1].copy()\n",
    "anomalies_data['score'] = ''\n",
    "cluster_centers = pd.pivot_table(train_data,\n",
    "              index = 'y_pred',\n",
    "              aggfunc = 'mean')"
   ]
  },
  {
   "cell_type": "code",
   "execution_count": null,
   "id": "cc33a9d1",
   "metadata": {},
   "outputs": [],
   "source": [
    "for i in range(len(anomalies_data)):\n",
    "    anomalies_data['score'].iloc[i] = np.min(cluster_centers[cluster_centers.index != -1].apply(lambda x : \n",
    "                                                                                                distance.euclidean(x[original_columns].to_list(), \n",
    "                                                                                                                   anomalies_data[original_columns].iloc[i]),1))\n",
    "\n",
    "data_for_auprc = pd.concat([data_w_score, anomalies_data])"
   ]
  },
  {
   "cell_type": "code",
   "execution_count": null,
   "id": "d3f87919-e3d2-48b9-a03d-e835017328e5",
   "metadata": {},
   "outputs": [],
   "source": [
    "confusion_matrix(train_data['y'], train_data['prediction'])"
   ]
  },
  {
   "cell_type": "code",
   "execution_count": null,
   "id": "bcd6caba-cbbf-4c01-943c-c76ec2b0e1f5",
   "metadata": {},
   "outputs": [],
   "source": [
    "fpr, tpr, _ = metrics.roc_curve(data_for_auprc['y'], data_for_auprc['score'])\n",
    "dbscan_auc = metrics.auc(fpr, tpr)\n",
    "metrics.auc(fpr, tpr)"
   ]
  },
  {
   "cell_type": "code",
   "execution_count": null,
   "id": "827597a6-137a-49b8-8d3b-049b23966b99",
   "metadata": {},
   "outputs": [],
   "source": [
    "dbscan_report = classification_report(train_data['y'], train_data['prediction'], target_names = ['0','1'], output_dict = True)\n",
    "print(classification_report(train_data['y'], train_data['prediction'], target_names = ['0','1']))"
   ]
  },
  {
   "cell_type": "code",
   "execution_count": null,
   "id": "35263fd6",
   "metadata": {},
   "outputs": [],
   "source": [
    "precision, recall, thresholds = precision_recall_curve(data_for_auprc['y'], data_for_auprc['score'])\n",
    "dbscan_auc_precision_recall = metrics.auc(recall, precision)\n",
    "print(dbscan_auc_precision_recall)"
   ]
  },
  {
   "cell_type": "markdown",
   "id": "ab3f63a1",
   "metadata": {
    "jp-MarkdownHeadingCollapsed": true,
    "tags": []
   },
   "source": [
    "### CADE"
   ]
  },
  {
   "cell_type": "markdown",
   "id": "be9335e1",
   "metadata": {},
   "source": [
    "Source: Aric LaBarr, webinar \"Modern Approaches To Anomaly Detection\", November 2, 2021"
   ]
  },
  {
   "cell_type": "code",
   "execution_count": null,
   "id": "db3fd14b",
   "metadata": {},
   "outputs": [],
   "source": [
    "train_data = data.copy()"
   ]
  },
  {
   "cell_type": "code",
   "execution_count": null,
   "id": "6c333024",
   "metadata": {},
   "outputs": [],
   "source": [
    "fake = pd.DataFrame()\n",
    "data_for_fake = train_data.loc[:, train_data.columns != 'y']\n",
    "data_for_fake['Target'] = 0\n",
    "for i in data_for_fake.columns:\n",
    "    fake[i] = np.random.uniform(np.min(data_for_fake[i]), np.max(data_for_fake[i]), size = len(data_for_fake[i]))\n",
    "fake['Target'] = 1"
   ]
  },
  {
   "cell_type": "code",
   "execution_count": null,
   "id": "cc26bbaf",
   "metadata": {},
   "outputs": [],
   "source": [
    "data_combined = pd.concat([data_for_fake, fake], axis = 0)"
   ]
  },
  {
   "cell_type": "code",
   "execution_count": null,
   "id": "9bd4c0e0",
   "metadata": {},
   "outputs": [],
   "source": [
    "start = time.process_time()\n",
    "model = RandomForestClassifier(n_estimators = 100)\n",
    "model.fit(data_combined.loc[:, data_combined.columns != 'Target'],data_combined.loc[:, data_combined.columns == 'Target']['Target'] )\n",
    "train_data['Target'] = model.predict_proba(train_data.loc[:, train_data.columns != 'y'])[:,1]\n",
    "end = time.process_time()\n",
    "cade_time = end - start\n",
    "print(end - start)"
   ]
  },
  {
   "cell_type": "code",
   "execution_count": null,
   "id": "a16f92c9",
   "metadata": {},
   "outputs": [],
   "source": [
    "auc = {}\n",
    "for i in np.arange(0,0.55,0.05):\n",
    "    train_data['prediction'] = train_data.apply(def_outlier_cade, args=(i,), axis = 1)\n",
    "    fpr, tpr, _ = metrics.roc_curve(train_data['y'], train_data['prediction'])\n",
    "    auc[i] = metrics.auc(fpr, tpr)\n",
    "max_key = max(auc, key=auc.get)"
   ]
  },
  {
   "cell_type": "code",
   "execution_count": null,
   "id": "d4f29c98",
   "metadata": {},
   "outputs": [],
   "source": [
    "train_data['prediction'] = train_data.apply(def_outlier_cade,args=(max_key,), axis = 1)"
   ]
  },
  {
   "cell_type": "code",
   "execution_count": null,
   "id": "33d40800",
   "metadata": {},
   "outputs": [],
   "source": [
    "confusion_matrix(train_data['y'], train_data['prediction'])"
   ]
  },
  {
   "cell_type": "code",
   "execution_count": null,
   "id": "4c884e78",
   "metadata": {},
   "outputs": [],
   "source": [
    "fpr, tpr, _ = metrics.roc_curve(data['y'], train_data['Target'])\n",
    "cade_auc = metrics.auc(fpr, tpr)\n",
    "metrics.auc(fpr, tpr)"
   ]
  },
  {
   "cell_type": "code",
   "execution_count": null,
   "id": "fce2a284",
   "metadata": {},
   "outputs": [],
   "source": [
    "cade_report = classification_report(train_data['y'], train_data['prediction'], target_names = ['0','1'], output_dict = True)\n",
    "print(classification_report(train_data['y'], train_data['prediction'], target_names = ['0','1']))"
   ]
  },
  {
   "cell_type": "code",
   "execution_count": null,
   "id": "0f476372",
   "metadata": {},
   "outputs": [],
   "source": [
    "precision, recall, thresholds = precision_recall_curve(train_data['y'], train_data['Target'])\n",
    "cade_auc_precision_recall = metrics.auc(recall, precision)\n",
    "print(cade_auc_precision_recall)"
   ]
  },
  {
   "cell_type": "markdown",
   "id": "96599a48-7019-45d0-bd50-bcfd1d4bd7b8",
   "metadata": {
    "jp-MarkdownHeadingCollapsed": true,
    "tags": []
   },
   "source": [
    "### Deep Autoencoders"
   ]
  },
  {
   "cell_type": "markdown",
   "id": "1452ef9d",
   "metadata": {},
   "source": [
    "Source: https://www.analyticsvidhya.com/blog/2021/05/anomaly-detection-using-autoencoders-a-walk-through-in-python/"
   ]
  },
  {
   "cell_type": "code",
   "execution_count": null,
   "id": "0406d3e1-4999-4845-93b1-9077bb5b1a87",
   "metadata": {},
   "outputs": [],
   "source": [
    "features = data.drop(columns = ['y'])\n",
    "target = data['y']"
   ]
  },
  {
   "cell_type": "code",
   "execution_count": null,
   "id": "8e7f1dea-bbfd-43f5-9992-3ab1ebd73b40",
   "metadata": {},
   "outputs": [],
   "source": [
    "min_max_scaler = MinMaxScaler(feature_range=(0, 1))\n",
    "x_train_scaled = min_max_scaler.fit_transform(features.copy())"
   ]
  },
  {
   "cell_type": "code",
   "execution_count": null,
   "id": "411dbec4-8b84-4f12-87d7-38acef5e7876",
   "metadata": {},
   "outputs": [],
   "source": [
    "class AutoEncoder(Model):\n",
    "\n",
    "    def __init__(self, output_units):\n",
    "        super().__init__()\n",
    "        self.encoder = Sequential([\n",
    "          Dense(39,input_dim = output_units, activation='sigmoid'),\n",
    "          Dropout(0.1),\n",
    "          Dense(19, activation='relu'),\n",
    "          Dropout(0.1),\n",
    "          Dense(10, activation='relu')\n",
    "        ])\n",
    "        self.decoder = Sequential([\n",
    "          Dense(19, activation='relu'),\n",
    "          Dropout(0.1),\n",
    "          Dense(39,  activation='relu'),\n",
    "          Dropout(0.1),\n",
    "          Dense(output_units, activation='sigmoid')\n",
    "        ])\n",
    "  \n",
    "    def call(self, inputs):\n",
    "        encoded = self.encoder(inputs)\n",
    "        decoded = self.decoder(encoded)\n",
    "        return decoded"
   ]
  },
  {
   "cell_type": "code",
   "execution_count": null,
   "id": "ac3b93ff-5166-4610-bae2-1e993f7acc36",
   "metadata": {},
   "outputs": [],
   "source": [
    "def find_threshold(model, x_train_scaled):\n",
    "    reconstructions = model.predict(x_train_scaled)\n",
    "    reconstruction_errors = tf.keras.losses.msle(reconstructions, x_train_scaled)\n",
    "    threshold = np.mean(reconstruction_errors.numpy()) + np.std(reconstruction_errors.numpy())\n",
    "    return threshold\n",
    "\n",
    "def get_predictions(model, x_train_scaled, threshold):\n",
    "    predictions = model.predict(x_train_scaled)\n",
    "    errors = tf.keras.losses.msle(predictions, x_train_scaled)\n",
    "    anomaly_mask = pd.Series(errors) > threshold\n",
    "    preds = anomaly_mask.map(lambda x: 1.0 if x == True else 0.0)\n",
    "    return preds, errors"
   ]
  },
  {
   "cell_type": "code",
   "execution_count": null,
   "id": "5035394f-1ce3-4c68-99ed-d791aa43a6b7",
   "metadata": {},
   "outputs": [],
   "source": [
    "start = time.process_time()\n",
    "\n",
    "model = AutoEncoder(output_units=x_train_scaled.shape[1])\n",
    "\n",
    "model.compile(loss='msle', metrics=['mse'], optimizer='adam')\n",
    "\n",
    "history = model.fit(\n",
    "    x_train_scaled,\n",
    "    x_train_scaled,\n",
    "    epochs=20,\n",
    "    batch_size=512,\n",
    ")\n",
    "\n",
    "threshold = find_threshold(model, x_train_scaled)\n",
    "\n",
    "predictions, scores = get_predictions(model, x_train_scaled, threshold)\n",
    "\n",
    "end = time.process_time()\n",
    "deep_autoencoders_time = end - start\n",
    "print(end - start)"
   ]
  },
  {
   "cell_type": "code",
   "execution_count": null,
   "id": "a42473cd-b820-41d7-a0a0-d11e7242144d",
   "metadata": {},
   "outputs": [],
   "source": [
    "confusion_matrix(target, predictions)"
   ]
  },
  {
   "cell_type": "code",
   "execution_count": null,
   "id": "c8c19d2e-86bc-4d0e-a316-5972ce786a80",
   "metadata": {},
   "outputs": [],
   "source": [
    "fpr, tpr, _ = metrics.roc_curve(target, scores)\n",
    "deep_autoencoders_auc = metrics.auc(fpr, tpr)\n",
    "metrics.auc(fpr, tpr)"
   ]
  },
  {
   "cell_type": "code",
   "execution_count": null,
   "id": "b635c100-e998-4b29-b92d-99c3cb81da0c",
   "metadata": {},
   "outputs": [],
   "source": [
    "deep_autoencoders_report = classification_report(target, predictions, target_names = ['0','1'], output_dict = True)\n",
    "print(classification_report(target, predictions, target_names = ['0','1']))"
   ]
  },
  {
   "cell_type": "code",
   "execution_count": null,
   "id": "f3dad7d3-14d8-4d64-b1da-06fdec8ffb74",
   "metadata": {},
   "outputs": [],
   "source": [
    "precision, recall, thresholds = precision_recall_curve(target, scores)\n",
    "deep_ae_auc_precision_recall = metrics.auc(recall, precision)\n",
    "print(deep_ae_auc_precision_recall)"
   ]
  },
  {
   "cell_type": "markdown",
   "id": "147c81b3-0177-4046-b48a-a10fec1c7409",
   "metadata": {
    "jp-MarkdownHeadingCollapsed": true,
    "tags": []
   },
   "source": [
    "### Autoencoders"
   ]
  },
  {
   "cell_type": "markdown",
   "id": "094b65db",
   "metadata": {},
   "source": [
    "Source: https://www.analyticsvidhya.com/blog/2021/05/anomaly-detection-using-autoencoders-a-walk-through-in-python/"
   ]
  },
  {
   "cell_type": "code",
   "execution_count": null,
   "id": "03a099c9-c64c-4997-a097-dd6a43d7ca1e",
   "metadata": {},
   "outputs": [],
   "source": [
    "features = data.drop(columns = ['y'])\n",
    "target = data['y']"
   ]
  },
  {
   "cell_type": "code",
   "execution_count": null,
   "id": "924b8dec-d686-4c99-aeb4-fb23ad19d92d",
   "metadata": {},
   "outputs": [],
   "source": [
    "min_max_scaler = MinMaxScaler(feature_range=(0, 1))\n",
    "x_train_scaled = min_max_scaler.fit_transform(features.copy())"
   ]
  },
  {
   "cell_type": "code",
   "execution_count": null,
   "id": "cb493299-3a65-4ccf-8c32-cdda48ef42d3",
   "metadata": {},
   "outputs": [],
   "source": [
    "class AutoEncoder(Model):\n",
    "\n",
    "    def __init__(self, output_units):\n",
    "        super().__init__()\n",
    "        self.encoder = Sequential([\n",
    "          Dense(39,input_dim = output_units, activation='relu'),\n",
    "          Dropout(0.1),\n",
    "        ])\n",
    "        self.decoder = Sequential([\n",
    "          Dense(output_units, activation='sigmoid')\n",
    "        ])\n",
    "  \n",
    "    def call(self, inputs):\n",
    "        encoded = self.encoder(inputs)\n",
    "        decoded = self.decoder(encoded)\n",
    "        return decoded"
   ]
  },
  {
   "cell_type": "code",
   "execution_count": null,
   "id": "7f4ff9cd-b9bc-491a-99a2-1f61fbe79161",
   "metadata": {},
   "outputs": [],
   "source": [
    "def find_threshold(model, x_train_scaled):\n",
    "    reconstructions = model.predict(x_train_scaled)\n",
    "    reconstruction_errors = tf.keras.losses.msle(reconstructions, x_train_scaled)\n",
    "    threshold = np.mean(reconstruction_errors.numpy()) + np.std(reconstruction_errors.numpy())\n",
    "    return threshold\n",
    "\n",
    "def get_predictions(model, x_train_scaled, threshold):\n",
    "    predictions = model.predict(x_train_scaled)\n",
    "    errors = tf.keras.losses.msle(predictions, x_train_scaled)\n",
    "    anomaly_mask = pd.Series(errors) > threshold\n",
    "    preds = anomaly_mask.map(lambda x: 1.0 if x == True else 0.0)\n",
    "    return preds, errors"
   ]
  },
  {
   "cell_type": "code",
   "execution_count": null,
   "id": "e5219e62-6e39-4ce9-a6f4-8384c0fd058e",
   "metadata": {},
   "outputs": [],
   "source": [
    "start = time.process_time()\n",
    "\n",
    "model = AutoEncoder(output_units=x_train_scaled.shape[1])\n",
    "\n",
    "model.compile(loss='msle', metrics=['mse'], optimizer='adam')\n",
    "\n",
    "history = model.fit(\n",
    "    x_train_scaled,\n",
    "    x_train_scaled,\n",
    "    epochs=20,\n",
    "    batch_size=512,\n",
    ")\n",
    "\n",
    "threshold = find_threshold(model, x_train_scaled)\n",
    "\n",
    "predictions, scores = get_predictions(model, x_train_scaled, threshold)\n",
    "\n",
    "end = time.process_time()\n",
    "autoencoders_time = end - start\n",
    "print(end - start)"
   ]
  },
  {
   "cell_type": "code",
   "execution_count": null,
   "id": "06044268-67a9-4d4f-bed4-a5b98589d7c3",
   "metadata": {},
   "outputs": [],
   "source": [
    "plt.plot(history.history['loss'])\n",
    "plt.xlabel('Epochs')\n",
    "plt.ylabel('MSLE Loss')\n",
    "plt.legend(['loss'])\n",
    "plt.show()"
   ]
  },
  {
   "cell_type": "code",
   "execution_count": null,
   "id": "02899373-9b1b-4981-bc66-590294805cea",
   "metadata": {},
   "outputs": [],
   "source": [
    "confusion_matrix(target, predictions)"
   ]
  },
  {
   "cell_type": "code",
   "execution_count": null,
   "id": "8fcbe5aa-4074-420d-add3-6a3aec1d2519",
   "metadata": {},
   "outputs": [],
   "source": [
    "fpr, tpr, _ = metrics.roc_curve(target, scores)\n",
    "autoencoders_auc = metrics.auc(fpr, tpr)\n",
    "metrics.auc(fpr, tpr)"
   ]
  },
  {
   "cell_type": "code",
   "execution_count": null,
   "id": "feffb69d-3f6b-44ea-9ac4-570103d313ca",
   "metadata": {},
   "outputs": [],
   "source": [
    "autoencoders_report = classification_report(target, predictions, target_names = ['0','1'], output_dict = True)\n",
    "print(classification_report(target, predictions, target_names = ['0','1']))"
   ]
  },
  {
   "cell_type": "code",
   "execution_count": null,
   "id": "89e7369f-e3aa-4c88-b581-f1f18917d459",
   "metadata": {},
   "outputs": [],
   "source": [
    "precision, recall, thresholds = precision_recall_curve(target, scores)\n",
    "ae_auc_precision_recall = metrics.auc(recall, precision)\n",
    "print(ae_auc_precision_recall)"
   ]
  },
  {
   "cell_type": "markdown",
   "id": "fe5f7ecd-3872-42e4-af41-055a0f581928",
   "metadata": {
    "jp-MarkdownHeadingCollapsed": true,
    "tags": []
   },
   "source": [
    "### One-Class SVM rbf"
   ]
  },
  {
   "cell_type": "code",
   "execution_count": null,
   "id": "91bb7d1c-d5c9-4017-807d-1064ae6ef470",
   "metadata": {},
   "outputs": [],
   "source": [
    "features = data.drop(columns = ['y'])\n",
    "target = data['y']"
   ]
  },
  {
   "cell_type": "code",
   "execution_count": null,
   "id": "6f5d2a48-3e14-495a-8911-e2c985f1f29c",
   "metadata": {},
   "outputs": [],
   "source": [
    "min_max_scaler = MinMaxScaler(feature_range=(0, 1))\n",
    "x_train_scaled = min_max_scaler.fit_transform(features.copy())"
   ]
  },
  {
   "cell_type": "code",
   "execution_count": null,
   "id": "619a9f15-c7b8-477a-9aa9-0eacd74784a4",
   "metadata": {},
   "outputs": [],
   "source": [
    "start = time.process_time()\n",
    "\n",
    "model = OneClassSVM(gamma='scale', nu=0.1)\n",
    "model.fit(x_train_scaled)\n",
    "yhat = model.predict(x_train_scaled)\n",
    "y_scores = -model.decision_function(x_train_scaled)\n",
    "\n",
    "end = time.process_time()\n",
    "rbf_oc_svm_time = end - start\n",
    "print(end - start)"
   ]
  },
  {
   "cell_type": "code",
   "execution_count": null,
   "id": "377ead83-1f7b-4fe3-8c5d-075653cc3ff5",
   "metadata": {},
   "outputs": [],
   "source": [
    "predictions = pd.DataFrame(yhat, columns = ['y_pred']).apply(def_outlier, axis = 1)"
   ]
  },
  {
   "cell_type": "code",
   "execution_count": null,
   "id": "b942b706-b62e-4f4e-9b9d-edb8f0bf5447",
   "metadata": {},
   "outputs": [],
   "source": [
    "confusion_matrix(target, predictions)"
   ]
  },
  {
   "cell_type": "code",
   "execution_count": null,
   "id": "11623637-2e24-42ee-a9b7-e471fa7078fa",
   "metadata": {},
   "outputs": [],
   "source": [
    "fpr, tpr, _ = metrics.roc_curve(target, y_scores)\n",
    "rbf_oc_svm_auc = metrics.auc(fpr, tpr)\n",
    "metrics.auc(fpr, tpr)"
   ]
  },
  {
   "cell_type": "code",
   "execution_count": null,
   "id": "35287fc9-1129-42b3-b33c-162ed143b530",
   "metadata": {},
   "outputs": [],
   "source": [
    "rbf_oc_svm_report = classification_report(target, predictions, target_names = ['0','1'], output_dict = True)\n",
    "print(classification_report(target, predictions, target_names = ['0','1']))"
   ]
  },
  {
   "cell_type": "code",
   "execution_count": null,
   "id": "554ab0ab-406c-475e-b6f1-41fcfdd283fb",
   "metadata": {},
   "outputs": [],
   "source": [
    "precision, recall, thresholds = precision_recall_curve(target, y_scores)\n",
    "ocsvm_rbf_auc_precision_recall = metrics.auc(recall, precision)\n",
    "print(ocsvm_rbf_auc_precision_recall)"
   ]
  },
  {
   "cell_type": "markdown",
   "id": "606d9770-cfe7-4733-b064-20af37de9c0a",
   "metadata": {
    "jp-MarkdownHeadingCollapsed": true,
    "tags": []
   },
   "source": [
    "### One-Class SVM linear"
   ]
  },
  {
   "cell_type": "code",
   "execution_count": null,
   "id": "2442917a-8557-4a6e-a4cb-c1f1a15baf9d",
   "metadata": {},
   "outputs": [],
   "source": [
    "features = data.drop(columns = ['y'])\n",
    "target = data['y']"
   ]
  },
  {
   "cell_type": "code",
   "execution_count": null,
   "id": "f0ebb461-7830-4ba6-842a-f1077cec511f",
   "metadata": {},
   "outputs": [],
   "source": [
    "min_max_scaler = MinMaxScaler(feature_range=(0, 1))\n",
    "x_train_scaled = min_max_scaler.fit_transform(features.copy())"
   ]
  },
  {
   "cell_type": "code",
   "execution_count": null,
   "id": "99af3e46-c32a-40e2-be69-0bc15d29adea",
   "metadata": {},
   "outputs": [],
   "source": [
    "start = time.process_time()\n",
    "\n",
    "model = OneClassSVM(kernel = 'linear', nu=0.1)\n",
    "model.fit(x_train_scaled)\n",
    "yhat = model.predict(x_train_scaled)\n",
    "y_scores = -model.decision_function(x_train_scaled)\n",
    "\n",
    "end = time.process_time()\n",
    "lin_oc_svm_time = end - start\n",
    "print(end - start)"
   ]
  },
  {
   "cell_type": "code",
   "execution_count": null,
   "id": "92d02716-00a9-4b0f-b1a3-8b7b28337e37",
   "metadata": {},
   "outputs": [],
   "source": [
    "predictions = pd.DataFrame(yhat, columns = ['y_pred']).apply(def_outlier, axis = 1)"
   ]
  },
  {
   "cell_type": "code",
   "execution_count": null,
   "id": "72f25245-675d-40c7-94ac-47e657a93f02",
   "metadata": {},
   "outputs": [],
   "source": [
    "confusion_matrix(target, predictions)"
   ]
  },
  {
   "cell_type": "code",
   "execution_count": null,
   "id": "10683233-8d1b-4c17-9d50-ac3b0035d9a3",
   "metadata": {},
   "outputs": [],
   "source": [
    "fpr, tpr, _ = metrics.roc_curve(target, y_scores)\n",
    "lin_oc_svm_auc = metrics.auc(fpr, tpr)\n",
    "metrics.auc(fpr, tpr)"
   ]
  },
  {
   "cell_type": "code",
   "execution_count": null,
   "id": "b0b91eb6-bca7-4b19-a769-08f1ff35f3d2",
   "metadata": {},
   "outputs": [],
   "source": [
    "lin_oc_svm_report = classification_report(target, predictions, target_names = ['0','1'], output_dict = True)\n",
    "print(classification_report(target, predictions, target_names = ['0','1']))"
   ]
  },
  {
   "cell_type": "code",
   "execution_count": null,
   "id": "273a7d44",
   "metadata": {},
   "outputs": [],
   "source": [
    "precision, recall, thresholds = precision_recall_curve(target, y_scores)\n",
    "ocsvm_lin_auc_precision_recall = metrics.auc(recall, precision)\n",
    "print(ocsvm_lin_auc_precision_recall)"
   ]
  },
  {
   "cell_type": "markdown",
   "id": "37f080a3-421d-486d-8fb2-3336c1b06fbe",
   "metadata": {
    "jp-MarkdownHeadingCollapsed": true,
    "tags": []
   },
   "source": [
    "### Performance"
   ]
  },
  {
   "cell_type": "code",
   "execution_count": null,
   "id": "435822ee-59bc-449e-b7ea-f624ea1aaf89",
   "metadata": {},
   "outputs": [],
   "source": [
    "mnist_performance = pd.DataFrame(columns = ['method','f1-score','sensitivity',\n",
    "                                            'precision','Time','AUC', 'AU precision-recall curve'])"
   ]
  },
  {
   "cell_type": "code",
   "execution_count": null,
   "id": "592cb4c3-fd75-4461-be3b-c2128e08723c",
   "metadata": {},
   "outputs": [],
   "source": [
    "iforest_performance = {'method':'iForest',\n",
    "               'f1-score':iforest_report['1']['f1-score'], \n",
    "               'sensitivity':iforest_report['1']['recall'],\n",
    "               'precision':iforest_report['1']['precision'],        \n",
    "              'Time':iforest_time,\n",
    "              'AUC':iforest_auc,\n",
    "                      'AU precision-recall curve': iforest_auc_precision_recall}\n",
    "lof_performance = {'method':'LOF',\n",
    "               'f1-score':lof_report['1']['f1-score'], \n",
    "               'sensitivity':lof_report['1']['recall'],\n",
    "               'precision':lof_report['1']['precision'],    \n",
    "              'Time':lof_time,\n",
    "              'AUC':lof_auc,\n",
    "                  'AU precision-recall curve': lof_auc_precision_recall}\n",
    "dbscan_performance = { 'method':'DBSCAN',\n",
    "               'f1-score':dbscan_report['1']['f1-score'], \n",
    "               'sensitivity':dbscan_report['1']['recall'],\n",
    "               'precision':dbscan_report['1']['precision'],       \n",
    "              'Time':dbscan_time,\n",
    "              'AUC':dbscan_auc,\n",
    "                     'AU precision-recall curve': dbscan_auc_precision_recall}\n",
    "cade_performance = { 'method':'CADE',\n",
    "               'f1-score':cade_report['1']['f1-score'], \n",
    "               'sensitivity':cade_report['1']['recall'],\n",
    "               'precision':cade_report['1']['precision'],     \n",
    "              'Time':cade_time,\n",
    "              'AUC':cade_auc,\n",
    "                   'AU precision-recall curve': cade_auc_precision_recall}\n",
    "deep_autoencoders_performance = {'method':'Deep Autoencoders',\n",
    "               'f1-score':deep_autoencoders_report['1']['f1-score'], \n",
    "               'sensitivity':deep_autoencoders_report['1']['recall'],\n",
    "               'precision':deep_autoencoders_report['1']['precision'],                  \n",
    "              'Time':deep_autoencoders_time,\n",
    "              'AUC':deep_autoencoders_auc,\n",
    "                                'AU precision-recall curve': deep_ae_auc_precision_recall}\n",
    "autoencoders_performance = {'method':'Autoencoders',\n",
    "               'f1-score':autoencoders_report['1']['f1-score'], \n",
    "               'sensitivity':autoencoders_report['1']['recall'],\n",
    "               'precision':autoencoders_report['1']['precision'],             \n",
    "              'Time':autoencoders_time,\n",
    "              'AUC':autoencoders_auc,\n",
    "                           'AU precision-recall curve': ae_auc_precision_recall}\n",
    "rbf_oc_svm_performance = {'method':'OC-SVM rbf',\n",
    "               'f1-score':rbf_oc_svm_report['1']['f1-score'], \n",
    "               'sensitivity':rbf_oc_svm_report['1']['recall'],\n",
    "               'precision':rbf_oc_svm_report['1']['precision'],           \n",
    "              'Time':rbf_oc_svm_time,\n",
    "              'AUC':rbf_oc_svm_auc,\n",
    "                         'AU precision-recall curve': ocsvm_rbf_auc_precision_recall}\n",
    "lin_oc_svm_performance = {'method':'OC-SVM linear',\n",
    "               'f1-score':lin_oc_svm_report['1']['f1-score'], \n",
    "               'sensitivity':lin_oc_svm_report['1']['recall'],\n",
    "               'precision':lin_oc_svm_report['1']['precision'],           \n",
    "              'Time':lin_oc_svm_time,\n",
    "              'AUC':lin_oc_svm_auc,\n",
    "                         'AU precision-recall curve': ocsvm_lin_auc_precision_recall}"
   ]
  },
  {
   "cell_type": "code",
   "execution_count": null,
   "id": "10052620-4108-4af5-b836-743305a34b4b",
   "metadata": {},
   "outputs": [],
   "source": [
    "mnist_performance = mnist_performance.append(iforest_performance, ignore_index = True)\n",
    "mnist_performance = mnist_performance.append(lof_performance, ignore_index = True)\n",
    "mnist_performance = mnist_performance.append(dbscan_performance, ignore_index = True)\n",
    "mnist_performance = mnist_performance.append(cade_performance, ignore_index = True)\n",
    "mnist_performance = mnist_performance.append(deep_autoencoders_performance, ignore_index = True)\n",
    "mnist_performance = mnist_performance.append(autoencoders_performance, ignore_index = True)\n",
    "mnist_performance = mnist_performance.append(rbf_oc_svm_performance, ignore_index = True)\n",
    "mnist_performance = mnist_performance.append(lin_oc_svm_performance, ignore_index = True)"
   ]
  },
  {
   "cell_type": "markdown",
   "id": "64ec8246-a429-4e4e-b3af-68198a4ed70f",
   "metadata": {
    "jp-MarkdownHeadingCollapsed": true,
    "tags": []
   },
   "source": [
    "## vowels"
   ]
  },
  {
   "cell_type": "markdown",
   "id": "285c1abe",
   "metadata": {},
   "source": [
    "**Dataset source**: http://odds.cs.stonybrook.edu/japanese-vowels-data/\n",
    "\n",
    "Shebuti Rayana (2016).  ODDS Library [http://odds.cs.stonybrook.edu]. Stony Brook, NY: Stony Brook University, Department of Computer Science.\n",
    "\n",
    "**Additional sources**: \n",
    "\n",
    "C. C. Aggarwal and S. Sathe, “Theoretical foundations and algorithms for outlier ensembles.” ACM SIGKDD Explorations Newsletter, vol. 17, no. 1, pp. 24–47, 2015.\n",
    "\n",
    "Saket Sathe and Charu C. Aggarwal. LODES: Local Density meets Spectral Outlier Detection. SIAM Conference on Data Mining, 2016."
   ]
  },
  {
   "cell_type": "code",
   "execution_count": null,
   "id": "bc358b13-ecf1-4e7b-9c7b-84c08eacc450",
   "metadata": {},
   "outputs": [],
   "source": [
    "data = pd.read_csv('./vowels.csv')"
   ]
  },
  {
   "cell_type": "code",
   "execution_count": null,
   "id": "4c61a6b6-97f1-4bee-8df8-c505f0bfc266",
   "metadata": {},
   "outputs": [],
   "source": [
    "pd.pivot_table(data,\n",
    "             values = 'Col1',\n",
    "               index = 'y', \n",
    "              aggfunc = 'count')"
   ]
  },
  {
   "cell_type": "code",
   "execution_count": null,
   "id": "26c84d3e-0b54-474e-a4c1-a297b66a81bb",
   "metadata": {},
   "outputs": [],
   "source": [
    "data.shape"
   ]
  },
  {
   "cell_type": "code",
   "execution_count": null,
   "id": "257280ea-de3b-4e4e-aad9-3565b8a2a7a3",
   "metadata": {},
   "outputs": [],
   "source": [
    "data.head()"
   ]
  },
  {
   "cell_type": "markdown",
   "id": "48d3d3d9-72c7-4af2-a518-4542ba497be8",
   "metadata": {
    "jp-MarkdownHeadingCollapsed": true,
    "tags": []
   },
   "source": [
    "### iForest"
   ]
  },
  {
   "cell_type": "code",
   "execution_count": null,
   "id": "d6ca1237-8093-4fc0-b3f9-3603321b0acc",
   "metadata": {},
   "outputs": [],
   "source": [
    "train_data = data.copy()"
   ]
  },
  {
   "cell_type": "code",
   "execution_count": null,
   "id": "a95d222c-0232-40ee-8b29-90ed280a738c",
   "metadata": {},
   "outputs": [],
   "source": [
    "start = time.process_time()\n",
    "\n",
    "rng = np.random.RandomState(42)\n",
    "clf = IsolationForest(max_samples=256, random_state=rng, n_estimators = 100)\n",
    "clf.fit(train_data.loc[:, train_data.columns != 'y'])\n",
    "y_pred = clf.predict(train_data.loc[:, train_data.columns != 'y'])\n",
    "y_scores = clf.score_samples(train_data.loc[:, train_data.columns != 'y'])\n",
    "\n",
    "end = time.process_time()\n",
    "iforest_time = end - start\n",
    "print(end - start)"
   ]
  },
  {
   "cell_type": "code",
   "execution_count": null,
   "id": "68bd0378-a76b-41e6-933a-40b556f4b23f",
   "metadata": {},
   "outputs": [],
   "source": [
    "train_data['y_pred'] = y_pred\n",
    "train_data['prediction'] = train_data.apply(def_outlier, axis = 1)\n",
    "train_data['y_scores'] = -y_scores"
   ]
  },
  {
   "cell_type": "code",
   "execution_count": null,
   "id": "707fcdd6-20de-4ea4-8150-bdf8d5f3395c",
   "metadata": {},
   "outputs": [],
   "source": [
    "confusion_matrix(train_data['y'], train_data['prediction'])"
   ]
  },
  {
   "cell_type": "code",
   "execution_count": null,
   "id": "aa59c0aa-e1dd-48ce-8244-1a9031e5aa40",
   "metadata": {},
   "outputs": [],
   "source": [
    "fpr, tpr, _ = metrics.roc_curve(train_data['y'], train_data['y_scores'])\n",
    "iforest_auc = metrics.auc(fpr, tpr)\n",
    "metrics.auc(fpr, tpr)"
   ]
  },
  {
   "cell_type": "code",
   "execution_count": null,
   "id": "03d72859-f328-442c-81e0-34775f78cc51",
   "metadata": {},
   "outputs": [],
   "source": [
    "iforest_report = classification_report(train_data['y'], train_data['prediction'], target_names = ['0','1'], output_dict = True)\n",
    "print(classification_report(train_data['y'], train_data['prediction'], target_names = ['0','1']))"
   ]
  },
  {
   "cell_type": "code",
   "execution_count": null,
   "id": "7b26d80c-3a3a-4d14-9695-0380e56d39e3",
   "metadata": {},
   "outputs": [],
   "source": [
    "precision, recall, thresholds = precision_recall_curve(train_data['y'], train_data['y_scores'])\n",
    "iforest_auc_precision_recall = metrics.auc(recall, precision)\n",
    "print(iforest_auc_precision_recall)"
   ]
  },
  {
   "cell_type": "markdown",
   "id": "27807128-e38d-45d3-b2cd-d32e39571846",
   "metadata": {
    "jp-MarkdownHeadingCollapsed": true,
    "tags": []
   },
   "source": [
    "### LOF"
   ]
  },
  {
   "cell_type": "code",
   "execution_count": null,
   "id": "08f083bd-27f5-48e0-aca2-83ca4b381449",
   "metadata": {},
   "outputs": [],
   "source": [
    "min_max_scaler = MinMaxScaler(feature_range=(0, 1))\n",
    "train_data = min_max_scaler.fit_transform(data.copy())\n",
    "train_data = pd.DataFrame(train_data)\n",
    "train_data.columns = data.columns"
   ]
  },
  {
   "cell_type": "code",
   "execution_count": null,
   "id": "64acbc90-5e50-481b-a393-99ba7d1578ba",
   "metadata": {},
   "outputs": [],
   "source": [
    "start = time.process_time()\n",
    "\n",
    "lof = LocalOutlierFactor(n_neighbors=15, contamination=.1, novelty=False)\n",
    "y_pred = lof.fit_predict(train_data.loc[:, train_data.columns != 'y'])\n",
    "y_scores = lof.negative_outlier_factor_\n",
    "\n",
    "end = time.process_time()\n",
    "lof_time = end - start\n",
    "print(end - start)"
   ]
  },
  {
   "cell_type": "code",
   "execution_count": null,
   "id": "fcf0dc4d-ca8b-478f-a8db-76d22d28e689",
   "metadata": {},
   "outputs": [],
   "source": [
    "train_data['y_pred'] = y_pred\n",
    "train_data['prediction'] = train_data.apply(def_outlier, axis = 1)\n",
    "train_data['y_scores'] = -y_scores"
   ]
  },
  {
   "cell_type": "code",
   "execution_count": null,
   "id": "b34c1c51-9442-44ec-8f21-18e90d2bf23e",
   "metadata": {},
   "outputs": [],
   "source": [
    "confusion_matrix(train_data['y'], train_data['prediction'])"
   ]
  },
  {
   "cell_type": "code",
   "execution_count": null,
   "id": "f0a3101f-c7e1-4494-a261-76e1c15ed947",
   "metadata": {},
   "outputs": [],
   "source": [
    "fpr, tpr, _ = metrics.roc_curve(train_data['y'], train_data['y_scores'])\n",
    "lof_auc = metrics.auc(fpr, tpr)\n",
    "metrics.auc(fpr, tpr)"
   ]
  },
  {
   "cell_type": "code",
   "execution_count": null,
   "id": "4446d53b-222d-4059-8002-cef140f312fd",
   "metadata": {},
   "outputs": [],
   "source": [
    "lof_report = classification_report(train_data['y'], train_data['prediction'], target_names = ['0','1'], output_dict = True)\n",
    "print(classification_report(train_data['y'], train_data['prediction'], target_names = ['0','1']))"
   ]
  },
  {
   "cell_type": "code",
   "execution_count": null,
   "id": "7ebe222e-c2fb-48d0-940c-12c5484f0dd0",
   "metadata": {},
   "outputs": [],
   "source": [
    "precision, recall, thresholds = precision_recall_curve(train_data['y'], train_data['y_scores'])\n",
    "lof_auc_precision_recall = metrics.auc(recall, precision)\n",
    "print(lof_auc_precision_recall)"
   ]
  },
  {
   "cell_type": "markdown",
   "id": "871ba276-f335-4279-aeec-d35390957062",
   "metadata": {
    "jp-MarkdownHeadingCollapsed": true,
    "tags": []
   },
   "source": [
    "### DBSCAN"
   ]
  },
  {
   "cell_type": "code",
   "execution_count": null,
   "id": "bbce9d8f-4169-4610-a10b-0841941228e4",
   "metadata": {},
   "outputs": [],
   "source": [
    "min_max_scaler = MinMaxScaler(feature_range=(0, 1))\n",
    "train_data = min_max_scaler.fit_transform(data.copy())\n",
    "train_data = pd.DataFrame(train_data)\n",
    "train_data.columns = data.columns"
   ]
  },
  {
   "cell_type": "code",
   "execution_count": null,
   "id": "8a59da30-b291-40a5-a7c9-7bbc1f564ae7",
   "metadata": {},
   "outputs": [],
   "source": [
    "dist = dbscan_tuner(train_data,23)"
   ]
  },
  {
   "cell_type": "code",
   "execution_count": null,
   "id": "7638627d-d2a9-4627-99d3-9bfa7ca858b9",
   "metadata": {},
   "outputs": [],
   "source": [
    "start = time.process_time()\n",
    "\n",
    "dbscan = DBSCAN(eps = 0.4, min_samples = 24)\n",
    "clusters = dbscan.fit_predict(train_data.loc[:, train_data.columns != 'y'])\n",
    "\n",
    "end = time.process_time()\n",
    "dbscan_time = end - start\n",
    "print(end - start)"
   ]
  },
  {
   "cell_type": "code",
   "execution_count": null,
   "id": "709393dc-86c6-4af6-8ed0-38fee06b9072",
   "metadata": {},
   "outputs": [],
   "source": [
    "train_data['y_pred'] = clusters\n",
    "train_data['prediction'] = train_data.apply(def_outlier, axis = 1)"
   ]
  },
  {
   "cell_type": "code",
   "execution_count": null,
   "id": "41b9460a",
   "metadata": {},
   "outputs": [],
   "source": [
    "original_columns = data.columns.to_list()\n",
    "original_columns.remove('y')\n",
    "\n",
    "data_w_score = pd.DataFrame(columns = train_data.columns.to_list())\n",
    "data_w_score['score'] = pd.NaT\n",
    "for i in set(clusters):\n",
    "    if i == -1:\n",
    "        continue\n",
    "    score_data = train_data[train_data['y_pred'] == i].copy()\n",
    "    center = score_data[original_columns].mean().to_list()\n",
    "    score_data['score'] = score_data.apply(lambda x : distance.euclidean(x[original_columns].to_list(), center),1)\n",
    "    data_w_score = data_w_score.append(score_data.copy(), ignore_index = True)\n",
    "\n",
    "anomalies_data = train_data[train_data['y_pred'] == -1].copy()\n",
    "anomalies_data['score'] = ''\n",
    "cluster_centers = pd.pivot_table(train_data,\n",
    "              index = 'y_pred',\n",
    "              aggfunc = 'mean')"
   ]
  },
  {
   "cell_type": "code",
   "execution_count": null,
   "id": "33c9bf05",
   "metadata": {},
   "outputs": [],
   "source": [
    "for i in range(len(anomalies_data)):\n",
    "    anomalies_data['score'].iloc[i] = np.min(cluster_centers[cluster_centers.index != -1].apply(lambda x : \n",
    "                                                                                                distance.euclidean(x[original_columns].to_list(), \n",
    "                                                                                                anomalies_data[original_columns].iloc[i]),1))\n",
    "\n",
    "data_for_auprc = pd.concat([data_w_score, anomalies_data])"
   ]
  },
  {
   "cell_type": "code",
   "execution_count": null,
   "id": "6ffeb201-8d4c-462a-b715-6ace02b3cab8",
   "metadata": {},
   "outputs": [],
   "source": [
    "confusion_matrix(train_data['y'], train_data['prediction'])"
   ]
  },
  {
   "cell_type": "code",
   "execution_count": null,
   "id": "4b58cd3b-5dcb-4df1-85ec-b1bde3ee9e4c",
   "metadata": {},
   "outputs": [],
   "source": [
    "fpr, tpr, _ = metrics.roc_curve(data_for_auprc['y'], data_for_auprc['score'])\n",
    "dbscan_auc = metrics.auc(fpr, tpr)\n",
    "metrics.auc(fpr, tpr)"
   ]
  },
  {
   "cell_type": "code",
   "execution_count": null,
   "id": "76d30249-ba3c-4dae-a697-d85955382fa4",
   "metadata": {},
   "outputs": [],
   "source": [
    "dbscan_report = classification_report(train_data['y'], train_data['prediction'], target_names = ['0','1'], output_dict = True)\n",
    "print(classification_report(train_data['y'], train_data['prediction'], target_names = ['0','1']))"
   ]
  },
  {
   "cell_type": "code",
   "execution_count": null,
   "id": "e37f2722",
   "metadata": {},
   "outputs": [],
   "source": [
    "precision, recall, thresholds = precision_recall_curve(data_for_auprc['y'], data_for_auprc['score'])\n",
    "dbscan_auc_precision_recall = metrics.auc(recall, precision)\n",
    "print(dbscan_auc_precision_recall)"
   ]
  },
  {
   "cell_type": "markdown",
   "id": "8516022b",
   "metadata": {
    "jp-MarkdownHeadingCollapsed": true,
    "tags": []
   },
   "source": [
    "### CADE"
   ]
  },
  {
   "cell_type": "markdown",
   "id": "521f22db",
   "metadata": {},
   "source": [
    "Source: Aric LaBarr, webinar \"Modern Approaches To Anomaly Detection\", November 2, 2021"
   ]
  },
  {
   "cell_type": "code",
   "execution_count": null,
   "id": "f086ac3d",
   "metadata": {},
   "outputs": [],
   "source": [
    "train_data = data.copy()"
   ]
  },
  {
   "cell_type": "code",
   "execution_count": null,
   "id": "d116b0f4",
   "metadata": {},
   "outputs": [],
   "source": [
    "fake = pd.DataFrame()\n",
    "data_for_fake = train_data.loc[:, train_data.columns != 'y']\n",
    "data_for_fake['Target'] = 0\n",
    "for i in data_for_fake.columns:\n",
    "    fake[i] = np.random.uniform(np.min(data_for_fake[i]), np.max(data_for_fake[i]), size = len(data_for_fake[i]))\n",
    "fake['Target'] = 1"
   ]
  },
  {
   "cell_type": "code",
   "execution_count": null,
   "id": "9d3d909d",
   "metadata": {},
   "outputs": [],
   "source": [
    "data_combined = pd.concat([data_for_fake, fake], axis = 0)"
   ]
  },
  {
   "cell_type": "code",
   "execution_count": null,
   "id": "3766db81",
   "metadata": {},
   "outputs": [],
   "source": [
    "start = time.process_time()\n",
    "model = RandomForestClassifier(n_estimators = 100)\n",
    "model.fit(data_combined.loc[:, data_combined.columns != 'Target'],data_combined.loc[:, data_combined.columns == 'Target']['Target'] )\n",
    "train_data['Target'] = model.predict_proba(train_data.loc[:, train_data.columns != 'y'])[:,1]\n",
    "end = time.process_time()\n",
    "cade_time = end - start\n",
    "print(end - start)"
   ]
  },
  {
   "cell_type": "code",
   "execution_count": null,
   "id": "694fceae",
   "metadata": {},
   "outputs": [],
   "source": [
    "auc = {}\n",
    "for i in np.arange(0,0.55,0.05):\n",
    "    train_data['prediction'] = train_data.apply(def_outlier_cade, args=(i,), axis = 1)\n",
    "    fpr, tpr, _ = metrics.roc_curve(train_data['y'], train_data['prediction'])\n",
    "    auc[i] = metrics.auc(fpr, tpr)\n",
    "max_key = max(auc, key=auc.get)"
   ]
  },
  {
   "cell_type": "code",
   "execution_count": null,
   "id": "8efe04ab",
   "metadata": {},
   "outputs": [],
   "source": [
    "train_data['prediction'] = train_data.apply(def_outlier_cade,args=(max_key,), axis = 1)"
   ]
  },
  {
   "cell_type": "code",
   "execution_count": null,
   "id": "20bd555e",
   "metadata": {},
   "outputs": [],
   "source": [
    "confusion_matrix(train_data['y'], train_data['prediction'])"
   ]
  },
  {
   "cell_type": "code",
   "execution_count": null,
   "id": "1e815a3e",
   "metadata": {},
   "outputs": [],
   "source": [
    "fpr, tpr, _ = metrics.roc_curve(train_data['y'], train_data['Target'])\n",
    "cade_auc = metrics.auc(fpr, tpr)\n",
    "metrics.auc(fpr, tpr)"
   ]
  },
  {
   "cell_type": "code",
   "execution_count": null,
   "id": "92ea0c5f",
   "metadata": {},
   "outputs": [],
   "source": [
    "cade_report = classification_report(train_data['y'], train_data['prediction'], target_names = ['0','1'], output_dict = True)\n",
    "print(classification_report(train_data['y'], train_data['prediction'], target_names = ['0','1']))"
   ]
  },
  {
   "cell_type": "code",
   "execution_count": null,
   "id": "e865f6d7",
   "metadata": {},
   "outputs": [],
   "source": [
    "precision, recall, thresholds = precision_recall_curve(train_data['y'], train_data['Target'])\n",
    "cade_auc_precision_recall = metrics.auc(recall, precision)\n",
    "print(cade_auc_precision_recall)"
   ]
  },
  {
   "cell_type": "markdown",
   "id": "0ec46eb4-0db8-457c-bc00-69a2e8a3eb9b",
   "metadata": {
    "jp-MarkdownHeadingCollapsed": true,
    "tags": []
   },
   "source": [
    "### Deep Autoencoders"
   ]
  },
  {
   "cell_type": "markdown",
   "id": "a9cf7e4e",
   "metadata": {},
   "source": [
    "Source: https://www.analyticsvidhya.com/blog/2021/05/anomaly-detection-using-autoencoders-a-walk-through-in-python/"
   ]
  },
  {
   "cell_type": "code",
   "execution_count": null,
   "id": "331d6afc-302d-4e6d-87d4-bb5278dc92cc",
   "metadata": {},
   "outputs": [],
   "source": [
    "features = data.drop(columns = ['y'])\n",
    "target = data['y']"
   ]
  },
  {
   "cell_type": "code",
   "execution_count": null,
   "id": "09b03284-b8b8-4f39-b402-621e8a431ca1",
   "metadata": {},
   "outputs": [],
   "source": [
    "min_max_scaler = MinMaxScaler(feature_range=(0, 1))\n",
    "x_train_scaled = min_max_scaler.fit_transform(features.copy())"
   ]
  },
  {
   "cell_type": "code",
   "execution_count": null,
   "id": "8e70c7ec-09b4-47f5-b49f-00ae49e48193",
   "metadata": {},
   "outputs": [],
   "source": [
    "class AutoEncoder(Model):\n",
    "\n",
    "    def __init__(self, output_units):\n",
    "        super().__init__()\n",
    "        self.encoder = Sequential([\n",
    "          Dense(6, input_dim = output_units, activation='sigmoid'),\n",
    "          Dropout(0.1),\n",
    "          Dense(3, activation='relu'),\n",
    "          Dropout(0.1),\n",
    "          Dense(3, activation='relu'),\n",
    "        ])\n",
    "        self.decoder = Sequential([\n",
    "          Dense(3, activation='relu'),\n",
    "          Dropout(0.1),\n",
    "          Dense(6, activation='relu'),\n",
    "          Dropout(0.1),\n",
    "          Dense(output_units, activation='sigmoid')\n",
    "        ])\n",
    "  \n",
    "    def call(self, inputs):\n",
    "        encoded = self.encoder(inputs)\n",
    "        decoded = self.decoder(encoded)\n",
    "        return decoded"
   ]
  },
  {
   "cell_type": "code",
   "execution_count": null,
   "id": "ede7836e-5751-42f6-abef-885332d0a7dc",
   "metadata": {},
   "outputs": [],
   "source": [
    "def find_threshold(model, x_train_scaled):\n",
    "    reconstructions = model.predict(x_train_scaled)\n",
    "    reconstruction_errors = tf.keras.losses.msle(reconstructions, x_train_scaled)\n",
    "    threshold = np.mean(reconstruction_errors.numpy()) + np.std(reconstruction_errors.numpy())\n",
    "    return threshold\n",
    "\n",
    "def get_predictions(model, x_train_scaled, threshold):\n",
    "    predictions = model.predict(x_train_scaled)\n",
    "    errors = tf.keras.losses.msle(predictions, x_train_scaled)\n",
    "    anomaly_mask = pd.Series(errors) > threshold\n",
    "    preds = anomaly_mask.map(lambda x: 1.0 if x == True else 0.0)\n",
    "    return preds, errors"
   ]
  },
  {
   "cell_type": "code",
   "execution_count": null,
   "id": "8c7f94cb-47b0-4832-b5b4-cd2eac3e23e4",
   "metadata": {},
   "outputs": [],
   "source": [
    "start = time.process_time()\n",
    "\n",
    "model = AutoEncoder(output_units=x_train_scaled.shape[1])\n",
    "\n",
    "model.compile(loss='msle', metrics=['mse'], optimizer='adam')\n",
    "\n",
    "history = model.fit(\n",
    "    x_train_scaled,\n",
    "    x_train_scaled,\n",
    "    epochs=20,\n",
    "    batch_size=64,\n",
    ")\n",
    "\n",
    "threshold = find_threshold(model, x_train_scaled)\n",
    "\n",
    "predictions, scores = get_predictions(model, x_train_scaled, threshold)\n",
    "\n",
    "end = time.process_time()\n",
    "deep_autoencoders_time = end - start\n",
    "print(end - start)"
   ]
  },
  {
   "cell_type": "code",
   "execution_count": null,
   "id": "78264ff3-3f17-44a2-b093-adebb623f6a9",
   "metadata": {},
   "outputs": [],
   "source": [
    "confusion_matrix(target, predictions)"
   ]
  },
  {
   "cell_type": "code",
   "execution_count": null,
   "id": "db8e7736-a126-4097-a0c0-0bf8a08ea812",
   "metadata": {},
   "outputs": [],
   "source": [
    "fpr, tpr, _ = metrics.roc_curve(target, scores)\n",
    "deep_autoencoders_auc = metrics.auc(fpr, tpr)\n",
    "metrics.auc(fpr, tpr)"
   ]
  },
  {
   "cell_type": "code",
   "execution_count": null,
   "id": "6c48382b-daa3-459f-b7b4-6f4e1997b097",
   "metadata": {},
   "outputs": [],
   "source": [
    "deep_autoencoders_report = classification_report(target, predictions, target_names = ['0','1'], output_dict = True)\n",
    "print(classification_report(target, predictions, target_names = ['0','1']))"
   ]
  },
  {
   "cell_type": "code",
   "execution_count": null,
   "id": "e5d10355-73c2-4bbf-8050-9357f9847353",
   "metadata": {},
   "outputs": [],
   "source": [
    "precision, recall, thresholds = precision_recall_curve(target, scores)\n",
    "deep_ae_auc_precision_recall = metrics.auc(recall, precision)\n",
    "print(deep_ae_auc_precision_recall)"
   ]
  },
  {
   "cell_type": "markdown",
   "id": "e0b967b6-36e5-4b8a-bbe0-4e7c476ac7fb",
   "metadata": {
    "jp-MarkdownHeadingCollapsed": true,
    "tags": []
   },
   "source": [
    "### Autoencoders"
   ]
  },
  {
   "cell_type": "markdown",
   "id": "da7ad769",
   "metadata": {},
   "source": [
    "Source: https://www.analyticsvidhya.com/blog/2021/05/anomaly-detection-using-autoencoders-a-walk-through-in-python/"
   ]
  },
  {
   "cell_type": "code",
   "execution_count": null,
   "id": "4f7c417e-7bdb-4975-82de-1e5aa54cd48c",
   "metadata": {},
   "outputs": [],
   "source": [
    "features = data.drop(columns = ['y'])\n",
    "target = data['y']"
   ]
  },
  {
   "cell_type": "code",
   "execution_count": null,
   "id": "16fc39e5-e508-4831-b604-3b4828a15218",
   "metadata": {},
   "outputs": [],
   "source": [
    "min_max_scaler = MinMaxScaler(feature_range=(0, 1))\n",
    "x_train_scaled = min_max_scaler.fit_transform(features.copy())"
   ]
  },
  {
   "cell_type": "code",
   "execution_count": null,
   "id": "9ec1a1e9-3fa6-43c7-9ba2-1a10cc6d7aa5",
   "metadata": {},
   "outputs": [],
   "source": [
    "class AutoEncoder(Model):\n",
    "\n",
    "    def __init__(self, output_units):\n",
    "        super().__init__()\n",
    "        self.encoder = Sequential([\n",
    "          Dense(6, input_dim = output_units, activation='relu'),\n",
    "          Dropout(0.1),\n",
    "        ])\n",
    "        self.decoder = Sequential([\n",
    "          Dense(output_units, activation='sigmoid')\n",
    "        ])\n",
    "  \n",
    "    def call(self, inputs):\n",
    "        encoded = self.encoder(inputs)\n",
    "        decoded = self.decoder(encoded)\n",
    "        return decoded"
   ]
  },
  {
   "cell_type": "code",
   "execution_count": null,
   "id": "32ab48b2-e65d-46c2-be78-796f42bd50fd",
   "metadata": {},
   "outputs": [],
   "source": [
    "def find_threshold(model, x_train_scaled):\n",
    "    reconstructions = model.predict(x_train_scaled)\n",
    "    reconstruction_errors = tf.keras.losses.msle(reconstructions, x_train_scaled)\n",
    "    threshold = np.mean(reconstruction_errors.numpy()) + np.std(reconstruction_errors.numpy())\n",
    "    return threshold\n",
    "\n",
    "def get_predictions(model, x_train_scaled, threshold):\n",
    "    predictions = model.predict(x_train_scaled)\n",
    "    errors = tf.keras.losses.msle(predictions, x_train_scaled)\n",
    "    anomaly_mask = pd.Series(errors) > threshold\n",
    "    preds = anomaly_mask.map(lambda x: 1.0 if x == True else 0.0)\n",
    "    return preds, errors"
   ]
  },
  {
   "cell_type": "code",
   "execution_count": null,
   "id": "68127cdb-8504-4c39-8eec-e6b0aa8104fe",
   "metadata": {},
   "outputs": [],
   "source": [
    "start = time.process_time()\n",
    "\n",
    "model = AutoEncoder(output_units=x_train_scaled.shape[1])\n",
    "\n",
    "model.compile(loss='msle', metrics=['mse'], optimizer='adam')\n",
    "\n",
    "history = model.fit(\n",
    "    x_train_scaled,\n",
    "    x_train_scaled,\n",
    "    epochs=20,\n",
    "    batch_size=64,\n",
    ")\n",
    "\n",
    "threshold = find_threshold(model, x_train_scaled)\n",
    "\n",
    "predictions, scores = get_predictions(model, x_train_scaled, threshold)\n",
    "\n",
    "end = time.process_time()\n",
    "autoencoders_time = end - start\n",
    "print(end - start)"
   ]
  },
  {
   "cell_type": "code",
   "execution_count": null,
   "id": "e7a040e3-8d8f-4458-b806-d4f9d0584eef",
   "metadata": {},
   "outputs": [],
   "source": [
    "confusion_matrix(target, predictions)"
   ]
  },
  {
   "cell_type": "code",
   "execution_count": null,
   "id": "cbc7daea-edb9-4182-9fd2-6d2c239de70e",
   "metadata": {},
   "outputs": [],
   "source": [
    "fpr, tpr, _ = metrics.roc_curve(target, scores)\n",
    "autoencoders_auc = metrics.auc(fpr, tpr)\n",
    "metrics.auc(fpr, tpr)"
   ]
  },
  {
   "cell_type": "code",
   "execution_count": null,
   "id": "7cbc34cd-db6b-4d9e-a0e8-252fac7189d5",
   "metadata": {},
   "outputs": [],
   "source": [
    "autoencoders_report = classification_report(target, predictions, target_names = ['0','1'], output_dict = True)\n",
    "print(classification_report(target, predictions, target_names = ['0','1']))"
   ]
  },
  {
   "cell_type": "code",
   "execution_count": null,
   "id": "1796590a",
   "metadata": {},
   "outputs": [],
   "source": [
    "precision, recall, thresholds = precision_recall_curve(target, scores)\n",
    "ae_auc_precision_recall = metrics.auc(recall, precision)\n",
    "print(ae_auc_precision_recall)"
   ]
  },
  {
   "cell_type": "markdown",
   "id": "1ed3def5-66f7-43e7-bd8e-f4d17c467f59",
   "metadata": {
    "jp-MarkdownHeadingCollapsed": true,
    "tags": []
   },
   "source": [
    "### One-Class SVM rbf"
   ]
  },
  {
   "cell_type": "code",
   "execution_count": null,
   "id": "20068a07-2b38-48d7-880b-c693c9eedcff",
   "metadata": {},
   "outputs": [],
   "source": [
    "features = data.drop(columns = ['y'])\n",
    "target = data['y']"
   ]
  },
  {
   "cell_type": "code",
   "execution_count": null,
   "id": "73a280c8-09ef-4c43-9223-3a5ebb668211",
   "metadata": {},
   "outputs": [],
   "source": [
    "min_max_scaler = MinMaxScaler(feature_range=(0, 1))\n",
    "x_train_scaled = min_max_scaler.fit_transform(features.copy())"
   ]
  },
  {
   "cell_type": "code",
   "execution_count": null,
   "id": "6559d1b0-db43-4935-9ab5-61ee37b8a10e",
   "metadata": {},
   "outputs": [],
   "source": [
    "start = time.process_time()\n",
    "\n",
    "model = OneClassSVM(gamma='scale', nu=0.1)\n",
    "model.fit(x_train_scaled)\n",
    "yhat = model.predict(x_train_scaled)\n",
    "y_scores = -model.decision_function(x_train_scaled)\n",
    "\n",
    "end = time.process_time()\n",
    "rbf_oc_svm_time = end - start\n",
    "print(end - start)"
   ]
  },
  {
   "cell_type": "code",
   "execution_count": null,
   "id": "5a8c9c4a-9aea-4108-b209-23e1eefff61c",
   "metadata": {},
   "outputs": [],
   "source": [
    "predictions = pd.DataFrame(yhat, columns = ['y_pred']).apply(def_outlier, axis = 1)"
   ]
  },
  {
   "cell_type": "code",
   "execution_count": null,
   "id": "5083274a-b6f6-4830-829c-ea1c1a6884e6",
   "metadata": {},
   "outputs": [],
   "source": [
    "confusion_matrix(target, predictions)"
   ]
  },
  {
   "cell_type": "code",
   "execution_count": null,
   "id": "8b172c2b-c49c-4e89-9f26-b4c277604268",
   "metadata": {},
   "outputs": [],
   "source": [
    "fpr, tpr, _ = metrics.roc_curve(target, y_scores)\n",
    "rbf_oc_svm_auc = metrics.auc(fpr, tpr)\n",
    "metrics.auc(fpr, tpr)"
   ]
  },
  {
   "cell_type": "code",
   "execution_count": null,
   "id": "0e9181b4-a82c-4f96-aa5b-d96f5a902e3a",
   "metadata": {},
   "outputs": [],
   "source": [
    "rbf_oc_svm_report = classification_report(target, predictions, target_names = ['0','1'], output_dict = True)\n",
    "print(classification_report(target, predictions, target_names = ['0','1']))"
   ]
  },
  {
   "cell_type": "code",
   "execution_count": null,
   "id": "53dd0f89-4cc8-4d7c-a4b0-0db20da8188f",
   "metadata": {},
   "outputs": [],
   "source": [
    "precision, recall, thresholds = precision_recall_curve(target, y_scores)\n",
    "ocsvm_rbf_auc_precision_recall = metrics.auc(recall, precision)\n",
    "print(ocsvm_rbf_auc_precision_recall)"
   ]
  },
  {
   "cell_type": "markdown",
   "id": "e18b02a5-b837-421b-8f49-6ba0982fe2e7",
   "metadata": {
    "jp-MarkdownHeadingCollapsed": true,
    "tags": []
   },
   "source": [
    "### One-Class SVM linear"
   ]
  },
  {
   "cell_type": "code",
   "execution_count": null,
   "id": "90adbe47-7738-482e-a64b-5af1d6b40b13",
   "metadata": {},
   "outputs": [],
   "source": [
    "features = data.drop(columns = ['y'])\n",
    "target = data['y']"
   ]
  },
  {
   "cell_type": "code",
   "execution_count": null,
   "id": "7f4396ad-4bae-49c1-87ac-7f7c0120b394",
   "metadata": {},
   "outputs": [],
   "source": [
    "min_max_scaler = MinMaxScaler(feature_range=(0, 1))\n",
    "x_train_scaled = min_max_scaler.fit_transform(features.copy())"
   ]
  },
  {
   "cell_type": "code",
   "execution_count": null,
   "id": "64b4c769-7244-4038-8a8e-98f42c2988e9",
   "metadata": {},
   "outputs": [],
   "source": [
    "start = time.process_time()\n",
    "\n",
    "model = OneClassSVM(kernel = 'linear', nu=0.1)\n",
    "model.fit(x_train_scaled)\n",
    "yhat = model.predict(x_train_scaled)\n",
    "y_scores = -model.decision_function(x_train_scaled)\n",
    "\n",
    "end = time.process_time()\n",
    "lin_oc_svm_time = end - start\n",
    "print(end - start)"
   ]
  },
  {
   "cell_type": "code",
   "execution_count": null,
   "id": "191f5c0e-a5cf-49d0-9a05-a28e7c74e012",
   "metadata": {},
   "outputs": [],
   "source": [
    "predictions = pd.DataFrame(yhat, columns = ['y_pred']).apply(def_outlier, axis = 1)"
   ]
  },
  {
   "cell_type": "code",
   "execution_count": null,
   "id": "1e3c9ce7-0c48-4797-a4b8-8f9ea43737ec",
   "metadata": {},
   "outputs": [],
   "source": [
    "confusion_matrix(target, predictions)"
   ]
  },
  {
   "cell_type": "code",
   "execution_count": null,
   "id": "36c2c2b0-e7cb-4b50-8094-5ca2151cb5bf",
   "metadata": {},
   "outputs": [],
   "source": [
    "fpr, tpr, _ = metrics.roc_curve(target, y_scores)\n",
    "lin_oc_svm_auc = metrics.auc(fpr, tpr)\n",
    "metrics.auc(fpr, tpr)"
   ]
  },
  {
   "cell_type": "code",
   "execution_count": null,
   "id": "1dd0fba5-f010-435f-99b6-6a9d397e807b",
   "metadata": {},
   "outputs": [],
   "source": [
    "lin_oc_svm_report = classification_report(target, predictions, target_names = ['0','1'], output_dict = True)\n",
    "print(classification_report(target, predictions, target_names = ['0','1']))"
   ]
  },
  {
   "cell_type": "code",
   "execution_count": null,
   "id": "2bbf369e-7242-4db7-96f3-ca1dfa21062a",
   "metadata": {},
   "outputs": [],
   "source": [
    "precision, recall, thresholds = precision_recall_curve(target, y_scores)\n",
    "ocsvm_lin_auc_precision_recall = metrics.auc(recall, precision)\n",
    "print(ocsvm_lin_auc_precision_recall)"
   ]
  },
  {
   "cell_type": "markdown",
   "id": "9c983eea-b4e1-4357-818c-ca5effb85190",
   "metadata": {
    "jp-MarkdownHeadingCollapsed": true,
    "tags": []
   },
   "source": [
    "### Performance"
   ]
  },
  {
   "cell_type": "code",
   "execution_count": null,
   "id": "f09472b3-b7ab-4cf3-8577-0afefbe6e820",
   "metadata": {},
   "outputs": [],
   "source": [
    "vowels_performance = pd.DataFrame(columns = ['method','f1-score','sensitivity',\n",
    "                                             'precision','Time','AUC','AU precision-recall curve'])"
   ]
  },
  {
   "cell_type": "code",
   "execution_count": null,
   "id": "d16f1409-ebdc-4c09-b0cd-e13c410fd90f",
   "metadata": {},
   "outputs": [],
   "source": [
    "iforest_performance = {'method':'iForest',\n",
    "               'f1-score':iforest_report['1']['f1-score'], \n",
    "               'sensitivity':iforest_report['1']['recall'],\n",
    "               'precision':iforest_report['1']['precision'],        \n",
    "              'Time':iforest_time,\n",
    "              'AUC':iforest_auc,\n",
    "                      'AU precision-recall curve': iforest_auc_precision_recall}\n",
    "lof_performance = {'method':'LOF',\n",
    "               'f1-score':lof_report['1']['f1-score'], \n",
    "               'sensitivity':lof_report['1']['recall'],\n",
    "               'precision':lof_report['1']['precision'],    \n",
    "              'Time':lof_time,\n",
    "              'AUC':lof_auc,\n",
    "                  'AU precision-recall curve': lof_auc_precision_recall}\n",
    "dbscan_performance = { 'method':'DBSCAN',\n",
    "               'f1-score':dbscan_report['1']['f1-score'], \n",
    "               'sensitivity':dbscan_report['1']['recall'],\n",
    "               'precision':dbscan_report['1']['precision'],       \n",
    "              'Time':dbscan_time,\n",
    "              'AUC':dbscan_auc,\n",
    "                     'AU precision-recall curve': dbscan_auc_precision_recall}\n",
    "cade_performance = { 'method':'CADE',\n",
    "               'f1-score':cade_report['1']['f1-score'], \n",
    "               'sensitivity':cade_report['1']['recall'],\n",
    "               'precision':cade_report['1']['precision'],     \n",
    "              'Time':cade_time,\n",
    "              'AUC':cade_auc,\n",
    "                   'AU precision-recall curve': cade_auc_precision_recall}\n",
    "deep_autoencoders_performance = {'method':'Deep Autoencoders',\n",
    "               'f1-score':deep_autoencoders_report['1']['f1-score'], \n",
    "               'sensitivity':deep_autoencoders_report['1']['recall'],\n",
    "               'precision':deep_autoencoders_report['1']['precision'],                  \n",
    "              'Time':deep_autoencoders_time,\n",
    "              'AUC':deep_autoencoders_auc,\n",
    "                                'AU precision-recall curve': deep_ae_auc_precision_recall}\n",
    "autoencoders_performance = {'method':'Autoencoders',\n",
    "               'f1-score':autoencoders_report['1']['f1-score'], \n",
    "               'sensitivity':autoencoders_report['1']['recall'],\n",
    "               'precision':autoencoders_report['1']['precision'],             \n",
    "              'Time':autoencoders_time,\n",
    "              'AUC':autoencoders_auc,\n",
    "                           'AU precision-recall curve': ae_auc_precision_recall}\n",
    "rbf_oc_svm_performance = {'method':'OC-SVM rbf',\n",
    "               'f1-score':rbf_oc_svm_report['1']['f1-score'], \n",
    "               'sensitivity':rbf_oc_svm_report['1']['recall'],\n",
    "               'precision':rbf_oc_svm_report['1']['precision'],           \n",
    "              'Time':rbf_oc_svm_time,\n",
    "              'AUC':rbf_oc_svm_auc,\n",
    "                         'AU precision-recall curve': ocsvm_rbf_auc_precision_recall}\n",
    "lin_oc_svm_performance = {'method':'OC-SVM linear',\n",
    "               'f1-score':lin_oc_svm_report['1']['f1-score'], \n",
    "               'sensitivity':lin_oc_svm_report['1']['recall'],\n",
    "               'precision':lin_oc_svm_report['1']['precision'],           \n",
    "              'Time':lin_oc_svm_time,\n",
    "              'AUC':lin_oc_svm_auc,\n",
    "                         'AU precision-recall curve': ocsvm_lin_auc_precision_recall}"
   ]
  },
  {
   "cell_type": "code",
   "execution_count": null,
   "id": "cf06249c-e31f-403c-8e8b-b51dba4587c3",
   "metadata": {},
   "outputs": [],
   "source": [
    "vowels_performance = vowels_performance.append(iforest_performance, ignore_index = True)\n",
    "vowels_performance = vowels_performance.append(lof_performance, ignore_index = True)\n",
    "vowels_performance = vowels_performance.append(dbscan_performance, ignore_index = True)\n",
    "vowels_performance = vowels_performance.append(cade_performance, ignore_index = True)\n",
    "vowels_performance = vowels_performance.append(deep_autoencoders_performance, ignore_index = True)\n",
    "vowels_performance = vowels_performance.append(autoencoders_performance, ignore_index = True)\n",
    "vowels_performance = vowels_performance.append(rbf_oc_svm_performance, ignore_index = True)\n",
    "vowels_performance = vowels_performance.append(lin_oc_svm_performance, ignore_index = True)"
   ]
  },
  {
   "cell_type": "markdown",
   "id": "6e819820-662f-4b7a-95d1-c6eeb0e62876",
   "metadata": {
    "jp-MarkdownHeadingCollapsed": true,
    "tags": []
   },
   "source": [
    "## Seismic"
   ]
  },
  {
   "cell_type": "markdown",
   "id": "5399d194",
   "metadata": {},
   "source": [
    "**Dataset source**: http://odds.cs.stonybrook.edu/seismic-dataset/ (data is transformed from .arff to .csv format)\n",
    "\n",
    "Shebuti Rayana (2016).  ODDS Library [http://odds.cs.stonybrook.edu]. Stony Brook, NY: Stony Brook University, Department of Computer Science.\n",
    "\n",
    "**Additional sources**: \n",
    "\n",
    "Saket Sathe and Charu C. Aggarwal. LODES: Local Density meets Spectral Outlier Detection. SIAM Conference on Data Mining, 2016."
   ]
  },
  {
   "cell_type": "code",
   "execution_count": null,
   "id": "9f7497cf-f25d-4d39-b778-abd020ebfa04",
   "metadata": {},
   "outputs": [],
   "source": [
    "data = pd.read_csv('./seismic.csv', sep = ',')"
   ]
  },
  {
   "cell_type": "code",
   "execution_count": null,
   "id": "98583ea0-afb4-40a3-8bc3-1b96002de33a",
   "metadata": {},
   "outputs": [],
   "source": [
    "# dropping the columns that consist only of 0s\n",
    "data = data.drop(columns = ['nbumps6','nbumps7','nbumps89'])"
   ]
  },
  {
   "cell_type": "code",
   "execution_count": null,
   "id": "4edcfea9-e459-4798-97f6-dc15a4dbd1cf",
   "metadata": {},
   "outputs": [],
   "source": [
    "dummies = pd.get_dummies(data[['seismic','seismoacoustic','shift','ghazard']])"
   ]
  },
  {
   "cell_type": "code",
   "execution_count": null,
   "id": "b0932a73-7c0f-4a32-9573-d38a7034034e",
   "metadata": {},
   "outputs": [],
   "source": [
    "data = pd.concat([data, dummies], axis = 1)"
   ]
  },
  {
   "cell_type": "code",
   "execution_count": null,
   "id": "5bd4e951-5330-4c88-902f-1a2d184efb08",
   "metadata": {},
   "outputs": [],
   "source": [
    "data = data.drop(columns = ['seismic','seismoacoustic','shift','ghazard'])"
   ]
  },
  {
   "cell_type": "code",
   "execution_count": null,
   "id": "18e0f2ec-0b7d-438f-855a-1ce74d7db590",
   "metadata": {},
   "outputs": [],
   "source": [
    "pd.pivot_table(data,\n",
    "             values = 'genergy',\n",
    "               index = 'class', \n",
    "              aggfunc = 'count')"
   ]
  },
  {
   "cell_type": "code",
   "execution_count": null,
   "id": "1c6a8ac9-f963-467e-818f-187e4553e69e",
   "metadata": {},
   "outputs": [],
   "source": [
    "data.shape"
   ]
  },
  {
   "cell_type": "code",
   "execution_count": null,
   "id": "80a9dfdb-56be-4d00-a361-dada2e08046e",
   "metadata": {},
   "outputs": [],
   "source": [
    "data.head()"
   ]
  },
  {
   "cell_type": "markdown",
   "id": "151f8935-2e44-49d4-84e0-3770251f5fb0",
   "metadata": {
    "jp-MarkdownHeadingCollapsed": true,
    "tags": []
   },
   "source": [
    "### iForest"
   ]
  },
  {
   "cell_type": "code",
   "execution_count": null,
   "id": "218dcd8f-3821-4452-8d51-7588275cfde3",
   "metadata": {},
   "outputs": [],
   "source": [
    "train_data = data.copy()"
   ]
  },
  {
   "cell_type": "code",
   "execution_count": null,
   "id": "4e93f710-0274-414f-b6b4-2018d67903a2",
   "metadata": {},
   "outputs": [],
   "source": [
    "start = time.process_time()\n",
    "rng = np.random.RandomState(42)\n",
    "clf = IsolationForest(max_samples = 256, random_state=rng, n_estimators = 100)\n",
    "clf.fit(train_data.loc[:, train_data.columns != 'class'])\n",
    "y_pred = clf.predict(train_data.loc[:, train_data.columns != 'class'])\n",
    "y_scores = clf.score_samples(train_data.loc[:, train_data.columns != 'class'])\n",
    "end = time.process_time()\n",
    "iforest_time = end - start\n",
    "print(end - start)"
   ]
  },
  {
   "cell_type": "code",
   "execution_count": null,
   "id": "3fcb487e-c235-4ab9-ac3f-442d548282ee",
   "metadata": {},
   "outputs": [],
   "source": [
    "train_data['y_pred'] = y_pred\n",
    "train_data['prediction'] = train_data.apply(def_outlier, axis = 1)\n",
    "train_data['y_scores'] = -y_scores"
   ]
  },
  {
   "cell_type": "code",
   "execution_count": null,
   "id": "842669b1-afd3-4bdb-8804-3bdd94a3fcec",
   "metadata": {},
   "outputs": [],
   "source": [
    "confusion_matrix(train_data['class'], train_data['prediction'])"
   ]
  },
  {
   "cell_type": "code",
   "execution_count": null,
   "id": "d977649d-ae43-4132-af83-62dd393fed13",
   "metadata": {},
   "outputs": [],
   "source": [
    "fpr, tpr, _ = metrics.roc_curve(train_data['class'], train_data['y_scores'])\n",
    "iforest_auc = metrics.auc(fpr, tpr)\n",
    "metrics.auc(fpr, tpr)"
   ]
  },
  {
   "cell_type": "code",
   "execution_count": null,
   "id": "9286069f-058a-40ba-8292-d8a7e20a7a80",
   "metadata": {},
   "outputs": [],
   "source": [
    "iforest_report = classification_report(train_data['class'], train_data['prediction'], target_names = ['0','1'], output_dict=True)\n",
    "print(classification_report(train_data['class'], train_data['prediction'], target_names = ['0','1']))"
   ]
  },
  {
   "cell_type": "code",
   "execution_count": null,
   "id": "91a7a220",
   "metadata": {},
   "outputs": [],
   "source": [
    "precision, recall, thresholds = precision_recall_curve(train_data['class'], train_data['y_scores'])\n",
    "iforest_auc_precision_recall = metrics.auc(recall, precision)\n",
    "print(iforest_auc_precision_recall)"
   ]
  },
  {
   "cell_type": "markdown",
   "id": "4dedeb1c-8fbe-4140-8d43-ee26b90b3250",
   "metadata": {
    "jp-MarkdownHeadingCollapsed": true,
    "tags": []
   },
   "source": [
    "### LOF"
   ]
  },
  {
   "cell_type": "code",
   "execution_count": null,
   "id": "aa4e420c-e2c9-425f-9b86-28b09136e806",
   "metadata": {},
   "outputs": [],
   "source": [
    "min_max_scaler = MinMaxScaler(feature_range=(0, 1))\n",
    "train_data = min_max_scaler.fit_transform(data.copy())\n",
    "train_data = pd.DataFrame(train_data)\n",
    "train_data.columns = data.columns"
   ]
  },
  {
   "cell_type": "code",
   "execution_count": null,
   "id": "196d2898-9e29-4e2c-8082-d7c2fe273ae6",
   "metadata": {},
   "outputs": [],
   "source": [
    "start = time.process_time()\n",
    "lof = LocalOutlierFactor(n_neighbors=26, contamination=.1)\n",
    "y_pred = lof.fit_predict(train_data.loc[:, train_data.columns != 'class'])\n",
    "y_scores = lof.negative_outlier_factor_\n",
    "end = time.process_time()\n",
    "lof_time = end - start\n",
    "print(end - start)"
   ]
  },
  {
   "cell_type": "code",
   "execution_count": null,
   "id": "75afcdf2-37e9-4342-af67-c4fd4550f3b7",
   "metadata": {},
   "outputs": [],
   "source": [
    "train_data['y_pred'] = y_pred\n",
    "train_data['prediction'] = train_data.apply(def_outlier, axis = 1)\n",
    "train_data['y_scores'] = -y_scores"
   ]
  },
  {
   "cell_type": "code",
   "execution_count": null,
   "id": "0247941d-71b5-4ed7-b394-1c66394468f8",
   "metadata": {},
   "outputs": [],
   "source": [
    "confusion_matrix(train_data['class'], train_data['prediction'])"
   ]
  },
  {
   "cell_type": "code",
   "execution_count": null,
   "id": "95f58110-a03e-4a25-9be8-de59acc3a7cc",
   "metadata": {},
   "outputs": [],
   "source": [
    "fpr, tpr, _ = metrics.roc_curve(train_data['class'], train_data['y_scores'])\n",
    "lof_auc = metrics.auc(fpr, tpr)\n",
    "metrics.auc(fpr, tpr)"
   ]
  },
  {
   "cell_type": "code",
   "execution_count": null,
   "id": "efbc3960-16c6-470d-b281-3017b5c29498",
   "metadata": {},
   "outputs": [],
   "source": [
    "lof_report = classification_report(train_data['class'], train_data['prediction'], target_names = ['0','1'], output_dict=True)\n",
    "print(classification_report(train_data['class'], train_data['prediction'], target_names = ['0','1']))"
   ]
  },
  {
   "cell_type": "code",
   "execution_count": null,
   "id": "55cfce0d",
   "metadata": {},
   "outputs": [],
   "source": [
    "precision, recall, thresholds = precision_recall_curve(train_data['class'], train_data['y_scores'])\n",
    "lof_auc_precision_recall = metrics.auc(recall, precision)\n",
    "print(lof_auc_precision_recall)"
   ]
  },
  {
   "cell_type": "markdown",
   "id": "341f5753-89be-44d9-814d-8267c01320dd",
   "metadata": {
    "jp-MarkdownHeadingCollapsed": true,
    "tags": []
   },
   "source": [
    "### DBSCAN"
   ]
  },
  {
   "cell_type": "code",
   "execution_count": null,
   "id": "35d727b1-36af-4ac2-bb29-98c48f326c26",
   "metadata": {},
   "outputs": [],
   "source": [
    "min_max_scaler = MinMaxScaler(feature_range=(0, 1))\n",
    "train_data = min_max_scaler.fit_transform(data.copy())\n",
    "train_data = pd.DataFrame(train_data)\n",
    "train_data.columns = data.columns"
   ]
  },
  {
   "cell_type": "code",
   "execution_count": null,
   "id": "f6dca5a0-3eed-4ef3-9dac-27f95c9d2f0a",
   "metadata": {},
   "outputs": [],
   "source": [
    "dist = dbscan_tuner(train_data,41)"
   ]
  },
  {
   "cell_type": "code",
   "execution_count": null,
   "id": "04f791bf-24a8-47fb-a6f8-164eb5d555c8",
   "metadata": {},
   "outputs": [],
   "source": [
    "start = time.process_time()\n",
    "dbscan = DBSCAN(eps = 0.25, min_samples = 42)\n",
    "clusters = dbscan.fit_predict(train_data.loc[:, train_data.columns != 'class'])\n",
    "end = time.process_time()\n",
    "dbscan_time = end - start\n",
    "print(end - start)"
   ]
  },
  {
   "cell_type": "code",
   "execution_count": null,
   "id": "e670c1c1-57b4-4b2d-9d55-64627a281fa7",
   "metadata": {},
   "outputs": [],
   "source": [
    "train_data['y_pred'] = clusters\n",
    "train_data['prediction'] = train_data.apply(def_outlier, axis = 1)"
   ]
  },
  {
   "cell_type": "code",
   "execution_count": null,
   "id": "607f72e3",
   "metadata": {},
   "outputs": [],
   "source": [
    "original_columns = data.columns.to_list()\n",
    "original_columns.remove('class')\n",
    "\n",
    "data_w_score = pd.DataFrame(columns = train_data.columns.to_list())\n",
    "data_w_score['score'] = pd.NaT\n",
    "for i in set(clusters):\n",
    "    if i == -1:\n",
    "        continue\n",
    "    score_data = train_data[train_data['y_pred'] == i].copy()\n",
    "    center = score_data[original_columns].mean().to_list()\n",
    "    score_data['score'] = score_data.apply(lambda x : distance.euclidean(x[original_columns].to_list(), center),1)\n",
    "    data_w_score = data_w_score.append(score_data.copy(), ignore_index = True)\n",
    "\n",
    "anomalies_data = train_data[train_data['y_pred'] == -1].copy()\n",
    "anomalies_data['score'] = ''\n",
    "cluster_centers = pd.pivot_table(train_data,\n",
    "              index = 'y_pred',\n",
    "              aggfunc = 'mean')"
   ]
  },
  {
   "cell_type": "code",
   "execution_count": null,
   "id": "0584cf1b",
   "metadata": {},
   "outputs": [],
   "source": [
    "for i in range(len(anomalies_data)):\n",
    "    anomalies_data['score'].iloc[i] = np.min(cluster_centers[cluster_centers.index != -1].apply(lambda x : \n",
    "                                                                                                distance.euclidean(x[original_columns].to_list(), \n",
    "                                                                                                                   anomalies_data[original_columns].iloc[i]),1))\n",
    "\n",
    "data_for_auprc = pd.concat([data_w_score, anomalies_data])"
   ]
  },
  {
   "cell_type": "code",
   "execution_count": null,
   "id": "fe77493f-5c8c-4651-b1ab-c146e465c43d",
   "metadata": {},
   "outputs": [],
   "source": [
    "confusion_matrix(train_data['class'], train_data['prediction'])"
   ]
  },
  {
   "cell_type": "code",
   "execution_count": null,
   "id": "24caa286-a7f6-47e9-b556-58ee9c1669fa",
   "metadata": {},
   "outputs": [],
   "source": [
    "fpr, tpr, _ = metrics.roc_curve(data_for_auprc['class'], data_for_auprc['score'])\n",
    "dbscan_auc = metrics.auc(fpr, tpr)\n",
    "metrics.auc(fpr, tpr)"
   ]
  },
  {
   "cell_type": "code",
   "execution_count": null,
   "id": "a4e88980-6a40-41ae-978d-ec57dc26f13d",
   "metadata": {},
   "outputs": [],
   "source": [
    "dbscan_report = classification_report(train_data['class'], train_data['prediction'], target_names = ['0','1'], output_dict=True)\n",
    "print(classification_report(train_data['class'], train_data['prediction'], target_names = ['0','1']))"
   ]
  },
  {
   "cell_type": "code",
   "execution_count": null,
   "id": "3df59d06",
   "metadata": {},
   "outputs": [],
   "source": [
    "precision, recall, thresholds = precision_recall_curve(data_for_auprc['class'], data_for_auprc['score'])\n",
    "dbscan_auc_precision_recall = metrics.auc(recall, precision)\n",
    "print(dbscan_auc_precision_recall)"
   ]
  },
  {
   "cell_type": "markdown",
   "id": "bcc6668b",
   "metadata": {
    "jp-MarkdownHeadingCollapsed": true,
    "tags": []
   },
   "source": [
    "### CADE"
   ]
  },
  {
   "cell_type": "markdown",
   "id": "4565e69e",
   "metadata": {},
   "source": [
    "Source: Aric LaBarr, webinar \"Modern Approaches To Anomaly Detection\", November 2, 2021"
   ]
  },
  {
   "cell_type": "code",
   "execution_count": null,
   "id": "deebfe9a",
   "metadata": {},
   "outputs": [],
   "source": [
    "train_data = data.copy()"
   ]
  },
  {
   "cell_type": "code",
   "execution_count": null,
   "id": "e32c215b",
   "metadata": {},
   "outputs": [],
   "source": [
    "fake = pd.DataFrame()\n",
    "data_for_fake = train_data.loc[:, train_data.columns != 'class']\n",
    "data_for_fake['Target'] = 0\n",
    "for i in data_for_fake.columns:\n",
    "    fake[i] = np.random.uniform(np.min(data_for_fake[i]), np.max(data_for_fake[i]), size = len(data_for_fake[i]))\n",
    "fake['Target'] = 1"
   ]
  },
  {
   "cell_type": "code",
   "execution_count": null,
   "id": "eee194bf",
   "metadata": {},
   "outputs": [],
   "source": [
    "data_combined = pd.concat([data_for_fake, fake], axis = 0)"
   ]
  },
  {
   "cell_type": "code",
   "execution_count": null,
   "id": "c4429292",
   "metadata": {},
   "outputs": [],
   "source": [
    "start = time.process_time()\n",
    "model = RandomForestClassifier(n_estimators = 100)\n",
    "model.fit(data_combined.loc[:, data_combined.columns != 'Target'],data_combined.loc[:, data_combined.columns == 'Target']['Target'] )\n",
    "train_data['Target'] = model.predict_proba(train_data.loc[:, train_data.columns != 'class'])[:,1]\n",
    "end = time.process_time()\n",
    "cade_time = end - start\n",
    "print(end - start)"
   ]
  },
  {
   "cell_type": "code",
   "execution_count": null,
   "id": "7572770d",
   "metadata": {},
   "outputs": [],
   "source": [
    "auc = {}\n",
    "for i in np.arange(0,0.55,0.05):\n",
    "    train_data['prediction'] = train_data.apply(def_outlier_cade, args=(i,), axis = 1)\n",
    "    fpr, tpr, _ = metrics.roc_curve(train_data['class'], train_data['prediction'])\n",
    "    auc[i] = metrics.auc(fpr, tpr)\n",
    "max_key = max(auc, key=auc.get)"
   ]
  },
  {
   "cell_type": "code",
   "execution_count": null,
   "id": "878db10d",
   "metadata": {},
   "outputs": [],
   "source": [
    "train_data['prediction'] = train_data.apply(def_outlier_cade,args=(max_key,), axis = 1)"
   ]
  },
  {
   "cell_type": "code",
   "execution_count": null,
   "id": "155b3332",
   "metadata": {},
   "outputs": [],
   "source": [
    "confusion_matrix(train_data['class'], train_data['prediction'])"
   ]
  },
  {
   "cell_type": "code",
   "execution_count": null,
   "id": "7c0e7239",
   "metadata": {},
   "outputs": [],
   "source": [
    "fpr, tpr, _ = metrics.roc_curve(train_data['class'], train_data['Target'])\n",
    "cade_auc = metrics.auc(fpr, tpr)\n",
    "metrics.auc(fpr, tpr)"
   ]
  },
  {
   "cell_type": "code",
   "execution_count": null,
   "id": "54727ef7",
   "metadata": {},
   "outputs": [],
   "source": [
    "cade_report = classification_report(train_data['class'], train_data['prediction'], target_names = ['0','1'], output_dict=True)\n",
    "print(classification_report(train_data['class'], train_data['prediction'], target_names = ['0','1']))"
   ]
  },
  {
   "cell_type": "code",
   "execution_count": null,
   "id": "5e03d305",
   "metadata": {},
   "outputs": [],
   "source": [
    "precision, recall, thresholds = precision_recall_curve(train_data['class'], train_data['Target'])\n",
    "cade_auc_precision_recall = metrics.auc(recall, precision)\n",
    "print(cade_auc_precision_recall)"
   ]
  },
  {
   "cell_type": "markdown",
   "id": "9b89c508-a61b-40fc-81e9-623e586f53a2",
   "metadata": {
    "jp-MarkdownHeadingCollapsed": true,
    "tags": []
   },
   "source": [
    "### Deep Autoencoders"
   ]
  },
  {
   "cell_type": "markdown",
   "id": "2fb556b7",
   "metadata": {},
   "source": [
    "Source: https://www.analyticsvidhya.com/blog/2021/05/anomaly-detection-using-autoencoders-a-walk-through-in-python/"
   ]
  },
  {
   "cell_type": "code",
   "execution_count": null,
   "id": "7b36be44-0470-4475-bf88-9b596584808a",
   "metadata": {},
   "outputs": [],
   "source": [
    "features = data.drop(columns = ['class'])\n",
    "target = data['class']"
   ]
  },
  {
   "cell_type": "code",
   "execution_count": null,
   "id": "e7781e6e-10b1-4d61-98f2-22d73f89cae9",
   "metadata": {},
   "outputs": [],
   "source": [
    "min_max_scaler = MinMaxScaler(feature_range=(0, 1))\n",
    "x_train_scaled = min_max_scaler.fit_transform(features.copy())"
   ]
  },
  {
   "cell_type": "code",
   "execution_count": null,
   "id": "e6bd20d9-d652-4046-bea2-4a0f4d997ce1",
   "metadata": {},
   "outputs": [],
   "source": [
    "class AutoEncoder(Model):\n",
    "\n",
    "    def __init__(self, output_units):\n",
    "        super().__init__()\n",
    "        self.encoder = Sequential([\n",
    "          Dense(10,input_dim = output_units, activation='sigmoid'),\n",
    "          Dropout(0.1),\n",
    "          Dense(5, activation='relu'),\n",
    "          Dropout(0.1),\n",
    "          Dense(3, activation='relu')\n",
    "        ])\n",
    "        self.decoder = Sequential([\n",
    "          Dense(5, activation='relu'),\n",
    "          Dropout(0.1),\n",
    "          Dense(10,  activation='relu'),\n",
    "          Dropout(0.1),\n",
    "          Dense(output_units, activation='sigmoid')\n",
    "        ])\n",
    "  \n",
    "    def call(self, inputs):\n",
    "        encoded = self.encoder(inputs)\n",
    "        decoded = self.decoder(encoded)\n",
    "        return decoded"
   ]
  },
  {
   "cell_type": "code",
   "execution_count": null,
   "id": "6d9a8ba0-0461-4487-b219-c009385d4f1a",
   "metadata": {},
   "outputs": [],
   "source": [
    "def find_threshold(model, x_train_scaled):\n",
    "    reconstructions = model.predict(x_train_scaled)\n",
    "    reconstruction_errors = tf.keras.losses.msle(reconstructions, x_train_scaled)\n",
    "    threshold = np.mean(reconstruction_errors.numpy()) + np.std(reconstruction_errors.numpy())\n",
    "    return threshold\n",
    "\n",
    "def get_predictions(model, x_train_scaled, threshold):\n",
    "    predictions = model.predict(x_train_scaled)\n",
    "    errors = tf.keras.losses.msle(predictions, x_train_scaled)\n",
    "    anomaly_mask = pd.Series(errors) > threshold\n",
    "    preds = anomaly_mask.map(lambda x: 1.0 if x == True else 0.0)\n",
    "    return preds, errors"
   ]
  },
  {
   "cell_type": "code",
   "execution_count": null,
   "id": "05740afd-13d9-49d4-8dcd-4a0648fe8fa9",
   "metadata": {
    "tags": []
   },
   "outputs": [],
   "source": [
    "start = time.process_time()\n",
    "\n",
    "model = AutoEncoder(output_units=x_train_scaled.shape[1])\n",
    "\n",
    "model.compile(loss='msle', metrics=['mse'], optimizer='adam')\n",
    "\n",
    "history = model.fit(\n",
    "    x_train_scaled,\n",
    "    x_train_scaled,\n",
    "    epochs=20,\n",
    "    batch_size=64,\n",
    ")\n",
    "\n",
    "threshold = find_threshold(model, x_train_scaled)\n",
    "\n",
    "predictions, scores = get_predictions(model, x_train_scaled, threshold)\n",
    "\n",
    "end = time.process_time()\n",
    "deep_autoencoders_time = end - start\n",
    "print(end - start)"
   ]
  },
  {
   "cell_type": "code",
   "execution_count": null,
   "id": "3bd76575-bcf2-44c6-ad40-1bc048451877",
   "metadata": {},
   "outputs": [],
   "source": [
    "fpr, tpr, _ = metrics.roc_curve(target, scores)\n",
    "deep_autoencoders_auc = metrics.auc(fpr, tpr)\n",
    "metrics.auc(fpr, tpr)"
   ]
  },
  {
   "cell_type": "code",
   "execution_count": null,
   "id": "a77ffca2-901e-4d7e-a6f8-02ca977bf322",
   "metadata": {},
   "outputs": [],
   "source": [
    "deep_autoencoders_report = classification_report(target, predictions, target_names = ['0','1'], output_dict = True)\n",
    "print(classification_report(target, predictions, target_names = ['0','1']))"
   ]
  },
  {
   "cell_type": "code",
   "execution_count": null,
   "id": "74820d98",
   "metadata": {},
   "outputs": [],
   "source": [
    "precision, recall, thresholds = precision_recall_curve(target, scores)\n",
    "deep_ae_auc_precision_recall = metrics.auc(recall, precision)\n",
    "print(deep_ae_auc_precision_recall)"
   ]
  },
  {
   "cell_type": "markdown",
   "id": "66b02b9a-c27d-4a12-bb7a-98e89619ac68",
   "metadata": {
    "jp-MarkdownHeadingCollapsed": true,
    "tags": []
   },
   "source": [
    "### Autoencoders"
   ]
  },
  {
   "cell_type": "markdown",
   "id": "8aa77ced",
   "metadata": {},
   "source": [
    "Source: https://www.analyticsvidhya.com/blog/2021/05/anomaly-detection-using-autoencoders-a-walk-through-in-python/"
   ]
  },
  {
   "cell_type": "code",
   "execution_count": null,
   "id": "f232e0f4-dcb6-46d4-8d4b-26faf2611612",
   "metadata": {},
   "outputs": [],
   "source": [
    "features = data.drop(columns = ['class'])\n",
    "target = data['class']"
   ]
  },
  {
   "cell_type": "code",
   "execution_count": null,
   "id": "59a3233b-e891-4289-a808-c0c6daf1ddad",
   "metadata": {},
   "outputs": [],
   "source": [
    "min_max_scaler = MinMaxScaler(feature_range=(0, 1))\n",
    "x_train_scaled = min_max_scaler.fit_transform(features.copy())"
   ]
  },
  {
   "cell_type": "code",
   "execution_count": null,
   "id": "d49be0fb-00be-4c72-8481-13d164abde32",
   "metadata": {},
   "outputs": [],
   "source": [
    "class AutoEncoder(Model):\n",
    "\n",
    "    def __init__(self, output_units):\n",
    "        super().__init__()\n",
    "        self.encoder = Sequential([\n",
    "          Dense(10,input_dim = output_units, activation='relu'),\n",
    "          Dropout(0.1),\n",
    "        ])\n",
    "        self.decoder = Sequential([\n",
    "          Dense(output_units, activation='sigmoid')\n",
    "        ])\n",
    "  \n",
    "    def call(self, inputs):\n",
    "        encoded = self.encoder(inputs)\n",
    "        decoded = self.decoder(encoded)\n",
    "        return decoded"
   ]
  },
  {
   "cell_type": "code",
   "execution_count": null,
   "id": "f09823a7-d352-48ef-beca-2200f6401aa7",
   "metadata": {},
   "outputs": [],
   "source": [
    "def find_threshold(model, x_train_scaled):\n",
    "    reconstructions = model.predict(x_train_scaled)\n",
    "    reconstruction_errors = tf.keras.losses.msle(reconstructions, x_train_scaled)\n",
    "    threshold = np.mean(reconstruction_errors.numpy()) + np.std(reconstruction_errors.numpy())\n",
    "    return threshold\n",
    "\n",
    "def get_predictions(model, x_train_scaled, threshold):\n",
    "    predictions = model.predict(x_train_scaled)\n",
    "    errors = tf.keras.losses.msle(predictions, x_train_scaled)\n",
    "    anomaly_mask = pd.Series(errors) > threshold\n",
    "    preds = anomaly_mask.map(lambda x: 1.0 if x == True else 0.0)\n",
    "    return preds, errors"
   ]
  },
  {
   "cell_type": "code",
   "execution_count": null,
   "id": "5eb50a4f-9fa5-4163-a6a0-6b3581c64848",
   "metadata": {
    "tags": []
   },
   "outputs": [],
   "source": [
    "start = time.process_time()\n",
    "\n",
    "model = AutoEncoder(output_units=x_train_scaled.shape[1])\n",
    "\n",
    "model.compile(loss='msle', metrics=['mse'], optimizer='adam')\n",
    "\n",
    "history = model.fit(\n",
    "    x_train_scaled,\n",
    "    x_train_scaled,\n",
    "    epochs=20,\n",
    "    batch_size=64,\n",
    ")\n",
    "\n",
    "threshold = find_threshold(model, x_train_scaled)\n",
    "\n",
    "predictions, scores = get_predictions(model, x_train_scaled, threshold)\n",
    "\n",
    "end = time.process_time()\n",
    "autoencoders_time = end - start\n",
    "print(end - start)"
   ]
  },
  {
   "cell_type": "code",
   "execution_count": null,
   "id": "924ffa8c-1624-4a85-90e7-fd0c55f86b3e",
   "metadata": {},
   "outputs": [],
   "source": [
    "fpr, tpr, _ = metrics.roc_curve(target, scores)\n",
    "autoencoders_auc = metrics.auc(fpr, tpr)\n",
    "metrics.auc(fpr, tpr)"
   ]
  },
  {
   "cell_type": "code",
   "execution_count": null,
   "id": "2b8ac182-fb9c-498e-8361-89fe1c741f3a",
   "metadata": {},
   "outputs": [],
   "source": [
    "autoencoders_report = classification_report(target, predictions, target_names = ['0','1'], output_dict = True)\n",
    "print(classification_report(target, predictions, target_names = ['0','1']))"
   ]
  },
  {
   "cell_type": "code",
   "execution_count": null,
   "id": "8c78158c",
   "metadata": {},
   "outputs": [],
   "source": [
    "precision, recall, thresholds = precision_recall_curve(target, scores)\n",
    "ae_auc_precision_recall = metrics.auc(recall, precision)\n",
    "print(ae_auc_precision_recall)"
   ]
  },
  {
   "cell_type": "markdown",
   "id": "701234cc-a33d-4bea-90ae-a26231ce1453",
   "metadata": {
    "jp-MarkdownHeadingCollapsed": true,
    "tags": []
   },
   "source": [
    "### One-Class SVM rbf"
   ]
  },
  {
   "cell_type": "code",
   "execution_count": null,
   "id": "1bc35df4-b062-4031-8904-cbe9db42b6e1",
   "metadata": {},
   "outputs": [],
   "source": [
    "features = data.drop(columns = ['class'])\n",
    "target = data['class']"
   ]
  },
  {
   "cell_type": "code",
   "execution_count": null,
   "id": "04d3b8fa-3120-43c1-a381-7847f5c71c78",
   "metadata": {},
   "outputs": [],
   "source": [
    "min_max_scaler = MinMaxScaler(feature_range=(0, 1))\n",
    "x_train_scaled = min_max_scaler.fit_transform(features.copy())"
   ]
  },
  {
   "cell_type": "code",
   "execution_count": null,
   "id": "d28646ba-c1c5-4b0d-937f-621f5855327d",
   "metadata": {},
   "outputs": [],
   "source": [
    "start = time.process_time()\n",
    "\n",
    "model = OneClassSVM(gamma='scale', nu=0.1)\n",
    "model.fit(x_train_scaled)\n",
    "yhat = model.predict(x_train_scaled)\n",
    "y_scores = -model.decision_function(x_train_scaled)\n",
    "\n",
    "end = time.process_time()\n",
    "rbf_oc_svm_time = end - start\n",
    "print(end - start)"
   ]
  },
  {
   "cell_type": "code",
   "execution_count": null,
   "id": "0f00b5ed-fdac-4f2e-b20c-3883a8798dbd",
   "metadata": {},
   "outputs": [],
   "source": [
    "predictions = pd.DataFrame(yhat, columns = ['y_pred']).apply(def_outlier, axis = 1)"
   ]
  },
  {
   "cell_type": "code",
   "execution_count": null,
   "id": "09daacf8-a47c-4039-a4ad-db49e1a34868",
   "metadata": {},
   "outputs": [],
   "source": [
    "fpr, tpr, _ = metrics.roc_curve(target, y_scores)\n",
    "rbf_oc_svm_auc = metrics.auc(fpr, tpr)\n",
    "metrics.auc(fpr, tpr)"
   ]
  },
  {
   "cell_type": "code",
   "execution_count": null,
   "id": "daba3e18-6855-4183-8fdd-d6b0d5522f36",
   "metadata": {},
   "outputs": [],
   "source": [
    "rbf_oc_svm_report = classification_report(target, predictions, target_names = ['0','1'], output_dict = True)\n",
    "print(classification_report(target, predictions, target_names = ['0','1']))"
   ]
  },
  {
   "cell_type": "code",
   "execution_count": null,
   "id": "de148b2c",
   "metadata": {},
   "outputs": [],
   "source": [
    "precision, recall, thresholds = precision_recall_curve(target, y_scores)\n",
    "ocsvm_rbf_auc_precision_recall = metrics.auc(recall, precision)\n",
    "print(ocsvm_rbf_auc_precision_recall)"
   ]
  },
  {
   "cell_type": "markdown",
   "id": "0ec44485-9e2a-4769-add9-138bc82928e9",
   "metadata": {
    "jp-MarkdownHeadingCollapsed": true,
    "tags": []
   },
   "source": [
    "### One-Class SVM linear"
   ]
  },
  {
   "cell_type": "code",
   "execution_count": null,
   "id": "ee579ea5-6cc5-4206-a9bb-9a3ba9ed2adb",
   "metadata": {},
   "outputs": [],
   "source": [
    "features = data.drop(columns = ['class'])\n",
    "target = data['class']"
   ]
  },
  {
   "cell_type": "code",
   "execution_count": null,
   "id": "93b9ea9b-a0ef-4674-a571-101240dd7b54",
   "metadata": {},
   "outputs": [],
   "source": [
    "min_max_scaler = MinMaxScaler(feature_range=(0, 1))\n",
    "x_train_scaled = min_max_scaler.fit_transform(features.copy())"
   ]
  },
  {
   "cell_type": "code",
   "execution_count": null,
   "id": "3d0df6ab-0583-4549-b9e1-5a4330c43d1f",
   "metadata": {},
   "outputs": [],
   "source": [
    "start = time.process_time()\n",
    "\n",
    "model = OneClassSVM(kernel = 'linear', nu=0.1)\n",
    "model.fit(x_train_scaled)\n",
    "yhat = model.predict(x_train_scaled)\n",
    "y_scores = -model.decision_function(x_train_scaled)\n",
    "\n",
    "end = time.process_time()\n",
    "lin_oc_svm_time = end - start\n",
    "print(end - start)"
   ]
  },
  {
   "cell_type": "code",
   "execution_count": null,
   "id": "59a689ee-9d8c-4ad6-9573-9f9f231b5047",
   "metadata": {},
   "outputs": [],
   "source": [
    "predictions = pd.DataFrame(yhat, columns = ['y_pred']).apply(def_outlier, axis = 1)"
   ]
  },
  {
   "cell_type": "code",
   "execution_count": null,
   "id": "0712dc12-ce93-4c3b-b41f-cb5d4896b2ee",
   "metadata": {},
   "outputs": [],
   "source": [
    "fpr, tpr, _ = metrics.roc_curve(target, y_scores)\n",
    "lin_oc_svm_auc = metrics.auc(fpr, tpr)\n",
    "metrics.auc(fpr, tpr)"
   ]
  },
  {
   "cell_type": "code",
   "execution_count": null,
   "id": "84366d32-874d-4711-bca9-a84f7657f0da",
   "metadata": {},
   "outputs": [],
   "source": [
    "lin_oc_svm_report = classification_report(target, predictions, target_names = ['0','1'], output_dict = True)\n",
    "print(classification_report(target, predictions, target_names = ['0','1']))"
   ]
  },
  {
   "cell_type": "code",
   "execution_count": null,
   "id": "879f6ede",
   "metadata": {},
   "outputs": [],
   "source": [
    "precision, recall, thresholds = precision_recall_curve(target, y_scores)\n",
    "ocsvm_lin_auc_precision_recall = metrics.auc(recall, precision)\n",
    "print(ocsvm_lin_auc_precision_recall)"
   ]
  },
  {
   "cell_type": "markdown",
   "id": "981becfc-56cb-4b89-ac60-15e6598455ee",
   "metadata": {
    "jp-MarkdownHeadingCollapsed": true,
    "tags": []
   },
   "source": [
    "### Performance"
   ]
  },
  {
   "cell_type": "code",
   "execution_count": null,
   "id": "ac04ae63-5bf4-4f65-a348-7242baf5967c",
   "metadata": {},
   "outputs": [],
   "source": [
    "seismic_performance = pd.DataFrame(columns = ['method','f1-score','sensitivity',\n",
    "                                              'precision','Time','AUC', 'AU precision-recall curve'])"
   ]
  },
  {
   "cell_type": "code",
   "execution_count": null,
   "id": "6fd5793a-e1fd-4376-867e-0e4676a33302",
   "metadata": {},
   "outputs": [],
   "source": [
    "iforest_performance = {'method':'iForest',\n",
    "               'f1-score':iforest_report['1']['f1-score'], \n",
    "               'sensitivity':iforest_report['1']['recall'],\n",
    "               'precision':iforest_report['1']['precision'],        \n",
    "              'Time':iforest_time,\n",
    "              'AUC':iforest_auc,\n",
    "                      'AU precision-recall curve': iforest_auc_precision_recall}\n",
    "lof_performance = {'method':'LOF',\n",
    "               'f1-score':lof_report['1']['f1-score'], \n",
    "               'sensitivity':lof_report['1']['recall'],\n",
    "               'precision':lof_report['1']['precision'],    \n",
    "              'Time':lof_time,\n",
    "              'AUC':lof_auc,\n",
    "                  'AU precision-recall curve': lof_auc_precision_recall}\n",
    "dbscan_performance = { 'method':'DBSCAN',\n",
    "               'f1-score':dbscan_report['1']['f1-score'], \n",
    "               'sensitivity':dbscan_report['1']['recall'],\n",
    "               'precision':dbscan_report['1']['precision'],       \n",
    "              'Time':dbscan_time,\n",
    "              'AUC':dbscan_auc,\n",
    "                     'AU precision-recall curve': dbscan_auc_precision_recall}\n",
    "cade_performance = { 'method':'CADE',\n",
    "               'f1-score':cade_report['1']['f1-score'], \n",
    "               'sensitivity':cade_report['1']['recall'],\n",
    "               'precision':cade_report['1']['precision'],     \n",
    "              'Time':cade_time,\n",
    "              'AUC':cade_auc,\n",
    "                   'AU precision-recall curve': cade_auc_precision_recall}\n",
    "deep_autoencoders_performance = {'method':'Deep Autoencoders',\n",
    "               'f1-score':deep_autoencoders_report['1']['f1-score'], \n",
    "               'sensitivity':deep_autoencoders_report['1']['recall'],\n",
    "               'precision':deep_autoencoders_report['1']['precision'],                  \n",
    "              'Time':deep_autoencoders_time,\n",
    "              'AUC':deep_autoencoders_auc,\n",
    "                                'AU precision-recall curve': deep_ae_auc_precision_recall}\n",
    "autoencoders_performance = {'method':'Autoencoders',\n",
    "               'f1-score':autoencoders_report['1']['f1-score'], \n",
    "               'sensitivity':autoencoders_report['1']['recall'],\n",
    "               'precision':autoencoders_report['1']['precision'],             \n",
    "              'Time':autoencoders_time,\n",
    "              'AUC':autoencoders_auc,\n",
    "                           'AU precision-recall curve': ae_auc_precision_recall}\n",
    "rbf_oc_svm_performance = {'method':'OC-SVM rbf',\n",
    "               'f1-score':rbf_oc_svm_report['1']['f1-score'], \n",
    "               'sensitivity':rbf_oc_svm_report['1']['recall'],\n",
    "               'precision':rbf_oc_svm_report['1']['precision'],           \n",
    "              'Time':rbf_oc_svm_time,\n",
    "              'AUC':rbf_oc_svm_auc,\n",
    "                         'AU precision-recall curve': ocsvm_rbf_auc_precision_recall}\n",
    "lin_oc_svm_performance = {'method':'OC-SVM linear',\n",
    "               'f1-score':lin_oc_svm_report['1']['f1-score'], \n",
    "               'sensitivity':lin_oc_svm_report['1']['recall'],\n",
    "               'precision':lin_oc_svm_report['1']['precision'],           \n",
    "              'Time':lin_oc_svm_time,\n",
    "              'AUC':lin_oc_svm_auc,\n",
    "                         'AU precision-recall curve': ocsvm_lin_auc_precision_recall}"
   ]
  },
  {
   "cell_type": "code",
   "execution_count": null,
   "id": "1c106374-1f69-4f21-b690-8c5008357172",
   "metadata": {},
   "outputs": [],
   "source": [
    "seismic_performance = seismic_performance.append(iforest_performance, ignore_index = True)\n",
    "seismic_performance = seismic_performance.append(lof_performance, ignore_index = True)\n",
    "seismic_performance = seismic_performance.append(dbscan_performance, ignore_index = True)\n",
    "seismic_performance = seismic_performance.append(cade_performance, ignore_index = True)\n",
    "seismic_performance = seismic_performance.append(deep_autoencoders_performance, ignore_index = True)\n",
    "seismic_performance = seismic_performance.append(autoencoders_performance, ignore_index = True)\n",
    "seismic_performance = seismic_performance.append(rbf_oc_svm_performance, ignore_index = True)\n",
    "seismic_performance = seismic_performance.append(lin_oc_svm_performance, ignore_index = True)"
   ]
  },
  {
   "cell_type": "markdown",
   "id": "2405a678-b7d5-4ce9-b156-3dd2331e33b7",
   "metadata": {
    "jp-MarkdownHeadingCollapsed": true,
    "tags": []
   },
   "source": [
    "## Musk"
   ]
  },
  {
   "cell_type": "markdown",
   "id": "90e2b9a0",
   "metadata": {},
   "source": [
    "**Dataset source**: http://odds.cs.stonybrook.edu/musk-dataset/ (data is transformed from .mat to .csv format)\n",
    "\n",
    "Shebuti Rayana (2016).  ODDS Library [http://odds.cs.stonybrook.edu]. Stony Brook, NY: Stony Brook University, Department of Computer Science.\n",
    "\n",
    "**Additional sources**:\n",
    "\n",
    "C. C. Aggarwal and S. Sathe, “Theoretical foundations and algorithms for outlier ensembles.” ACM SIGKDD Explorations Newsletter, vol. 17, no. 1, pp. 24–47, 2015."
   ]
  },
  {
   "cell_type": "code",
   "execution_count": null,
   "id": "73a9a78a-1612-4d11-8630-d3cc0cf39955",
   "metadata": {},
   "outputs": [],
   "source": [
    "data = pd.read_csv('./musk.csv', sep = ',')"
   ]
  },
  {
   "cell_type": "code",
   "execution_count": null,
   "id": "58a9917b",
   "metadata": {},
   "outputs": [],
   "source": [
    "data.head()"
   ]
  },
  {
   "cell_type": "code",
   "execution_count": null,
   "id": "4d289c50-09ef-40a0-acd9-5103eaf401c1",
   "metadata": {},
   "outputs": [],
   "source": [
    "data['y'] = data['y'].astype(int)"
   ]
  },
  {
   "cell_type": "code",
   "execution_count": null,
   "id": "87ef58f9-6a93-4346-8a63-4aeabf235578",
   "metadata": {},
   "outputs": [],
   "source": [
    "data.shape"
   ]
  },
  {
   "cell_type": "code",
   "execution_count": null,
   "id": "53716d75-2f1b-47c6-9f8a-6f79c81467bb",
   "metadata": {},
   "outputs": [],
   "source": [
    "pd.pivot_table(data,\n",
    "             values = 'Col1',\n",
    "               index = 'y', \n",
    "              aggfunc = 'count')"
   ]
  },
  {
   "cell_type": "markdown",
   "id": "bbeefae5-764c-4395-b6fd-b8c1c3cd0127",
   "metadata": {
    "jp-MarkdownHeadingCollapsed": true,
    "tags": []
   },
   "source": [
    "### iForest"
   ]
  },
  {
   "cell_type": "code",
   "execution_count": null,
   "id": "54a170fb-5e2f-4ba9-94f9-995433233994",
   "metadata": {},
   "outputs": [],
   "source": [
    "train_data = data.copy()"
   ]
  },
  {
   "cell_type": "code",
   "execution_count": null,
   "id": "c17cb508-8f88-4b3d-94bb-0aacd39ac3f7",
   "metadata": {},
   "outputs": [],
   "source": [
    "start = time.process_time()\n",
    "rng = np.random.RandomState(42)\n",
    "clf = IsolationForest(max_samples = 256, random_state=rng, n_estimators = 100)\n",
    "clf.fit(train_data.loc[:, train_data.columns != 'y'])\n",
    "y_pred = clf.predict(train_data.loc[:, train_data.columns != 'y'])\n",
    "y_scores = clf.score_samples(train_data.loc[:, train_data.columns != 'y'])\n",
    "end = time.process_time()\n",
    "iforest_time = end - start\n",
    "print(end - start)"
   ]
  },
  {
   "cell_type": "code",
   "execution_count": null,
   "id": "080db9ac-0f41-4758-975b-b43988a26059",
   "metadata": {},
   "outputs": [],
   "source": [
    "train_data['y_pred'] = y_pred\n",
    "train_data['prediction'] = train_data.apply(def_outlier, axis = 1)\n",
    "train_data['y_scores'] = -y_scores"
   ]
  },
  {
   "cell_type": "code",
   "execution_count": null,
   "id": "bad2dbb7-95f4-4b6e-adea-3fbcdaed6bdb",
   "metadata": {},
   "outputs": [],
   "source": [
    "confusion_matrix(train_data['y'], train_data['prediction'])"
   ]
  },
  {
   "cell_type": "code",
   "execution_count": null,
   "id": "932e123e-7b27-487f-b735-4d80f9d5f7c2",
   "metadata": {},
   "outputs": [],
   "source": [
    "fpr, tpr, _ = metrics.roc_curve(train_data['y'], train_data['y_scores'])\n",
    "iforest_auc = metrics.auc(fpr, tpr)\n",
    "metrics.auc(fpr, tpr)"
   ]
  },
  {
   "cell_type": "code",
   "execution_count": null,
   "id": "33711017-7b28-4b19-8048-ec661590ba32",
   "metadata": {},
   "outputs": [],
   "source": [
    "iforest_report = classification_report(train_data['y'], train_data['prediction'], target_names = ['0','1'], output_dict=True)\n",
    "print(classification_report(train_data['y'], train_data['prediction'], target_names = ['0','1']))"
   ]
  },
  {
   "cell_type": "code",
   "execution_count": null,
   "id": "f8594c36",
   "metadata": {},
   "outputs": [],
   "source": [
    "precision, recall, thresholds = precision_recall_curve(train_data['y'], train_data['y_scores'])\n",
    "iforest_auc_precision_recall = metrics.auc(recall, precision)\n",
    "print(iforest_auc_precision_recall)"
   ]
  },
  {
   "cell_type": "markdown",
   "id": "4bd81d52-444c-4721-84e4-07d2c8c6263a",
   "metadata": {
    "jp-MarkdownHeadingCollapsed": true,
    "tags": []
   },
   "source": [
    "### LOF"
   ]
  },
  {
   "cell_type": "code",
   "execution_count": null,
   "id": "fe071165-8c64-486a-a734-7d29e9d0724f",
   "metadata": {},
   "outputs": [],
   "source": [
    "min_max_scaler = MinMaxScaler(feature_range=(0, 1))\n",
    "train_data = min_max_scaler.fit_transform(data.copy())\n",
    "train_data = pd.DataFrame(train_data)\n",
    "train_data.columns = data.columns"
   ]
  },
  {
   "cell_type": "code",
   "execution_count": null,
   "id": "71abd8f5-4e1c-4a5d-9489-66ada5901e6e",
   "metadata": {},
   "outputs": [],
   "source": [
    "start = time.process_time()\n",
    "lof = LocalOutlierFactor(n_neighbors=31, contamination=.1)\n",
    "y_pred = lof.fit_predict(train_data.loc[:, train_data.columns != 'y'])\n",
    "y_scores = lof.negative_outlier_factor_\n",
    "end = time.process_time()\n",
    "lof_time = end - start\n",
    "print(end - start)"
   ]
  },
  {
   "cell_type": "code",
   "execution_count": null,
   "id": "45b734e8-d594-48e5-abbc-8908cffdcd8a",
   "metadata": {},
   "outputs": [],
   "source": [
    "train_data['y_pred'] = y_pred\n",
    "train_data['prediction'] = train_data.apply(def_outlier, axis = 1)\n",
    "train_data['y_scores'] = -y_scores"
   ]
  },
  {
   "cell_type": "code",
   "execution_count": null,
   "id": "0fe40d4e-ce2f-4578-a93a-044d68b30d74",
   "metadata": {},
   "outputs": [],
   "source": [
    "confusion_matrix(train_data['y'], train_data['prediction'])"
   ]
  },
  {
   "cell_type": "code",
   "execution_count": null,
   "id": "0c1a28da-c0ff-4491-af29-5b002745f8a3",
   "metadata": {},
   "outputs": [],
   "source": [
    "fpr, tpr, _ = metrics.roc_curve(train_data['y'], train_data['y_scores'])\n",
    "lof_auc = metrics.auc(fpr, tpr)\n",
    "metrics.auc(fpr, tpr)"
   ]
  },
  {
   "cell_type": "code",
   "execution_count": null,
   "id": "9c407da8-a7e1-4f37-9769-292a1e945212",
   "metadata": {},
   "outputs": [],
   "source": [
    "lof_report = classification_report(train_data['y'], train_data['prediction'], target_names = ['0','1'], output_dict=True)\n",
    "print(classification_report(train_data['y'], train_data['prediction'], target_names = ['0','1']))"
   ]
  },
  {
   "cell_type": "code",
   "execution_count": null,
   "id": "e0b194a9",
   "metadata": {},
   "outputs": [],
   "source": [
    "precision, recall, thresholds = precision_recall_curve(train_data['y'], train_data['y_scores'])\n",
    "lof_auc_precision_recall = metrics.auc(recall, precision)\n",
    "print(lof_auc_precision_recall)"
   ]
  },
  {
   "cell_type": "markdown",
   "id": "c265206b-c07e-4d1e-88ad-530103f3107d",
   "metadata": {
    "jp-MarkdownHeadingCollapsed": true,
    "tags": []
   },
   "source": [
    "### DBSCAN"
   ]
  },
  {
   "cell_type": "code",
   "execution_count": null,
   "id": "74e231c5-39b7-40ef-854f-a1dd900714da",
   "metadata": {},
   "outputs": [],
   "source": [
    "min_max_scaler = MinMaxScaler(feature_range=(0, 1))\n",
    "train_data = min_max_scaler.fit_transform(data.copy())\n",
    "train_data = pd.DataFrame(train_data)\n",
    "train_data.columns = data.columns"
   ]
  },
  {
   "cell_type": "code",
   "execution_count": null,
   "id": "237b269a-f2f6-4258-b2df-d43462e1f4a5",
   "metadata": {},
   "outputs": [],
   "source": [
    "dist = dbscan_tuner(train_data,331)"
   ]
  },
  {
   "cell_type": "code",
   "execution_count": null,
   "id": "397ac692-013d-4f98-b391-14e459fa4857",
   "metadata": {},
   "outputs": [],
   "source": [
    "start = time.process_time()\n",
    "dbscan = DBSCAN(eps = 3.2, min_samples = 332)\n",
    "clusters = dbscan.fit_predict(train_data.loc[:, train_data.columns != 'y'])\n",
    "end = time.process_time()\n",
    "dbscan_time = end - start\n",
    "print(end - start)"
   ]
  },
  {
   "cell_type": "code",
   "execution_count": null,
   "id": "e72461a5-fb74-4120-849a-a89db8b818e8",
   "metadata": {},
   "outputs": [],
   "source": [
    "train_data['y_pred'] = clusters\n",
    "train_data['prediction'] = train_data.apply(def_outlier, axis = 1)"
   ]
  },
  {
   "cell_type": "code",
   "execution_count": null,
   "id": "dbdf7f04",
   "metadata": {},
   "outputs": [],
   "source": [
    "original_columns = data.columns.to_list()\n",
    "original_columns.remove('y')\n",
    "\n",
    "data_w_score = pd.DataFrame(columns = train_data.columns.to_list())\n",
    "data_w_score['score'] = pd.NaT\n",
    "for i in set(clusters):\n",
    "    if i == -1:\n",
    "        continue\n",
    "    score_data = train_data[train_data['y_pred'] == i].copy()\n",
    "    center = score_data[original_columns].mean().to_list()\n",
    "    score_data['score'] = score_data.apply(lambda x : distance.euclidean(x[original_columns].to_list(), center),1)\n",
    "    data_w_score = data_w_score.append(score_data.copy(), ignore_index = True)\n",
    "\n",
    "anomalies_data = train_data[train_data['y_pred'] == -1].copy()\n",
    "anomalies_data['score'] = ''\n",
    "cluster_centers = pd.pivot_table(train_data,\n",
    "              index = 'y_pred',\n",
    "              aggfunc = 'mean')"
   ]
  },
  {
   "cell_type": "code",
   "execution_count": null,
   "id": "0a5c48d8",
   "metadata": {},
   "outputs": [],
   "source": [
    "for i in range(len(anomalies_data)):\n",
    "    anomalies_data['score'].iloc[i] = np.min(cluster_centers[cluster_centers.index != -1].apply(lambda x : \n",
    "                                                                                                distance.euclidean(x[original_columns].to_list(), \n",
    "                                                                                                                   anomalies_data[original_columns].iloc[i]),1))\n",
    "\n",
    "data_for_auprc = pd.concat([data_w_score, anomalies_data])"
   ]
  },
  {
   "cell_type": "code",
   "execution_count": null,
   "id": "f2de626d-0eb0-4eab-9dbe-5d932a39c4dd",
   "metadata": {},
   "outputs": [],
   "source": [
    "confusion_matrix(train_data['y'], train_data['prediction'])"
   ]
  },
  {
   "cell_type": "code",
   "execution_count": null,
   "id": "5f57cacb-dadc-4265-bfca-2969bab1d23a",
   "metadata": {},
   "outputs": [],
   "source": [
    "fpr, tpr, _ = metrics.roc_curve(data_for_auprc['y'], data_for_auprc['score'])\n",
    "dbscan_auc = metrics.auc(fpr, tpr)\n",
    "metrics.auc(fpr, tpr)"
   ]
  },
  {
   "cell_type": "code",
   "execution_count": null,
   "id": "e7c3fa84-2012-4682-8b12-3c6a8335a668",
   "metadata": {},
   "outputs": [],
   "source": [
    "dbscan_report = classification_report(train_data['y'], train_data['prediction'], target_names = ['0','1'], output_dict=True)\n",
    "print(classification_report(train_data['y'], train_data['prediction'], target_names = ['0','1']))"
   ]
  },
  {
   "cell_type": "code",
   "execution_count": null,
   "id": "e82ad8bd",
   "metadata": {},
   "outputs": [],
   "source": [
    "precision, recall, thresholds = precision_recall_curve(data_for_auprc['y'], data_for_auprc['score'])\n",
    "dbscan_auc_precision_recall = metrics.auc(recall, precision)\n",
    "print(dbscan_auc_precision_recall)"
   ]
  },
  {
   "cell_type": "markdown",
   "id": "b45ede1e",
   "metadata": {
    "jp-MarkdownHeadingCollapsed": true,
    "tags": []
   },
   "source": [
    "### CADE"
   ]
  },
  {
   "cell_type": "markdown",
   "id": "2f8e2253",
   "metadata": {},
   "source": [
    "Source: Aric LaBarr, webinar \"Modern Approaches To Anomaly Detection\", November 2, 2021"
   ]
  },
  {
   "cell_type": "code",
   "execution_count": null,
   "id": "2d7d3dac",
   "metadata": {},
   "outputs": [],
   "source": [
    "train_data = data.copy()"
   ]
  },
  {
   "cell_type": "code",
   "execution_count": null,
   "id": "7be47a6a",
   "metadata": {},
   "outputs": [],
   "source": [
    "fake = pd.DataFrame()\n",
    "data_for_fake = train_data.loc[:, train_data.columns != 'y']\n",
    "data_for_fake['Target'] = 0\n",
    "for i in data_for_fake.columns:\n",
    "    fake[i] = np.random.uniform(np.min(data_for_fake[i]), np.max(data_for_fake[i]), size = len(data_for_fake[i]))\n",
    "fake['Target'] = 1"
   ]
  },
  {
   "cell_type": "code",
   "execution_count": null,
   "id": "0d7f84b1",
   "metadata": {},
   "outputs": [],
   "source": [
    "data_combined = pd.concat([data_for_fake, fake], axis = 0)"
   ]
  },
  {
   "cell_type": "code",
   "execution_count": null,
   "id": "370e9484",
   "metadata": {},
   "outputs": [],
   "source": [
    "start = time.process_time()\n",
    "model = RandomForestClassifier(n_estimators = 100)\n",
    "model.fit(data_combined.loc[:, data_combined.columns != 'Target'],data_combined.loc[:, data_combined.columns == 'Target']['Target'] )\n",
    "train_data['Target'] = model.predict_proba(train_data.loc[:, train_data.columns != 'y'])[:,1]\n",
    "end = time.process_time()\n",
    "cade_time = end - start\n",
    "print(end - start)"
   ]
  },
  {
   "cell_type": "code",
   "execution_count": null,
   "id": "10725622",
   "metadata": {},
   "outputs": [],
   "source": [
    "auc = {}\n",
    "for i in np.arange(0,0.55,0.05):\n",
    "    train_data['prediction'] = train_data.apply(def_outlier_cade, args=(i,), axis = 1)\n",
    "    fpr, tpr, _ = metrics.roc_curve(train_data['y'], train_data['prediction'])\n",
    "    auc[i] = metrics.auc(fpr, tpr)\n",
    "max_key = max(auc, key=auc.get)"
   ]
  },
  {
   "cell_type": "code",
   "execution_count": null,
   "id": "452238b6",
   "metadata": {},
   "outputs": [],
   "source": [
    "train_data['prediction'] = train_data.apply(def_outlier_cade,args=(max_key,), axis = 1)"
   ]
  },
  {
   "cell_type": "code",
   "execution_count": null,
   "id": "d0a3ce15",
   "metadata": {},
   "outputs": [],
   "source": [
    "confusion_matrix(train_data['y'], train_data['prediction'])"
   ]
  },
  {
   "cell_type": "code",
   "execution_count": null,
   "id": "6e38b23c",
   "metadata": {},
   "outputs": [],
   "source": [
    "fpr, tpr, _ = metrics.roc_curve(train_data['y'], train_data['Target'])\n",
    "cade_auc = metrics.auc(fpr, tpr)\n",
    "metrics.auc(fpr, tpr)"
   ]
  },
  {
   "cell_type": "code",
   "execution_count": null,
   "id": "073ffd4c",
   "metadata": {},
   "outputs": [],
   "source": [
    "cade_report = classification_report(train_data['y'], train_data['prediction'], target_names = ['0','1'], output_dict=True)\n",
    "print(classification_report(train_data['y'], train_data['prediction'], target_names = ['0','1']))"
   ]
  },
  {
   "cell_type": "code",
   "execution_count": null,
   "id": "df7fed8a",
   "metadata": {},
   "outputs": [],
   "source": [
    "precision, recall, thresholds = precision_recall_curve(train_data['y'], train_data['Target'])\n",
    "cade_auc_precision_recall = metrics.auc(recall, precision)\n",
    "print(cade_auc_precision_recall)"
   ]
  },
  {
   "cell_type": "markdown",
   "id": "aa86b2f8-15a8-4a23-ac73-92bebcf8f2a3",
   "metadata": {
    "jp-MarkdownHeadingCollapsed": true,
    "tags": []
   },
   "source": [
    "### Deep Autoencoders"
   ]
  },
  {
   "cell_type": "markdown",
   "id": "73d97f13",
   "metadata": {},
   "source": [
    "Source: https://www.analyticsvidhya.com/blog/2021/05/anomaly-detection-using-autoencoders-a-walk-through-in-python/"
   ]
  },
  {
   "cell_type": "code",
   "execution_count": null,
   "id": "a3da0283-f6b1-4f85-b41a-99167994418e",
   "metadata": {},
   "outputs": [],
   "source": [
    "features = data.drop(columns = ['y'])\n",
    "target = data['y']"
   ]
  },
  {
   "cell_type": "code",
   "execution_count": null,
   "id": "42768335-ae24-4306-9480-1881cae5c5c7",
   "metadata": {},
   "outputs": [],
   "source": [
    "min_max_scaler = MinMaxScaler(feature_range=(0, 1))\n",
    "x_train_scaled = min_max_scaler.fit_transform(features.copy())"
   ]
  },
  {
   "cell_type": "code",
   "execution_count": null,
   "id": "6f870152-e401-4238-b71a-573ce1b6ae76",
   "metadata": {},
   "outputs": [],
   "source": [
    "class AutoEncoder(Model):\n",
    "\n",
    "    def __init__(self, output_units):\n",
    "        super().__init__()\n",
    "        self.encoder = Sequential([\n",
    "          Dense(83,input_dim = output_units, activation='sigmoid'),\n",
    "          Dropout(0.1),\n",
    "          Dense(41, activation='relu'),\n",
    "          Dropout(0.1),\n",
    "          Dense(20, activation='relu')\n",
    "        ])\n",
    "        self.decoder = Sequential([\n",
    "          Dense(41, activation='relu'),\n",
    "          Dropout(0.1),\n",
    "          Dense(83,  activation='relu'),\n",
    "          Dropout(0.1),\n",
    "          Dense(output_units, activation='sigmoid')\n",
    "        ])\n",
    "  \n",
    "    def call(self, inputs):\n",
    "        encoded = self.encoder(inputs)\n",
    "        decoded = self.decoder(encoded)\n",
    "        return decoded"
   ]
  },
  {
   "cell_type": "code",
   "execution_count": null,
   "id": "bef64a5e-b81d-46ce-9954-1cebff150ac4",
   "metadata": {},
   "outputs": [],
   "source": [
    "def find_threshold(model, x_train_scaled):\n",
    "    reconstructions = model.predict(x_train_scaled)\n",
    "    reconstruction_errors = tf.keras.losses.msle(reconstructions, x_train_scaled)\n",
    "    threshold = np.mean(reconstruction_errors.numpy()) + np.std(reconstruction_errors.numpy())\n",
    "    return threshold\n",
    "\n",
    "def get_predictions(model, x_train_scaled, threshold):\n",
    "    predictions = model.predict(x_train_scaled)\n",
    "    errors = tf.keras.losses.msle(predictions, x_train_scaled)\n",
    "    anomaly_mask = pd.Series(errors) > threshold\n",
    "    preds = anomaly_mask.map(lambda x: 1.0 if x == True else 0.0)\n",
    "    return preds, errors"
   ]
  },
  {
   "cell_type": "code",
   "execution_count": null,
   "id": "cde673a9-7fbe-4956-b8db-58be6f3904f5",
   "metadata": {
    "tags": []
   },
   "outputs": [],
   "source": [
    "start = time.process_time()\n",
    "\n",
    "model = AutoEncoder(output_units=x_train_scaled.shape[1])\n",
    "\n",
    "model.compile(loss='msle', metrics=['mse'], optimizer='adam')\n",
    "\n",
    "history = model.fit(\n",
    "    x_train_scaled,\n",
    "    x_train_scaled,\n",
    "    epochs=20,\n",
    "    batch_size=64,\n",
    ")\n",
    "\n",
    "threshold = find_threshold(model, x_train_scaled)\n",
    "\n",
    "predictions, scores = get_predictions(model, x_train_scaled, threshold)\n",
    "\n",
    "end = time.process_time()\n",
    "deep_autoencoders_time = end - start\n",
    "print(end - start)"
   ]
  },
  {
   "cell_type": "code",
   "execution_count": null,
   "id": "6f327309",
   "metadata": {},
   "outputs": [],
   "source": [
    "confusion_matrix(target, predictions)"
   ]
  },
  {
   "cell_type": "code",
   "execution_count": null,
   "id": "d866d81e-45cb-4f57-8561-e85d273e150d",
   "metadata": {},
   "outputs": [],
   "source": [
    "fpr, tpr, _ = metrics.roc_curve(target, scores)\n",
    "deep_autoencoders_auc = metrics.auc(fpr, tpr)\n",
    "metrics.auc(fpr, tpr)"
   ]
  },
  {
   "cell_type": "code",
   "execution_count": null,
   "id": "44e8033f-878f-4929-8465-8f86fc2d3d9b",
   "metadata": {},
   "outputs": [],
   "source": [
    "deep_autoencoders_report = classification_report(target, predictions, target_names = ['0','1'], output_dict = True)\n",
    "print(classification_report(target, predictions, target_names = ['0','1']))"
   ]
  },
  {
   "cell_type": "code",
   "execution_count": null,
   "id": "512df4ba",
   "metadata": {},
   "outputs": [],
   "source": [
    "precision, recall, thresholds = precision_recall_curve(target, scores)\n",
    "deep_ae_auc_precision_recall = metrics.auc(recall, precision)\n",
    "print(deep_ae_auc_precision_recall)"
   ]
  },
  {
   "cell_type": "markdown",
   "id": "38fc2365-ccc1-4db7-a33c-09720f08b3eb",
   "metadata": {
    "jp-MarkdownHeadingCollapsed": true,
    "tags": []
   },
   "source": [
    "### Autoencoders"
   ]
  },
  {
   "cell_type": "markdown",
   "id": "9b5bb221",
   "metadata": {},
   "source": [
    "Source: https://www.analyticsvidhya.com/blog/2021/05/anomaly-detection-using-autoencoders-a-walk-through-in-python/"
   ]
  },
  {
   "cell_type": "code",
   "execution_count": null,
   "id": "c8fbabbc-3b30-4f72-bec1-53232715885e",
   "metadata": {},
   "outputs": [],
   "source": [
    "features = data.drop(columns = ['y'])\n",
    "target = data['y']"
   ]
  },
  {
   "cell_type": "code",
   "execution_count": null,
   "id": "bb1aa30f-eae4-4664-bc35-a9be79e38b65",
   "metadata": {},
   "outputs": [],
   "source": [
    "min_max_scaler = MinMaxScaler(feature_range=(0, 1))\n",
    "x_train_scaled = min_max_scaler.fit_transform(features.copy())"
   ]
  },
  {
   "cell_type": "code",
   "execution_count": null,
   "id": "362c8df5-6adc-43b9-8e17-93bffbc3fdda",
   "metadata": {},
   "outputs": [],
   "source": [
    "class AutoEncoder(Model):\n",
    "\n",
    "    def __init__(self, output_units):\n",
    "        super().__init__()\n",
    "        self.encoder = Sequential([\n",
    "          Dense(83,input_dim = output_units, activation='relu'),\n",
    "          Dropout(0.1),\n",
    "        ])\n",
    "        self.decoder = Sequential([\n",
    "          Dense(output_units, activation='sigmoid')\n",
    "        ])\n",
    "  \n",
    "    def call(self, inputs):\n",
    "        encoded = self.encoder(inputs)\n",
    "        decoded = self.decoder(encoded)\n",
    "        return decoded"
   ]
  },
  {
   "cell_type": "code",
   "execution_count": null,
   "id": "10326c6a-685a-4d86-a619-a6ac365d35fe",
   "metadata": {},
   "outputs": [],
   "source": [
    "def find_threshold(model, x_train_scaled):\n",
    "    reconstructions = model.predict(x_train_scaled)\n",
    "    reconstruction_errors = tf.keras.losses.msle(reconstructions, x_train_scaled)\n",
    "    threshold = np.mean(reconstruction_errors.numpy()) + np.std(reconstruction_errors.numpy())\n",
    "    return threshold\n",
    "\n",
    "def get_predictions(model, x_train_scaled, threshold):\n",
    "    predictions = model.predict(x_train_scaled)\n",
    "    errors = tf.keras.losses.msle(predictions, x_train_scaled)\n",
    "    anomaly_mask = pd.Series(errors) > threshold\n",
    "    preds = anomaly_mask.map(lambda x: 1.0 if x == True else 0.0)\n",
    "    return preds, errors"
   ]
  },
  {
   "cell_type": "code",
   "execution_count": null,
   "id": "6f13e7a3-fe11-4571-a935-91e4da4e57b0",
   "metadata": {
    "tags": []
   },
   "outputs": [],
   "source": [
    "start = time.process_time()\n",
    "\n",
    "model = AutoEncoder(output_units=x_train_scaled.shape[1])\n",
    "\n",
    "model.compile(loss='msle', metrics=['mse'], optimizer='adam')\n",
    "\n",
    "history = model.fit(\n",
    "    x_train_scaled,\n",
    "    x_train_scaled,\n",
    "    epochs=20,\n",
    "    batch_size=64,\n",
    ")\n",
    "\n",
    "threshold = find_threshold(model, x_train_scaled)\n",
    "\n",
    "predictions, scores = get_predictions(model, x_train_scaled, threshold)\n",
    "\n",
    "end = time.process_time()\n",
    "autoencoders_time = end - start\n",
    "print(end - start)"
   ]
  },
  {
   "cell_type": "code",
   "execution_count": null,
   "id": "a62837b1-70a0-4058-9e4e-3d1faaecd9c7",
   "metadata": {},
   "outputs": [],
   "source": [
    "fpr, tpr, _ = metrics.roc_curve(target, scores)\n",
    "autoencoders_auc = metrics.auc(fpr, tpr)\n",
    "metrics.auc(fpr, tpr)"
   ]
  },
  {
   "cell_type": "code",
   "execution_count": null,
   "id": "f22a029f-b505-4c1d-ae46-c5dcae94f2ca",
   "metadata": {},
   "outputs": [],
   "source": [
    "autoencoders_report = classification_report(target, predictions, target_names = ['0','1'], output_dict = True)\n",
    "print(classification_report(target, predictions, target_names = ['0','1']))"
   ]
  },
  {
   "cell_type": "code",
   "execution_count": null,
   "id": "9c7c6c49",
   "metadata": {},
   "outputs": [],
   "source": [
    "precision, recall, thresholds = precision_recall_curve(target, scores)\n",
    "ae_auc_precision_recall = metrics.auc(recall, precision)\n",
    "print(ae_auc_precision_recall)"
   ]
  },
  {
   "cell_type": "markdown",
   "id": "2dc255c4-dc0d-4f1b-a777-0aeb0a6a557e",
   "metadata": {
    "jp-MarkdownHeadingCollapsed": true,
    "tags": []
   },
   "source": [
    "### One-Class SVM rbf"
   ]
  },
  {
   "cell_type": "code",
   "execution_count": null,
   "id": "34fced93-0cc0-4756-96aa-f2f9f12820e4",
   "metadata": {},
   "outputs": [],
   "source": [
    "features = data.drop(columns = ['y'])\n",
    "target = data['y']"
   ]
  },
  {
   "cell_type": "code",
   "execution_count": null,
   "id": "efc79c93-a592-4ee9-867a-b1f2db70bdec",
   "metadata": {},
   "outputs": [],
   "source": [
    "min_max_scaler = MinMaxScaler(feature_range=(0, 1))\n",
    "x_train_scaled = min_max_scaler.fit_transform(features.copy())"
   ]
  },
  {
   "cell_type": "code",
   "execution_count": null,
   "id": "02ae3ff9-dced-4c55-a615-73cc916f1be2",
   "metadata": {},
   "outputs": [],
   "source": [
    "start = time.process_time()\n",
    "\n",
    "model = OneClassSVM(gamma='scale', nu=0.1)\n",
    "model.fit(x_train_scaled)\n",
    "yhat = model.predict(x_train_scaled)\n",
    "y_scores = -model.decision_function(x_train_scaled)\n",
    "\n",
    "end = time.process_time()\n",
    "rbf_oc_svm_time = end - start\n",
    "print(end - start)"
   ]
  },
  {
   "cell_type": "code",
   "execution_count": null,
   "id": "981f5aa0-c56e-43f2-97bc-832d7810cd84",
   "metadata": {},
   "outputs": [],
   "source": [
    "predictions = pd.DataFrame(yhat, columns = ['y_pred']).apply(def_outlier, axis = 1)"
   ]
  },
  {
   "cell_type": "code",
   "execution_count": null,
   "id": "a26d0f7b-0e6f-4d3f-9ce6-27349b833271",
   "metadata": {},
   "outputs": [],
   "source": [
    "fpr, tpr, _ = metrics.roc_curve(target, y_scores)\n",
    "rbf_oc_svm_auc = metrics.auc(fpr, tpr)\n",
    "metrics.auc(fpr, tpr)"
   ]
  },
  {
   "cell_type": "code",
   "execution_count": null,
   "id": "a4f408eb-3cf8-4245-acc2-dd532d33f0f1",
   "metadata": {},
   "outputs": [],
   "source": [
    "rbf_oc_svm_report = classification_report(target, predictions, target_names = ['0','1'], output_dict = True)\n",
    "print(classification_report(target, predictions, target_names = ['0','1']))"
   ]
  },
  {
   "cell_type": "code",
   "execution_count": null,
   "id": "92e61dcc",
   "metadata": {},
   "outputs": [],
   "source": [
    "precision, recall, thresholds = precision_recall_curve(target, y_scores)\n",
    "ocsvm_rbf_auc_precision_recall = metrics.auc(recall, precision)\n",
    "print(ocsvm_rbf_auc_precision_recall)"
   ]
  },
  {
   "cell_type": "markdown",
   "id": "d88afcdb-10ef-4719-bc71-1eb3b6f709d5",
   "metadata": {
    "jp-MarkdownHeadingCollapsed": true,
    "tags": []
   },
   "source": [
    "### One-Class SVM linear"
   ]
  },
  {
   "cell_type": "code",
   "execution_count": null,
   "id": "681c446d-e35a-40b2-9e64-23c7f837166b",
   "metadata": {},
   "outputs": [],
   "source": [
    "features = data.drop(columns = ['y'])\n",
    "target = data['y']"
   ]
  },
  {
   "cell_type": "code",
   "execution_count": null,
   "id": "d6ee016c-410f-471c-b77a-a35c7a52e589",
   "metadata": {},
   "outputs": [],
   "source": [
    "min_max_scaler = MinMaxScaler(feature_range=(0, 1))\n",
    "x_train_scaled = min_max_scaler.fit_transform(features.copy())"
   ]
  },
  {
   "cell_type": "code",
   "execution_count": null,
   "id": "753f1cd8-697c-474f-ab7c-3b81859f4eef",
   "metadata": {},
   "outputs": [],
   "source": [
    "start = time.process_time()\n",
    "\n",
    "model = OneClassSVM(kernel = 'linear', nu=0.1)\n",
    "model.fit(x_train_scaled)\n",
    "yhat = model.predict(x_train_scaled)\n",
    "y_scores = -model.decision_function(x_train_scaled)\n",
    "\n",
    "end = time.process_time()\n",
    "lin_oc_svm_time = end - start\n",
    "print(end - start)"
   ]
  },
  {
   "cell_type": "code",
   "execution_count": null,
   "id": "403c30bb-e08d-4f80-b988-0766c7b9660e",
   "metadata": {},
   "outputs": [],
   "source": [
    "predictions = pd.DataFrame(yhat, columns = ['y_pred']).apply(def_outlier, axis = 1)"
   ]
  },
  {
   "cell_type": "code",
   "execution_count": null,
   "id": "f0caedb0-8142-48df-8023-9b3a8bbdc502",
   "metadata": {},
   "outputs": [],
   "source": [
    "fpr, tpr, _ = metrics.roc_curve(target, y_scores)\n",
    "lin_oc_svm_auc = metrics.auc(fpr, tpr)\n",
    "metrics.auc(fpr, tpr)"
   ]
  },
  {
   "cell_type": "code",
   "execution_count": null,
   "id": "dce5ad0f-8937-475f-82a3-8415859e7306",
   "metadata": {},
   "outputs": [],
   "source": [
    "lin_oc_svm_report = classification_report(target, predictions, target_names = ['0','1'], output_dict = True)\n",
    "print(classification_report(target, predictions, target_names = ['0','1']))"
   ]
  },
  {
   "cell_type": "code",
   "execution_count": null,
   "id": "07d0c15e",
   "metadata": {},
   "outputs": [],
   "source": [
    "precision, recall, thresholds = precision_recall_curve(target, y_scores)\n",
    "ocsvm_lin_auc_precision_recall = metrics.auc(recall, precision)\n",
    "print(ocsvm_lin_auc_precision_recall)"
   ]
  },
  {
   "cell_type": "markdown",
   "id": "f15ac190-5a64-48f3-8e63-952959aa7655",
   "metadata": {
    "jp-MarkdownHeadingCollapsed": true,
    "tags": []
   },
   "source": [
    "### Performance"
   ]
  },
  {
   "cell_type": "code",
   "execution_count": null,
   "id": "16a94e5f-7190-47e0-8c28-3fe90293c047",
   "metadata": {},
   "outputs": [],
   "source": [
    "musk_performance = pd.DataFrame(columns = ['method','f1-score','sensitivity',\n",
    "                                           'precision','Time','AUC', 'AU precision-recall curve'])"
   ]
  },
  {
   "cell_type": "code",
   "execution_count": null,
   "id": "a909677f-06b1-42bb-ac3a-ba207bf55c63",
   "metadata": {},
   "outputs": [],
   "source": [
    "iforest_performance = {'method':'iForest',\n",
    "               'f1-score':iforest_report['1']['f1-score'], \n",
    "               'sensitivity':iforest_report['1']['recall'],\n",
    "               'precision':iforest_report['1']['precision'],        \n",
    "              'Time':iforest_time,\n",
    "              'AUC':iforest_auc,\n",
    "                      'AU precision-recall curve': iforest_auc_precision_recall}\n",
    "lof_performance = {'method':'LOF',\n",
    "               'f1-score':lof_report['1']['f1-score'], \n",
    "               'sensitivity':lof_report['1']['recall'],\n",
    "               'precision':lof_report['1']['precision'],    \n",
    "              'Time':lof_time,\n",
    "              'AUC':lof_auc,\n",
    "                  'AU precision-recall curve': lof_auc_precision_recall}\n",
    "dbscan_performance = { 'method':'DBSCAN',\n",
    "               'f1-score':dbscan_report['1']['f1-score'], \n",
    "               'sensitivity':dbscan_report['1']['recall'],\n",
    "               'precision':dbscan_report['1']['precision'],       \n",
    "              'Time':dbscan_time,\n",
    "              'AUC':dbscan_auc,\n",
    "                     'AU precision-recall curve': dbscan_auc_precision_recall}\n",
    "cade_performance = { 'method':'CADE',\n",
    "               'f1-score':cade_report['1']['f1-score'], \n",
    "               'sensitivity':cade_report['1']['recall'],\n",
    "               'precision':cade_report['1']['precision'],     \n",
    "              'Time':cade_time,\n",
    "              'AUC':cade_auc,\n",
    "                   'AU precision-recall curve': cade_auc_precision_recall}\n",
    "deep_autoencoders_performance = {'method':'Deep Autoencoders',\n",
    "               'f1-score':deep_autoencoders_report['1']['f1-score'], \n",
    "               'sensitivity':deep_autoencoders_report['1']['recall'],\n",
    "               'precision':deep_autoencoders_report['1']['precision'],                  \n",
    "              'Time':deep_autoencoders_time,\n",
    "              'AUC':deep_autoencoders_auc,\n",
    "                                'AU precision-recall curve': deep_ae_auc_precision_recall}\n",
    "autoencoders_performance = {'method':'Autoencoders',\n",
    "               'f1-score':autoencoders_report['1']['f1-score'], \n",
    "               'sensitivity':autoencoders_report['1']['recall'],\n",
    "               'precision':autoencoders_report['1']['precision'],             \n",
    "              'Time':autoencoders_time,\n",
    "              'AUC':autoencoders_auc,\n",
    "                           'AU precision-recall curve': ae_auc_precision_recall}\n",
    "rbf_oc_svm_performance = {'method':'OC-SVM rbf',\n",
    "               'f1-score':rbf_oc_svm_report['1']['f1-score'], \n",
    "               'sensitivity':rbf_oc_svm_report['1']['recall'],\n",
    "               'precision':rbf_oc_svm_report['1']['precision'],           \n",
    "              'Time':rbf_oc_svm_time,\n",
    "              'AUC':rbf_oc_svm_auc,\n",
    "                         'AU precision-recall curve': ocsvm_rbf_auc_precision_recall}\n",
    "lin_oc_svm_performance = {'method':'OC-SVM linear',\n",
    "               'f1-score':lin_oc_svm_report['1']['f1-score'], \n",
    "               'sensitivity':lin_oc_svm_report['1']['recall'],\n",
    "               'precision':lin_oc_svm_report['1']['precision'],           \n",
    "              'Time':lin_oc_svm_time,\n",
    "              'AUC':lin_oc_svm_auc,\n",
    "                         'AU precision-recall curve': ocsvm_lin_auc_precision_recall}"
   ]
  },
  {
   "cell_type": "code",
   "execution_count": null,
   "id": "3fd40acd-67a7-4313-8733-22a7bcac2906",
   "metadata": {},
   "outputs": [],
   "source": [
    "musk_performance = musk_performance.append(iforest_performance, ignore_index = True)\n",
    "musk_performance = musk_performance.append(lof_performance, ignore_index = True)\n",
    "musk_performance = musk_performance.append(dbscan_performance, ignore_index = True)\n",
    "musk_performance = musk_performance.append(cade_performance, ignore_index = True)\n",
    "musk_performance = musk_performance.append(deep_autoencoders_performance, ignore_index = True)\n",
    "musk_performance = musk_performance.append(autoencoders_performance, ignore_index = True)\n",
    "musk_performance = musk_performance.append(rbf_oc_svm_performance, ignore_index = True)\n",
    "musk_performance = musk_performance.append(lin_oc_svm_performance, ignore_index = True)"
   ]
  },
  {
   "cell_type": "markdown",
   "id": "c2dced57-748e-4374-b5f8-85488e5baf9d",
   "metadata": {
    "jp-MarkdownHeadingCollapsed": true,
    "tags": []
   },
   "source": [
    "## bank "
   ]
  },
  {
   "cell_type": "markdown",
   "id": "1a793290",
   "metadata": {},
   "source": [
    "**Dataset source**: https://github.com/GuansongPang/ADRepository-Anomaly-detection-datasets/tree/main/categorical%20data\n",
    "\n",
    "Pang, G., Shen, C., Cao, L., & Hengel, A. V. D. (2021). Deep learning for anomaly detection: A review. ACM Computing Surveys (CSUR), 54(2), 1-38."
   ]
  },
  {
   "cell_type": "code",
   "execution_count": null,
   "id": "45331943-15fa-4768-a7b0-de9de07366ca",
   "metadata": {},
   "outputs": [],
   "source": [
    "data = pd.read_csv('./bank.csv')"
   ]
  },
  {
   "cell_type": "code",
   "execution_count": null,
   "id": "3d466cef-6b84-4710-bf4b-4f83fcfa54d7",
   "metadata": {
    "tags": []
   },
   "outputs": [],
   "source": [
    "data.head()"
   ]
  },
  {
   "cell_type": "code",
   "execution_count": null,
   "id": "11ca73c7-c006-4ab8-a0fc-a37ba8daff09",
   "metadata": {},
   "outputs": [],
   "source": [
    "data.shape"
   ]
  },
  {
   "cell_type": "code",
   "execution_count": null,
   "id": "199d3f42-c83b-405f-ad36-39998fd67eef",
   "metadata": {},
   "outputs": [],
   "source": [
    "pd.pivot_table(data,\n",
    "             values = 'age',\n",
    "               index = 'class', \n",
    "              aggfunc = 'count')"
   ]
  },
  {
   "cell_type": "markdown",
   "id": "d5467df1-72aa-43e1-8797-e831037a25c8",
   "metadata": {
    "jp-MarkdownHeadingCollapsed": true,
    "tags": []
   },
   "source": [
    "### iForest"
   ]
  },
  {
   "cell_type": "code",
   "execution_count": null,
   "id": "c7e1b196-7c52-4926-b82a-30179b1ba304",
   "metadata": {},
   "outputs": [],
   "source": [
    "train_data = data.copy()"
   ]
  },
  {
   "cell_type": "code",
   "execution_count": null,
   "id": "036775dd-38a8-44f3-9efa-f8c9eac677f7",
   "metadata": {},
   "outputs": [],
   "source": [
    "start = time.process_time()\n",
    "rng = np.random.RandomState(42)\n",
    "clf = IsolationForest(max_samples = 256, random_state=rng, n_estimators = 100)\n",
    "clf.fit(train_data.loc[:, train_data.columns != 'class'])\n",
    "y_pred = clf.predict(train_data.loc[:, train_data.columns != 'class'])\n",
    "y_scores = clf.score_samples(train_data.loc[:, train_data.columns != 'class'])\n",
    "end = time.process_time()\n",
    "iforest_time = end - start\n",
    "print(end - start)"
   ]
  },
  {
   "cell_type": "code",
   "execution_count": null,
   "id": "5015ce03-ceae-43cc-94ef-0e5035378a88",
   "metadata": {},
   "outputs": [],
   "source": [
    "train_data['y_pred'] = y_pred\n",
    "train_data['prediction'] = train_data.apply(def_outlier, axis = 1)\n",
    "train_data['y_scores'] = -y_scores"
   ]
  },
  {
   "cell_type": "code",
   "execution_count": null,
   "id": "94fe90fc-98ab-4d4c-8010-1f46add0841a",
   "metadata": {},
   "outputs": [],
   "source": [
    "confusion_matrix(train_data['class'], train_data['prediction'])"
   ]
  },
  {
   "cell_type": "code",
   "execution_count": null,
   "id": "2005c6f0-a30a-49e3-ae95-d3eb92a98ad1",
   "metadata": {},
   "outputs": [],
   "source": [
    "fpr, tpr, _ = metrics.roc_curve(train_data['class'], train_data['y_scores'])\n",
    "iforest_auc = metrics.auc(fpr, tpr)\n",
    "metrics.auc(fpr, tpr)"
   ]
  },
  {
   "cell_type": "code",
   "execution_count": null,
   "id": "c3e59324-e3e3-41ff-89e5-723169429098",
   "metadata": {},
   "outputs": [],
   "source": [
    "iforest_report = classification_report(train_data['class'], train_data['prediction'], target_names = ['0','1'], output_dict=True)\n",
    "print(classification_report(train_data['class'], train_data['prediction'], target_names = ['0','1']))"
   ]
  },
  {
   "cell_type": "code",
   "execution_count": null,
   "id": "73c08e27",
   "metadata": {},
   "outputs": [],
   "source": [
    "precision, recall, thresholds = precision_recall_curve(train_data['class'], train_data['y_scores'])\n",
    "iforest_auc_precision_recall = metrics.auc(recall, precision)\n",
    "print(iforest_auc_precision_recall)"
   ]
  },
  {
   "cell_type": "markdown",
   "id": "c29a00ca-9007-4cb6-a8ec-96414fa64a66",
   "metadata": {
    "jp-MarkdownHeadingCollapsed": true,
    "tags": []
   },
   "source": [
    "### LOF"
   ]
  },
  {
   "cell_type": "code",
   "execution_count": null,
   "id": "2c0bbf91-46c6-4e52-927c-593f87355a16",
   "metadata": {},
   "outputs": [],
   "source": [
    "min_max_scaler = MinMaxScaler(feature_range=(0, 1))\n",
    "train_data = min_max_scaler.fit_transform(data.copy())\n",
    "train_data = pd.DataFrame(train_data)\n",
    "train_data.columns = data.columns"
   ]
  },
  {
   "cell_type": "code",
   "execution_count": null,
   "id": "e4191697-2ecd-4987-a294-150a83e4d7ee",
   "metadata": {},
   "outputs": [],
   "source": [
    "start = time.process_time()\n",
    "lof = LocalOutlierFactor(n_neighbors=412, contamination=.1)\n",
    "y_pred = lof.fit_predict(train_data.loc[:, train_data.columns != 'class'])\n",
    "y_scores = lof.negative_outlier_factor_\n",
    "end = time.process_time()\n",
    "lof_time = end - start\n",
    "print(end - start)"
   ]
  },
  {
   "cell_type": "code",
   "execution_count": null,
   "id": "4e9ec257-66d0-492f-8ffe-4f22811d3077",
   "metadata": {},
   "outputs": [],
   "source": [
    "train_data['y_pred'] = y_pred\n",
    "train_data['prediction'] = train_data.apply(def_outlier, axis = 1)\n",
    "train_data['y_scores'] = -y_scores"
   ]
  },
  {
   "cell_type": "code",
   "execution_count": null,
   "id": "6235e0c4-28be-4c23-8a7b-53b7bbf3545a",
   "metadata": {},
   "outputs": [],
   "source": [
    "confusion_matrix(train_data['class'], train_data['prediction'])"
   ]
  },
  {
   "cell_type": "code",
   "execution_count": null,
   "id": "41f1632a-6935-4e42-aa25-c9c0427c38c4",
   "metadata": {},
   "outputs": [],
   "source": [
    "fpr, tpr, _ = metrics.roc_curve(train_data['class'], train_data['y_scores'])\n",
    "lof_auc = metrics.auc(fpr, tpr)\n",
    "metrics.auc(fpr, tpr)"
   ]
  },
  {
   "cell_type": "code",
   "execution_count": null,
   "id": "775596e4-b68d-4292-8a21-cfbf3ecc425b",
   "metadata": {},
   "outputs": [],
   "source": [
    "lof_report = classification_report(train_data['class'], train_data['prediction'], target_names = ['0','1'], output_dict=True)\n",
    "print(classification_report(train_data['class'], train_data['prediction'], target_names = ['0','1']))"
   ]
  },
  {
   "cell_type": "code",
   "execution_count": null,
   "id": "c59cf380",
   "metadata": {},
   "outputs": [],
   "source": [
    "precision, recall, thresholds = precision_recall_curve(train_data['class'], train_data['y_scores'])\n",
    "lof_auc_precision_recall = metrics.auc(recall, precision)\n",
    "print(lof_auc_precision_recall)"
   ]
  },
  {
   "cell_type": "markdown",
   "id": "c49976a8-2df3-4d5e-b857-e8636c7964ec",
   "metadata": {
    "jp-MarkdownHeadingCollapsed": true,
    "tags": []
   },
   "source": [
    "### DBSCAN"
   ]
  },
  {
   "cell_type": "code",
   "execution_count": null,
   "id": "e9a6a830-6c00-45ca-8f1b-2cb7115ee1b5",
   "metadata": {},
   "outputs": [],
   "source": [
    "min_max_scaler = MinMaxScaler(feature_range=(0, 1))\n",
    "train_data = min_max_scaler.fit_transform(data.copy())\n",
    "train_data = pd.DataFrame(train_data)\n",
    "train_data.columns = data.columns"
   ]
  },
  {
   "cell_type": "code",
   "execution_count": null,
   "id": "dd164ab4-b982-4c47-b525-77636a2fa80c",
   "metadata": {},
   "outputs": [],
   "source": [
    "dist = dbscan_tuner(train_data,123)"
   ]
  },
  {
   "cell_type": "code",
   "execution_count": null,
   "id": "a812e0c6-bac9-43c5-abb2-5d4f7a20a599",
   "metadata": {},
   "outputs": [],
   "source": [
    "start = time.process_time()\n",
    "dbscan = DBSCAN(eps = 2, min_samples = 124)\n",
    "clusters = dbscan.fit_predict(train_data.loc[:, train_data.columns != 'class'])\n",
    "end = time.process_time()\n",
    "dbscan_time = end - start\n",
    "print(end - start)"
   ]
  },
  {
   "cell_type": "code",
   "execution_count": null,
   "id": "1a907568-f1e2-43e6-b5b6-62ce846367e3",
   "metadata": {},
   "outputs": [],
   "source": [
    "train_data['y_pred'] = clusters\n",
    "train_data['prediction'] = train_data.apply(def_outlier, axis = 1)"
   ]
  },
  {
   "cell_type": "code",
   "execution_count": null,
   "id": "82242462",
   "metadata": {},
   "outputs": [],
   "source": [
    "original_columns = data.columns.to_list()\n",
    "original_columns.remove('class')\n",
    "\n",
    "data_w_score = pd.DataFrame(columns = train_data.columns.to_list())\n",
    "data_w_score['score'] = pd.NaT\n",
    "for i in set(clusters):\n",
    "    if i == -1:\n",
    "        continue\n",
    "    score_data = train_data[train_data['y_pred'] == i].copy()\n",
    "    center = score_data[original_columns].mean().to_list()\n",
    "    score_data['score'] = score_data.apply(lambda x : distance.euclidean(x[original_columns].to_list(), center),1)\n",
    "    data_w_score = data_w_score.append(score_data.copy(), ignore_index = True)\n",
    "\n",
    "anomalies_data = train_data[train_data['y_pred'] == -1].copy()\n",
    "anomalies_data['score'] = ''\n",
    "cluster_centers = pd.pivot_table(train_data,\n",
    "              index = 'y_pred',\n",
    "              aggfunc = 'mean')"
   ]
  },
  {
   "cell_type": "code",
   "execution_count": null,
   "id": "864a191e",
   "metadata": {},
   "outputs": [],
   "source": [
    "for i in range(len(anomalies_data)):\n",
    "    anomalies_data['score'].iloc[i] = np.min(cluster_centers[cluster_centers.index != -1].apply(lambda x : \n",
    "                                                                                                distance.euclidean(x[original_columns].to_list(), \n",
    "                                                                                                                   anomalies_data[original_columns].iloc[i]),1))\n",
    "\n",
    "data_for_auprc = pd.concat([data_w_score, anomalies_data])"
   ]
  },
  {
   "cell_type": "code",
   "execution_count": null,
   "id": "13385167-c7ff-40f7-802b-00f248c61e5f",
   "metadata": {},
   "outputs": [],
   "source": [
    "confusion_matrix(train_data['class'], train_data['prediction'])"
   ]
  },
  {
   "cell_type": "code",
   "execution_count": null,
   "id": "369a53d0-ad27-4030-bdf0-cdc5cc2632e4",
   "metadata": {},
   "outputs": [],
   "source": [
    "fpr, tpr, _ = metrics.roc_curve(data_for_auprc['class'], data_for_auprc['score'])\n",
    "dbscan_auc = metrics.auc(fpr, tpr)\n",
    "metrics.auc(fpr, tpr)"
   ]
  },
  {
   "cell_type": "code",
   "execution_count": null,
   "id": "741cc231-b7ec-4e4c-88db-910d1a43fbd2",
   "metadata": {},
   "outputs": [],
   "source": [
    "dbscan_report = classification_report(train_data['class'], train_data['prediction'], target_names = ['0','1'], output_dict=True)\n",
    "print(classification_report(train_data['class'], train_data['prediction'], target_names = ['0','1']))"
   ]
  },
  {
   "cell_type": "code",
   "execution_count": null,
   "id": "fec84e03",
   "metadata": {},
   "outputs": [],
   "source": [
    "precision, recall, thresholds = precision_recall_curve(data_for_auprc['class'], data_for_auprc['score'])\n",
    "dbscan_auc_precision_recall = metrics.auc(recall, precision)\n",
    "print(dbscan_auc_precision_recall)"
   ]
  },
  {
   "cell_type": "markdown",
   "id": "64a19675-366c-414a-92e2-e8a0855c752e",
   "metadata": {
    "jp-MarkdownHeadingCollapsed": true,
    "tags": []
   },
   "source": [
    "### CADE"
   ]
  },
  {
   "cell_type": "markdown",
   "id": "ff0d0e9b",
   "metadata": {},
   "source": [
    "Source: Aric LaBarr, webinar \"Modern Approaches To Anomaly Detection\", November 2, 2021"
   ]
  },
  {
   "cell_type": "code",
   "execution_count": null,
   "id": "5d23dce6-8814-432b-b7e0-0a53a2515475",
   "metadata": {},
   "outputs": [],
   "source": [
    "train_data = data.copy()"
   ]
  },
  {
   "cell_type": "code",
   "execution_count": null,
   "id": "adf34fd8-1796-4f42-bd92-5a5680d99c9f",
   "metadata": {},
   "outputs": [],
   "source": [
    "fake = pd.DataFrame()\n",
    "data_for_fake = train_data.loc[:, train_data.columns != 'class']\n",
    "data_for_fake['Target'] = 0\n",
    "for i in data_for_fake.columns:\n",
    "    fake[i] = np.random.uniform(np.min(data_for_fake[i]), np.max(data_for_fake[i]), size = len(data_for_fake[i]))\n",
    "fake['Target'] = 1"
   ]
  },
  {
   "cell_type": "code",
   "execution_count": null,
   "id": "987100dc-f544-4a72-8857-0574458f56bb",
   "metadata": {},
   "outputs": [],
   "source": [
    "data_combined = pd.concat([data_for_fake, fake], axis = 0)"
   ]
  },
  {
   "cell_type": "code",
   "execution_count": null,
   "id": "f25ae7c1-0884-4217-8028-02e26494b02c",
   "metadata": {},
   "outputs": [],
   "source": [
    "start = time.process_time()\n",
    "model = RandomForestClassifier(n_estimators = 100)\n",
    "model.fit(data_combined.loc[:, data_combined.columns != 'Target'],data_combined.loc[:, data_combined.columns == 'Target']['Target'] )\n",
    "train_data['Target'] = model.predict_proba(train_data.loc[:, train_data.columns != 'class'])[:,1]\n",
    "end = time.process_time()\n",
    "cade_time = end - start\n",
    "print(end - start)"
   ]
  },
  {
   "cell_type": "code",
   "execution_count": null,
   "id": "55d3d2ca-9a02-4556-9e68-6752c8375679",
   "metadata": {},
   "outputs": [],
   "source": [
    "auc = {}\n",
    "for i in np.arange(0,0.55,0.05):\n",
    "    train_data['prediction'] = train_data.apply(def_outlier_cade, args=(i,), axis = 1)\n",
    "    fpr, tpr, _ = metrics.roc_curve(train_data['class'], train_data['prediction'])\n",
    "    auc[i] = metrics.auc(fpr, tpr)\n",
    "max_key = max(auc, key=auc.get)"
   ]
  },
  {
   "cell_type": "code",
   "execution_count": null,
   "id": "def3d5ec-b28b-4879-a387-d73d2bc6d414",
   "metadata": {},
   "outputs": [],
   "source": [
    "train_data['prediction'] = train_data.apply(def_outlier_cade,args=(max_key,), axis = 1)"
   ]
  },
  {
   "cell_type": "code",
   "execution_count": null,
   "id": "bba66340-fe99-49d6-967c-4593e75c2037",
   "metadata": {},
   "outputs": [],
   "source": [
    "confusion_matrix(train_data['class'], train_data['prediction'])"
   ]
  },
  {
   "cell_type": "code",
   "execution_count": null,
   "id": "30c6ddde-51ee-4871-8e03-172187af8d16",
   "metadata": {},
   "outputs": [],
   "source": [
    "fpr, tpr, _ = metrics.roc_curve(train_data['class'], train_data['Target'])\n",
    "cade_auc = metrics.auc(fpr, tpr)\n",
    "metrics.auc(fpr, tpr)"
   ]
  },
  {
   "cell_type": "code",
   "execution_count": null,
   "id": "52abf871-9cc6-4121-ac6e-d753eafc2623",
   "metadata": {},
   "outputs": [],
   "source": [
    "cade_report = classification_report(train_data['class'], train_data['prediction'], target_names = ['0','1'], output_dict=True)\n",
    "print(classification_report(train_data['class'], train_data['prediction'], target_names = ['0','1']))"
   ]
  },
  {
   "cell_type": "code",
   "execution_count": null,
   "id": "1281058a",
   "metadata": {},
   "outputs": [],
   "source": [
    "precision, recall, thresholds = precision_recall_curve(train_data['class'], train_data['Target'])\n",
    "cade_auc_precision_recall = metrics.auc(recall, precision)\n",
    "print(cade_auc_precision_recall)"
   ]
  },
  {
   "cell_type": "markdown",
   "id": "2d20ecd4-8c08-495e-8f53-974500415e0f",
   "metadata": {
    "jp-MarkdownHeadingCollapsed": true,
    "tags": []
   },
   "source": [
    "### Deep Autoencoders"
   ]
  },
  {
   "cell_type": "markdown",
   "id": "a8d3c55b",
   "metadata": {},
   "source": [
    "Source: https://www.analyticsvidhya.com/blog/2021/05/anomaly-detection-using-autoencoders-a-walk-through-in-python/"
   ]
  },
  {
   "cell_type": "code",
   "execution_count": null,
   "id": "b394067a-5838-44c0-b926-8e847358af63",
   "metadata": {},
   "outputs": [],
   "source": [
    "features = data.drop(columns = ['class'])\n",
    "target = data['class']"
   ]
  },
  {
   "cell_type": "code",
   "execution_count": null,
   "id": "08b2a337-8c8e-4d0b-8682-c73e3c660f8a",
   "metadata": {},
   "outputs": [],
   "source": [
    "min_max_scaler = MinMaxScaler(feature_range=(0, 1))\n",
    "x_train_scaled = min_max_scaler.fit_transform(features.copy())"
   ]
  },
  {
   "cell_type": "code",
   "execution_count": null,
   "id": "af69e37d-89df-4861-ae4e-54ead85464b6",
   "metadata": {},
   "outputs": [],
   "source": [
    "class AutoEncoder(Model):\n",
    "\n",
    "    def __init__(self, output_units):\n",
    "        super().__init__()\n",
    "        self.encoder = Sequential([\n",
    "          Dense(31,input_dim = output_units, activation='sigmoid'),\n",
    "          Dropout(0.1),\n",
    "          Dense(15, activation='relu'),\n",
    "          Dropout(0.1),\n",
    "          Dense(7, activation='relu')\n",
    "        ])\n",
    "        self.decoder = Sequential([\n",
    "          Dense(15, activation='relu'),\n",
    "          Dropout(0.1),\n",
    "          Dense(31,  activation='relu'),\n",
    "          Dropout(0.1),\n",
    "          Dense(output_units, activation='sigmoid')\n",
    "        ])\n",
    "  \n",
    "    def call(self, inputs):\n",
    "        encoded = self.encoder(inputs)\n",
    "        decoded = self.decoder(encoded)\n",
    "        return decoded"
   ]
  },
  {
   "cell_type": "code",
   "execution_count": null,
   "id": "992632db-5987-4ad7-96c8-bad7c72ee88d",
   "metadata": {},
   "outputs": [],
   "source": [
    "def find_threshold(model, x_train_scaled):\n",
    "    reconstructions = model.predict(x_train_scaled)\n",
    "    reconstruction_errors = tf.keras.losses.msle(reconstructions, x_train_scaled)\n",
    "    threshold = np.mean(reconstruction_errors.numpy()) + np.std(reconstruction_errors.numpy())\n",
    "    return threshold\n",
    "\n",
    "def get_predictions(model, x_train_scaled, threshold):\n",
    "    predictions = model.predict(x_train_scaled)\n",
    "    errors = tf.keras.losses.msle(predictions, x_train_scaled)\n",
    "    anomaly_mask = pd.Series(errors) > threshold\n",
    "    preds = anomaly_mask.map(lambda x: 1.0 if x == True else 0.0)\n",
    "    return preds, errors"
   ]
  },
  {
   "cell_type": "code",
   "execution_count": null,
   "id": "8c9aa736-53da-4cd3-8bb6-6ab696acc9d4",
   "metadata": {},
   "outputs": [],
   "source": [
    "start = time.process_time()\n",
    "\n",
    "model = AutoEncoder(output_units=x_train_scaled.shape[1])\n",
    "\n",
    "model.compile(loss='msle', metrics=['mse'], optimizer='adam')\n",
    "\n",
    "history = model.fit(\n",
    "    x_train_scaled,\n",
    "    x_train_scaled,\n",
    "    epochs=20,\n",
    "    batch_size=512,\n",
    ")\n",
    "\n",
    "threshold = find_threshold(model, x_train_scaled)\n",
    "\n",
    "predictions, scores = get_predictions(model, x_train_scaled, threshold)\n",
    "\n",
    "end = time.process_time()\n",
    "deep_autoencoders_time = end - start\n",
    "print(end - start)"
   ]
  },
  {
   "cell_type": "code",
   "execution_count": null,
   "id": "1c6a1cbd-7e3e-4f72-8448-48d60fa9510f",
   "metadata": {},
   "outputs": [],
   "source": [
    "fpr, tpr, _ = metrics.roc_curve(target, scores)\n",
    "deep_autoencoders_auc = metrics.auc(fpr, tpr)\n",
    "metrics.auc(fpr, tpr)"
   ]
  },
  {
   "cell_type": "code",
   "execution_count": null,
   "id": "931cf789-90a8-4595-8ee5-acc09f89aa74",
   "metadata": {},
   "outputs": [],
   "source": [
    "deep_autoencoders_report = classification_report(target, predictions, target_names = ['0','1'], output_dict = True)\n",
    "print(classification_report(target, predictions, target_names = ['0','1']))"
   ]
  },
  {
   "cell_type": "code",
   "execution_count": null,
   "id": "2ae7b326",
   "metadata": {},
   "outputs": [],
   "source": [
    "precision, recall, thresholds = precision_recall_curve(target, scores)\n",
    "deep_ae_auc_precision_recall = metrics.auc(recall, precision)\n",
    "print(deep_ae_auc_precision_recall)"
   ]
  },
  {
   "cell_type": "markdown",
   "id": "effdf312-70cd-4695-b3a8-92cb4ec56ba3",
   "metadata": {
    "jp-MarkdownHeadingCollapsed": true,
    "tags": []
   },
   "source": [
    "### Autoencoders"
   ]
  },
  {
   "cell_type": "markdown",
   "id": "632fc65f",
   "metadata": {},
   "source": [
    "Source: https://www.analyticsvidhya.com/blog/2021/05/anomaly-detection-using-autoencoders-a-walk-through-in-python/"
   ]
  },
  {
   "cell_type": "code",
   "execution_count": null,
   "id": "0dca889f-4811-4cc7-aa96-9f6ec73af73f",
   "metadata": {},
   "outputs": [],
   "source": [
    "features = data.drop(columns = ['class'])\n",
    "target = data['class']"
   ]
  },
  {
   "cell_type": "code",
   "execution_count": null,
   "id": "87e6e291-e9cd-4db7-ae18-0f5ae1928eb3",
   "metadata": {},
   "outputs": [],
   "source": [
    "min_max_scaler = MinMaxScaler(feature_range=(0, 1))\n",
    "x_train_scaled = min_max_scaler.fit_transform(features.copy())"
   ]
  },
  {
   "cell_type": "code",
   "execution_count": null,
   "id": "0358808f-e09b-48af-bde1-ccb888a068b2",
   "metadata": {},
   "outputs": [],
   "source": [
    "class AutoEncoder(Model):\n",
    "\n",
    "    def __init__(self, output_units):\n",
    "        super().__init__()\n",
    "        self.encoder = Sequential([\n",
    "          Dense(31,input_dim = output_units, activation='relu'),\n",
    "          Dropout(0.1),\n",
    "        ])\n",
    "        self.decoder = Sequential([\n",
    "          Dense(output_units, activation='sigmoid')\n",
    "        ])\n",
    "  \n",
    "    def call(self, inputs):\n",
    "        encoded = self.encoder(inputs)\n",
    "        decoded = self.decoder(encoded)\n",
    "        return decoded"
   ]
  },
  {
   "cell_type": "code",
   "execution_count": null,
   "id": "4aacda08-174a-4965-a156-8f4359d31a54",
   "metadata": {},
   "outputs": [],
   "source": [
    "def find_threshold(model, x_train_scaled):\n",
    "    reconstructions = model.predict(x_train_scaled)\n",
    "    reconstruction_errors = tf.keras.losses.msle(reconstructions, x_train_scaled)\n",
    "    threshold = np.mean(reconstruction_errors.numpy()) + np.std(reconstruction_errors.numpy())\n",
    "    return threshold\n",
    "\n",
    "def get_predictions(model, x_train_scaled, threshold):\n",
    "    predictions = model.predict(x_train_scaled)\n",
    "    errors = tf.keras.losses.msle(predictions, x_train_scaled)\n",
    "    anomaly_mask = pd.Series(errors) > threshold\n",
    "    preds = anomaly_mask.map(lambda x: 1.0 if x == True else 0.0)\n",
    "    return preds, errors"
   ]
  },
  {
   "cell_type": "code",
   "execution_count": null,
   "id": "b03bcaef-abca-4165-a51b-3d269730a579",
   "metadata": {},
   "outputs": [],
   "source": [
    "start = time.process_time()\n",
    "\n",
    "model = AutoEncoder(output_units=x_train_scaled.shape[1])\n",
    "\n",
    "model.compile(loss='msle', metrics=['mse'], optimizer='adam')\n",
    "\n",
    "history = model.fit(\n",
    "    x_train_scaled,\n",
    "    x_train_scaled,\n",
    "    epochs=20,\n",
    "    batch_size=512,\n",
    ")\n",
    "\n",
    "threshold = find_threshold(model, x_train_scaled)\n",
    "\n",
    "predictions, scores = get_predictions(model, x_train_scaled, threshold)\n",
    "\n",
    "end = time.process_time()\n",
    "autoencoders_time = end - start\n",
    "print(end - start)"
   ]
  },
  {
   "cell_type": "code",
   "execution_count": null,
   "id": "4a9e15ec-bb2d-4334-9688-6f9065bd8041",
   "metadata": {},
   "outputs": [],
   "source": [
    "fpr, tpr, _ = metrics.roc_curve(target, scores)\n",
    "autoencoders_auc = metrics.auc(fpr, tpr)\n",
    "metrics.auc(fpr, tpr)"
   ]
  },
  {
   "cell_type": "code",
   "execution_count": null,
   "id": "92b0d443-eb83-49b2-9203-cfbd8e544d28",
   "metadata": {},
   "outputs": [],
   "source": [
    "autoencoders_report = classification_report(target, predictions, target_names = ['0','1'], output_dict = True)\n",
    "print(classification_report(target, predictions, target_names = ['0','1']))"
   ]
  },
  {
   "cell_type": "code",
   "execution_count": null,
   "id": "6c544786",
   "metadata": {},
   "outputs": [],
   "source": [
    "precision, recall, thresholds = precision_recall_curve(target, scores)\n",
    "ae_auc_precision_recall = metrics.auc(recall, precision)\n",
    "print(ae_auc_precision_recall)"
   ]
  },
  {
   "cell_type": "markdown",
   "id": "0ba48594-1320-4c0c-91d4-782e36150f87",
   "metadata": {
    "jp-MarkdownHeadingCollapsed": true,
    "tags": []
   },
   "source": [
    "### One-Class SVM rbf"
   ]
  },
  {
   "cell_type": "code",
   "execution_count": null,
   "id": "48316ad1-703d-4d2b-bc3b-d2f009dd4520",
   "metadata": {},
   "outputs": [],
   "source": [
    "features = data.drop(columns = ['class'])\n",
    "target = data['class']"
   ]
  },
  {
   "cell_type": "code",
   "execution_count": null,
   "id": "d84ad500-0187-422b-927d-27119029cc74",
   "metadata": {},
   "outputs": [],
   "source": [
    "min_max_scaler = MinMaxScaler(feature_range=(0, 1))\n",
    "x_train_scaled = min_max_scaler.fit_transform(features.copy())"
   ]
  },
  {
   "cell_type": "code",
   "execution_count": null,
   "id": "f7761037-9ffc-44da-9987-1fd2d9a0f98a",
   "metadata": {},
   "outputs": [],
   "source": [
    "start = time.process_time()\n",
    "\n",
    "model = OneClassSVM(gamma='scale', nu=0.1)\n",
    "model.fit(x_train_scaled)\n",
    "yhat = model.predict(x_train_scaled)\n",
    "y_scores = -model.decision_function(x_train_scaled)\n",
    "\n",
    "end = time.process_time()\n",
    "rbf_oc_svm_time = end - start\n",
    "print(end - start)"
   ]
  },
  {
   "cell_type": "code",
   "execution_count": null,
   "id": "48f48b9b-3286-462a-ae70-3719ad92d3cb",
   "metadata": {},
   "outputs": [],
   "source": [
    "predictions = pd.DataFrame(yhat, columns = ['y_pred']).apply(def_outlier, axis = 1)"
   ]
  },
  {
   "cell_type": "code",
   "execution_count": null,
   "id": "8b266839-26a8-4ec8-9f7f-6b33de9bec02",
   "metadata": {},
   "outputs": [],
   "source": [
    "fpr, tpr, _ = metrics.roc_curve(target, y_scores)\n",
    "rbf_oc_svm_auc = metrics.auc(fpr, tpr)\n",
    "metrics.auc(fpr, tpr)"
   ]
  },
  {
   "cell_type": "code",
   "execution_count": null,
   "id": "18d3796a-9c2b-4380-9a8c-39a9052a6693",
   "metadata": {},
   "outputs": [],
   "source": [
    "rbf_oc_svm_report = classification_report(target, predictions, target_names = ['0','1'], output_dict = True)\n",
    "print(classification_report(target, predictions, target_names = ['0','1']))"
   ]
  },
  {
   "cell_type": "code",
   "execution_count": null,
   "id": "fbaabbd8",
   "metadata": {},
   "outputs": [],
   "source": [
    "precision, recall, thresholds = precision_recall_curve(target, y_scores)\n",
    "ocsvm_rbf_auc_precision_recall = metrics.auc(recall, precision)\n",
    "print(ocsvm_rbf_auc_precision_recall)"
   ]
  },
  {
   "cell_type": "markdown",
   "id": "e97644b1-9fe0-4fdb-9c2f-331592bf6b2a",
   "metadata": {
    "jp-MarkdownHeadingCollapsed": true,
    "tags": []
   },
   "source": [
    "### One-Class SVM linear"
   ]
  },
  {
   "cell_type": "code",
   "execution_count": null,
   "id": "22748558-ec87-4e76-b0e6-701afe1d9a06",
   "metadata": {},
   "outputs": [],
   "source": [
    "features = data.drop(columns = ['class'])\n",
    "target = data['class']"
   ]
  },
  {
   "cell_type": "code",
   "execution_count": null,
   "id": "42d5fe6b-5247-417e-8e68-29e04bfdf765",
   "metadata": {},
   "outputs": [],
   "source": [
    "min_max_scaler = MinMaxScaler(feature_range=(0, 1))\n",
    "x_train_scaled = min_max_scaler.fit_transform(features.copy())"
   ]
  },
  {
   "cell_type": "code",
   "execution_count": null,
   "id": "14f031a8-c6fc-4e78-b739-28ed73a4fc2b",
   "metadata": {},
   "outputs": [],
   "source": [
    "start = time.process_time()\n",
    "\n",
    "model = OneClassSVM(kernel = 'linear', nu=0.1)\n",
    "model.fit(x_train_scaled)\n",
    "yhat = model.predict(x_train_scaled)\n",
    "y_scores = -model.decision_function(x_train_scaled)\n",
    "\n",
    "end = time.process_time()\n",
    "lin_oc_svm_time = end - start\n",
    "print(end - start)"
   ]
  },
  {
   "cell_type": "code",
   "execution_count": null,
   "id": "09c92c11-a63f-4622-adea-5d0216efd6ef",
   "metadata": {},
   "outputs": [],
   "source": [
    "predictions = pd.DataFrame(yhat, columns = ['y_pred']).apply(def_outlier, axis = 1)"
   ]
  },
  {
   "cell_type": "code",
   "execution_count": null,
   "id": "b602d735-c3a1-4b00-bede-dd8f1cab19b5",
   "metadata": {},
   "outputs": [],
   "source": [
    "fpr, tpr, _ = metrics.roc_curve(target, y_scores)\n",
    "lin_oc_svm_auc = metrics.auc(fpr, tpr)\n",
    "metrics.auc(fpr, tpr)"
   ]
  },
  {
   "cell_type": "code",
   "execution_count": null,
   "id": "325af7bb-483c-4676-b635-1cd22b72b310",
   "metadata": {},
   "outputs": [],
   "source": [
    "lin_oc_svm_report = classification_report(target, predictions, target_names = ['0','1'], output_dict = True)\n",
    "print(classification_report(target, predictions, target_names = ['0','1']))"
   ]
  },
  {
   "cell_type": "code",
   "execution_count": null,
   "id": "0f3f73cd",
   "metadata": {},
   "outputs": [],
   "source": [
    "precision, recall, thresholds = precision_recall_curve(target, y_scores)\n",
    "ocsvm_lin_auc_precision_recall = metrics.auc(recall, precision)\n",
    "print(ocsvm_lin_auc_precision_recall)"
   ]
  },
  {
   "cell_type": "markdown",
   "id": "4e2590b8-8c44-49f8-abf4-00c2107ba087",
   "metadata": {
    "jp-MarkdownHeadingCollapsed": true,
    "tags": []
   },
   "source": [
    "### Performance"
   ]
  },
  {
   "cell_type": "code",
   "execution_count": null,
   "id": "a51aa981-43c0-4a6b-899b-35cae3c499e1",
   "metadata": {},
   "outputs": [],
   "source": [
    "bank_performance = pd.DataFrame(columns = ['method','f1-score','sensitivity',\n",
    "                                           'precision','Time','AUC','AU precision-recall curve'])"
   ]
  },
  {
   "cell_type": "code",
   "execution_count": null,
   "id": "22ee6b46-32ba-43ee-a902-93c9d90c3b19",
   "metadata": {},
   "outputs": [],
   "source": [
    "iforest_performance = {'method':'iForest',\n",
    "               'f1-score':iforest_report['1']['f1-score'], \n",
    "               'sensitivity':iforest_report['1']['recall'],\n",
    "               'precision':iforest_report['1']['precision'],        \n",
    "              'Time':iforest_time,\n",
    "              'AUC':iforest_auc,\n",
    "                      'AU precision-recall curve': iforest_auc_precision_recall}\n",
    "lof_performance = {'method':'LOF',\n",
    "               'f1-score':lof_report['1']['f1-score'], \n",
    "               'sensitivity':lof_report['1']['recall'],\n",
    "               'precision':lof_report['1']['precision'],    \n",
    "              'Time':lof_time,\n",
    "              'AUC':lof_auc,\n",
    "                  'AU precision-recall curve': lof_auc_precision_recall}\n",
    "dbscan_performance = { 'method':'DBSCAN',\n",
    "               'f1-score':dbscan_report['1']['f1-score'], \n",
    "               'sensitivity':dbscan_report['1']['recall'],\n",
    "               'precision':dbscan_report['1']['precision'],       \n",
    "              'Time':dbscan_time,\n",
    "              'AUC':dbscan_auc,\n",
    "                     'AU precision-recall curve': dbscan_auc_precision_recall}\n",
    "cade_performance = { 'method':'CADE',\n",
    "               'f1-score':cade_report['1']['f1-score'], \n",
    "               'sensitivity':cade_report['1']['recall'],\n",
    "               'precision':cade_report['1']['precision'],     \n",
    "              'Time':cade_time,\n",
    "              'AUC':cade_auc,\n",
    "                   'AU precision-recall curve': cade_auc_precision_recall}\n",
    "deep_autoencoders_performance = {'method':'Deep Autoencoders',\n",
    "               'f1-score':deep_autoencoders_report['1']['f1-score'], \n",
    "               'sensitivity':deep_autoencoders_report['1']['recall'],\n",
    "               'precision':deep_autoencoders_report['1']['precision'],                  \n",
    "              'Time':deep_autoencoders_time,\n",
    "              'AUC':deep_autoencoders_auc,\n",
    "                                'AU precision-recall curve': deep_ae_auc_precision_recall}\n",
    "autoencoders_performance = {'method':'Autoencoders',\n",
    "               'f1-score':autoencoders_report['1']['f1-score'], \n",
    "               'sensitivity':autoencoders_report['1']['recall'],\n",
    "               'precision':autoencoders_report['1']['precision'],             \n",
    "              'Time':autoencoders_time,\n",
    "              'AUC':autoencoders_auc,\n",
    "                           'AU precision-recall curve': ae_auc_precision_recall}\n",
    "rbf_oc_svm_performance = {'method':'OC-SVM rbf',\n",
    "               'f1-score':rbf_oc_svm_report['1']['f1-score'], \n",
    "               'sensitivity':rbf_oc_svm_report['1']['recall'],\n",
    "               'precision':rbf_oc_svm_report['1']['precision'],           \n",
    "              'Time':rbf_oc_svm_time,\n",
    "              'AUC':rbf_oc_svm_auc,\n",
    "                         'AU precision-recall curve': ocsvm_rbf_auc_precision_recall}\n",
    "lin_oc_svm_performance = {'method':'OC-SVM linear',\n",
    "               'f1-score':lin_oc_svm_report['1']['f1-score'], \n",
    "               'sensitivity':lin_oc_svm_report['1']['recall'],\n",
    "               'precision':lin_oc_svm_report['1']['precision'],           \n",
    "              'Time':lin_oc_svm_time,\n",
    "              'AUC':lin_oc_svm_auc,\n",
    "                         'AU precision-recall curve': ocsvm_lin_auc_precision_recall}"
   ]
  },
  {
   "cell_type": "code",
   "execution_count": null,
   "id": "ce7b2964-606e-4e9f-aabd-26a7db17c694",
   "metadata": {},
   "outputs": [],
   "source": [
    "bank_performance = bank_performance.append(iforest_performance, ignore_index = True)\n",
    "bank_performance = bank_performance.append(lof_performance, ignore_index = True)\n",
    "bank_performance = bank_performance.append(dbscan_performance, ignore_index = True)\n",
    "bank_performance = bank_performance.append(cade_performance, ignore_index = True)\n",
    "bank_performance = bank_performance.append(deep_autoencoders_performance, ignore_index = True)\n",
    "bank_performance = bank_performance.append(autoencoders_performance, ignore_index = True)\n",
    "bank_performance = bank_performance.append(rbf_oc_svm_performance, ignore_index = True)\n",
    "bank_performance = bank_performance.append(lin_oc_svm_performance, ignore_index = True)"
   ]
  },
  {
   "cell_type": "markdown",
   "id": "82d34590",
   "metadata": {
    "tags": []
   },
   "source": [
    "## Overall performance"
   ]
  },
  {
   "cell_type": "code",
   "execution_count": null,
   "id": "7f0adb8e",
   "metadata": {},
   "outputs": [],
   "source": [
    "arrhythmia_performance['dataset'] = 'arrhythmia'\n",
    "cardio_performance['dataset'] = 'cardio'\n",
    "forestcover_performance['dataset'] = 'forestcover'\n",
    "annthyroid_performance['dataset'] = 'annthyroid'\n",
    "kaggle_performance['dataset'] = 'kaggle'\n",
    "mammography_performance['dataset'] = 'mammography'\n",
    "shuttle_performance['dataset'] = 'shuttle'\n",
    "mnist_performance['dataset'] = 'mnist'\n",
    "vowels_performance['dataset'] = 'vowels'\n",
    "seismic_performance['dataset'] = 'seismic'\n",
    "musk_performance['dataset'] = 'musk'\n",
    "bank_performance['dataset'] = 'bank'"
   ]
  },
  {
   "cell_type": "code",
   "execution_count": null,
   "id": "109037d2",
   "metadata": {},
   "outputs": [],
   "source": [
    "final_performance = pd.concat([arrhythmia_performance,cardio_performance,forestcover_performance,\n",
    "           annthyroid_performance, kaggle_performance, mammography_performance, shuttle_performance,\n",
    "          mnist_performance,vowels_performance, seismic_performance, musk_performance, bank_performance])"
   ]
  },
  {
   "cell_type": "markdown",
   "id": "a316a9fe-bc24-4607-8f8c-0d1d10811b17",
   "metadata": {
    "tags": []
   },
   "source": [
    "## Performance comparison with Bayesian tests"
   ]
  },
  {
   "cell_type": "markdown",
   "id": "1426bbb4",
   "metadata": {},
   "source": [
    "**Source**: https://baycomp.readthedocs.io/en/latest/"
   ]
  },
  {
   "cell_type": "markdown",
   "id": "4da52ef8",
   "metadata": {},
   "source": [
    "For the comparison with the Bayesian tests, we have averaged the performance over three runs of the code above and made a separate Excel sheet for each performance measure with the datasets in rows, methods in columns and averaged performance measures in cells."
   ]
  },
  {
   "cell_type": "code",
   "execution_count": null,
   "id": "74ef9c5e",
   "metadata": {},
   "outputs": [],
   "source": [
    "bayesian_prob = pd.DataFrame(columns = ['comparison','left', 'within', 'right', 'metric'])"
   ]
  },
  {
   "cell_type": "markdown",
   "id": "ebb39681-20fb-480c-822f-0715252fe99e",
   "metadata": {},
   "source": [
    "### f1-score"
   ]
  },
  {
   "cell_type": "markdown",
   "id": "559815ec-2f3a-4ba9-9195-4c4de85bffb8",
   "metadata": {},
   "source": [
    "We compare top three ranked models with each other."
   ]
  },
  {
   "cell_type": "code",
   "execution_count": null,
   "id": "bd9a8fe1-6859-4f48-96e7-1001fb2699e7",
   "metadata": {},
   "outputs": [],
   "source": [
    "performance = pd.read_excel('./aggregated_performance.xlsx', \n",
    "                            sheet_name = 'F1 score')"
   ]
  },
  {
   "cell_type": "code",
   "execution_count": null,
   "id": "62a16d76",
   "metadata": {},
   "outputs": [],
   "source": [
    "# iForest vs Autoencoders\n",
    "posterior = SignedRankTest(performance['iForest'].to_numpy(),performance['Autoencoders'].to_numpy(), rope=0.01)\n",
    "left, within, right = posterior.probs()\n",
    "bayesian_prob = bayesian_prob.append({'comparison':'iForest vs Autoencoders', \n",
    "                                      'left': left, 'within':within, \n",
    "                                      'right': right,'metric':'F1 score'}, ignore_index=True)\n",
    "print(left, within, right)"
   ]
  },
  {
   "cell_type": "code",
   "execution_count": null,
   "id": "68f8c6e2",
   "metadata": {},
   "outputs": [],
   "source": [
    "names = (\"iForest\", \"AE\")\n",
    "fig = posterior.plot(names)\n",
    "fig.set_size_inches(15, 8)\n",
    "plt.show()"
   ]
  },
  {
   "cell_type": "code",
   "execution_count": null,
   "id": "c25b3298",
   "metadata": {},
   "outputs": [],
   "source": [
    "# Autoencoders vs DBSCAN\n",
    "posterior = SignedRankTest(performance['Autoencoders'].to_numpy(),performance['DBSCAN'].to_numpy(), rope=0.01)\n",
    "left, within, right = posterior.probs()\n",
    "bayesian_prob = bayesian_prob.append({'comparison':'Autoencoders vs DBSCAN', \n",
    "                                      'left': left, 'within':within, \n",
    "                                      'right': right,'metric':'F1 score'}, ignore_index=True)\n",
    "print(left, within, right)"
   ]
  },
  {
   "cell_type": "code",
   "execution_count": null,
   "id": "becc78fe",
   "metadata": {},
   "outputs": [],
   "source": [
    "names = (\"AE\", \"DBSCAN\")\n",
    "fig = posterior.plot(names)\n",
    "fig.set_size_inches(15, 8)\n",
    "plt.show()"
   ]
  },
  {
   "cell_type": "code",
   "execution_count": null,
   "id": "46309141",
   "metadata": {},
   "outputs": [],
   "source": [
    "# iForest vs DBSCAN\n",
    "posterior = SignedRankTest(performance['iForest'].to_numpy(),performance['DBSCAN'].to_numpy(), rope=0.01)\n",
    "left, within, right = posterior.probs()\n",
    "bayesian_prob = bayesian_prob.append({'comparison':'iForest vs DBSCAN', \n",
    "                                      'left': left, 'within':within, \n",
    "                                      'right': right,'metric':'F1 score'}, ignore_index=True)\n",
    "print(left, within, right)"
   ]
  },
  {
   "cell_type": "code",
   "execution_count": null,
   "id": "7f412f6d",
   "metadata": {},
   "outputs": [],
   "source": [
    "names = (\"iForest\", \"DBSCAN\")\n",
    "fig = posterior.plot(names)\n",
    "fig.set_size_inches(15, 8)\n",
    "plt.show()"
   ]
  },
  {
   "cell_type": "markdown",
   "id": "2e87c31e",
   "metadata": {},
   "source": [
    "### sensitivity"
   ]
  },
  {
   "cell_type": "code",
   "execution_count": null,
   "id": "b754c475",
   "metadata": {},
   "outputs": [],
   "source": [
    "performance = pd.read_excel('./aggregated_performance.xlsx', \n",
    "                            sheet_name = 'sensitivity')"
   ]
  },
  {
   "cell_type": "code",
   "execution_count": null,
   "id": "669303ca",
   "metadata": {},
   "outputs": [],
   "source": [
    "# Deep Autoencoders vs iForest\n",
    "posterior = SignedRankTest(performance['iForest'].to_numpy(),performance['Deep Autoencoders'].to_numpy(), rope=0.01)\n",
    "left, within, right = posterior.probs()\n",
    "bayesian_prob = bayesian_prob.append({'comparison':'iForest vs Deep Autoencoders', \n",
    "                                      'left': left, 'within':within, \n",
    "                                      'right': right,'metric':'sensitivity'}, ignore_index=True)\n",
    "print(left, within, right)"
   ]
  },
  {
   "cell_type": "code",
   "execution_count": null,
   "id": "c5ae77d1",
   "metadata": {},
   "outputs": [],
   "source": [
    "names = (\"iForest\", \"Deep AE\")\n",
    "fig = posterior.plot(names)\n",
    "fig.set_size_inches(15, 8)\n",
    "plt.show()"
   ]
  },
  {
   "cell_type": "code",
   "execution_count": null,
   "id": "6149ceef",
   "metadata": {},
   "outputs": [],
   "source": [
    "# iForest vs Autoencoders\n",
    "posterior = SignedRankTest(performance['iForest'].to_numpy(),performance['Autoencoders'].to_numpy(), rope=0.01)\n",
    "left, within, right = posterior.probs()\n",
    "bayesian_prob = bayesian_prob.append({'comparison':'iForest vs Autoencoders', \n",
    "                                      'left': left, 'within':within, \n",
    "                                      'right': right,'metric':'sensitivity'}, ignore_index=True)\n",
    "print(left, within, right)"
   ]
  },
  {
   "cell_type": "code",
   "execution_count": null,
   "id": "8a6b9795",
   "metadata": {},
   "outputs": [],
   "source": [
    "names = (\"iForest\", \"AE\")\n",
    "fig = posterior.plot(names)\n",
    "fig.set_size_inches(15, 8)\n",
    "plt.show()"
   ]
  },
  {
   "cell_type": "code",
   "execution_count": null,
   "id": "fc550bb3",
   "metadata": {},
   "outputs": [],
   "source": [
    "# Autoencoders vs Deep Autoencoders\n",
    "posterior = SignedRankTest(performance['Autoencoders'].to_numpy(),performance['Deep Autoencoders'].to_numpy(), rope=0.01)\n",
    "left, within, right = posterior.probs()\n",
    "bayesian_prob = bayesian_prob.append({'comparison':'Autoencoders vs Deep Autoencoders', \n",
    "                                      'left': left, 'within':within, \n",
    "                                      'right': right,'metric':'sensitivity'}, ignore_index=True)\n",
    "print(left, within, right)"
   ]
  },
  {
   "cell_type": "code",
   "execution_count": null,
   "id": "efebca75",
   "metadata": {},
   "outputs": [],
   "source": [
    "names = (\"AE\", \"Deep AE\")\n",
    "fig = posterior.plot(names)\n",
    "fig.set_size_inches(15, 8)\n",
    "plt.show()"
   ]
  },
  {
   "cell_type": "markdown",
   "id": "d05a971a",
   "metadata": {},
   "source": [
    "### precision"
   ]
  },
  {
   "cell_type": "code",
   "execution_count": null,
   "id": "ebacb259",
   "metadata": {},
   "outputs": [],
   "source": [
    "performance = pd.read_excel('./aggregated_performance.xlsx', \n",
    "                            sheet_name = 'precision')"
   ]
  },
  {
   "cell_type": "code",
   "execution_count": null,
   "id": "cfc47127",
   "metadata": {},
   "outputs": [],
   "source": [
    "# iForest vs DBSCAN\n",
    "posterior = SignedRankTest(performance['iForest'].to_numpy(),performance['DBSCAN'].to_numpy(), rope=0.01)\n",
    "left, within, right = posterior.probs()\n",
    "bayesian_prob = bayesian_prob.append({'comparison':'iForest vs DBSCAN', \n",
    "                                      'left': left, 'within':within, \n",
    "                                      'right': right,'metric':'precision'}, ignore_index=True)\n",
    "print(left, within, right)"
   ]
  },
  {
   "cell_type": "code",
   "execution_count": null,
   "id": "614102b7",
   "metadata": {},
   "outputs": [],
   "source": [
    "names = (\"iForest\", \"DBSCAN\")\n",
    "fig = posterior.plot(names)\n",
    "fig.set_size_inches(15, 8)\n",
    "plt.show()"
   ]
  },
  {
   "cell_type": "code",
   "execution_count": null,
   "id": "2c995796",
   "metadata": {},
   "outputs": [],
   "source": [
    "# iForest vs Autoencoders\n",
    "posterior = SignedRankTest(performance['iForest'].to_numpy(),performance['Autoencoders'].to_numpy(), rope=0.01)\n",
    "left, within, right = posterior.probs()\n",
    "bayesian_prob = bayesian_prob.append({'comparison':'iForest vs Autoencoders', \n",
    "                                      'left': left, 'within':within, \n",
    "                                      'right': right,'metric':'precision'}, ignore_index=True)\n",
    "print(left, within, right)"
   ]
  },
  {
   "cell_type": "code",
   "execution_count": null,
   "id": "cbd4acb2",
   "metadata": {},
   "outputs": [],
   "source": [
    "names = (\"iForest\", \"AE\")\n",
    "fig = posterior.plot(names)\n",
    "fig.set_size_inches(15, 8)\n",
    "plt.show()"
   ]
  },
  {
   "cell_type": "code",
   "execution_count": null,
   "id": "89b01671",
   "metadata": {},
   "outputs": [],
   "source": [
    "#  DBSCAN vs Autoencoders\n",
    "posterior = SignedRankTest(performance['DBSCAN'].to_numpy(),performance['Autoencoders'].to_numpy(), rope=0.01)\n",
    "left, within, right = posterior.probs()\n",
    "bayesian_prob = bayesian_prob.append({'comparison':'DBSCAN vs Autoencoders', \n",
    "                                      'left': left, 'within':within, \n",
    "                                      'right': right,'metric':'precision'}, ignore_index=True)\n",
    "print(left, within, right)"
   ]
  },
  {
   "cell_type": "code",
   "execution_count": null,
   "id": "1b62a8ac",
   "metadata": {},
   "outputs": [],
   "source": [
    "names = (\"DBSCAN\", \"AE\")\n",
    "fig = posterior.plot(names)\n",
    "fig.set_size_inches(15, 8)\n",
    "plt.show()"
   ]
  },
  {
   "cell_type": "markdown",
   "id": "0ce75b20",
   "metadata": {},
   "source": [
    "### AUC"
   ]
  },
  {
   "cell_type": "code",
   "execution_count": null,
   "id": "0843cbae",
   "metadata": {},
   "outputs": [],
   "source": [
    "performance = pd.read_excel('./aggregated_performance.xlsx', \n",
    "                            sheet_name = 'AUC')"
   ]
  },
  {
   "cell_type": "code",
   "execution_count": null,
   "id": "3d0e8126",
   "metadata": {},
   "outputs": [],
   "source": [
    "# iForest vs DBSCAN\n",
    "posterior = SignedRankTest(performance['iForest'].to_numpy(),performance['DBSCAN'].to_numpy(), rope=0.01)\n",
    "left, within, right = posterior.probs()\n",
    "bayesian_prob = bayesian_prob.append({'comparison':'iForest vs DBSCAN', \n",
    "                                      'left': left, 'within':within, \n",
    "                                      'right': right,'metric':'AUC'}, ignore_index=True)\n",
    "print(left, within, right)"
   ]
  },
  {
   "cell_type": "code",
   "execution_count": null,
   "id": "45947f70",
   "metadata": {},
   "outputs": [],
   "source": [
    "names = (\"iForest\", \"DBSCAN\")\n",
    "fig = posterior.plot(names)\n",
    "fig.set_size_inches(15, 8)\n",
    "plt.show()"
   ]
  },
  {
   "cell_type": "code",
   "execution_count": null,
   "id": "0c3f58b8",
   "metadata": {},
   "outputs": [],
   "source": [
    "# iForest vs Autoencoders\n",
    "posterior = SignedRankTest(performance['iForest'].to_numpy(),performance['Autoencoders'].to_numpy(), rope=0.01)\n",
    "left, within, right = posterior.probs()\n",
    "bayesian_prob = bayesian_prob.append({'comparison':'iForest vs Autoencoders', \n",
    "                                      'left': left, 'within':within, \n",
    "                                      'right': right,'metric':'AUC'}, ignore_index=True)\n",
    "print(left, within, right)"
   ]
  },
  {
   "cell_type": "code",
   "execution_count": null,
   "id": "ce860fcb",
   "metadata": {},
   "outputs": [],
   "source": [
    "names = (\"iForest\", \"AE\")\n",
    "fig = posterior.plot(names)\n",
    "fig.set_size_inches(15, 8)\n",
    "plt.show()"
   ]
  },
  {
   "cell_type": "code",
   "execution_count": null,
   "id": "19609ea9",
   "metadata": {},
   "outputs": [],
   "source": [
    "# DBSCAN vs Autoencoders\n",
    "posterior = SignedRankTest(performance['DBSCAN'].to_numpy(),performance['Autoencoders'].to_numpy(), rope=0.01)\n",
    "left, within, right = posterior.probs()\n",
    "bayesian_prob = bayesian_prob.append({'comparison':'DBSCAN vs Autoencoders', \n",
    "                                      'left': left, 'within':within, \n",
    "                                      'right': right,'metric':'AUC'}, ignore_index=True)\n",
    "print(left, within, right)"
   ]
  },
  {
   "cell_type": "code",
   "execution_count": null,
   "id": "321f0b39",
   "metadata": {},
   "outputs": [],
   "source": [
    "names = (\"DBSCAN\", \"AE\")\n",
    "fig = posterior.plot(names)\n",
    "fig.set_size_inches(15, 8)\n",
    "plt.show()"
   ]
  },
  {
   "cell_type": "markdown",
   "id": "39078624",
   "metadata": {},
   "source": [
    "### AU precision-recall"
   ]
  },
  {
   "cell_type": "code",
   "execution_count": null,
   "id": "31004957",
   "metadata": {},
   "outputs": [],
   "source": [
    "performance = pd.read_excel('./aggregated_performance.xlsx', \n",
    "                            sheet_name = 'AU precision-recall')"
   ]
  },
  {
   "cell_type": "code",
   "execution_count": null,
   "id": "0e611a66",
   "metadata": {},
   "outputs": [],
   "source": [
    "# iForest vs DBSCAN\n",
    "posterior = SignedRankTest(performance['iForest'].to_numpy(),performance['DBSCAN'].to_numpy(), rope=0.01)\n",
    "left, within, right = posterior.probs()\n",
    "bayesian_prob = bayesian_prob.append({'comparison':'iForest vs DBSCAN', \n",
    "                                      'left': left, 'within':within, \n",
    "                                      'right': right,'metric':'AU precision-recall'}, ignore_index=True)\n",
    "print(left, within, right)"
   ]
  },
  {
   "cell_type": "code",
   "execution_count": null,
   "id": "eea2a88a",
   "metadata": {},
   "outputs": [],
   "source": [
    "names = (\"iForest\", \"DBSCAN\")\n",
    "fig = posterior.plot(names)\n",
    "fig.set_size_inches(15, 8)\n",
    "plt.show()"
   ]
  },
  {
   "cell_type": "code",
   "execution_count": null,
   "id": "7ba8328f",
   "metadata": {},
   "outputs": [],
   "source": [
    "# iForest vs Autoencoders\n",
    "posterior = SignedRankTest(performance['iForest'].to_numpy(),performance['Autoencoders'].to_numpy(), rope=0.01)\n",
    "left, within, right = posterior.probs()\n",
    "bayesian_prob = bayesian_prob.append({'comparison':'iForest vs Autoencoders', \n",
    "                                      'left': left, 'within':within, \n",
    "                                      'right': right,'metric':'AU precision-recall'}, ignore_index=True)\n",
    "print(left, within, right)"
   ]
  },
  {
   "cell_type": "code",
   "execution_count": null,
   "id": "83155401",
   "metadata": {},
   "outputs": [],
   "source": [
    "names = (\"iForest\", \"AE\")\n",
    "fig = posterior.plot(names)\n",
    "fig.set_size_inches(15, 8)\n",
    "plt.show()"
   ]
  },
  {
   "cell_type": "code",
   "execution_count": null,
   "id": "76958862",
   "metadata": {},
   "outputs": [],
   "source": [
    "# Autoencoders vs DBSCAN\n",
    "posterior = SignedRankTest(performance['DBSCAN'].to_numpy(),performance['Autoencoders'].to_numpy(), rope=0.01)\n",
    "left, within, right = posterior.probs()\n",
    "bayesian_prob = bayesian_prob.append({'comparison':'DBSCAN vs Autoencoders', \n",
    "                                      'left': left, 'within':within, \n",
    "                                      'right': right,'metric':'AU precision-recall'}, ignore_index=True)\n",
    "print(left, within, right)"
   ]
  },
  {
   "cell_type": "code",
   "execution_count": null,
   "id": "5551fe9f",
   "metadata": {},
   "outputs": [],
   "source": [
    "names = (\"DBSCAN\", \"AE\")\n",
    "fig = posterior.plot(names)\n",
    "fig.set_size_inches(15, 8)\n",
    "plt.show()"
   ]
  },
  {
   "cell_type": "markdown",
   "id": "d3ba17a1",
   "metadata": {},
   "source": [
    "## Frequentist comparison"
   ]
  },
  {
   "cell_type": "markdown",
   "id": "1e71eeac",
   "metadata": {},
   "source": [
    "Firstly, the ranking of all the models is calculated per performance metric.\n",
    "Consequamtly, all the models are compared with the best ranked model per performance metric using the Wilcoxon signed-rank test. For the F1-score, sensitivity and AUC metrics, the best ranked model is the Autoencoder model. For the precision metric, the best ranked model is the DBSCAN model, and for the AUPRC and time metrics, the best ranked model is the iForest model.\n",
    "\n",
    "In addition, all the models are compared with each other using the Friedman chi square test."
   ]
  },
  {
   "cell_type": "markdown",
   "id": "849e3944",
   "metadata": {},
   "source": [
    "Source: https://edisciplinas.usp.br/pluginfile.php/4129451/mod_resource/content/1/model_selection_evaluation.pdf"
   ]
  },
  {
   "cell_type": "markdown",
   "id": "75bdffa2",
   "metadata": {},
   "source": [
    "### F1 score"
   ]
  },
  {
   "cell_type": "code",
   "execution_count": null,
   "id": "6d2662e6",
   "metadata": {},
   "outputs": [],
   "source": [
    "performance = pd.read_excel('./aggregated_performance.xlsx', sheet_name = 'F1 score')"
   ]
  },
  {
   "cell_type": "code",
   "execution_count": null,
   "id": "cc265fda",
   "metadata": {},
   "outputs": [],
   "source": [
    "algorithms_names = performance.drop('Dataset', axis=1).columns\n",
    "performances_array = performance[algorithms_names].values\n",
    "ranks = np.array([rankdata(-p) for p in performances_array])\n",
    "average_ranks = np.mean(ranks, axis=0)\n",
    "ranks = {a:r for a, r in zip(algorithms_names, average_ranks)}\n",
    "pd.DataFrame(ranks.items())"
   ]
  },
  {
   "cell_type": "code",
   "execution_count": null,
   "id": "a3cb36c4",
   "metadata": {},
   "outputs": [],
   "source": [
    "friedmanchisquare(*performances_array)"
   ]
  },
  {
   "cell_type": "code",
   "execution_count": null,
   "id": "ebb10a4c",
   "metadata": {},
   "outputs": [],
   "source": [
    "autoencoders = np.array(performance['Autoencoders'])\n",
    "iforest = np.array(performance['iForest'])\n",
    "lof = np.array(performance['LOF'])\n",
    "dbscan = np.array(performance['DBSCAN'])\n",
    "cade = np.array(performance['CADE'])\n",
    "deepautoencoders = np.array(performance['Deep Autoencoders'])\n",
    "ocsvmrbf = np.array(performance['OC-SVM rbf'])\n",
    "ocsvmlin = np.array(performance['OC-SVM linear'])"
   ]
  },
  {
   "cell_type": "code",
   "execution_count": null,
   "id": "19a894f9",
   "metadata": {},
   "outputs": [],
   "source": [
    "wilcoxon(autoencoders, iforest, zero_method='zsplit')"
   ]
  },
  {
   "cell_type": "code",
   "execution_count": null,
   "id": "64635072",
   "metadata": {},
   "outputs": [],
   "source": [
    "wilcoxon(autoencoders, lof, zero_method='zsplit')"
   ]
  },
  {
   "cell_type": "code",
   "execution_count": null,
   "id": "a5dc3e96",
   "metadata": {},
   "outputs": [],
   "source": [
    "wilcoxon(autoencoders, dbscan, zero_method='zsplit')"
   ]
  },
  {
   "cell_type": "code",
   "execution_count": null,
   "id": "349e06f4",
   "metadata": {},
   "outputs": [],
   "source": [
    "wilcoxon(autoencoders, cade, zero_method='zsplit')"
   ]
  },
  {
   "cell_type": "code",
   "execution_count": null,
   "id": "dfe910ac",
   "metadata": {},
   "outputs": [],
   "source": [
    "wilcoxon(autoencoders, deepautoencoders, zero_method='zsplit')"
   ]
  },
  {
   "cell_type": "code",
   "execution_count": null,
   "id": "820122b9",
   "metadata": {},
   "outputs": [],
   "source": [
    "wilcoxon(autoencoders, ocsvmrbf, zero_method='zsplit')"
   ]
  },
  {
   "cell_type": "code",
   "execution_count": null,
   "id": "7da84f9c",
   "metadata": {},
   "outputs": [],
   "source": [
    "wilcoxon(autoencoders, ocsvmlin, zero_method='zsplit')"
   ]
  },
  {
   "cell_type": "markdown",
   "id": "dea80392",
   "metadata": {},
   "source": [
    "### sensitivity"
   ]
  },
  {
   "cell_type": "code",
   "execution_count": null,
   "id": "3bae06cd",
   "metadata": {},
   "outputs": [],
   "source": [
    "performance = pd.read_excel('./aggregated_performance.xlsx', sheet_name = 'sensitivity')"
   ]
  },
  {
   "cell_type": "code",
   "execution_count": null,
   "id": "f948275d",
   "metadata": {},
   "outputs": [],
   "source": [
    "performance"
   ]
  },
  {
   "cell_type": "code",
   "execution_count": null,
   "id": "c8580be6",
   "metadata": {},
   "outputs": [],
   "source": [
    "algorithms_names = performance.drop('Dataset', axis=1).columns\n",
    "performances_array = performance[algorithms_names].values\n",
    "ranks = np.array([rankdata(-p) for p in performances_array])\n",
    "average_ranks = np.mean(ranks, axis=0)\n",
    "ranks = {a:r for a, r in zip(algorithms_names, average_ranks)}\n",
    "pd.DataFrame(ranks.items())"
   ]
  },
  {
   "cell_type": "code",
   "execution_count": null,
   "id": "4e5b664d",
   "metadata": {},
   "outputs": [],
   "source": [
    "friedmanchisquare(*performances_array)"
   ]
  },
  {
   "cell_type": "code",
   "execution_count": null,
   "id": "d4ff1f96",
   "metadata": {},
   "outputs": [],
   "source": [
    "autoencoders = np.array(performance['Autoencoders'])\n",
    "iforest = np.array(performance['iForest'])\n",
    "lof = np.array(performance['LOF'])\n",
    "dbscan = np.array(performance['DBSCAN'])\n",
    "cade = np.array(performance['CADE'])\n",
    "deepautoencoders = np.array(performance['Deep Autoencoders'])\n",
    "ocsvmrbf = np.array(performance['OC-SVM rbf'])\n",
    "ocsvmlin = np.array(performance['OC-SVM linear'])"
   ]
  },
  {
   "cell_type": "code",
   "execution_count": null,
   "id": "06d02986",
   "metadata": {},
   "outputs": [],
   "source": [
    "wilcoxon(autoencoders, iforest, zero_method='zsplit')"
   ]
  },
  {
   "cell_type": "code",
   "execution_count": null,
   "id": "02f72bda",
   "metadata": {},
   "outputs": [],
   "source": [
    "wilcoxon(autoencoders, lof, zero_method='zsplit')"
   ]
  },
  {
   "cell_type": "code",
   "execution_count": null,
   "id": "395840fa",
   "metadata": {},
   "outputs": [],
   "source": [
    "wilcoxon(autoencoders, dbscan, zero_method='zsplit')"
   ]
  },
  {
   "cell_type": "code",
   "execution_count": null,
   "id": "cc9cd3fa",
   "metadata": {},
   "outputs": [],
   "source": [
    "wilcoxon(autoencoders, cade, zero_method='zsplit')"
   ]
  },
  {
   "cell_type": "code",
   "execution_count": null,
   "id": "e9117cc4",
   "metadata": {},
   "outputs": [],
   "source": [
    "wilcoxon(autoencoders, deepautoencoders, zero_method='zsplit')"
   ]
  },
  {
   "cell_type": "code",
   "execution_count": null,
   "id": "d5aa1c61",
   "metadata": {},
   "outputs": [],
   "source": [
    "wilcoxon(autoencoders, ocsvmrbf, zero_method='zsplit')"
   ]
  },
  {
   "cell_type": "code",
   "execution_count": null,
   "id": "73511971",
   "metadata": {},
   "outputs": [],
   "source": [
    "wilcoxon(autoencoders, ocsvmlin, zero_method='zsplit')"
   ]
  },
  {
   "cell_type": "markdown",
   "id": "14a95e5b",
   "metadata": {},
   "source": [
    "### precision"
   ]
  },
  {
   "cell_type": "code",
   "execution_count": null,
   "id": "d21af5a4",
   "metadata": {},
   "outputs": [],
   "source": [
    "performance = pd.read_excel('./aggregated_performance.xlsx', sheet_name = 'precision')"
   ]
  },
  {
   "cell_type": "code",
   "execution_count": null,
   "id": "670c7904",
   "metadata": {},
   "outputs": [],
   "source": [
    "performance"
   ]
  },
  {
   "cell_type": "code",
   "execution_count": null,
   "id": "26e35121",
   "metadata": {},
   "outputs": [],
   "source": [
    "algorithms_names = performance.drop('Dataset', axis=1).columns\n",
    "performances_array = performance[algorithms_names].values\n",
    "ranks = np.array([rankdata(-p) for p in performances_array])\n",
    "average_ranks = np.mean(ranks, axis=0)\n",
    "ranks = {a:r for a, r in zip(algorithms_names, average_ranks)}\n",
    "pd.DataFrame(ranks.items())"
   ]
  },
  {
   "cell_type": "code",
   "execution_count": null,
   "id": "f5b0b24e",
   "metadata": {},
   "outputs": [],
   "source": [
    "friedmanchisquare(*performances_array)"
   ]
  },
  {
   "cell_type": "code",
   "execution_count": null,
   "id": "54aab7a2",
   "metadata": {},
   "outputs": [],
   "source": [
    "autoencoders = np.array(performance['Autoencoders'])\n",
    "iforest = np.array(performance['iForest'])\n",
    "lof = np.array(performance['LOF'])\n",
    "dbscan = np.array(performance['DBSCAN'])\n",
    "cade = np.array(performance['CADE'])\n",
    "deepautoencoders = np.array(performance['Deep Autoencoders'])\n",
    "ocsvmrbf = np.array(performance['OC-SVM rbf'])\n",
    "ocsvmlin = np.array(performance['OC-SVM linear'])"
   ]
  },
  {
   "cell_type": "code",
   "execution_count": null,
   "id": "35bf3250",
   "metadata": {},
   "outputs": [],
   "source": [
    "wilcoxon(dbscan, iforest, zero_method='zsplit')"
   ]
  },
  {
   "cell_type": "code",
   "execution_count": null,
   "id": "2a40a90d",
   "metadata": {},
   "outputs": [],
   "source": [
    "wilcoxon(dbscan, lof, zero_method='zsplit')"
   ]
  },
  {
   "cell_type": "code",
   "execution_count": null,
   "id": "b1697e3b",
   "metadata": {},
   "outputs": [],
   "source": [
    "wilcoxon(autoencoders, dbscan, zero_method='zsplit')"
   ]
  },
  {
   "cell_type": "code",
   "execution_count": null,
   "id": "e81fdc8c",
   "metadata": {},
   "outputs": [],
   "source": [
    "wilcoxon(dbscan, cade, zero_method='zsplit')"
   ]
  },
  {
   "cell_type": "code",
   "execution_count": null,
   "id": "f98f0413",
   "metadata": {},
   "outputs": [],
   "source": [
    "wilcoxon(dbscan, deepautoencoders, zero_method='zsplit')"
   ]
  },
  {
   "cell_type": "code",
   "execution_count": null,
   "id": "3c1c7c6c",
   "metadata": {},
   "outputs": [],
   "source": [
    "wilcoxon(dbscan, ocsvmrbf, zero_method='zsplit')"
   ]
  },
  {
   "cell_type": "code",
   "execution_count": null,
   "id": "74d997d6",
   "metadata": {},
   "outputs": [],
   "source": [
    "wilcoxon(dbscan, ocsvmlin, zero_method='zsplit')"
   ]
  },
  {
   "cell_type": "markdown",
   "id": "b94b341e",
   "metadata": {},
   "source": [
    "### AUC"
   ]
  },
  {
   "cell_type": "code",
   "execution_count": null,
   "id": "f780d691",
   "metadata": {},
   "outputs": [],
   "source": [
    "performance = pd.read_excel('./aggregated_performance.xlsx', sheet_name = 'AUC')"
   ]
  },
  {
   "cell_type": "code",
   "execution_count": null,
   "id": "1380da3a",
   "metadata": {},
   "outputs": [],
   "source": [
    "algorithms_names = performance.drop('Dataset', axis=1).columns\n",
    "performances_array = performance[algorithms_names].values\n",
    "ranks = np.array([rankdata(-p) for p in performances_array])\n",
    "average_ranks = np.mean(ranks, axis=0)\n",
    "ranks = {a:r for a, r in zip(algorithms_names, average_ranks)}\n",
    "pd.DataFrame(ranks.items())"
   ]
  },
  {
   "cell_type": "code",
   "execution_count": null,
   "id": "ceda1ec6",
   "metadata": {},
   "outputs": [],
   "source": [
    "friedmanchisquare(*performances_array)"
   ]
  },
  {
   "cell_type": "code",
   "execution_count": null,
   "id": "71a717e3",
   "metadata": {},
   "outputs": [],
   "source": [
    "autoencoders = np.array(performance['Autoencoders'])\n",
    "iforest = np.array(performance['iForest'])\n",
    "lof = np.array(performance['LOF'])\n",
    "dbscan = np.array(performance['DBSCAN'])\n",
    "cade = np.array(performance['CADE'])\n",
    "deepautoencoders = np.array(performance['Deep Autoencoders'])\n",
    "ocsvmrbf = np.array(performance['OC-SVM rbf'])\n",
    "ocsvmlin = np.array(performance['OC-SVM linear'])"
   ]
  },
  {
   "cell_type": "code",
   "execution_count": null,
   "id": "c9369be1",
   "metadata": {},
   "outputs": [],
   "source": [
    "wilcoxon(autoencoders, iforest, zero_method='zsplit')"
   ]
  },
  {
   "cell_type": "code",
   "execution_count": null,
   "id": "26380857",
   "metadata": {},
   "outputs": [],
   "source": [
    "wilcoxon(autoencoders, lof, zero_method='zsplit')"
   ]
  },
  {
   "cell_type": "code",
   "execution_count": null,
   "id": "8888384b",
   "metadata": {},
   "outputs": [],
   "source": [
    "wilcoxon(autoencoders, dbscan, zero_method='zsplit')"
   ]
  },
  {
   "cell_type": "code",
   "execution_count": null,
   "id": "79730a80",
   "metadata": {},
   "outputs": [],
   "source": [
    "wilcoxon(autoencoders, cade, zero_method='zsplit')"
   ]
  },
  {
   "cell_type": "code",
   "execution_count": null,
   "id": "0238c8cd",
   "metadata": {},
   "outputs": [],
   "source": [
    "wilcoxon(autoencoders, deepautoencoders, zero_method='zsplit')"
   ]
  },
  {
   "cell_type": "code",
   "execution_count": null,
   "id": "96ccd734",
   "metadata": {},
   "outputs": [],
   "source": [
    "wilcoxon(autoencoders, ocsvmrbf, zero_method='zsplit')"
   ]
  },
  {
   "cell_type": "code",
   "execution_count": null,
   "id": "a8f7ab75",
   "metadata": {},
   "outputs": [],
   "source": [
    "wilcoxon(autoencoders, ocsvmlin, zero_method='zsplit')"
   ]
  },
  {
   "cell_type": "markdown",
   "id": "039e2e3e",
   "metadata": {},
   "source": [
    "### Time"
   ]
  },
  {
   "cell_type": "code",
   "execution_count": null,
   "id": "87bd6630",
   "metadata": {},
   "outputs": [],
   "source": [
    "performance = pd.read_excel('./aggregated_performance.xlsx', sheet_name = 'time')"
   ]
  },
  {
   "cell_type": "code",
   "execution_count": null,
   "id": "565afcc9",
   "metadata": {},
   "outputs": [],
   "source": [
    "algorithms_names = performance.drop('Dataset', axis=1).columns\n",
    "performances_array = performance[algorithms_names].values\n",
    "ranks = np.array([rankdata(p) for p in performances_array])\n",
    "average_ranks = np.mean(ranks, axis=0)\n",
    "ranks = {a:r for a, r in zip(algorithms_names, average_ranks)}\n",
    "pd.DataFrame(ranks.items())"
   ]
  },
  {
   "cell_type": "code",
   "execution_count": null,
   "id": "50801b9d",
   "metadata": {},
   "outputs": [],
   "source": [
    "friedmanchisquare(*performances_array)"
   ]
  },
  {
   "cell_type": "code",
   "execution_count": null,
   "id": "a39bfc60",
   "metadata": {},
   "outputs": [],
   "source": [
    "autoencoders = np.array(performance['Autoencoders'])\n",
    "iforest = np.array(performance['iForest'])\n",
    "lof = np.array(performance['LOF'])\n",
    "dbscan = np.array(performance['DBSCAN'])\n",
    "cade = np.array(performance['CADE'])\n",
    "deepautoencoders = np.array(performance['Deep Autoencoders'])\n",
    "ocsvmrbf = np.array(performance['OC-SVM rbf'])\n",
    "ocsvmlin = np.array(performance['OC-SVM linear'])"
   ]
  },
  {
   "cell_type": "code",
   "execution_count": null,
   "id": "c58fd0b3",
   "metadata": {},
   "outputs": [],
   "source": [
    "wilcoxon(iforest, autoencoders, zero_method='zsplit')"
   ]
  },
  {
   "cell_type": "code",
   "execution_count": null,
   "id": "a5cbf069",
   "metadata": {},
   "outputs": [],
   "source": [
    "wilcoxon(iforest, lof, zero_method='zsplit')"
   ]
  },
  {
   "cell_type": "code",
   "execution_count": null,
   "id": "86bf808f",
   "metadata": {},
   "outputs": [],
   "source": [
    "wilcoxon(iforest, dbscan, zero_method='zsplit')"
   ]
  },
  {
   "cell_type": "code",
   "execution_count": null,
   "id": "648a9004",
   "metadata": {},
   "outputs": [],
   "source": [
    "wilcoxon(iforest, cade, zero_method='zsplit')"
   ]
  },
  {
   "cell_type": "code",
   "execution_count": null,
   "id": "ab432aa4",
   "metadata": {},
   "outputs": [],
   "source": [
    "wilcoxon(iforest, deepautoencoders, zero_method='zsplit')"
   ]
  },
  {
   "cell_type": "code",
   "execution_count": null,
   "id": "4d978580",
   "metadata": {},
   "outputs": [],
   "source": [
    "wilcoxon(iforest, ocsvmrbf, zero_method='zsplit')"
   ]
  },
  {
   "cell_type": "code",
   "execution_count": null,
   "id": "c378b0e4",
   "metadata": {},
   "outputs": [],
   "source": [
    "wilcoxon(iforest, ocsvmlin, zero_method='zsplit')"
   ]
  },
  {
   "cell_type": "markdown",
   "id": "8dd92714",
   "metadata": {},
   "source": [
    "### AU precision-recall curve"
   ]
  },
  {
   "cell_type": "code",
   "execution_count": null,
   "id": "edc354a7",
   "metadata": {},
   "outputs": [],
   "source": [
    "performance = pd.read_excel('./aggregated_performance.xlsx', sheet_name = 'AU precision-recall')"
   ]
  },
  {
   "cell_type": "code",
   "execution_count": null,
   "id": "7988e3b5",
   "metadata": {},
   "outputs": [],
   "source": [
    "algorithms_names = performance.drop('Dataset', axis=1).columns\n",
    "performances_array = performance[algorithms_names].values\n",
    "ranks = np.array([rankdata(-p) for p in performances_array])\n",
    "average_ranks = np.mean(ranks, axis=0)\n",
    "ranks = {a:r for a, r in zip(algorithms_names, average_ranks)}\n",
    "pd.DataFrame(ranks.items())"
   ]
  },
  {
   "cell_type": "code",
   "execution_count": null,
   "id": "c6185fdd",
   "metadata": {},
   "outputs": [],
   "source": [
    "friedmanchisquare(*performances_array)"
   ]
  },
  {
   "cell_type": "code",
   "execution_count": null,
   "id": "0899e1ea",
   "metadata": {},
   "outputs": [],
   "source": [
    "autoencoders = np.array(performance['Autoencoders'])\n",
    "iforest = np.array(performance['iForest'])\n",
    "lof = np.array(performance['LOF'])\n",
    "dbscan = np.array(performance['DBSCAN'])\n",
    "cade = np.array(performance['CADE'])\n",
    "deepautoencoders = np.array(performance['Deep Autoencoders'])\n",
    "ocsvmrbf = np.array(performance['OC-SVM rbf'])\n",
    "ocsvmlin = np.array(performance['OC-SVM linear'])"
   ]
  },
  {
   "cell_type": "code",
   "execution_count": null,
   "id": "ddd5c327",
   "metadata": {},
   "outputs": [],
   "source": [
    "wilcoxon(iforest, autoencoders, zero_method='zsplit')"
   ]
  },
  {
   "cell_type": "code",
   "execution_count": null,
   "id": "7133b355",
   "metadata": {},
   "outputs": [],
   "source": [
    "wilcoxon(iforest, lof, zero_method='zsplit')"
   ]
  },
  {
   "cell_type": "code",
   "execution_count": null,
   "id": "305e4cbf",
   "metadata": {},
   "outputs": [],
   "source": [
    "wilcoxon(iforest, dbscan, zero_method='zsplit')"
   ]
  },
  {
   "cell_type": "code",
   "execution_count": null,
   "id": "a70b39ae",
   "metadata": {},
   "outputs": [],
   "source": [
    "wilcoxon(iforest, cade, zero_method='zsplit')"
   ]
  },
  {
   "cell_type": "code",
   "execution_count": null,
   "id": "071559c3",
   "metadata": {},
   "outputs": [],
   "source": [
    "wilcoxon(iforest, deepautoencoders, zero_method='zsplit')"
   ]
  },
  {
   "cell_type": "code",
   "execution_count": null,
   "id": "facceb4e",
   "metadata": {},
   "outputs": [],
   "source": [
    "wilcoxon(iforest, ocsvmrbf, zero_method='zsplit')"
   ]
  },
  {
   "cell_type": "code",
   "execution_count": null,
   "id": "73067098",
   "metadata": {},
   "outputs": [],
   "source": [
    "wilcoxon(iforest, ocsvmlin, zero_method='zsplit')"
   ]
  }
 ],
 "metadata": {
  "environment": {
   "name": "common-cpu.m80",
   "type": "gcloud",
   "uri": "gcr.io/deeplearning-platform-release/base-cpu:m80"
  },
  "kernelspec": {
   "display_name": "Python 3 (ipykernel)",
   "language": "python",
   "name": "python3"
  },
  "language_info": {
   "codemirror_mode": {
    "name": "ipython",
    "version": 3
   },
   "file_extension": ".py",
   "mimetype": "text/x-python",
   "name": "python",
   "nbconvert_exporter": "python",
   "pygments_lexer": "ipython3",
   "version": "3.9.5"
  }
 },
 "nbformat": 4,
 "nbformat_minor": 5
}
